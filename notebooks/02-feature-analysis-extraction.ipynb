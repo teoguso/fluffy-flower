{
 "cells": [
  {
   "cell_type": "markdown",
   "metadata": {},
   "source": [
    "# Feature analysis and extraction\n",
    "\n",
    "This notebooks contain a more detailed analysis of each column.\n",
    "For each column of the table, we'll try to assess the type of distribution\n",
    "(e.g. does it fit a Gaussian?).\n",
    "Then we'll create as many features as possible accordingly\n",
    "(e.g. one column could lend itself to both a numerical feature and\n",
    "a binary or categorical feature)."
   ]
  },
  {
   "cell_type": "markdown",
   "metadata": {},
   "source": [
    "### Read the data"
   ]
  },
  {
   "cell_type": "code",
   "execution_count": 1,
   "metadata": {},
   "outputs": [],
   "source": [
    "import numpy as np\n",
    "import pandas as pd\n",
    "import matplotlib.pyplot as plt\n",
    "from pandas.plotting import scatter_matrix\n",
    "import seaborn as sns\n",
    "%matplotlib inline"
   ]
  },
  {
   "cell_type": "code",
   "execution_count": 2,
   "metadata": {},
   "outputs": [],
   "source": [
    "sns.set()"
   ]
  },
  {
   "cell_type": "markdown",
   "metadata": {},
   "source": [
    "Read the data:"
   ]
  },
  {
   "cell_type": "code",
   "execution_count": 3,
   "metadata": {},
   "outputs": [],
   "source": [
    "orders_table = pd.read_json(\n",
    "    \"../data/orders_table_dtypes.json\",\n",
    "    orient='table',\n",
    ")"
   ]
  },
  {
   "cell_type": "markdown",
   "metadata": {},
   "source": [
    "Both time-series and values distribution can be useful for building features so we'll focus on both."
   ]
  },
  {
   "cell_type": "code",
   "execution_count": 4,
   "metadata": {
    "scrolled": true
   },
   "outputs": [
    {
     "data": {
      "text/html": [
       "<div>\n",
       "<style scoped>\n",
       "    .dataframe tbody tr th:only-of-type {\n",
       "        vertical-align: middle;\n",
       "    }\n",
       "\n",
       "    .dataframe tbody tr th {\n",
       "        vertical-align: top;\n",
       "    }\n",
       "\n",
       "    .dataframe thead th {\n",
       "        text-align: right;\n",
       "    }\n",
       "</style>\n",
       "<table border=\"1\" class=\"dataframe\">\n",
       "  <thead>\n",
       "    <tr style=\"text-align: right;\">\n",
       "      <th></th>\n",
       "      <th>customer_id</th>\n",
       "      <th>customer_order_rank</th>\n",
       "      <th>is_failed</th>\n",
       "      <th>voucher_amount</th>\n",
       "      <th>delivery_fee</th>\n",
       "      <th>amount_paid</th>\n",
       "      <th>restaurant_id</th>\n",
       "      <th>city_id</th>\n",
       "      <th>payment_id</th>\n",
       "      <th>platform_id</th>\n",
       "      <th>transmission_id</th>\n",
       "      <th>order_datetime</th>\n",
       "    </tr>\n",
       "  </thead>\n",
       "  <tbody>\n",
       "    <tr>\n",
       "      <th>0</th>\n",
       "      <td>000097eabfd9</td>\n",
       "      <td>1</td>\n",
       "      <td>0</td>\n",
       "      <td>0.0</td>\n",
       "      <td>0.000</td>\n",
       "      <td>11.46960</td>\n",
       "      <td>5803498</td>\n",
       "      <td>20326</td>\n",
       "      <td>1779</td>\n",
       "      <td>30231</td>\n",
       "      <td>4356</td>\n",
       "      <td>2015-06-20 19:00:00</td>\n",
       "    </tr>\n",
       "    <tr>\n",
       "      <th>1</th>\n",
       "      <td>0000e2c6d9be</td>\n",
       "      <td>1</td>\n",
       "      <td>0</td>\n",
       "      <td>0.0</td>\n",
       "      <td>0.000</td>\n",
       "      <td>9.55800</td>\n",
       "      <td>239303498</td>\n",
       "      <td>76547</td>\n",
       "      <td>1619</td>\n",
       "      <td>30359</td>\n",
       "      <td>4356</td>\n",
       "      <td>2016-01-29 20:00:00</td>\n",
       "    </tr>\n",
       "    <tr>\n",
       "      <th>2</th>\n",
       "      <td>000133bb597f</td>\n",
       "      <td>1</td>\n",
       "      <td>0</td>\n",
       "      <td>0.0</td>\n",
       "      <td>0.493</td>\n",
       "      <td>5.93658</td>\n",
       "      <td>206463498</td>\n",
       "      <td>33833</td>\n",
       "      <td>1619</td>\n",
       "      <td>30359</td>\n",
       "      <td>4324</td>\n",
       "      <td>2017-02-26 19:00:00</td>\n",
       "    </tr>\n",
       "    <tr>\n",
       "      <th>3</th>\n",
       "      <td>00018269939b</td>\n",
       "      <td>1</td>\n",
       "      <td>0</td>\n",
       "      <td>0.0</td>\n",
       "      <td>0.493</td>\n",
       "      <td>9.82350</td>\n",
       "      <td>36613498</td>\n",
       "      <td>99315</td>\n",
       "      <td>1619</td>\n",
       "      <td>30359</td>\n",
       "      <td>4356</td>\n",
       "      <td>2017-02-05 17:00:00</td>\n",
       "    </tr>\n",
       "    <tr>\n",
       "      <th>4</th>\n",
       "      <td>0001a00468a6</td>\n",
       "      <td>1</td>\n",
       "      <td>0</td>\n",
       "      <td>0.0</td>\n",
       "      <td>0.493</td>\n",
       "      <td>5.15070</td>\n",
       "      <td>225853498</td>\n",
       "      <td>16456</td>\n",
       "      <td>1619</td>\n",
       "      <td>29463</td>\n",
       "      <td>4356</td>\n",
       "      <td>2015-08-04 19:00:00</td>\n",
       "    </tr>\n",
       "  </tbody>\n",
       "</table>\n",
       "</div>"
      ],
      "text/plain": [
       "    customer_id  customer_order_rank  is_failed  voucher_amount  delivery_fee  \\\n",
       "0  000097eabfd9                    1          0             0.0         0.000   \n",
       "1  0000e2c6d9be                    1          0             0.0         0.000   \n",
       "2  000133bb597f                    1          0             0.0         0.493   \n",
       "3  00018269939b                    1          0             0.0         0.493   \n",
       "4  0001a00468a6                    1          0             0.0         0.493   \n",
       "\n",
       "   amount_paid restaurant_id city_id payment_id platform_id transmission_id  \\\n",
       "0     11.46960       5803498   20326       1779       30231            4356   \n",
       "1      9.55800     239303498   76547       1619       30359            4356   \n",
       "2      5.93658     206463498   33833       1619       30359            4324   \n",
       "3      9.82350      36613498   99315       1619       30359            4356   \n",
       "4      5.15070     225853498   16456       1619       29463            4356   \n",
       "\n",
       "       order_datetime  \n",
       "0 2015-06-20 19:00:00  \n",
       "1 2016-01-29 20:00:00  \n",
       "2 2017-02-26 19:00:00  \n",
       "3 2017-02-05 17:00:00  \n",
       "4 2015-08-04 19:00:00  "
      ]
     },
     "execution_count": 4,
     "metadata": {},
     "output_type": "execute_result"
    }
   ],
   "source": [
    "orders_table.head()"
   ]
  },
  {
   "cell_type": "code",
   "execution_count": 5,
   "metadata": {},
   "outputs": [
    {
     "name": "stdout",
     "output_type": "stream",
     "text": [
      "<class 'pandas.core.frame.DataFrame'>\n",
      "Int64Index: 786600 entries, 0 to 786599\n",
      "Data columns (total 12 columns):\n",
      " #   Column               Non-Null Count   Dtype         \n",
      "---  ------               --------------   -----         \n",
      " 0   customer_id          786600 non-null  object        \n",
      " 1   customer_order_rank  786600 non-null  int64         \n",
      " 2   is_failed            786600 non-null  int64         \n",
      " 3   voucher_amount       786600 non-null  float64       \n",
      " 4   delivery_fee         786600 non-null  float64       \n",
      " 5   amount_paid          786600 non-null  float64       \n",
      " 6   restaurant_id        786600 non-null  category      \n",
      " 7   city_id              786600 non-null  category      \n",
      " 8   payment_id           786600 non-null  category      \n",
      " 9   platform_id          786600 non-null  category      \n",
      " 10  transmission_id      786600 non-null  category      \n",
      " 11  order_datetime       786600 non-null  datetime64[ns]\n",
      "dtypes: category(5), datetime64[ns](1), float64(3), int64(2), object(1)\n",
      "memory usage: 54.2+ MB\n"
     ]
    }
   ],
   "source": [
    "orders_table.info()"
   ]
  },
  {
   "cell_type": "markdown",
   "metadata": {},
   "source": [
    "### Time distribution"
   ]
  },
  {
   "cell_type": "markdown",
   "metadata": {},
   "source": [
    "A quick look at the time distribution of data points (number of orders per day):"
   ]
  },
  {
   "cell_type": "code",
   "execution_count": 6,
   "metadata": {},
   "outputs": [
    {
     "data": {
      "image/png": "[encoded data removed]",
      "text/plain": [
       "<Figure size 864x432 with 1 Axes>"
      ]
     },
     "metadata": {},
     "output_type": "display_data"
    }
   ],
   "source": [
    "orders_table.set_index('order_datetime')['customer_id'].resample('D').count().plot(\n",
    "    figsize=(12,6),\n",
    "#     logy=True,\n",
    ");"
   ]
  },
  {
   "cell_type": "markdown",
   "metadata": {},
   "source": [
    "The data before March 2015 is very sparse.\n",
    "This looks a bit suspect\n",
    "and would require further investigation.\n",
    "\n",
    "In practice, there is some missing data due to some issue in the data collection process.\n",
    "This would require a double check with the owners of\n",
    "the data source or the data preprocessing pipeline.\n",
    "To be on the safe side and for the sake of time, we'll simply ignore all data before March 2015."
   ]
  },
  {
   "cell_type": "code",
   "execution_count": 7,
   "metadata": {},
   "outputs": [],
   "source": [
    "orders_table_orig = orders_table"
   ]
  },
  {
   "cell_type": "code",
   "execution_count": 8,
   "metadata": {
    "scrolled": false
   },
   "outputs": [
    {
     "data": {
      "text/html": [
       "<div>\n",
       "<style scoped>\n",
       "    .dataframe tbody tr th:only-of-type {\n",
       "        vertical-align: middle;\n",
       "    }\n",
       "\n",
       "    .dataframe tbody tr th {\n",
       "        vertical-align: top;\n",
       "    }\n",
       "\n",
       "    .dataframe thead th {\n",
       "        text-align: right;\n",
       "    }\n",
       "</style>\n",
       "<table border=\"1\" class=\"dataframe\">\n",
       "  <thead>\n",
       "    <tr style=\"text-align: right;\">\n",
       "      <th></th>\n",
       "      <th>order_datetime</th>\n",
       "      <th>customer_id</th>\n",
       "      <th>customer_order_rank</th>\n",
       "      <th>is_failed</th>\n",
       "      <th>voucher_amount</th>\n",
       "      <th>delivery_fee</th>\n",
       "      <th>amount_paid</th>\n",
       "      <th>restaurant_id</th>\n",
       "      <th>city_id</th>\n",
       "      <th>payment_id</th>\n",
       "      <th>platform_id</th>\n",
       "      <th>transmission_id</th>\n",
       "    </tr>\n",
       "  </thead>\n",
       "  <tbody>\n",
       "    <tr>\n",
       "      <th>0</th>\n",
       "      <td>2015-06-20 19:00:00</td>\n",
       "      <td>000097eabfd9</td>\n",
       "      <td>1</td>\n",
       "      <td>0</td>\n",
       "      <td>0.0</td>\n",
       "      <td>0.000</td>\n",
       "      <td>11.46960</td>\n",
       "      <td>5803498</td>\n",
       "      <td>20326</td>\n",
       "      <td>1779</td>\n",
       "      <td>30231</td>\n",
       "      <td>4356</td>\n",
       "    </tr>\n",
       "    <tr>\n",
       "      <th>1</th>\n",
       "      <td>2016-01-29 20:00:00</td>\n",
       "      <td>0000e2c6d9be</td>\n",
       "      <td>1</td>\n",
       "      <td>0</td>\n",
       "      <td>0.0</td>\n",
       "      <td>0.000</td>\n",
       "      <td>9.55800</td>\n",
       "      <td>239303498</td>\n",
       "      <td>76547</td>\n",
       "      <td>1619</td>\n",
       "      <td>30359</td>\n",
       "      <td>4356</td>\n",
       "    </tr>\n",
       "    <tr>\n",
       "      <th>2</th>\n",
       "      <td>2017-02-26 19:00:00</td>\n",
       "      <td>000133bb597f</td>\n",
       "      <td>1</td>\n",
       "      <td>0</td>\n",
       "      <td>0.0</td>\n",
       "      <td>0.493</td>\n",
       "      <td>5.93658</td>\n",
       "      <td>206463498</td>\n",
       "      <td>33833</td>\n",
       "      <td>1619</td>\n",
       "      <td>30359</td>\n",
       "      <td>4324</td>\n",
       "    </tr>\n",
       "    <tr>\n",
       "      <th>3</th>\n",
       "      <td>2017-02-05 17:00:00</td>\n",
       "      <td>00018269939b</td>\n",
       "      <td>1</td>\n",
       "      <td>0</td>\n",
       "      <td>0.0</td>\n",
       "      <td>0.493</td>\n",
       "      <td>9.82350</td>\n",
       "      <td>36613498</td>\n",
       "      <td>99315</td>\n",
       "      <td>1619</td>\n",
       "      <td>30359</td>\n",
       "      <td>4356</td>\n",
       "    </tr>\n",
       "    <tr>\n",
       "      <th>4</th>\n",
       "      <td>2015-08-04 19:00:00</td>\n",
       "      <td>0001a00468a6</td>\n",
       "      <td>1</td>\n",
       "      <td>0</td>\n",
       "      <td>0.0</td>\n",
       "      <td>0.493</td>\n",
       "      <td>5.15070</td>\n",
       "      <td>225853498</td>\n",
       "      <td>16456</td>\n",
       "      <td>1619</td>\n",
       "      <td>29463</td>\n",
       "      <td>4356</td>\n",
       "    </tr>\n",
       "    <tr>\n",
       "      <th>...</th>\n",
       "      <td>...</td>\n",
       "      <td>...</td>\n",
       "      <td>...</td>\n",
       "      <td>...</td>\n",
       "      <td>...</td>\n",
       "      <td>...</td>\n",
       "      <td>...</td>\n",
       "      <td>...</td>\n",
       "      <td>...</td>\n",
       "      <td>...</td>\n",
       "      <td>...</td>\n",
       "      <td>...</td>\n",
       "    </tr>\n",
       "    <tr>\n",
       "      <th>786542</th>\n",
       "      <td>2016-09-30 20:00:00</td>\n",
       "      <td>fffe9d5a8d41</td>\n",
       "      <td>0</td>\n",
       "      <td>1</td>\n",
       "      <td>0.0</td>\n",
       "      <td>0.000</td>\n",
       "      <td>10.72620</td>\n",
       "      <td>983498</td>\n",
       "      <td>10346</td>\n",
       "      <td>1779</td>\n",
       "      <td>29463</td>\n",
       "      <td>212</td>\n",
       "    </tr>\n",
       "    <tr>\n",
       "      <th>786543</th>\n",
       "      <td>2016-08-17 21:00:00</td>\n",
       "      <td>ffff347c3cfa</td>\n",
       "      <td>1</td>\n",
       "      <td>0</td>\n",
       "      <td>0.0</td>\n",
       "      <td>0.000</td>\n",
       "      <td>7.59330</td>\n",
       "      <td>52893498</td>\n",
       "      <td>41978</td>\n",
       "      <td>1619</td>\n",
       "      <td>30359</td>\n",
       "      <td>4356</td>\n",
       "    </tr>\n",
       "    <tr>\n",
       "      <th>786544</th>\n",
       "      <td>2016-09-15 21:00:00</td>\n",
       "      <td>ffff347c3cfa</td>\n",
       "      <td>2</td>\n",
       "      <td>0</td>\n",
       "      <td>0.0</td>\n",
       "      <td>0.000</td>\n",
       "      <td>5.94720</td>\n",
       "      <td>164653498</td>\n",
       "      <td>41978</td>\n",
       "      <td>1619</td>\n",
       "      <td>30359</td>\n",
       "      <td>4356</td>\n",
       "    </tr>\n",
       "    <tr>\n",
       "      <th>786545</th>\n",
       "      <td>2016-04-02 19:00:00</td>\n",
       "      <td>ffff4519b52d</td>\n",
       "      <td>1</td>\n",
       "      <td>0</td>\n",
       "      <td>0.0</td>\n",
       "      <td>0.000</td>\n",
       "      <td>21.77100</td>\n",
       "      <td>16363498</td>\n",
       "      <td>80562</td>\n",
       "      <td>1491</td>\n",
       "      <td>29751</td>\n",
       "      <td>4228</td>\n",
       "    </tr>\n",
       "    <tr>\n",
       "      <th>786546</th>\n",
       "      <td>2015-05-30 20:00:00</td>\n",
       "      <td>ffffccbfc8a4</td>\n",
       "      <td>1</td>\n",
       "      <td>0</td>\n",
       "      <td>0.0</td>\n",
       "      <td>0.000</td>\n",
       "      <td>16.46100</td>\n",
       "      <td>150293498</td>\n",
       "      <td>45952</td>\n",
       "      <td>1619</td>\n",
       "      <td>29463</td>\n",
       "      <td>4324</td>\n",
       "    </tr>\n",
       "  </tbody>\n",
       "</table>\n",
       "<p>786547 rows × 12 columns</p>\n",
       "</div>"
      ],
      "text/plain": [
       "            order_datetime   customer_id  customer_order_rank  is_failed  \\\n",
       "0      2015-06-20 19:00:00  000097eabfd9                    1          0   \n",
       "1      2016-01-29 20:00:00  0000e2c6d9be                    1          0   \n",
       "2      2017-02-26 19:00:00  000133bb597f                    1          0   \n",
       "3      2017-02-05 17:00:00  00018269939b                    1          0   \n",
       "4      2015-08-04 19:00:00  0001a00468a6                    1          0   \n",
       "...                    ...           ...                  ...        ...   \n",
       "786542 2016-09-30 20:00:00  fffe9d5a8d41                    0          1   \n",
       "786543 2016-08-17 21:00:00  ffff347c3cfa                    1          0   \n",
       "786544 2016-09-15 21:00:00  ffff347c3cfa                    2          0   \n",
       "786545 2016-04-02 19:00:00  ffff4519b52d                    1          0   \n",
       "786546 2015-05-30 20:00:00  ffffccbfc8a4                    1          0   \n",
       "\n",
       "        voucher_amount  delivery_fee  amount_paid restaurant_id city_id  \\\n",
       "0                  0.0         0.000     11.46960       5803498   20326   \n",
       "1                  0.0         0.000      9.55800     239303498   76547   \n",
       "2                  0.0         0.493      5.93658     206463498   33833   \n",
       "3                  0.0         0.493      9.82350      36613498   99315   \n",
       "4                  0.0         0.493      5.15070     225853498   16456   \n",
       "...                ...           ...          ...           ...     ...   \n",
       "786542             0.0         0.000     10.72620        983498   10346   \n",
       "786543             0.0         0.000      7.59330      52893498   41978   \n",
       "786544             0.0         0.000      5.94720     164653498   41978   \n",
       "786545             0.0         0.000     21.77100      16363498   80562   \n",
       "786546             0.0         0.000     16.46100     150293498   45952   \n",
       "\n",
       "       payment_id platform_id transmission_id  \n",
       "0            1779       30231            4356  \n",
       "1            1619       30359            4356  \n",
       "2            1619       30359            4324  \n",
       "3            1619       30359            4356  \n",
       "4            1619       29463            4356  \n",
       "...           ...         ...             ...  \n",
       "786542       1779       29463             212  \n",
       "786543       1619       30359            4356  \n",
       "786544       1619       30359            4356  \n",
       "786545       1491       29751            4228  \n",
       "786546       1619       29463            4324  \n",
       "\n",
       "[786547 rows x 12 columns]"
      ]
     },
     "execution_count": 8,
     "metadata": {},
     "output_type": "execute_result"
    }
   ],
   "source": [
    "orders_table = orders_table.set_index(\n",
    "    'order_datetime'\n",
    ").loc[\"2015-03-01\":].reset_index()\n",
    "orders_table"
   ]
  },
  {
   "cell_type": "markdown",
   "metadata": {},
   "source": [
    "How much data have we lost? Not very much:"
   ]
  },
  {
   "cell_type": "code",
   "execution_count": 9,
   "metadata": {},
   "outputs": [
    {
     "data": {
      "text/plain": [
       "53"
      ]
     },
     "execution_count": 9,
     "metadata": {},
     "output_type": "execute_result"
    }
   ],
   "source": [
    "orders_table_orig.shape[0] - orders_table.shape[0]"
   ]
  },
  {
   "cell_type": "markdown",
   "metadata": {},
   "source": [
    "### Orders features\n",
    "\n",
    "Let's store our newly-created features in separate tables.\n",
    "\n",
    "Let's create a table for order features, including one-hot representation of categorical variables (dummy variables):"
   ]
  },
  {
   "cell_type": "code",
   "execution_count": 10,
   "metadata": {},
   "outputs": [],
   "source": [
    "orders_features = pd.DataFrame(index=orders_table.index)"
   ]
  },
  {
   "cell_type": "code",
   "execution_count": 11,
   "metadata": {},
   "outputs": [],
   "source": [
    "orders_features['customer_id'] = orders_table['customer_id']"
   ]
  },
  {
   "cell_type": "code",
   "execution_count": 12,
   "metadata": {},
   "outputs": [
    {
     "data": {
      "text/html": [
       "<div>\n",
       "<style scoped>\n",
       "    .dataframe tbody tr th:only-of-type {\n",
       "        vertical-align: middle;\n",
       "    }\n",
       "\n",
       "    .dataframe tbody tr th {\n",
       "        vertical-align: top;\n",
       "    }\n",
       "\n",
       "    .dataframe thead th {\n",
       "        text-align: right;\n",
       "    }\n",
       "</style>\n",
       "<table border=\"1\" class=\"dataframe\">\n",
       "  <thead>\n",
       "    <tr style=\"text-align: right;\">\n",
       "      <th></th>\n",
       "      <th>customer_id</th>\n",
       "    </tr>\n",
       "  </thead>\n",
       "  <tbody>\n",
       "    <tr>\n",
       "      <th>0</th>\n",
       "      <td>000097eabfd9</td>\n",
       "    </tr>\n",
       "    <tr>\n",
       "      <th>1</th>\n",
       "      <td>0000e2c6d9be</td>\n",
       "    </tr>\n",
       "    <tr>\n",
       "      <th>2</th>\n",
       "      <td>000133bb597f</td>\n",
       "    </tr>\n",
       "    <tr>\n",
       "      <th>3</th>\n",
       "      <td>00018269939b</td>\n",
       "    </tr>\n",
       "    <tr>\n",
       "      <th>4</th>\n",
       "      <td>0001a00468a6</td>\n",
       "    </tr>\n",
       "  </tbody>\n",
       "</table>\n",
       "</div>"
      ],
      "text/plain": [
       "    customer_id\n",
       "0  000097eabfd9\n",
       "1  0000e2c6d9be\n",
       "2  000133bb597f\n",
       "3  00018269939b\n",
       "4  0001a00468a6"
      ]
     },
     "execution_count": 12,
     "metadata": {},
     "output_type": "execute_result"
    }
   ],
   "source": [
    "orders_features.head()"
   ]
  },
  {
   "cell_type": "markdown",
   "metadata": {},
   "source": [
    "### Customer features\n",
    "\n",
    "We'll be extracting customer features and storing them in a separate dataframe:"
   ]
  },
  {
   "cell_type": "code",
   "execution_count": 13,
   "metadata": {},
   "outputs": [],
   "source": [
    "customer_features = pd.DataFrame(index=orders_table['customer_id'].unique())\n",
    "customer_features.index.name = 'customer_id'"
   ]
  },
  {
   "cell_type": "code",
   "execution_count": 14,
   "metadata": {},
   "outputs": [
    {
     "data": {
      "text/html": [
       "<div>\n",
       "<style scoped>\n",
       "    .dataframe tbody tr th:only-of-type {\n",
       "        vertical-align: middle;\n",
       "    }\n",
       "\n",
       "    .dataframe tbody tr th {\n",
       "        vertical-align: top;\n",
       "    }\n",
       "\n",
       "    .dataframe thead th {\n",
       "        text-align: right;\n",
       "    }\n",
       "</style>\n",
       "<table border=\"1\" class=\"dataframe\">\n",
       "  <thead>\n",
       "    <tr style=\"text-align: right;\">\n",
       "      <th></th>\n",
       "    </tr>\n",
       "    <tr>\n",
       "      <th>customer_id</th>\n",
       "    </tr>\n",
       "  </thead>\n",
       "  <tbody>\n",
       "    <tr>\n",
       "      <th>000097eabfd9</th>\n",
       "    </tr>\n",
       "    <tr>\n",
       "      <th>0000e2c6d9be</th>\n",
       "    </tr>\n",
       "    <tr>\n",
       "      <th>000133bb597f</th>\n",
       "    </tr>\n",
       "    <tr>\n",
       "      <th>00018269939b</th>\n",
       "    </tr>\n",
       "    <tr>\n",
       "      <th>0001a00468a6</th>\n",
       "    </tr>\n",
       "    <tr>\n",
       "      <th>...</th>\n",
       "    </tr>\n",
       "    <tr>\n",
       "      <th>fffd696eaedd</th>\n",
       "    </tr>\n",
       "    <tr>\n",
       "      <th>fffe9d5a8d41</th>\n",
       "    </tr>\n",
       "    <tr>\n",
       "      <th>ffff347c3cfa</th>\n",
       "    </tr>\n",
       "    <tr>\n",
       "      <th>ffff4519b52d</th>\n",
       "    </tr>\n",
       "    <tr>\n",
       "      <th>ffffccbfc8a4</th>\n",
       "    </tr>\n",
       "  </tbody>\n",
       "</table>\n",
       "<p>245453 rows × 0 columns</p>\n",
       "</div>"
      ],
      "text/plain": [
       "Empty DataFrame\n",
       "Columns: []\n",
       "Index: [000097eabfd9, 0000e2c6d9be, 000133bb597f, 00018269939b, 0001a00468a6, 0001d9036b5e, 0001e1e04d7d, 000235bf6618, 0003647e5641, 000387b95c2c, 000399acea94, 0003a90fbb9f, 0003dba691e1, 0004017c62e8, 0004807d5643, 0004b21c24c5, 0004bae1b049, 00052c23e24b, 00053d1c1c98, 000547bc1b89, 000557d33f23, 0005f8cd826d, 0006488bdc8a, 00066870ca92, 0006c4da17e6, 00071c8b2e3b, 00075fe328b9, 0007b9d73f44, 0007c983219a, 0007ed999da6, 0008e8498a90, 000922bc9fdf, 000962ab00b8, 000975df28d1, 0009f922bf18, 000a4348a2b5, 000ab6e664de, 000ac47bcdf3, 000afe75dc19, 000b63738c77, 000c02f5e237, 000c409df2da, 000c424f35b7, 000c8b9d6f52, 000cbbc2ba83, 000ce7ed5ef5, 000cf86781fb, 000d21b0f959, 000d48ed2b1a, 000db1d03767, 000e250b6dcb, 000e3b2cff4c, 000e6b974ca0, 000f46f31a35, 000f6a94d004, 000fa684aa60, 000fb9847ef1, 00105723b612, 0011320c0c4e, 0011683ab734, 001173c24d30, 0011b4b14277, 0011f9b2693b, 00128859d34f, 0012b1474694, 0012cc25c292, 0012e3a3dfa6, 001436554b7f, 00143f72405c, 00144f5638a1, 0014a94ea42b, 0014b19c9726, 0014e8d20bfb, 00150a28511e, 001585cda921, 0015b396da8b, 001614af13c8, 001678415b3e, 0016a9931009, 0016f596b5cc, 00173abeba8e, 00177902288d, 0017c22cb7b6, 0017ecedcdd2, 00193d60a632, 00195ea875c8, 00198fa0fa8d, 001a22fdd93e, 001a947e5f30, 001ae9f68533, 001c728f292b, 001cbd08e358, 001d53539e98, 001d95334cba, 001de1b8cf24, 001e65cd1f25, 001e71fcbf89, 001e8ed5eec7, 001e9f48b37e, 001ee9a9acc5, ...]\n",
       "\n",
       "[245453 rows x 0 columns]"
      ]
     },
     "execution_count": 14,
     "metadata": {},
     "output_type": "execute_result"
    }
   ],
   "source": [
    "customer_features"
   ]
  },
  {
   "cell_type": "markdown",
   "metadata": {},
   "source": [
    "### Daily orders\n",
    "\n",
    "We can extract the number of order each day in the dataset:"
   ]
  },
  {
   "cell_type": "code",
   "execution_count": 15,
   "metadata": {},
   "outputs": [
    {
     "data": {
      "text/plain": [
       "order_datetime\n",
       "2015-03-01     762\n",
       "2015-03-02     221\n",
       "2015-03-03     199\n",
       "2015-03-04     228\n",
       "2015-03-05     228\n",
       "              ... \n",
       "2017-02-23    1577\n",
       "2017-02-24    1969\n",
       "2017-02-25    2123\n",
       "2017-02-26    3234\n",
       "2017-02-27    1805\n",
       "Freq: D, Name: customer_id, Length: 730, dtype: int64"
      ]
     },
     "execution_count": 15,
     "metadata": {},
     "output_type": "execute_result"
    }
   ],
   "source": [
    "daily_orders = orders_table.set_index('order_datetime')['customer_id'].resample('D').count()\n",
    "daily_orders"
   ]
  },
  {
   "cell_type": "markdown",
   "metadata": {},
   "source": [
    "Plotting the data will help us spot patterns like weekly seasonality and big holidays such as Christmas and New Year's eve:"
   ]
  },
  {
   "cell_type": "code",
   "execution_count": 16,
   "metadata": {},
   "outputs": [
    {
     "data": {
      "image/png": "[encoded data removed]",
      "text/plain": [
       "<Figure size 864x432 with 1 Axes>"
      ]
     },
     "metadata": {},
     "output_type": "display_data"
    }
   ],
   "source": [
    "daily_orders.plot(\n",
    "    figsize=(12,6),\n",
    "#     logy=True,\n",
    "    label='Daily Orders',\n",
    "    legend=True,\n",
    ");"
   ]
  },
  {
   "cell_type": "code",
   "execution_count": 17,
   "metadata": {},
   "outputs": [
    {
     "data": {
      "image/png": "[encoded data removed]",
      "text/plain": [
       "<Figure size 864x432 with 1 Axes>"
      ]
     },
     "metadata": {},
     "output_type": "display_data"
    }
   ],
   "source": [
    "daily_orders['2015-03-01':'2015-08-07'].plot(\n",
    "    figsize=(12,6),\n",
    "#     logy=True,\n",
    "    label='Daily Orders',\n",
    "    legend=True,\n",
    ");"
   ]
  },
  {
   "cell_type": "markdown",
   "metadata": {},
   "source": [
    "Beside the obvious Christmas and New Year's Eve anomalies,\n",
    "I zoomed in onto the April-May period, which looks a bit funky.\n",
    "This is a probable sign of several holidays in this time period,\n",
    "which might hint at the fact the we are looking at a EU country\n",
    "(several EU countries happen to have a concentration of holidays\n",
    "within this time frame).\n",
    "\n",
    "Without knowing the country we are looking at\n",
    "(assuming the synthetic data represents one correctly)\n",
    "it is very difficult to use holidays information.\n",
    "For the sake of time I will stick with Christmas and New Years' only."
   ]
  },
  {
   "cell_type": "markdown",
   "metadata": {},
   "source": [
    "#### Hourly orders"
   ]
  },
  {
   "cell_type": "code",
   "execution_count": 18,
   "metadata": {},
   "outputs": [
    {
     "data": {
      "text/plain": [
       "order_datetime\n",
       "2015-03-01 00:00:00      3\n",
       "2015-03-01 01:00:00      1\n",
       "2015-03-01 02:00:00      1\n",
       "2015-03-01 03:00:00      1\n",
       "2015-03-01 04:00:00      0\n",
       "                      ... \n",
       "2017-02-27 19:00:00    308\n",
       "2017-02-27 20:00:00    234\n",
       "2017-02-27 21:00:00    156\n",
       "2017-02-27 22:00:00     55\n",
       "2017-02-27 23:00:00     23\n",
       "Freq: H, Name: customer_id, Length: 17520, dtype: int64"
      ]
     },
     "execution_count": 18,
     "metadata": {},
     "output_type": "execute_result"
    }
   ],
   "source": [
    "hourly_orders = orders_table.set_index('order_datetime')['customer_id'].resample('H').count()\n",
    "hourly_orders"
   ]
  },
  {
   "cell_type": "code",
   "execution_count": 19,
   "metadata": {},
   "outputs": [
    {
     "data": {
      "text/plain": [
       "count    17520.000000\n",
       "mean        44.894235\n",
       "std         71.412816\n",
       "min          0.000000\n",
       "25%          1.000000\n",
       "50%         15.000000\n",
       "75%         56.000000\n",
       "max        756.000000\n",
       "Name: customer_id, dtype: float64"
      ]
     },
     "execution_count": 19,
     "metadata": {},
     "output_type": "execute_result"
    }
   ],
   "source": [
    "hourly_orders.describe()"
   ]
  },
  {
   "cell_type": "markdown",
   "metadata": {},
   "source": [
    "By looking at a 2-week period around 2017-01-01 we can observe the daily seasonality\n",
    "and the anomalies of holidays (25th, 31th) in more detail:"
   ]
  },
  {
   "cell_type": "code",
   "execution_count": 20,
   "metadata": {
    "scrolled": false
   },
   "outputs": [
    {
     "data": {
      "image/png": "[encoded data removed]",
      "text/plain": [
       "<Figure size 864x432 with 1 Axes>"
      ]
     },
     "metadata": {},
     "output_type": "display_data"
    }
   ],
   "source": [
    "hourly_orders['2016-12-23':'2017-01-07'].plot(\n",
    "    figsize=(12,6),\n",
    "#     logy=True,\n",
    "    label='Hourly Orders',\n",
    "    legend=True,\n",
    ");"
   ]
  },
  {
   "cell_type": "markdown",
   "metadata": {},
   "source": [
    "#### Intra-day seasonality\n",
    "\n",
    "Seasonality patterns could produce meaningful predictive features.\n",
    "Here's how many orders we have in total for each hour of the day:"
   ]
  },
  {
   "cell_type": "code",
   "execution_count": 21,
   "metadata": {},
   "outputs": [],
   "source": [
    "total_orders_per_hour = orders_table.groupby(orders_table['order_datetime'].dt.time)['customer_id'].count()"
   ]
  },
  {
   "cell_type": "code",
   "execution_count": 22,
   "metadata": {},
   "outputs": [
    {
     "data": {
      "text/plain": [
       "order_datetime\n",
       "00:00:00      4627\n",
       "01:00:00      2425\n",
       "02:00:00      1187\n",
       "03:00:00       443\n",
       "04:00:00       137\n",
       "05:00:00        62\n",
       "06:00:00        83\n",
       "07:00:00       158\n",
       "08:00:00       456\n",
       "09:00:00      1239\n",
       "10:00:00      4319\n",
       "11:00:00     19062\n",
       "12:00:00     29147\n",
       "13:00:00     31103\n",
       "14:00:00     30319\n",
       "15:00:00     34283\n",
       "16:00:00     48872\n",
       "17:00:00     90775\n",
       "18:00:00    129647\n",
       "19:00:00    134025\n",
       "20:00:00    108732\n",
       "21:00:00     68216\n",
       "22:00:00     33398\n",
       "23:00:00     13832\n",
       "Name: customer_id, dtype: int64"
      ]
     },
     "execution_count": 22,
     "metadata": {},
     "output_type": "execute_result"
    }
   ],
   "source": [
    "total_orders_per_hour"
   ]
  },
  {
   "cell_type": "code",
   "execution_count": 23,
   "metadata": {},
   "outputs": [
    {
     "data": {
      "image/png": "[encoded data removed]",
      "text/plain": [
       "<Figure size 432x288 with 1 Axes>"
      ]
     },
     "metadata": {},
     "output_type": "display_data"
    }
   ],
   "source": [
    "total_orders_per_hour.plot(label=\"Total orders per hour of day\", legend=True);"
   ]
  },
  {
   "cell_type": "markdown",
   "metadata": {},
   "source": [
    "#### Time-based features\n",
    "\n",
    "This visualization shows how the distribution of orders is bimodal,\n",
    "with one peak centered around 13:00 (lunch) and a second centered around 19:00 (dinner).\n",
    "Using the hour of the day as a feature should capture this information.\n",
    "\n",
    "Other information that can be extracted and used as a feature is:\n",
    "- which day of the week an order was submitted;\n",
    "- was the order day a holiday (25/12, 31/12, 01/12);\n",
    "- how long ago was the last order of the customer\n",
    "  (Assuming that the last data point is the \"present\");\n",
    "- how long ago was the first order of the customer;"
   ]
  },
  {
   "cell_type": "code",
   "execution_count": 24,
   "metadata": {},
   "outputs": [],
   "source": [
    "orders_features['hour_of_day'] = orders_table['order_datetime'].dt.hour"
   ]
  },
  {
   "cell_type": "code",
   "execution_count": 25,
   "metadata": {
    "scrolled": true
   },
   "outputs": [],
   "source": [
    "orders_features['day_of_week'] = orders_table['order_datetime'].dt.dayofweek"
   ]
  },
  {
   "cell_type": "code",
   "execution_count": 26,
   "metadata": {},
   "outputs": [],
   "source": [
    "orders_features['is_holiday'] = (\n",
    "    (\n",
    "        (orders_table['order_datetime'].dt.month == 1) & (orders_table['order_datetime'].dt.day == 1)\n",
    "    ) | (\n",
    "        (orders_table['order_datetime'].dt.month == 12) & ((orders_table['order_datetime'].dt.day == 25) | (orders_table['order_datetime'].dt.day == 31))\n",
    "    )\n",
    ")"
   ]
  },
  {
   "cell_type": "code",
   "execution_count": 27,
   "metadata": {},
   "outputs": [
    {
     "name": "stdout",
     "output_type": "stream",
     "text": [
      "<class 'pandas.core.frame.DataFrame'>\n",
      "RangeIndex: 786547 entries, 0 to 786546\n",
      "Data columns (total 4 columns):\n",
      " #   Column       Non-Null Count   Dtype \n",
      "---  ------       --------------   ----- \n",
      " 0   customer_id  786547 non-null  object\n",
      " 1   hour_of_day  786547 non-null  int64 \n",
      " 2   day_of_week  786547 non-null  int64 \n",
      " 3   is_holiday   786547 non-null  bool  \n",
      "dtypes: bool(1), int64(2), object(1)\n",
      "memory usage: 18.8+ MB\n"
     ]
    }
   ],
   "source": [
    "orders_features.info()"
   ]
  },
  {
   "cell_type": "markdown",
   "metadata": {},
   "source": [
    "#### Dummy variables"
   ]
  },
  {
   "cell_type": "markdown",
   "metadata": {},
   "source": [
    "Let's produce dummy variables from these:"
   ]
  },
  {
   "cell_type": "code",
   "execution_count": 28,
   "metadata": {},
   "outputs": [],
   "source": [
    "col_name = 'hour_of_day'\n",
    "hour_dummies = pd.get_dummies(\n",
    "    orders_features[col_name],\n",
    "    prefix=col_name,\n",
    ")"
   ]
  },
  {
   "cell_type": "code",
   "execution_count": 29,
   "metadata": {},
   "outputs": [],
   "source": [
    "orders_features[hour_dummies.columns] = hour_dummies"
   ]
  },
  {
   "cell_type": "code",
   "execution_count": 30,
   "metadata": {},
   "outputs": [],
   "source": [
    "col_name = 'day_of_week'\n",
    "day_of_week_dummies = pd.get_dummies(\n",
    "    orders_features[col_name],\n",
    "    prefix=col_name,\n",
    ")"
   ]
  },
  {
   "cell_type": "code",
   "execution_count": 31,
   "metadata": {},
   "outputs": [],
   "source": [
    "orders_features[day_of_week_dummies.columns] = day_of_week_dummies"
   ]
  },
  {
   "cell_type": "code",
   "execution_count": 32,
   "metadata": {},
   "outputs": [
    {
     "name": "stdout",
     "output_type": "stream",
     "text": [
      "<class 'pandas.core.frame.DataFrame'>\n",
      "RangeIndex: 786547 entries, 0 to 786546\n",
      "Data columns (total 35 columns):\n",
      " #   Column          Non-Null Count   Dtype \n",
      "---  ------          --------------   ----- \n",
      " 0   customer_id     786547 non-null  object\n",
      " 1   hour_of_day     786547 non-null  int64 \n",
      " 2   day_of_week     786547 non-null  int64 \n",
      " 3   is_holiday      786547 non-null  bool  \n",
      " 4   hour_of_day_0   786547 non-null  uint8 \n",
      " 5   hour_of_day_1   786547 non-null  uint8 \n",
      " 6   hour_of_day_2   786547 non-null  uint8 \n",
      " 7   hour_of_day_3   786547 non-null  uint8 \n",
      " 8   hour_of_day_4   786547 non-null  uint8 \n",
      " 9   hour_of_day_5   786547 non-null  uint8 \n",
      " 10  hour_of_day_6   786547 non-null  uint8 \n",
      " 11  hour_of_day_7   786547 non-null  uint8 \n",
      " 12  hour_of_day_8   786547 non-null  uint8 \n",
      " 13  hour_of_day_9   786547 non-null  uint8 \n",
      " 14  hour_of_day_10  786547 non-null  uint8 \n",
      " 15  hour_of_day_11  786547 non-null  uint8 \n",
      " 16  hour_of_day_12  786547 non-null  uint8 \n",
      " 17  hour_of_day_13  786547 non-null  uint8 \n",
      " 18  hour_of_day_14  786547 non-null  uint8 \n",
      " 19  hour_of_day_15  786547 non-null  uint8 \n",
      " 20  hour_of_day_16  786547 non-null  uint8 \n",
      " 21  hour_of_day_17  786547 non-null  uint8 \n",
      " 22  hour_of_day_18  786547 non-null  uint8 \n",
      " 23  hour_of_day_19  786547 non-null  uint8 \n",
      " 24  hour_of_day_20  786547 non-null  uint8 \n",
      " 25  hour_of_day_21  786547 non-null  uint8 \n",
      " 26  hour_of_day_22  786547 non-null  uint8 \n",
      " 27  hour_of_day_23  786547 non-null  uint8 \n",
      " 28  day_of_week_0   786547 non-null  uint8 \n",
      " 29  day_of_week_1   786547 non-null  uint8 \n",
      " 30  day_of_week_2   786547 non-null  uint8 \n",
      " 31  day_of_week_3   786547 non-null  uint8 \n",
      " 32  day_of_week_4   786547 non-null  uint8 \n",
      " 33  day_of_week_5   786547 non-null  uint8 \n",
      " 34  day_of_week_6   786547 non-null  uint8 \n",
      "dtypes: bool(1), int64(2), object(1), uint8(31)\n",
      "memory usage: 42.0+ MB\n"
     ]
    }
   ],
   "source": [
    "orders_features.info()"
   ]
  },
  {
   "cell_type": "code",
   "execution_count": 33,
   "metadata": {},
   "outputs": [
    {
     "data": {
      "text/plain": [
       "Timestamp('2017-02-27 23:00:00')"
      ]
     },
     "execution_count": 33,
     "metadata": {},
     "output_type": "execute_result"
    }
   ],
   "source": [
    "last_orders = orders_table.groupby('customer_id')['order_datetime'].max()\n",
    "max_datetime = orders_table['order_datetime'].max()\n",
    "max_datetime"
   ]
  },
  {
   "cell_type": "code",
   "execution_count": 34,
   "metadata": {},
   "outputs": [],
   "source": [
    "customer_features['last_order_age_days'] = (max_datetime - last_orders).dt.days"
   ]
  },
  {
   "cell_type": "code",
   "execution_count": 35,
   "metadata": {},
   "outputs": [],
   "source": [
    "first_orders = orders_table.groupby('customer_id')['order_datetime'].min()"
   ]
  },
  {
   "cell_type": "code",
   "execution_count": 36,
   "metadata": {},
   "outputs": [],
   "source": [
    "customer_features['first_order_age_days'] = (max_datetime - first_orders).dt.days"
   ]
  },
  {
   "cell_type": "code",
   "execution_count": 37,
   "metadata": {},
   "outputs": [
    {
     "data": {
      "text/html": [
       "<div>\n",
       "<style scoped>\n",
       "    .dataframe tbody tr th:only-of-type {\n",
       "        vertical-align: middle;\n",
       "    }\n",
       "\n",
       "    .dataframe tbody tr th {\n",
       "        vertical-align: top;\n",
       "    }\n",
       "\n",
       "    .dataframe thead th {\n",
       "        text-align: right;\n",
       "    }\n",
       "</style>\n",
       "<table border=\"1\" class=\"dataframe\">\n",
       "  <thead>\n",
       "    <tr style=\"text-align: right;\">\n",
       "      <th></th>\n",
       "      <th>last_order_age_days</th>\n",
       "      <th>first_order_age_days</th>\n",
       "    </tr>\n",
       "    <tr>\n",
       "      <th>customer_id</th>\n",
       "      <th></th>\n",
       "      <th></th>\n",
       "    </tr>\n",
       "  </thead>\n",
       "  <tbody>\n",
       "    <tr>\n",
       "      <th>000097eabfd9</th>\n",
       "      <td>618</td>\n",
       "      <td>618</td>\n",
       "    </tr>\n",
       "    <tr>\n",
       "      <th>0000e2c6d9be</th>\n",
       "      <td>395</td>\n",
       "      <td>395</td>\n",
       "    </tr>\n",
       "    <tr>\n",
       "      <th>000133bb597f</th>\n",
       "      <td>1</td>\n",
       "      <td>1</td>\n",
       "    </tr>\n",
       "    <tr>\n",
       "      <th>00018269939b</th>\n",
       "      <td>22</td>\n",
       "      <td>22</td>\n",
       "    </tr>\n",
       "    <tr>\n",
       "      <th>0001a00468a6</th>\n",
       "      <td>573</td>\n",
       "      <td>573</td>\n",
       "    </tr>\n",
       "  </tbody>\n",
       "</table>\n",
       "</div>"
      ],
      "text/plain": [
       "              last_order_age_days  first_order_age_days\n",
       "customer_id                                            \n",
       "000097eabfd9                  618                   618\n",
       "0000e2c6d9be                  395                   395\n",
       "000133bb597f                    1                     1\n",
       "00018269939b                   22                    22\n",
       "0001a00468a6                  573                   573"
      ]
     },
     "execution_count": 37,
     "metadata": {},
     "output_type": "execute_result"
    }
   ],
   "source": [
    "customer_features.head()"
   ]
  },
  {
   "cell_type": "markdown",
   "metadata": {},
   "source": [
    "### Number of orders\n",
    "\n",
    "We'll throw in the number of orders per customer as well:"
   ]
  },
  {
   "cell_type": "code",
   "execution_count": 38,
   "metadata": {},
   "outputs": [],
   "source": [
    "number_of_orders_per_customer = orders_table.groupby('customer_id')['amount_paid'].count()\n",
    "number_of_orders_per_customer.name = 'n_orders'"
   ]
  },
  {
   "cell_type": "code",
   "execution_count": 39,
   "metadata": {},
   "outputs": [
    {
     "data": {
      "text/html": [
       "<div>\n",
       "<style scoped>\n",
       "    .dataframe tbody tr th:only-of-type {\n",
       "        vertical-align: middle;\n",
       "    }\n",
       "\n",
       "    .dataframe tbody tr th {\n",
       "        vertical-align: top;\n",
       "    }\n",
       "\n",
       "    .dataframe thead th {\n",
       "        text-align: right;\n",
       "    }\n",
       "</style>\n",
       "<table border=\"1\" class=\"dataframe\">\n",
       "  <thead>\n",
       "    <tr style=\"text-align: right;\">\n",
       "      <th></th>\n",
       "      <th>last_order_age_days</th>\n",
       "      <th>first_order_age_days</th>\n",
       "      <th>n_orders</th>\n",
       "    </tr>\n",
       "    <tr>\n",
       "      <th>customer_id</th>\n",
       "      <th></th>\n",
       "      <th></th>\n",
       "      <th></th>\n",
       "    </tr>\n",
       "  </thead>\n",
       "  <tbody>\n",
       "    <tr>\n",
       "      <th>000097eabfd9</th>\n",
       "      <td>618</td>\n",
       "      <td>618</td>\n",
       "      <td>1</td>\n",
       "    </tr>\n",
       "    <tr>\n",
       "      <th>0000e2c6d9be</th>\n",
       "      <td>395</td>\n",
       "      <td>395</td>\n",
       "      <td>1</td>\n",
       "    </tr>\n",
       "    <tr>\n",
       "      <th>000133bb597f</th>\n",
       "      <td>1</td>\n",
       "      <td>1</td>\n",
       "      <td>1</td>\n",
       "    </tr>\n",
       "    <tr>\n",
       "      <th>00018269939b</th>\n",
       "      <td>22</td>\n",
       "      <td>22</td>\n",
       "      <td>1</td>\n",
       "    </tr>\n",
       "    <tr>\n",
       "      <th>0001a00468a6</th>\n",
       "      <td>573</td>\n",
       "      <td>573</td>\n",
       "      <td>1</td>\n",
       "    </tr>\n",
       "  </tbody>\n",
       "</table>\n",
       "</div>"
      ],
      "text/plain": [
       "              last_order_age_days  first_order_age_days  n_orders\n",
       "customer_id                                                      \n",
       "000097eabfd9                  618                   618         1\n",
       "0000e2c6d9be                  395                   395         1\n",
       "000133bb597f                    1                     1         1\n",
       "00018269939b                   22                    22         1\n",
       "0001a00468a6                  573                   573         1"
      ]
     },
     "execution_count": 39,
     "metadata": {},
     "output_type": "execute_result"
    }
   ],
   "source": [
    "customer_features = customer_features.join(number_of_orders_per_customer)\n",
    "customer_features.head()"
   ]
  },
  {
   "cell_type": "markdown",
   "metadata": {},
   "source": [
    "### Customer order rank\n",
    "\n",
    "The customer order rank can show us how many orders a customer has\n",
    "successfully submitted in the considered time frame.\n",
    "We find this by taking the maximum of the quantity."
   ]
  },
  {
   "cell_type": "code",
   "execution_count": 40,
   "metadata": {},
   "outputs": [
    {
     "data": {
      "text/plain": [
       "customer_id\n",
       "15edce943edd    369\n",
       "8745a335e9cf    281\n",
       "d956116d863d    272\n",
       "0063666607bb    266\n",
       "ae60dce05485    266\n",
       "               ... \n",
       "4d262f1d2382      0\n",
       "c0a84c0ffb7a      0\n",
       "2cab60314f16      0\n",
       "570d64fd10ed      0\n",
       "7c0e6c387d48      0\n",
       "Name: customer_order_rank, Length: 245453, dtype: int64"
      ]
     },
     "execution_count": 40,
     "metadata": {},
     "output_type": "execute_result"
    }
   ],
   "source": [
    "max_customer_order_rank = orders_table.groupby(\n",
    "    'customer_id'\n",
    ")['customer_order_rank'].max().sort_values(ascending=False)\n",
    "max_customer_order_rank"
   ]
  },
  {
   "cell_type": "code",
   "execution_count": 41,
   "metadata": {},
   "outputs": [
    {
     "data": {
      "text/plain": [
       "count    245453.000000\n",
       "mean          3.103771\n",
       "std           6.770718\n",
       "min           0.000000\n",
       "25%           1.000000\n",
       "50%           1.000000\n",
       "75%           2.000000\n",
       "max         369.000000\n",
       "Name: customer_order_rank, dtype: float64"
      ]
     },
     "execution_count": 41,
     "metadata": {},
     "output_type": "execute_result"
    }
   ],
   "source": [
    "max_customer_order_rank.describe()"
   ]
  },
  {
   "cell_type": "code",
   "execution_count": 42,
   "metadata": {},
   "outputs": [
    {
     "data": {
      "text/plain": [
       "31.0"
      ]
     },
     "execution_count": 42,
     "metadata": {},
     "output_type": "execute_result"
    }
   ],
   "source": [
    "max_customer_order_rank.quantile(.99)"
   ]
  },
  {
   "cell_type": "markdown",
   "metadata": {},
   "source": [
    "As we can see, 99% or customers haven't ordered more than 31 times,\n",
    "and the majority haven't ordered more than one."
   ]
  },
  {
   "cell_type": "code",
   "execution_count": 43,
   "metadata": {},
   "outputs": [
    {
     "name": "stdout",
     "output_type": "stream",
     "text": [
      "<class 'pandas.core.frame.DataFrame'>\n",
      "Index: 245453 entries, 000097eabfd9 to ffffccbfc8a4\n",
      "Data columns (total 4 columns):\n",
      " #   Column                   Non-Null Count   Dtype\n",
      "---  ------                   --------------   -----\n",
      " 0   last_order_age_days      245453 non-null  int64\n",
      " 1   first_order_age_days     245453 non-null  int64\n",
      " 2   n_orders                 245453 non-null  int64\n",
      " 3   max_customer_order_rank  245453 non-null  int64\n",
      "dtypes: int64(4)\n",
      "memory usage: 19.4+ MB\n"
     ]
    }
   ],
   "source": [
    "max_customer_order_rank.name = 'max_customer_order_rank'\n",
    "customer_features = customer_features.join(max_customer_order_rank)\n",
    "customer_features.info()"
   ]
  },
  {
   "cell_type": "markdown",
   "metadata": {},
   "source": [
    "### is_failed\n",
    "\n",
    "Here we can see how many orders have failed.\n",
    "Using the number of orders we can also calculate a rate of success."
   ]
  },
  {
   "cell_type": "code",
   "execution_count": 44,
   "metadata": {},
   "outputs": [],
   "source": [
    "failed_orders_per_customer = orders_table.groupby('customer_id')['is_failed'].sum()\n",
    "failed_orders_per_customer.name = 'n_failed'"
   ]
  },
  {
   "cell_type": "code",
   "execution_count": 45,
   "metadata": {},
   "outputs": [
    {
     "data": {
      "text/plain": [
       "customer_id\n",
       "000097eabfd9    0\n",
       "0000e2c6d9be    0\n",
       "000133bb597f    0\n",
       "00018269939b    0\n",
       "0001a00468a6    0\n",
       "Name: n_failed, dtype: int64"
      ]
     },
     "execution_count": 45,
     "metadata": {},
     "output_type": "execute_result"
    }
   ],
   "source": [
    "failed_orders_per_customer.head()"
   ]
  },
  {
   "cell_type": "code",
   "execution_count": 46,
   "metadata": {},
   "outputs": [
    {
     "name": "stdout",
     "output_type": "stream",
     "text": [
      "<class 'pandas.core.frame.DataFrame'>\n",
      "Index: 245453 entries, 000097eabfd9 to ffffccbfc8a4\n",
      "Data columns (total 5 columns):\n",
      " #   Column                   Non-Null Count   Dtype\n",
      "---  ------                   --------------   -----\n",
      " 0   last_order_age_days      245453 non-null  int64\n",
      " 1   first_order_age_days     245453 non-null  int64\n",
      " 2   n_orders                 245453 non-null  int64\n",
      " 3   max_customer_order_rank  245453 non-null  int64\n",
      " 4   n_failed                 245453 non-null  int64\n",
      "dtypes: int64(5)\n",
      "memory usage: 21.2+ MB\n"
     ]
    }
   ],
   "source": [
    "customer_features = customer_features.join(failed_orders_per_customer)\n",
    "customer_features.info()"
   ]
  },
  {
   "cell_type": "markdown",
   "metadata": {},
   "source": [
    "### Voucher amount\n",
    "\n",
    "We can extract the number of vouchers used, the total amount from vouchers,\n",
    "and the maximum value of a customer's voucher."
   ]
  },
  {
   "cell_type": "code",
   "execution_count": 47,
   "metadata": {},
   "outputs": [],
   "source": [
    "max_voucher_amount = orders_table.groupby('customer_id')['voucher_amount'].max()\n",
    "max_voucher_amount.name = 'max_voucher_amount'"
   ]
  },
  {
   "cell_type": "code",
   "execution_count": 48,
   "metadata": {},
   "outputs": [
    {
     "data": {
      "text/plain": [
       "count    245453.000000\n",
       "mean          0.171549\n",
       "std           0.717387\n",
       "min           0.000000\n",
       "25%           0.000000\n",
       "50%           0.000000\n",
       "75%           0.000000\n",
       "max          93.398900\n",
       "Name: max_voucher_amount, dtype: float64"
      ]
     },
     "execution_count": 48,
     "metadata": {},
     "output_type": "execute_result"
    }
   ],
   "source": [
    "max_voucher_amount.describe()"
   ]
  },
  {
   "cell_type": "code",
   "execution_count": 49,
   "metadata": {},
   "outputs": [
    {
     "data": {
      "text/plain": [
       "16.102162439983935"
      ]
     },
     "execution_count": 49,
     "metadata": {},
     "output_type": "execute_result"
    }
   ],
   "source": [
    "max_voucher_amount.quantile(.9999)"
   ]
  },
  {
   "cell_type": "code",
   "execution_count": 50,
   "metadata": {},
   "outputs": [
    {
     "name": "stdout",
     "output_type": "stream",
     "text": [
      "<class 'pandas.core.frame.DataFrame'>\n",
      "Index: 245453 entries, 000097eabfd9 to ffffccbfc8a4\n",
      "Data columns (total 6 columns):\n",
      " #   Column                   Non-Null Count   Dtype  \n",
      "---  ------                   --------------   -----  \n",
      " 0   last_order_age_days      245453 non-null  int64  \n",
      " 1   first_order_age_days     245453 non-null  int64  \n",
      " 2   n_orders                 245453 non-null  int64  \n",
      " 3   max_customer_order_rank  245453 non-null  int64  \n",
      " 4   n_failed                 245453 non-null  int64  \n",
      " 5   max_voucher_amount       245453 non-null  float64\n",
      "dtypes: float64(1), int64(5)\n",
      "memory usage: 23.1+ MB\n"
     ]
    }
   ],
   "source": [
    "customer_features = customer_features.join(max_voucher_amount)\n",
    "customer_features.info()"
   ]
  },
  {
   "cell_type": "code",
   "execution_count": 51,
   "metadata": {},
   "outputs": [],
   "source": [
    "tot_voucher_amount = orders_table.groupby('customer_id')['voucher_amount'].sum()\n",
    "tot_voucher_amount.name = 'tot_voucher_amount'"
   ]
  },
  {
   "cell_type": "code",
   "execution_count": 52,
   "metadata": {},
   "outputs": [
    {
     "data": {
      "text/plain": [
       "count    245453.000000\n",
       "mean          0.293150\n",
       "std           1.824942\n",
       "min           0.000000\n",
       "25%           0.000000\n",
       "50%           0.000000\n",
       "75%           0.000000\n",
       "max         191.994250\n",
       "Name: tot_voucher_amount, dtype: float64"
      ]
     },
     "execution_count": 52,
     "metadata": {},
     "output_type": "execute_result"
    }
   ],
   "source": [
    "tot_voucher_amount.describe()"
   ]
  },
  {
   "cell_type": "code",
   "execution_count": 53,
   "metadata": {},
   "outputs": [
    {
     "name": "stdout",
     "output_type": "stream",
     "text": [
      "<class 'pandas.core.frame.DataFrame'>\n",
      "Index: 245453 entries, 000097eabfd9 to ffffccbfc8a4\n",
      "Data columns (total 7 columns):\n",
      " #   Column                   Non-Null Count   Dtype  \n",
      "---  ------                   --------------   -----  \n",
      " 0   last_order_age_days      245453 non-null  int64  \n",
      " 1   first_order_age_days     245453 non-null  int64  \n",
      " 2   n_orders                 245453 non-null  int64  \n",
      " 3   max_customer_order_rank  245453 non-null  int64  \n",
      " 4   n_failed                 245453 non-null  int64  \n",
      " 5   max_voucher_amount       245453 non-null  float64\n",
      " 6   tot_voucher_amount       245453 non-null  float64\n",
      "dtypes: float64(2), int64(5)\n",
      "memory usage: 25.0+ MB\n"
     ]
    }
   ],
   "source": [
    "customer_features = customer_features.join(tot_voucher_amount)\n",
    "customer_features.info()"
   ]
  },
  {
   "cell_type": "code",
   "execution_count": 54,
   "metadata": {},
   "outputs": [],
   "source": [
    "n_vouchers = (orders_table['voucher_amount']>0).groupby(orders_table['customer_id']).sum()\n",
    "n_vouchers.name = 'n_vouchers'"
   ]
  },
  {
   "cell_type": "code",
   "execution_count": 55,
   "metadata": {},
   "outputs": [
    {
     "data": {
      "text/plain": [
       "count    245453.000000\n",
       "mean          0.175728\n",
       "std           1.024720\n",
       "min           0.000000\n",
       "25%           0.000000\n",
       "50%           0.000000\n",
       "75%           0.000000\n",
       "max          98.000000\n",
       "Name: n_vouchers, dtype: float64"
      ]
     },
     "execution_count": 55,
     "metadata": {},
     "output_type": "execute_result"
    }
   ],
   "source": [
    "n_vouchers.describe()"
   ]
  },
  {
   "cell_type": "code",
   "execution_count": 56,
   "metadata": {},
   "outputs": [],
   "source": [
    "customer_features = customer_features.join(n_vouchers)"
   ]
  },
  {
   "cell_type": "code",
   "execution_count": 57,
   "metadata": {},
   "outputs": [
    {
     "name": "stdout",
     "output_type": "stream",
     "text": [
      "<class 'pandas.core.frame.DataFrame'>\n",
      "Index: 245453 entries, 000097eabfd9 to ffffccbfc8a4\n",
      "Data columns (total 8 columns):\n",
      " #   Column                   Non-Null Count   Dtype  \n",
      "---  ------                   --------------   -----  \n",
      " 0   last_order_age_days      245453 non-null  int64  \n",
      " 1   first_order_age_days     245453 non-null  int64  \n",
      " 2   n_orders                 245453 non-null  int64  \n",
      " 3   max_customer_order_rank  245453 non-null  int64  \n",
      " 4   n_failed                 245453 non-null  int64  \n",
      " 5   max_voucher_amount       245453 non-null  float64\n",
      " 6   tot_voucher_amount       245453 non-null  float64\n",
      " 7   n_vouchers               245453 non-null  int64  \n",
      "dtypes: float64(2), int64(6)\n",
      "memory usage: 26.9+ MB\n"
     ]
    }
   ],
   "source": [
    "customer_features.info()"
   ]
  },
  {
   "cell_type": "markdown",
   "metadata": {},
   "source": [
    "### Delivery fee\n",
    "\n",
    "here we follow an identical procedure as for vouchers."
   ]
  },
  {
   "cell_type": "code",
   "execution_count": 58,
   "metadata": {},
   "outputs": [],
   "source": [
    "tot_delivery_fee = orders_table.groupby('customer_id')['delivery_fee'].sum()\n",
    "max_delivery_fee = orders_table.groupby('customer_id')['delivery_fee'].max()\n",
    "# How many times a delivery fee was paid\n",
    "n_delivery_fee = (orders_table['delivery_fee']>0).groupby(orders_table['customer_id']).sum()"
   ]
  },
  {
   "cell_type": "code",
   "execution_count": 59,
   "metadata": {},
   "outputs": [],
   "source": [
    "tot_delivery_fee.name = 'tot_delivery_fee'\n",
    "max_delivery_fee.name = 'max_delivery_fee'\n",
    "n_delivery_fee.name = 'n_delivery_fee'"
   ]
  },
  {
   "cell_type": "code",
   "execution_count": 60,
   "metadata": {},
   "outputs": [
    {
     "name": "stdout",
     "output_type": "stream",
     "text": [
      "<class 'pandas.core.frame.DataFrame'>\n",
      "Index: 245453 entries, 000097eabfd9 to ffffccbfc8a4\n",
      "Data columns (total 11 columns):\n",
      " #   Column                   Non-Null Count   Dtype  \n",
      "---  ------                   --------------   -----  \n",
      " 0   last_order_age_days      245453 non-null  int64  \n",
      " 1   first_order_age_days     245453 non-null  int64  \n",
      " 2   n_orders                 245453 non-null  int64  \n",
      " 3   max_customer_order_rank  245453 non-null  int64  \n",
      " 4   n_failed                 245453 non-null  int64  \n",
      " 5   max_voucher_amount       245453 non-null  float64\n",
      " 6   tot_voucher_amount       245453 non-null  float64\n",
      " 7   n_vouchers               245453 non-null  int64  \n",
      " 8   tot_delivery_fee         245453 non-null  float64\n",
      " 9   max_delivery_fee         245453 non-null  float64\n",
      " 10  n_delivery_fee           245453 non-null  int64  \n",
      "dtypes: float64(4), int64(7)\n",
      "memory usage: 32.5+ MB\n"
     ]
    }
   ],
   "source": [
    "customer_features = customer_features.join(tot_delivery_fee)\n",
    "customer_features = customer_features.join(max_delivery_fee)\n",
    "customer_features = customer_features.join(n_delivery_fee)\n",
    "customer_features.info()"
   ]
  },
  {
   "cell_type": "markdown",
   "metadata": {},
   "source": [
    "### Amount paid\n",
    "\n",
    "Here we can use the average amount paid on top of everything else."
   ]
  },
  {
   "cell_type": "code",
   "execution_count": 61,
   "metadata": {},
   "outputs": [],
   "source": [
    "tot_amount_paid = orders_table.groupby('customer_id')['amount_paid'].sum()\n",
    "avg_amount_paid = orders_table.groupby('customer_id')['amount_paid'].mean()\n",
    "max_amount_paid = orders_table.groupby('customer_id')['amount_paid'].max()\n",
    "min_amount_paid = orders_table.groupby('customer_id')['amount_paid'].min()"
   ]
  },
  {
   "cell_type": "code",
   "execution_count": 62,
   "metadata": {},
   "outputs": [],
   "source": [
    "tot_amount_paid.name = 'tot_amount_paid'\n",
    "avg_amount_paid.name = 'avg_amount_paid'\n",
    "max_amount_paid.name = 'max_amount_paid'\n",
    "min_amount_paid.name = 'min_amount_paid'"
   ]
  },
  {
   "cell_type": "code",
   "execution_count": 63,
   "metadata": {},
   "outputs": [],
   "source": [
    "customer_features = customer_features.join(tot_amount_paid)\n",
    "customer_features = customer_features.join(avg_amount_paid)\n",
    "customer_features = customer_features.join(max_amount_paid)\n",
    "customer_features = customer_features.join(min_amount_paid)"
   ]
  },
  {
   "cell_type": "code",
   "execution_count": 64,
   "metadata": {},
   "outputs": [
    {
     "name": "stdout",
     "output_type": "stream",
     "text": [
      "<class 'pandas.core.frame.DataFrame'>\n",
      "Index: 245453 entries, 000097eabfd9 to ffffccbfc8a4\n",
      "Data columns (total 15 columns):\n",
      " #   Column                   Non-Null Count   Dtype  \n",
      "---  ------                   --------------   -----  \n",
      " 0   last_order_age_days      245453 non-null  int64  \n",
      " 1   first_order_age_days     245453 non-null  int64  \n",
      " 2   n_orders                 245453 non-null  int64  \n",
      " 3   max_customer_order_rank  245453 non-null  int64  \n",
      " 4   n_failed                 245453 non-null  int64  \n",
      " 5   max_voucher_amount       245453 non-null  float64\n",
      " 6   tot_voucher_amount       245453 non-null  float64\n",
      " 7   n_vouchers               245453 non-null  int64  \n",
      " 8   tot_delivery_fee         245453 non-null  float64\n",
      " 9   max_delivery_fee         245453 non-null  float64\n",
      " 10  n_delivery_fee           245453 non-null  int64  \n",
      " 11  tot_amount_paid          245453 non-null  float64\n",
      " 12  avg_amount_paid          245453 non-null  float64\n",
      " 13  max_amount_paid          245453 non-null  float64\n",
      " 14  min_amount_paid          245453 non-null  float64\n",
      "dtypes: float64(8), int64(7)\n",
      "memory usage: 40.0+ MB\n"
     ]
    }
   ],
   "source": [
    "customer_features.info()"
   ]
  },
  {
   "cell_type": "markdown",
   "metadata": {},
   "source": [
    "### Restaurant ID\n",
    "\n",
    "Categorical variables lend themselves naturally to produce dummy variables."
   ]
  },
  {
   "cell_type": "code",
   "execution_count": 65,
   "metadata": {},
   "outputs": [
    {
     "data": {
      "text/plain": [
       "customer_id\n",
       "000097eabfd9    1\n",
       "0000e2c6d9be    1\n",
       "000133bb597f    1\n",
       "00018269939b    1\n",
       "0001a00468a6    1\n",
       "               ..\n",
       "fffd696eaedd    1\n",
       "fffe9d5a8d41    2\n",
       "ffff347c3cfa    2\n",
       "ffff4519b52d    1\n",
       "ffffccbfc8a4    1\n",
       "Name: n_restaurants, Length: 245453, dtype: int64"
      ]
     },
     "execution_count": 65,
     "metadata": {},
     "output_type": "execute_result"
    }
   ],
   "source": [
    "n_restaurants = orders_table.groupby('customer_id')['restaurant_id'].nunique()\n",
    "n_restaurants.name = 'n_restaurants'\n",
    "n_restaurants"
   ]
  },
  {
   "cell_type": "code",
   "execution_count": 66,
   "metadata": {},
   "outputs": [
    {
     "data": {
      "text/plain": [
       "count    245453.000000\n",
       "mean          1.760740\n",
       "std           1.843813\n",
       "min           1.000000\n",
       "25%           1.000000\n",
       "50%           1.000000\n",
       "75%           2.000000\n",
       "max          51.000000\n",
       "Name: n_restaurants, dtype: float64"
      ]
     },
     "execution_count": 66,
     "metadata": {},
     "output_type": "execute_result"
    }
   ],
   "source": [
    "n_restaurants.describe()"
   ]
  },
  {
   "cell_type": "code",
   "execution_count": 67,
   "metadata": {},
   "outputs": [
    {
     "name": "stdout",
     "output_type": "stream",
     "text": [
      "<class 'pandas.core.frame.DataFrame'>\n",
      "Index: 245453 entries, 000097eabfd9 to ffffccbfc8a4\n",
      "Data columns (total 16 columns):\n",
      " #   Column                   Non-Null Count   Dtype  \n",
      "---  ------                   --------------   -----  \n",
      " 0   last_order_age_days      245453 non-null  int64  \n",
      " 1   first_order_age_days     245453 non-null  int64  \n",
      " 2   n_orders                 245453 non-null  int64  \n",
      " 3   max_customer_order_rank  245453 non-null  int64  \n",
      " 4   n_failed                 245453 non-null  int64  \n",
      " 5   max_voucher_amount       245453 non-null  float64\n",
      " 6   tot_voucher_amount       245453 non-null  float64\n",
      " 7   n_vouchers               245453 non-null  int64  \n",
      " 8   tot_delivery_fee         245453 non-null  float64\n",
      " 9   max_delivery_fee         245453 non-null  float64\n",
      " 10  n_delivery_fee           245453 non-null  int64  \n",
      " 11  tot_amount_paid          245453 non-null  float64\n",
      " 12  avg_amount_paid          245453 non-null  float64\n",
      " 13  max_amount_paid          245453 non-null  float64\n",
      " 14  min_amount_paid          245453 non-null  float64\n",
      " 15  n_restaurants            245453 non-null  int64  \n",
      "dtypes: float64(8), int64(8)\n",
      "memory usage: 41.8+ MB\n"
     ]
    }
   ],
   "source": [
    "customer_features = customer_features.join(n_restaurants)\n",
    "customer_features.info()"
   ]
  },
  {
   "cell_type": "markdown",
   "metadata": {},
   "source": [
    "#### Dummy variables"
   ]
  },
  {
   "cell_type": "code",
   "execution_count": 68,
   "metadata": {},
   "outputs": [],
   "source": [
    "col_name = 'restaurant_id'\n",
    "rest_id_dummies = pd.get_dummies(\n",
    "    orders_table[col_name],\n",
    "    prefix=col_name,\n",
    "    sparse=True,\n",
    ")"
   ]
  },
  {
   "cell_type": "code",
   "execution_count": 69,
   "metadata": {},
   "outputs": [
    {
     "name": "stdout",
     "output_type": "stream",
     "text": [
      "<class 'pandas.core.frame.DataFrame'>\n",
      "RangeIndex: 786547 entries, 0 to 786546\n",
      "Columns: 13569 entries, restaurant_id_73498 to restaurant_id_340453498\n",
      "dtypes: Sparse[uint8, 0](13569)\n",
      "memory usage: 3.8 MB\n"
     ]
    }
   ],
   "source": [
    "rest_id_dummies.info()"
   ]
  },
  {
   "cell_type": "code",
   "execution_count": 70,
   "metadata": {},
   "outputs": [],
   "source": [
    "orders_features[rest_id_dummies.columns] = rest_id_dummies"
   ]
  },
  {
   "cell_type": "code",
   "execution_count": 71,
   "metadata": {},
   "outputs": [
    {
     "name": "stdout",
     "output_type": "stream",
     "text": [
      "<class 'pandas.core.frame.DataFrame'>\n",
      "RangeIndex: 786547 entries, 0 to 786546\n",
      "Columns: 13604 entries, customer_id to restaurant_id_340453498\n",
      "dtypes: Sparse[uint8, 0](13569), bool(1), int64(2), object(1), uint8(31)\n",
      "memory usage: 45.8+ MB\n"
     ]
    }
   ],
   "source": [
    "orders_features.info()"
   ]
  },
  {
   "cell_type": "code",
   "execution_count": 72,
   "metadata": {},
   "outputs": [
    {
     "data": {
      "text/html": [
       "<div>\n",
       "<style scoped>\n",
       "    .dataframe tbody tr th:only-of-type {\n",
       "        vertical-align: middle;\n",
       "    }\n",
       "\n",
       "    .dataframe tbody tr th {\n",
       "        vertical-align: top;\n",
       "    }\n",
       "\n",
       "    .dataframe thead th {\n",
       "        text-align: right;\n",
       "    }\n",
       "</style>\n",
       "<table border=\"1\" class=\"dataframe\">\n",
       "  <thead>\n",
       "    <tr style=\"text-align: right;\">\n",
       "      <th></th>\n",
       "      <th>customer_id</th>\n",
       "      <th>hour_of_day</th>\n",
       "      <th>day_of_week</th>\n",
       "      <th>is_holiday</th>\n",
       "      <th>hour_of_day_0</th>\n",
       "      <th>hour_of_day_1</th>\n",
       "      <th>hour_of_day_2</th>\n",
       "      <th>hour_of_day_3</th>\n",
       "      <th>hour_of_day_4</th>\n",
       "      <th>hour_of_day_5</th>\n",
       "      <th>...</th>\n",
       "      <th>restaurant_id_339593498</th>\n",
       "      <th>restaurant_id_339713498</th>\n",
       "      <th>restaurant_id_339763498</th>\n",
       "      <th>restaurant_id_339773498</th>\n",
       "      <th>restaurant_id_339823498</th>\n",
       "      <th>restaurant_id_339913498</th>\n",
       "      <th>restaurant_id_339983498</th>\n",
       "      <th>restaurant_id_340033498</th>\n",
       "      <th>restaurant_id_340093498</th>\n",
       "      <th>restaurant_id_340453498</th>\n",
       "    </tr>\n",
       "  </thead>\n",
       "  <tbody>\n",
       "    <tr>\n",
       "      <th>0</th>\n",
       "      <td>000097eabfd9</td>\n",
       "      <td>19</td>\n",
       "      <td>5</td>\n",
       "      <td>False</td>\n",
       "      <td>0</td>\n",
       "      <td>0</td>\n",
       "      <td>0</td>\n",
       "      <td>0</td>\n",
       "      <td>0</td>\n",
       "      <td>0</td>\n",
       "      <td>...</td>\n",
       "      <td>0</td>\n",
       "      <td>0</td>\n",
       "      <td>0</td>\n",
       "      <td>0</td>\n",
       "      <td>0</td>\n",
       "      <td>0</td>\n",
       "      <td>0</td>\n",
       "      <td>0</td>\n",
       "      <td>0</td>\n",
       "      <td>0</td>\n",
       "    </tr>\n",
       "    <tr>\n",
       "      <th>1</th>\n",
       "      <td>0000e2c6d9be</td>\n",
       "      <td>20</td>\n",
       "      <td>4</td>\n",
       "      <td>False</td>\n",
       "      <td>0</td>\n",
       "      <td>0</td>\n",
       "      <td>0</td>\n",
       "      <td>0</td>\n",
       "      <td>0</td>\n",
       "      <td>0</td>\n",
       "      <td>...</td>\n",
       "      <td>0</td>\n",
       "      <td>0</td>\n",
       "      <td>0</td>\n",
       "      <td>0</td>\n",
       "      <td>0</td>\n",
       "      <td>0</td>\n",
       "      <td>0</td>\n",
       "      <td>0</td>\n",
       "      <td>0</td>\n",
       "      <td>0</td>\n",
       "    </tr>\n",
       "    <tr>\n",
       "      <th>2</th>\n",
       "      <td>000133bb597f</td>\n",
       "      <td>19</td>\n",
       "      <td>6</td>\n",
       "      <td>False</td>\n",
       "      <td>0</td>\n",
       "      <td>0</td>\n",
       "      <td>0</td>\n",
       "      <td>0</td>\n",
       "      <td>0</td>\n",
       "      <td>0</td>\n",
       "      <td>...</td>\n",
       "      <td>0</td>\n",
       "      <td>0</td>\n",
       "      <td>0</td>\n",
       "      <td>0</td>\n",
       "      <td>0</td>\n",
       "      <td>0</td>\n",
       "      <td>0</td>\n",
       "      <td>0</td>\n",
       "      <td>0</td>\n",
       "      <td>0</td>\n",
       "    </tr>\n",
       "    <tr>\n",
       "      <th>3</th>\n",
       "      <td>00018269939b</td>\n",
       "      <td>17</td>\n",
       "      <td>6</td>\n",
       "      <td>False</td>\n",
       "      <td>0</td>\n",
       "      <td>0</td>\n",
       "      <td>0</td>\n",
       "      <td>0</td>\n",
       "      <td>0</td>\n",
       "      <td>0</td>\n",
       "      <td>...</td>\n",
       "      <td>0</td>\n",
       "      <td>0</td>\n",
       "      <td>0</td>\n",
       "      <td>0</td>\n",
       "      <td>0</td>\n",
       "      <td>0</td>\n",
       "      <td>0</td>\n",
       "      <td>0</td>\n",
       "      <td>0</td>\n",
       "      <td>0</td>\n",
       "    </tr>\n",
       "    <tr>\n",
       "      <th>4</th>\n",
       "      <td>0001a00468a6</td>\n",
       "      <td>19</td>\n",
       "      <td>1</td>\n",
       "      <td>False</td>\n",
       "      <td>0</td>\n",
       "      <td>0</td>\n",
       "      <td>0</td>\n",
       "      <td>0</td>\n",
       "      <td>0</td>\n",
       "      <td>0</td>\n",
       "      <td>...</td>\n",
       "      <td>0</td>\n",
       "      <td>0</td>\n",
       "      <td>0</td>\n",
       "      <td>0</td>\n",
       "      <td>0</td>\n",
       "      <td>0</td>\n",
       "      <td>0</td>\n",
       "      <td>0</td>\n",
       "      <td>0</td>\n",
       "      <td>0</td>\n",
       "    </tr>\n",
       "  </tbody>\n",
       "</table>\n",
       "<p>5 rows × 13604 columns</p>\n",
       "</div>"
      ],
      "text/plain": [
       "    customer_id  hour_of_day  day_of_week  is_holiday  hour_of_day_0  \\\n",
       "0  000097eabfd9           19            5       False              0   \n",
       "1  0000e2c6d9be           20            4       False              0   \n",
       "2  000133bb597f           19            6       False              0   \n",
       "3  00018269939b           17            6       False              0   \n",
       "4  0001a00468a6           19            1       False              0   \n",
       "\n",
       "   hour_of_day_1  hour_of_day_2  hour_of_day_3  hour_of_day_4  hour_of_day_5  \\\n",
       "0              0              0              0              0              0   \n",
       "1              0              0              0              0              0   \n",
       "2              0              0              0              0              0   \n",
       "3              0              0              0              0              0   \n",
       "4              0              0              0              0              0   \n",
       "\n",
       "   ...  restaurant_id_339593498  restaurant_id_339713498  \\\n",
       "0  ...                        0                        0   \n",
       "1  ...                        0                        0   \n",
       "2  ...                        0                        0   \n",
       "3  ...                        0                        0   \n",
       "4  ...                        0                        0   \n",
       "\n",
       "   restaurant_id_339763498  restaurant_id_339773498  restaurant_id_339823498  \\\n",
       "0                        0                        0                        0   \n",
       "1                        0                        0                        0   \n",
       "2                        0                        0                        0   \n",
       "3                        0                        0                        0   \n",
       "4                        0                        0                        0   \n",
       "\n",
       "   restaurant_id_339913498  restaurant_id_339983498  restaurant_id_340033498  \\\n",
       "0                        0                        0                        0   \n",
       "1                        0                        0                        0   \n",
       "2                        0                        0                        0   \n",
       "3                        0                        0                        0   \n",
       "4                        0                        0                        0   \n",
       "\n",
       "   restaurant_id_340093498  restaurant_id_340453498  \n",
       "0                        0                        0  \n",
       "1                        0                        0  \n",
       "2                        0                        0  \n",
       "3                        0                        0  \n",
       "4                        0                        0  \n",
       "\n",
       "[5 rows x 13604 columns]"
      ]
     },
     "execution_count": 72,
     "metadata": {},
     "output_type": "execute_result"
    }
   ],
   "source": [
    "orders_features.head()"
   ]
  },
  {
   "cell_type": "markdown",
   "metadata": {},
   "source": [
    "### City ID"
   ]
  },
  {
   "cell_type": "code",
   "execution_count": 73,
   "metadata": {},
   "outputs": [
    {
     "data": {
      "text/plain": [
       "customer_id\n",
       "000097eabfd9    1\n",
       "0000e2c6d9be    1\n",
       "000133bb597f    1\n",
       "00018269939b    1\n",
       "0001a00468a6    1\n",
       "               ..\n",
       "fffd696eaedd    1\n",
       "fffe9d5a8d41    1\n",
       "ffff347c3cfa    1\n",
       "ffff4519b52d    1\n",
       "ffffccbfc8a4    1\n",
       "Name: n_cities, Length: 245453, dtype: int64"
      ]
     },
     "execution_count": 73,
     "metadata": {},
     "output_type": "execute_result"
    }
   ],
   "source": [
    "n_cities = orders_table.groupby('customer_id')['city_id'].nunique()\n",
    "n_cities.name = 'n_cities'\n",
    "n_cities"
   ]
  },
  {
   "cell_type": "code",
   "execution_count": 74,
   "metadata": {},
   "outputs": [
    {
     "data": {
      "text/plain": [
       "count    245453.000000\n",
       "mean          1.044888\n",
       "std           0.263277\n",
       "min           1.000000\n",
       "25%           1.000000\n",
       "50%           1.000000\n",
       "75%           1.000000\n",
       "max          26.000000\n",
       "Name: n_cities, dtype: float64"
      ]
     },
     "execution_count": 74,
     "metadata": {},
     "output_type": "execute_result"
    }
   ],
   "source": [
    "n_cities.describe()"
   ]
  },
  {
   "cell_type": "code",
   "execution_count": 75,
   "metadata": {},
   "outputs": [],
   "source": [
    "customer_features = customer_features.join(n_cities)"
   ]
  },
  {
   "cell_type": "code",
   "execution_count": 76,
   "metadata": {},
   "outputs": [
    {
     "name": "stdout",
     "output_type": "stream",
     "text": [
      "<class 'pandas.core.frame.DataFrame'>\n",
      "Index: 245453 entries, 000097eabfd9 to ffffccbfc8a4\n",
      "Data columns (total 17 columns):\n",
      " #   Column                   Non-Null Count   Dtype  \n",
      "---  ------                   --------------   -----  \n",
      " 0   last_order_age_days      245453 non-null  int64  \n",
      " 1   first_order_age_days     245453 non-null  int64  \n",
      " 2   n_orders                 245453 non-null  int64  \n",
      " 3   max_customer_order_rank  245453 non-null  int64  \n",
      " 4   n_failed                 245453 non-null  int64  \n",
      " 5   max_voucher_amount       245453 non-null  float64\n",
      " 6   tot_voucher_amount       245453 non-null  float64\n",
      " 7   n_vouchers               245453 non-null  int64  \n",
      " 8   tot_delivery_fee         245453 non-null  float64\n",
      " 9   max_delivery_fee         245453 non-null  float64\n",
      " 10  n_delivery_fee           245453 non-null  int64  \n",
      " 11  tot_amount_paid          245453 non-null  float64\n",
      " 12  avg_amount_paid          245453 non-null  float64\n",
      " 13  max_amount_paid          245453 non-null  float64\n",
      " 14  min_amount_paid          245453 non-null  float64\n",
      " 15  n_restaurants            245453 non-null  int64  \n",
      " 16  n_cities                 245453 non-null  int64  \n",
      "dtypes: float64(8), int64(9)\n",
      "memory usage: 43.7+ MB\n"
     ]
    }
   ],
   "source": [
    "customer_features.info()"
   ]
  },
  {
   "cell_type": "markdown",
   "metadata": {},
   "source": [
    "#### Dummy vars"
   ]
  },
  {
   "cell_type": "code",
   "execution_count": 77,
   "metadata": {},
   "outputs": [],
   "source": [
    "col_name = 'city_id'\n",
    "city_id_dummies = pd.get_dummies(\n",
    "    orders_table[col_name],\n",
    "    prefix=col_name,\n",
    "    sparse=True,\n",
    ")"
   ]
  },
  {
   "cell_type": "code",
   "execution_count": 78,
   "metadata": {},
   "outputs": [
    {
     "name": "stdout",
     "output_type": "stream",
     "text": [
      "<class 'pandas.core.frame.DataFrame'>\n",
      "RangeIndex: 786547 entries, 0 to 786546\n",
      "Columns: 3749 entries, city_id_230 to city_id_100205\n",
      "dtypes: Sparse[uint8, 0](3749)\n",
      "memory usage: 3.8 MB\n"
     ]
    }
   ],
   "source": [
    "city_id_dummies.info()"
   ]
  },
  {
   "cell_type": "code",
   "execution_count": 79,
   "metadata": {},
   "outputs": [],
   "source": [
    "orders_features[city_id_dummies.columns] = city_id_dummies"
   ]
  },
  {
   "cell_type": "code",
   "execution_count": 80,
   "metadata": {},
   "outputs": [
    {
     "name": "stdout",
     "output_type": "stream",
     "text": [
      "<class 'pandas.core.frame.DataFrame'>\n",
      "RangeIndex: 786547 entries, 0 to 786546\n",
      "Columns: 17353 entries, customer_id to city_id_100205\n",
      "dtypes: Sparse[uint8, 0](17318), bool(1), int64(2), object(1), uint8(31)\n",
      "memory usage: 49.5+ MB\n"
     ]
    }
   ],
   "source": [
    "orders_features.info()"
   ]
  },
  {
   "cell_type": "markdown",
   "metadata": {},
   "source": [
    "### Payment ID"
   ]
  },
  {
   "cell_type": "code",
   "execution_count": 81,
   "metadata": {},
   "outputs": [],
   "source": [
    "col_name = 'payment_id'\n",
    "payment_id_dummies = pd.get_dummies(\n",
    "    orders_table[col_name],\n",
    "    prefix=col_name,\n",
    "    sparse=True,\n",
    ")"
   ]
  },
  {
   "cell_type": "code",
   "execution_count": 82,
   "metadata": {},
   "outputs": [
    {
     "name": "stdout",
     "output_type": "stream",
     "text": [
      "<class 'pandas.core.frame.DataFrame'>\n",
      "RangeIndex: 786547 entries, 0 to 786546\n",
      "Data columns (total 5 columns):\n",
      " #   Column           Non-Null Count   Dtype           \n",
      "---  ------           --------------   -----           \n",
      " 0   payment_id_1491  786547 non-null  Sparse[uint8, 0]\n",
      " 1   payment_id_1523  786547 non-null  Sparse[uint8, 0]\n",
      " 2   payment_id_1619  786547 non-null  Sparse[uint8, 0]\n",
      " 3   payment_id_1779  786547 non-null  Sparse[uint8, 0]\n",
      " 4   payment_id_1811  786547 non-null  Sparse[uint8, 0]\n",
      "dtypes: Sparse[uint8, 0](5)\n",
      "memory usage: 3.8 MB\n"
     ]
    }
   ],
   "source": [
    "payment_id_dummies.info()"
   ]
  },
  {
   "cell_type": "code",
   "execution_count": 83,
   "metadata": {},
   "outputs": [],
   "source": [
    "orders_features[payment_id_dummies.columns] = payment_id_dummies"
   ]
  },
  {
   "cell_type": "code",
   "execution_count": 84,
   "metadata": {},
   "outputs": [
    {
     "name": "stdout",
     "output_type": "stream",
     "text": [
      "<class 'pandas.core.frame.DataFrame'>\n",
      "RangeIndex: 786547 entries, 0 to 786546\n",
      "Columns: 17358 entries, customer_id to payment_id_1811\n",
      "dtypes: Sparse[uint8, 0](17323), bool(1), int64(2), object(1), uint8(31)\n",
      "memory usage: 53.3+ MB\n"
     ]
    }
   ],
   "source": [
    "orders_features.info()"
   ]
  },
  {
   "cell_type": "markdown",
   "metadata": {},
   "source": [
    "### Platform ID"
   ]
  },
  {
   "cell_type": "code",
   "execution_count": 85,
   "metadata": {},
   "outputs": [],
   "source": [
    "col_name = 'platform_id'\n",
    "platform_id_dummies = pd.get_dummies(\n",
    "    orders_table[col_name],\n",
    "    prefix=col_name,\n",
    "    sparse=True,\n",
    ")"
   ]
  },
  {
   "cell_type": "code",
   "execution_count": 86,
   "metadata": {},
   "outputs": [
    {
     "name": "stdout",
     "output_type": "stream",
     "text": [
      "<class 'pandas.core.frame.DataFrame'>\n",
      "RangeIndex: 786547 entries, 0 to 786546\n",
      "Data columns (total 14 columns):\n",
      " #   Column             Non-Null Count   Dtype           \n",
      "---  ------             --------------   -----           \n",
      " 0   platform_id_525    786547 non-null  Sparse[uint8, 0]\n",
      " 1   platform_id_22167  786547 non-null  Sparse[uint8, 0]\n",
      " 2   platform_id_22263  786547 non-null  Sparse[uint8, 0]\n",
      " 3   platform_id_22295  786547 non-null  Sparse[uint8, 0]\n",
      " 4   platform_id_29463  786547 non-null  Sparse[uint8, 0]\n",
      " 5   platform_id_29495  786547 non-null  Sparse[uint8, 0]\n",
      " 6   platform_id_29751  786547 non-null  Sparse[uint8, 0]\n",
      " 7   platform_id_29815  786547 non-null  Sparse[uint8, 0]\n",
      " 8   platform_id_30135  786547 non-null  Sparse[uint8, 0]\n",
      " 9   platform_id_30199  786547 non-null  Sparse[uint8, 0]\n",
      " 10  platform_id_30231  786547 non-null  Sparse[uint8, 0]\n",
      " 11  platform_id_30359  786547 non-null  Sparse[uint8, 0]\n",
      " 12  platform_id_30391  786547 non-null  Sparse[uint8, 0]\n",
      " 13  platform_id_30423  786547 non-null  Sparse[uint8, 0]\n",
      "dtypes: Sparse[uint8, 0](14)\n",
      "memory usage: 3.8 MB\n"
     ]
    }
   ],
   "source": [
    "platform_id_dummies.info()"
   ]
  },
  {
   "cell_type": "code",
   "execution_count": 87,
   "metadata": {},
   "outputs": [],
   "source": [
    "orders_features[platform_id_dummies.columns] = platform_id_dummies"
   ]
  },
  {
   "cell_type": "code",
   "execution_count": 88,
   "metadata": {},
   "outputs": [
    {
     "name": "stdout",
     "output_type": "stream",
     "text": [
      "<class 'pandas.core.frame.DataFrame'>\n",
      "RangeIndex: 786547 entries, 0 to 786546\n",
      "Columns: 17372 entries, customer_id to platform_id_30423\n",
      "dtypes: Sparse[uint8, 0](17337), bool(1), int64(2), object(1), uint8(31)\n",
      "memory usage: 57.0+ MB\n"
     ]
    }
   ],
   "source": [
    "orders_features.info()"
   ]
  },
  {
   "cell_type": "markdown",
   "metadata": {},
   "source": [
    "### Transmission ID"
   ]
  },
  {
   "cell_type": "code",
   "execution_count": 89,
   "metadata": {},
   "outputs": [],
   "source": [
    "col_name = 'transmission_id'\n",
    "transmission_id_dummies = pd.get_dummies(\n",
    "    orders_table[col_name],\n",
    "    prefix=col_name,\n",
    "    sparse=True,\n",
    ")"
   ]
  },
  {
   "cell_type": "code",
   "execution_count": 90,
   "metadata": {},
   "outputs": [
    {
     "name": "stdout",
     "output_type": "stream",
     "text": [
      "<class 'pandas.core.frame.DataFrame'>\n",
      "RangeIndex: 786547 entries, 0 to 786546\n",
      "Data columns (total 10 columns):\n",
      " #   Column                 Non-Null Count   Dtype           \n",
      "---  ------                 --------------   -----           \n",
      " 0   transmission_id_212    786547 non-null  Sparse[uint8, 0]\n",
      " 1   transmission_id_1988   786547 non-null  Sparse[uint8, 0]\n",
      " 2   transmission_id_2020   786547 non-null  Sparse[uint8, 0]\n",
      " 3   transmission_id_4196   786547 non-null  Sparse[uint8, 0]\n",
      " 4   transmission_id_4228   786547 non-null  Sparse[uint8, 0]\n",
      " 5   transmission_id_4260   786547 non-null  Sparse[uint8, 0]\n",
      " 6   transmission_id_4324   786547 non-null  Sparse[uint8, 0]\n",
      " 7   transmission_id_4356   786547 non-null  Sparse[uint8, 0]\n",
      " 8   transmission_id_4996   786547 non-null  Sparse[uint8, 0]\n",
      " 9   transmission_id_21124  786547 non-null  Sparse[uint8, 0]\n",
      "dtypes: Sparse[uint8, 0](10)\n",
      "memory usage: 3.8 MB\n"
     ]
    }
   ],
   "source": [
    "transmission_id_dummies.info()"
   ]
  },
  {
   "cell_type": "code",
   "execution_count": 91,
   "metadata": {},
   "outputs": [],
   "source": [
    "orders_features[transmission_id_dummies.columns] = transmission_id_dummies"
   ]
  },
  {
   "cell_type": "code",
   "execution_count": 92,
   "metadata": {},
   "outputs": [
    {
     "name": "stdout",
     "output_type": "stream",
     "text": [
      "<class 'pandas.core.frame.DataFrame'>\n",
      "RangeIndex: 786547 entries, 0 to 786546\n",
      "Columns: 17382 entries, customer_id to transmission_id_21124\n",
      "dtypes: Sparse[uint8, 0](17347), bool(1), int64(2), object(1), uint8(31)\n",
      "memory usage: 60.8+ MB\n"
     ]
    }
   ],
   "source": [
    "orders_features.info()"
   ]
  },
  {
   "cell_type": "markdown",
   "metadata": {},
   "source": [
    "### Store data\n",
    "\n",
    "This time a space-efficient format is preferrable."
   ]
  },
  {
   "cell_type": "code",
   "execution_count": 97,
   "metadata": {},
   "outputs": [
    {
     "data": {
      "text/html": [
       "<div>\n",
       "<style scoped>\n",
       "    .dataframe tbody tr th:only-of-type {\n",
       "        vertical-align: middle;\n",
       "    }\n",
       "\n",
       "    .dataframe tbody tr th {\n",
       "        vertical-align: top;\n",
       "    }\n",
       "\n",
       "    .dataframe thead th {\n",
       "        text-align: right;\n",
       "    }\n",
       "</style>\n",
       "<table border=\"1\" class=\"dataframe\">\n",
       "  <thead>\n",
       "    <tr style=\"text-align: right;\">\n",
       "      <th></th>\n",
       "      <th>last_order_age_days</th>\n",
       "      <th>first_order_age_days</th>\n",
       "      <th>n_orders</th>\n",
       "      <th>max_customer_order_rank</th>\n",
       "      <th>n_failed</th>\n",
       "      <th>max_voucher_amount</th>\n",
       "      <th>tot_voucher_amount</th>\n",
       "      <th>n_vouchers</th>\n",
       "      <th>tot_delivery_fee</th>\n",
       "      <th>max_delivery_fee</th>\n",
       "      <th>n_delivery_fee</th>\n",
       "      <th>tot_amount_paid</th>\n",
       "      <th>avg_amount_paid</th>\n",
       "      <th>max_amount_paid</th>\n",
       "      <th>min_amount_paid</th>\n",
       "      <th>n_restaurants</th>\n",
       "      <th>n_cities</th>\n",
       "    </tr>\n",
       "    <tr>\n",
       "      <th>customer_id</th>\n",
       "      <th></th>\n",
       "      <th></th>\n",
       "      <th></th>\n",
       "      <th></th>\n",
       "      <th></th>\n",
       "      <th></th>\n",
       "      <th></th>\n",
       "      <th></th>\n",
       "      <th></th>\n",
       "      <th></th>\n",
       "      <th></th>\n",
       "      <th></th>\n",
       "      <th></th>\n",
       "      <th></th>\n",
       "      <th></th>\n",
       "      <th></th>\n",
       "      <th></th>\n",
       "    </tr>\n",
       "  </thead>\n",
       "  <tbody>\n",
       "    <tr>\n",
       "      <th>000097eabfd9</th>\n",
       "      <td>618</td>\n",
       "      <td>618</td>\n",
       "      <td>1</td>\n",
       "      <td>1</td>\n",
       "      <td>0</td>\n",
       "      <td>0.0</td>\n",
       "      <td>0.0</td>\n",
       "      <td>0</td>\n",
       "      <td>0.0000</td>\n",
       "      <td>0.0000</td>\n",
       "      <td>0</td>\n",
       "      <td>11.46960</td>\n",
       "      <td>11.46960</td>\n",
       "      <td>11.46960</td>\n",
       "      <td>11.46960</td>\n",
       "      <td>1</td>\n",
       "      <td>1</td>\n",
       "    </tr>\n",
       "    <tr>\n",
       "      <th>0000e2c6d9be</th>\n",
       "      <td>395</td>\n",
       "      <td>395</td>\n",
       "      <td>1</td>\n",
       "      <td>1</td>\n",
       "      <td>0</td>\n",
       "      <td>0.0</td>\n",
       "      <td>0.0</td>\n",
       "      <td>0</td>\n",
       "      <td>0.0000</td>\n",
       "      <td>0.0000</td>\n",
       "      <td>0</td>\n",
       "      <td>9.55800</td>\n",
       "      <td>9.55800</td>\n",
       "      <td>9.55800</td>\n",
       "      <td>9.55800</td>\n",
       "      <td>1</td>\n",
       "      <td>1</td>\n",
       "    </tr>\n",
       "    <tr>\n",
       "      <th>000133bb597f</th>\n",
       "      <td>1</td>\n",
       "      <td>1</td>\n",
       "      <td>1</td>\n",
       "      <td>1</td>\n",
       "      <td>0</td>\n",
       "      <td>0.0</td>\n",
       "      <td>0.0</td>\n",
       "      <td>0</td>\n",
       "      <td>0.4930</td>\n",
       "      <td>0.4930</td>\n",
       "      <td>1</td>\n",
       "      <td>5.93658</td>\n",
       "      <td>5.93658</td>\n",
       "      <td>5.93658</td>\n",
       "      <td>5.93658</td>\n",
       "      <td>1</td>\n",
       "      <td>1</td>\n",
       "    </tr>\n",
       "    <tr>\n",
       "      <th>00018269939b</th>\n",
       "      <td>22</td>\n",
       "      <td>22</td>\n",
       "      <td>1</td>\n",
       "      <td>1</td>\n",
       "      <td>0</td>\n",
       "      <td>0.0</td>\n",
       "      <td>0.0</td>\n",
       "      <td>0</td>\n",
       "      <td>0.4930</td>\n",
       "      <td>0.4930</td>\n",
       "      <td>1</td>\n",
       "      <td>9.82350</td>\n",
       "      <td>9.82350</td>\n",
       "      <td>9.82350</td>\n",
       "      <td>9.82350</td>\n",
       "      <td>1</td>\n",
       "      <td>1</td>\n",
       "    </tr>\n",
       "    <tr>\n",
       "      <th>0001a00468a6</th>\n",
       "      <td>573</td>\n",
       "      <td>573</td>\n",
       "      <td>1</td>\n",
       "      <td>1</td>\n",
       "      <td>0</td>\n",
       "      <td>0.0</td>\n",
       "      <td>0.0</td>\n",
       "      <td>0</td>\n",
       "      <td>0.4930</td>\n",
       "      <td>0.4930</td>\n",
       "      <td>1</td>\n",
       "      <td>5.15070</td>\n",
       "      <td>5.15070</td>\n",
       "      <td>5.15070</td>\n",
       "      <td>5.15070</td>\n",
       "      <td>1</td>\n",
       "      <td>1</td>\n",
       "    </tr>\n",
       "    <tr>\n",
       "      <th>...</th>\n",
       "      <td>...</td>\n",
       "      <td>...</td>\n",
       "      <td>...</td>\n",
       "      <td>...</td>\n",
       "      <td>...</td>\n",
       "      <td>...</td>\n",
       "      <td>...</td>\n",
       "      <td>...</td>\n",
       "      <td>...</td>\n",
       "      <td>...</td>\n",
       "      <td>...</td>\n",
       "      <td>...</td>\n",
       "      <td>...</td>\n",
       "      <td>...</td>\n",
       "      <td>...</td>\n",
       "      <td>...</td>\n",
       "      <td>...</td>\n",
       "    </tr>\n",
       "    <tr>\n",
       "      <th>fffd696eaedd</th>\n",
       "      <td>532</td>\n",
       "      <td>532</td>\n",
       "      <td>1</td>\n",
       "      <td>1</td>\n",
       "      <td>0</td>\n",
       "      <td>0.0</td>\n",
       "      <td>0.0</td>\n",
       "      <td>0</td>\n",
       "      <td>1.4297</td>\n",
       "      <td>1.4297</td>\n",
       "      <td>1</td>\n",
       "      <td>24.13395</td>\n",
       "      <td>24.13395</td>\n",
       "      <td>24.13395</td>\n",
       "      <td>24.13395</td>\n",
       "      <td>1</td>\n",
       "      <td>1</td>\n",
       "    </tr>\n",
       "    <tr>\n",
       "      <th>fffe9d5a8d41</th>\n",
       "      <td>150</td>\n",
       "      <td>211</td>\n",
       "      <td>3</td>\n",
       "      <td>1</td>\n",
       "      <td>2</td>\n",
       "      <td>0.0</td>\n",
       "      <td>0.0</td>\n",
       "      <td>0</td>\n",
       "      <td>0.0000</td>\n",
       "      <td>0.0000</td>\n",
       "      <td>0</td>\n",
       "      <td>29.89530</td>\n",
       "      <td>9.96510</td>\n",
       "      <td>10.72620</td>\n",
       "      <td>8.44290</td>\n",
       "      <td>2</td>\n",
       "      <td>1</td>\n",
       "    </tr>\n",
       "    <tr>\n",
       "      <th>ffff347c3cfa</th>\n",
       "      <td>165</td>\n",
       "      <td>194</td>\n",
       "      <td>2</td>\n",
       "      <td>2</td>\n",
       "      <td>0</td>\n",
       "      <td>0.0</td>\n",
       "      <td>0.0</td>\n",
       "      <td>0</td>\n",
       "      <td>0.0000</td>\n",
       "      <td>0.0000</td>\n",
       "      <td>0</td>\n",
       "      <td>13.54050</td>\n",
       "      <td>6.77025</td>\n",
       "      <td>7.59330</td>\n",
       "      <td>5.94720</td>\n",
       "      <td>2</td>\n",
       "      <td>1</td>\n",
       "    </tr>\n",
       "    <tr>\n",
       "      <th>ffff4519b52d</th>\n",
       "      <td>331</td>\n",
       "      <td>331</td>\n",
       "      <td>1</td>\n",
       "      <td>1</td>\n",
       "      <td>0</td>\n",
       "      <td>0.0</td>\n",
       "      <td>0.0</td>\n",
       "      <td>0</td>\n",
       "      <td>0.0000</td>\n",
       "      <td>0.0000</td>\n",
       "      <td>0</td>\n",
       "      <td>21.77100</td>\n",
       "      <td>21.77100</td>\n",
       "      <td>21.77100</td>\n",
       "      <td>21.77100</td>\n",
       "      <td>1</td>\n",
       "      <td>1</td>\n",
       "    </tr>\n",
       "    <tr>\n",
       "      <th>ffffccbfc8a4</th>\n",
       "      <td>639</td>\n",
       "      <td>639</td>\n",
       "      <td>1</td>\n",
       "      <td>1</td>\n",
       "      <td>0</td>\n",
       "      <td>0.0</td>\n",
       "      <td>0.0</td>\n",
       "      <td>0</td>\n",
       "      <td>0.0000</td>\n",
       "      <td>0.0000</td>\n",
       "      <td>0</td>\n",
       "      <td>16.46100</td>\n",
       "      <td>16.46100</td>\n",
       "      <td>16.46100</td>\n",
       "      <td>16.46100</td>\n",
       "      <td>1</td>\n",
       "      <td>1</td>\n",
       "    </tr>\n",
       "  </tbody>\n",
       "</table>\n",
       "<p>245453 rows × 17 columns</p>\n",
       "</div>"
      ],
      "text/plain": [
       "              last_order_age_days  first_order_age_days  n_orders  \\\n",
       "customer_id                                                         \n",
       "000097eabfd9                  618                   618         1   \n",
       "0000e2c6d9be                  395                   395         1   \n",
       "000133bb597f                    1                     1         1   \n",
       "00018269939b                   22                    22         1   \n",
       "0001a00468a6                  573                   573         1   \n",
       "...                           ...                   ...       ...   \n",
       "fffd696eaedd                  532                   532         1   \n",
       "fffe9d5a8d41                  150                   211         3   \n",
       "ffff347c3cfa                  165                   194         2   \n",
       "ffff4519b52d                  331                   331         1   \n",
       "ffffccbfc8a4                  639                   639         1   \n",
       "\n",
       "              max_customer_order_rank  n_failed  max_voucher_amount  \\\n",
       "customer_id                                                           \n",
       "000097eabfd9                        1         0                 0.0   \n",
       "0000e2c6d9be                        1         0                 0.0   \n",
       "000133bb597f                        1         0                 0.0   \n",
       "00018269939b                        1         0                 0.0   \n",
       "0001a00468a6                        1         0                 0.0   \n",
       "...                               ...       ...                 ...   \n",
       "fffd696eaedd                        1         0                 0.0   \n",
       "fffe9d5a8d41                        1         2                 0.0   \n",
       "ffff347c3cfa                        2         0                 0.0   \n",
       "ffff4519b52d                        1         0                 0.0   \n",
       "ffffccbfc8a4                        1         0                 0.0   \n",
       "\n",
       "              tot_voucher_amount  n_vouchers  tot_delivery_fee  \\\n",
       "customer_id                                                      \n",
       "000097eabfd9                 0.0           0            0.0000   \n",
       "0000e2c6d9be                 0.0           0            0.0000   \n",
       "000133bb597f                 0.0           0            0.4930   \n",
       "00018269939b                 0.0           0            0.4930   \n",
       "0001a00468a6                 0.0           0            0.4930   \n",
       "...                          ...         ...               ...   \n",
       "fffd696eaedd                 0.0           0            1.4297   \n",
       "fffe9d5a8d41                 0.0           0            0.0000   \n",
       "ffff347c3cfa                 0.0           0            0.0000   \n",
       "ffff4519b52d                 0.0           0            0.0000   \n",
       "ffffccbfc8a4                 0.0           0            0.0000   \n",
       "\n",
       "              max_delivery_fee  n_delivery_fee  tot_amount_paid  \\\n",
       "customer_id                                                       \n",
       "000097eabfd9            0.0000               0         11.46960   \n",
       "0000e2c6d9be            0.0000               0          9.55800   \n",
       "000133bb597f            0.4930               1          5.93658   \n",
       "00018269939b            0.4930               1          9.82350   \n",
       "0001a00468a6            0.4930               1          5.15070   \n",
       "...                        ...             ...              ...   \n",
       "fffd696eaedd            1.4297               1         24.13395   \n",
       "fffe9d5a8d41            0.0000               0         29.89530   \n",
       "ffff347c3cfa            0.0000               0         13.54050   \n",
       "ffff4519b52d            0.0000               0         21.77100   \n",
       "ffffccbfc8a4            0.0000               0         16.46100   \n",
       "\n",
       "              avg_amount_paid  max_amount_paid  min_amount_paid  \\\n",
       "customer_id                                                       \n",
       "000097eabfd9         11.46960         11.46960         11.46960   \n",
       "0000e2c6d9be          9.55800          9.55800          9.55800   \n",
       "000133bb597f          5.93658          5.93658          5.93658   \n",
       "00018269939b          9.82350          9.82350          9.82350   \n",
       "0001a00468a6          5.15070          5.15070          5.15070   \n",
       "...                       ...              ...              ...   \n",
       "fffd696eaedd         24.13395         24.13395         24.13395   \n",
       "fffe9d5a8d41          9.96510         10.72620          8.44290   \n",
       "ffff347c3cfa          6.77025          7.59330          5.94720   \n",
       "ffff4519b52d         21.77100         21.77100         21.77100   \n",
       "ffffccbfc8a4         16.46100         16.46100         16.46100   \n",
       "\n",
       "              n_restaurants  n_cities  \n",
       "customer_id                            \n",
       "000097eabfd9              1         1  \n",
       "0000e2c6d9be              1         1  \n",
       "000133bb597f              1         1  \n",
       "00018269939b              1         1  \n",
       "0001a00468a6              1         1  \n",
       "...                     ...       ...  \n",
       "fffd696eaedd              1         1  \n",
       "fffe9d5a8d41              2         1  \n",
       "ffff347c3cfa              2         1  \n",
       "ffff4519b52d              1         1  \n",
       "ffffccbfc8a4              1         1  \n",
       "\n",
       "[245453 rows x 17 columns]"
      ]
     },
     "execution_count": 97,
     "metadata": {},
     "output_type": "execute_result"
    }
   ],
   "source": [
    "customer_features"
   ]
  },
  {
   "cell_type": "code",
   "execution_count": null,
   "metadata": {},
   "outputs": [],
   "source": []
  },
  {
   "cell_type": "markdown",
   "metadata": {},
   "source": [
    "### Customer features from dummy features\n",
    "\n",
    "Here we distill the extracted order feature to customer features."
   ]
  },
  {
   "cell_type": "code",
   "execution_count": 94,
   "metadata": {},
   "outputs": [
    {
     "data": {
      "text/html": [
       "<div>\n",
       "<style scoped>\n",
       "    .dataframe tbody tr th:only-of-type {\n",
       "        vertical-align: middle;\n",
       "    }\n",
       "\n",
       "    .dataframe tbody tr th {\n",
       "        vertical-align: top;\n",
       "    }\n",
       "\n",
       "    .dataframe thead th {\n",
       "        text-align: right;\n",
       "    }\n",
       "</style>\n",
       "<table border=\"1\" class=\"dataframe\">\n",
       "  <thead>\n",
       "    <tr style=\"text-align: right;\">\n",
       "      <th></th>\n",
       "      <th>customer_id</th>\n",
       "      <th>hour_of_day</th>\n",
       "      <th>day_of_week</th>\n",
       "      <th>is_holiday</th>\n",
       "      <th>hour_of_day_0</th>\n",
       "      <th>hour_of_day_1</th>\n",
       "      <th>hour_of_day_2</th>\n",
       "      <th>hour_of_day_3</th>\n",
       "      <th>hour_of_day_4</th>\n",
       "      <th>hour_of_day_5</th>\n",
       "      <th>...</th>\n",
       "      <th>transmission_id_212</th>\n",
       "      <th>transmission_id_1988</th>\n",
       "      <th>transmission_id_2020</th>\n",
       "      <th>transmission_id_4196</th>\n",
       "      <th>transmission_id_4228</th>\n",
       "      <th>transmission_id_4260</th>\n",
       "      <th>transmission_id_4324</th>\n",
       "      <th>transmission_id_4356</th>\n",
       "      <th>transmission_id_4996</th>\n",
       "      <th>transmission_id_21124</th>\n",
       "    </tr>\n",
       "  </thead>\n",
       "  <tbody>\n",
       "    <tr>\n",
       "      <th>0</th>\n",
       "      <td>000097eabfd9</td>\n",
       "      <td>19</td>\n",
       "      <td>5</td>\n",
       "      <td>False</td>\n",
       "      <td>0</td>\n",
       "      <td>0</td>\n",
       "      <td>0</td>\n",
       "      <td>0</td>\n",
       "      <td>0</td>\n",
       "      <td>0</td>\n",
       "      <td>...</td>\n",
       "      <td>0</td>\n",
       "      <td>0</td>\n",
       "      <td>0</td>\n",
       "      <td>0</td>\n",
       "      <td>0</td>\n",
       "      <td>0</td>\n",
       "      <td>0</td>\n",
       "      <td>1</td>\n",
       "      <td>0</td>\n",
       "      <td>0</td>\n",
       "    </tr>\n",
       "    <tr>\n",
       "      <th>1</th>\n",
       "      <td>0000e2c6d9be</td>\n",
       "      <td>20</td>\n",
       "      <td>4</td>\n",
       "      <td>False</td>\n",
       "      <td>0</td>\n",
       "      <td>0</td>\n",
       "      <td>0</td>\n",
       "      <td>0</td>\n",
       "      <td>0</td>\n",
       "      <td>0</td>\n",
       "      <td>...</td>\n",
       "      <td>0</td>\n",
       "      <td>0</td>\n",
       "      <td>0</td>\n",
       "      <td>0</td>\n",
       "      <td>0</td>\n",
       "      <td>0</td>\n",
       "      <td>0</td>\n",
       "      <td>1</td>\n",
       "      <td>0</td>\n",
       "      <td>0</td>\n",
       "    </tr>\n",
       "    <tr>\n",
       "      <th>2</th>\n",
       "      <td>000133bb597f</td>\n",
       "      <td>19</td>\n",
       "      <td>6</td>\n",
       "      <td>False</td>\n",
       "      <td>0</td>\n",
       "      <td>0</td>\n",
       "      <td>0</td>\n",
       "      <td>0</td>\n",
       "      <td>0</td>\n",
       "      <td>0</td>\n",
       "      <td>...</td>\n",
       "      <td>0</td>\n",
       "      <td>0</td>\n",
       "      <td>0</td>\n",
       "      <td>0</td>\n",
       "      <td>0</td>\n",
       "      <td>0</td>\n",
       "      <td>1</td>\n",
       "      <td>0</td>\n",
       "      <td>0</td>\n",
       "      <td>0</td>\n",
       "    </tr>\n",
       "    <tr>\n",
       "      <th>3</th>\n",
       "      <td>00018269939b</td>\n",
       "      <td>17</td>\n",
       "      <td>6</td>\n",
       "      <td>False</td>\n",
       "      <td>0</td>\n",
       "      <td>0</td>\n",
       "      <td>0</td>\n",
       "      <td>0</td>\n",
       "      <td>0</td>\n",
       "      <td>0</td>\n",
       "      <td>...</td>\n",
       "      <td>0</td>\n",
       "      <td>0</td>\n",
       "      <td>0</td>\n",
       "      <td>0</td>\n",
       "      <td>0</td>\n",
       "      <td>0</td>\n",
       "      <td>0</td>\n",
       "      <td>1</td>\n",
       "      <td>0</td>\n",
       "      <td>0</td>\n",
       "    </tr>\n",
       "    <tr>\n",
       "      <th>4</th>\n",
       "      <td>0001a00468a6</td>\n",
       "      <td>19</td>\n",
       "      <td>1</td>\n",
       "      <td>False</td>\n",
       "      <td>0</td>\n",
       "      <td>0</td>\n",
       "      <td>0</td>\n",
       "      <td>0</td>\n",
       "      <td>0</td>\n",
       "      <td>0</td>\n",
       "      <td>...</td>\n",
       "      <td>0</td>\n",
       "      <td>0</td>\n",
       "      <td>0</td>\n",
       "      <td>0</td>\n",
       "      <td>0</td>\n",
       "      <td>0</td>\n",
       "      <td>0</td>\n",
       "      <td>1</td>\n",
       "      <td>0</td>\n",
       "      <td>0</td>\n",
       "    </tr>\n",
       "    <tr>\n",
       "      <th>...</th>\n",
       "      <td>...</td>\n",
       "      <td>...</td>\n",
       "      <td>...</td>\n",
       "      <td>...</td>\n",
       "      <td>...</td>\n",
       "      <td>...</td>\n",
       "      <td>...</td>\n",
       "      <td>...</td>\n",
       "      <td>...</td>\n",
       "      <td>...</td>\n",
       "      <td>...</td>\n",
       "      <td>...</td>\n",
       "      <td>...</td>\n",
       "      <td>...</td>\n",
       "      <td>...</td>\n",
       "      <td>...</td>\n",
       "      <td>...</td>\n",
       "      <td>...</td>\n",
       "      <td>...</td>\n",
       "      <td>...</td>\n",
       "      <td>...</td>\n",
       "    </tr>\n",
       "    <tr>\n",
       "      <th>786542</th>\n",
       "      <td>fffe9d5a8d41</td>\n",
       "      <td>20</td>\n",
       "      <td>4</td>\n",
       "      <td>False</td>\n",
       "      <td>0</td>\n",
       "      <td>0</td>\n",
       "      <td>0</td>\n",
       "      <td>0</td>\n",
       "      <td>0</td>\n",
       "      <td>0</td>\n",
       "      <td>...</td>\n",
       "      <td>1</td>\n",
       "      <td>0</td>\n",
       "      <td>0</td>\n",
       "      <td>0</td>\n",
       "      <td>0</td>\n",
       "      <td>0</td>\n",
       "      <td>0</td>\n",
       "      <td>0</td>\n",
       "      <td>0</td>\n",
       "      <td>0</td>\n",
       "    </tr>\n",
       "    <tr>\n",
       "      <th>786543</th>\n",
       "      <td>ffff347c3cfa</td>\n",
       "      <td>21</td>\n",
       "      <td>2</td>\n",
       "      <td>False</td>\n",
       "      <td>0</td>\n",
       "      <td>0</td>\n",
       "      <td>0</td>\n",
       "      <td>0</td>\n",
       "      <td>0</td>\n",
       "      <td>0</td>\n",
       "      <td>...</td>\n",
       "      <td>0</td>\n",
       "      <td>0</td>\n",
       "      <td>0</td>\n",
       "      <td>0</td>\n",
       "      <td>0</td>\n",
       "      <td>0</td>\n",
       "      <td>0</td>\n",
       "      <td>1</td>\n",
       "      <td>0</td>\n",
       "      <td>0</td>\n",
       "    </tr>\n",
       "    <tr>\n",
       "      <th>786544</th>\n",
       "      <td>ffff347c3cfa</td>\n",
       "      <td>21</td>\n",
       "      <td>3</td>\n",
       "      <td>False</td>\n",
       "      <td>0</td>\n",
       "      <td>0</td>\n",
       "      <td>0</td>\n",
       "      <td>0</td>\n",
       "      <td>0</td>\n",
       "      <td>0</td>\n",
       "      <td>...</td>\n",
       "      <td>0</td>\n",
       "      <td>0</td>\n",
       "      <td>0</td>\n",
       "      <td>0</td>\n",
       "      <td>0</td>\n",
       "      <td>0</td>\n",
       "      <td>0</td>\n",
       "      <td>1</td>\n",
       "      <td>0</td>\n",
       "      <td>0</td>\n",
       "    </tr>\n",
       "    <tr>\n",
       "      <th>786545</th>\n",
       "      <td>ffff4519b52d</td>\n",
       "      <td>19</td>\n",
       "      <td>5</td>\n",
       "      <td>False</td>\n",
       "      <td>0</td>\n",
       "      <td>0</td>\n",
       "      <td>0</td>\n",
       "      <td>0</td>\n",
       "      <td>0</td>\n",
       "      <td>0</td>\n",
       "      <td>...</td>\n",
       "      <td>0</td>\n",
       "      <td>0</td>\n",
       "      <td>0</td>\n",
       "      <td>0</td>\n",
       "      <td>1</td>\n",
       "      <td>0</td>\n",
       "      <td>0</td>\n",
       "      <td>0</td>\n",
       "      <td>0</td>\n",
       "      <td>0</td>\n",
       "    </tr>\n",
       "    <tr>\n",
       "      <th>786546</th>\n",
       "      <td>ffffccbfc8a4</td>\n",
       "      <td>20</td>\n",
       "      <td>5</td>\n",
       "      <td>False</td>\n",
       "      <td>0</td>\n",
       "      <td>0</td>\n",
       "      <td>0</td>\n",
       "      <td>0</td>\n",
       "      <td>0</td>\n",
       "      <td>0</td>\n",
       "      <td>...</td>\n",
       "      <td>0</td>\n",
       "      <td>0</td>\n",
       "      <td>0</td>\n",
       "      <td>0</td>\n",
       "      <td>0</td>\n",
       "      <td>0</td>\n",
       "      <td>1</td>\n",
       "      <td>0</td>\n",
       "      <td>0</td>\n",
       "      <td>0</td>\n",
       "    </tr>\n",
       "  </tbody>\n",
       "</table>\n",
       "<p>786547 rows × 17382 columns</p>\n",
       "</div>"
      ],
      "text/plain": [
       "         customer_id  hour_of_day  day_of_week  is_holiday  hour_of_day_0  \\\n",
       "0       000097eabfd9           19            5       False              0   \n",
       "1       0000e2c6d9be           20            4       False              0   \n",
       "2       000133bb597f           19            6       False              0   \n",
       "3       00018269939b           17            6       False              0   \n",
       "4       0001a00468a6           19            1       False              0   \n",
       "...              ...          ...          ...         ...            ...   \n",
       "786542  fffe9d5a8d41           20            4       False              0   \n",
       "786543  ffff347c3cfa           21            2       False              0   \n",
       "786544  ffff347c3cfa           21            3       False              0   \n",
       "786545  ffff4519b52d           19            5       False              0   \n",
       "786546  ffffccbfc8a4           20            5       False              0   \n",
       "\n",
       "        hour_of_day_1  hour_of_day_2  hour_of_day_3  hour_of_day_4  \\\n",
       "0                   0              0              0              0   \n",
       "1                   0              0              0              0   \n",
       "2                   0              0              0              0   \n",
       "3                   0              0              0              0   \n",
       "4                   0              0              0              0   \n",
       "...               ...            ...            ...            ...   \n",
       "786542              0              0              0              0   \n",
       "786543              0              0              0              0   \n",
       "786544              0              0              0              0   \n",
       "786545              0              0              0              0   \n",
       "786546              0              0              0              0   \n",
       "\n",
       "        hour_of_day_5  ...  transmission_id_212  transmission_id_1988  \\\n",
       "0                   0  ...                    0                     0   \n",
       "1                   0  ...                    0                     0   \n",
       "2                   0  ...                    0                     0   \n",
       "3                   0  ...                    0                     0   \n",
       "4                   0  ...                    0                     0   \n",
       "...               ...  ...                  ...                   ...   \n",
       "786542              0  ...                    1                     0   \n",
       "786543              0  ...                    0                     0   \n",
       "786544              0  ...                    0                     0   \n",
       "786545              0  ...                    0                     0   \n",
       "786546              0  ...                    0                     0   \n",
       "\n",
       "        transmission_id_2020  transmission_id_4196  transmission_id_4228  \\\n",
       "0                          0                     0                     0   \n",
       "1                          0                     0                     0   \n",
       "2                          0                     0                     0   \n",
       "3                          0                     0                     0   \n",
       "4                          0                     0                     0   \n",
       "...                      ...                   ...                   ...   \n",
       "786542                     0                     0                     0   \n",
       "786543                     0                     0                     0   \n",
       "786544                     0                     0                     0   \n",
       "786545                     0                     0                     1   \n",
       "786546                     0                     0                     0   \n",
       "\n",
       "        transmission_id_4260  transmission_id_4324  transmission_id_4356  \\\n",
       "0                          0                     0                     1   \n",
       "1                          0                     0                     1   \n",
       "2                          0                     1                     0   \n",
       "3                          0                     0                     1   \n",
       "4                          0                     0                     1   \n",
       "...                      ...                   ...                   ...   \n",
       "786542                     0                     0                     0   \n",
       "786543                     0                     0                     1   \n",
       "786544                     0                     0                     1   \n",
       "786545                     0                     0                     0   \n",
       "786546                     0                     1                     0   \n",
       "\n",
       "        transmission_id_4996  transmission_id_21124  \n",
       "0                          0                      0  \n",
       "1                          0                      0  \n",
       "2                          0                      0  \n",
       "3                          0                      0  \n",
       "4                          0                      0  \n",
       "...                      ...                    ...  \n",
       "786542                     0                      0  \n",
       "786543                     0                      0  \n",
       "786544                     0                      0  \n",
       "786545                     0                      0  \n",
       "786546                     0                      0  \n",
       "\n",
       "[786547 rows x 17382 columns]"
      ]
     },
     "execution_count": 94,
     "metadata": {},
     "output_type": "execute_result"
    }
   ],
   "source": [
    "orders_features"
   ]
  },
  {
   "cell_type": "code",
   "execution_count": 95,
   "metadata": {},
   "outputs": [
    {
     "name": "stdout",
     "output_type": "stream",
     "text": [
      "<class 'pandas.core.frame.DataFrame'>\n",
      "RangeIndex: 786547 entries, 0 to 786546\n",
      "Columns: 17382 entries, customer_id to transmission_id_21124\n",
      "dtypes: Sparse[uint8, 0](17347), bool(1), int64(2), object(1), uint8(31)\n",
      "memory usage: 60.8+ MB\n"
     ]
    }
   ],
   "source": [
    "orders_features.info()"
   ]
  },
  {
   "cell_type": "code",
   "execution_count": 99,
   "metadata": {},
   "outputs": [],
   "source": [
    "# orders_features_dummy = orders_features.drop(\n",
    "#     columns=['hour_of_day', 'day_of_week']\n",
    "# ).groupby(['customer_id']).agg(np.sum)"
   ]
  },
  {
   "cell_type": "code",
   "execution_count": null,
   "metadata": {},
   "outputs": [],
   "source": []
  }
 ],
 "metadata": {
  "kernelspec": {
   "display_name": "Python 3",
   "language": "python",
   "name": "python3"
  },
  "language_info": {
   "codemirror_mode": {
    "name": "ipython",
    "version": 3
   },
   "file_extension": ".py",
   "mimetype": "text/x-python",
   "name": "python",
   "nbconvert_exporter": "python",
   "pygments_lexer": "ipython3",
   "version": "3.9.0"
  }
 },
 "nbformat": 4,
 "nbformat_minor": 4
}

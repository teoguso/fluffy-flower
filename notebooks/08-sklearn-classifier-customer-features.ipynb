{
 "cells": [
  {
   "cell_type": "code",
   "execution_count": 1,
   "metadata": {},
   "outputs": [],
   "source": [
    "import pandas as pd"
   ]
  },
  {
   "cell_type": "code",
   "execution_count": 2,
   "metadata": {},
   "outputs": [],
   "source": [
    "import matplotlib.pyplot as plt\n",
    "import seaborn as sns\n",
    "\n",
    "%matplotlib inline"
   ]
  },
  {
   "cell_type": "code",
   "execution_count": 104,
   "metadata": {},
   "outputs": [],
   "source": [
    "from sklearn.decomposition import PCA\n",
    "from sklearn.svm import SVC\n",
    "from sklearn.ensemble import RandomForestClassifier\n",
    "from sklearn.model_selection import train_test_split\n",
    "from sklearn.metrics import auc, f1_score, confusion_matrix, roc_curve, classification_report\n",
    "from sklearn.model_selection import GridSearchCV\n",
    "from sklearn.pipeline import Pipeline"
   ]
  },
  {
   "cell_type": "code",
   "execution_count": 3,
   "metadata": {},
   "outputs": [],
   "source": [
    "plt.style.use('ggplot')"
   ]
  },
  {
   "cell_type": "code",
   "execution_count": 4,
   "metadata": {},
   "outputs": [],
   "source": [
    "cf = pd.read_json(\n",
    "    \"../data/customer_features.json\",\n",
    "    orient='table',\n",
    ")"
   ]
  },
  {
   "cell_type": "code",
   "execution_count": 5,
   "metadata": {},
   "outputs": [
    {
     "data": {
      "text/html": [
       "<div>\n",
       "<style scoped>\n",
       "    .dataframe tbody tr th:only-of-type {\n",
       "        vertical-align: middle;\n",
       "    }\n",
       "\n",
       "    .dataframe tbody tr th {\n",
       "        vertical-align: top;\n",
       "    }\n",
       "\n",
       "    .dataframe thead th {\n",
       "        text-align: right;\n",
       "    }\n",
       "</style>\n",
       "<table border=\"1\" class=\"dataframe\">\n",
       "  <thead>\n",
       "    <tr style=\"text-align: right;\">\n",
       "      <th></th>\n",
       "      <th>last_order_age_days</th>\n",
       "      <th>n_orders_holidays</th>\n",
       "      <th>mean_hour_of_day</th>\n",
       "      <th>std_hour_of_day</th>\n",
       "      <th>mean_day_of_week</th>\n",
       "      <th>std_day_of_week</th>\n",
       "      <th>first_order_age_days</th>\n",
       "      <th>n_orders</th>\n",
       "      <th>max_customer_order_rank</th>\n",
       "      <th>n_failed</th>\n",
       "      <th>...</th>\n",
       "      <th>n_vouchers</th>\n",
       "      <th>tot_delivery_fee</th>\n",
       "      <th>max_delivery_fee</th>\n",
       "      <th>n_delivery_fee</th>\n",
       "      <th>tot_amount_paid</th>\n",
       "      <th>avg_amount_paid</th>\n",
       "      <th>max_amount_paid</th>\n",
       "      <th>min_amount_paid</th>\n",
       "      <th>n_restaurants</th>\n",
       "      <th>n_cities</th>\n",
       "    </tr>\n",
       "    <tr>\n",
       "      <th>customer_id</th>\n",
       "      <th></th>\n",
       "      <th></th>\n",
       "      <th></th>\n",
       "      <th></th>\n",
       "      <th></th>\n",
       "      <th></th>\n",
       "      <th></th>\n",
       "      <th></th>\n",
       "      <th></th>\n",
       "      <th></th>\n",
       "      <th></th>\n",
       "      <th></th>\n",
       "      <th></th>\n",
       "      <th></th>\n",
       "      <th></th>\n",
       "      <th></th>\n",
       "      <th></th>\n",
       "      <th></th>\n",
       "      <th></th>\n",
       "      <th></th>\n",
       "      <th></th>\n",
       "    </tr>\n",
       "  </thead>\n",
       "  <tbody>\n",
       "    <tr>\n",
       "      <th>000097eabfd9</th>\n",
       "      <td>618</td>\n",
       "      <td>0</td>\n",
       "      <td>19.0</td>\n",
       "      <td>0.0</td>\n",
       "      <td>5.0</td>\n",
       "      <td>0.0</td>\n",
       "      <td>618</td>\n",
       "      <td>1</td>\n",
       "      <td>1</td>\n",
       "      <td>0</td>\n",
       "      <td>...</td>\n",
       "      <td>0</td>\n",
       "      <td>0.000</td>\n",
       "      <td>0.000</td>\n",
       "      <td>0</td>\n",
       "      <td>11.46960</td>\n",
       "      <td>11.46960</td>\n",
       "      <td>11.46960</td>\n",
       "      <td>11.46960</td>\n",
       "      <td>1</td>\n",
       "      <td>1</td>\n",
       "    </tr>\n",
       "    <tr>\n",
       "      <th>0000e2c6d9be</th>\n",
       "      <td>395</td>\n",
       "      <td>0</td>\n",
       "      <td>20.0</td>\n",
       "      <td>0.0</td>\n",
       "      <td>4.0</td>\n",
       "      <td>0.0</td>\n",
       "      <td>395</td>\n",
       "      <td>1</td>\n",
       "      <td>1</td>\n",
       "      <td>0</td>\n",
       "      <td>...</td>\n",
       "      <td>0</td>\n",
       "      <td>0.000</td>\n",
       "      <td>0.000</td>\n",
       "      <td>0</td>\n",
       "      <td>9.55800</td>\n",
       "      <td>9.55800</td>\n",
       "      <td>9.55800</td>\n",
       "      <td>9.55800</td>\n",
       "      <td>1</td>\n",
       "      <td>1</td>\n",
       "    </tr>\n",
       "    <tr>\n",
       "      <th>000133bb597f</th>\n",
       "      <td>1</td>\n",
       "      <td>0</td>\n",
       "      <td>19.0</td>\n",
       "      <td>0.0</td>\n",
       "      <td>6.0</td>\n",
       "      <td>0.0</td>\n",
       "      <td>1</td>\n",
       "      <td>1</td>\n",
       "      <td>1</td>\n",
       "      <td>0</td>\n",
       "      <td>...</td>\n",
       "      <td>0</td>\n",
       "      <td>0.493</td>\n",
       "      <td>0.493</td>\n",
       "      <td>1</td>\n",
       "      <td>5.93658</td>\n",
       "      <td>5.93658</td>\n",
       "      <td>5.93658</td>\n",
       "      <td>5.93658</td>\n",
       "      <td>1</td>\n",
       "      <td>1</td>\n",
       "    </tr>\n",
       "    <tr>\n",
       "      <th>00018269939b</th>\n",
       "      <td>22</td>\n",
       "      <td>0</td>\n",
       "      <td>17.0</td>\n",
       "      <td>0.0</td>\n",
       "      <td>6.0</td>\n",
       "      <td>0.0</td>\n",
       "      <td>22</td>\n",
       "      <td>1</td>\n",
       "      <td>1</td>\n",
       "      <td>0</td>\n",
       "      <td>...</td>\n",
       "      <td>0</td>\n",
       "      <td>0.493</td>\n",
       "      <td>0.493</td>\n",
       "      <td>1</td>\n",
       "      <td>9.82350</td>\n",
       "      <td>9.82350</td>\n",
       "      <td>9.82350</td>\n",
       "      <td>9.82350</td>\n",
       "      <td>1</td>\n",
       "      <td>1</td>\n",
       "    </tr>\n",
       "    <tr>\n",
       "      <th>0001a00468a6</th>\n",
       "      <td>573</td>\n",
       "      <td>0</td>\n",
       "      <td>19.0</td>\n",
       "      <td>0.0</td>\n",
       "      <td>1.0</td>\n",
       "      <td>0.0</td>\n",
       "      <td>573</td>\n",
       "      <td>1</td>\n",
       "      <td>1</td>\n",
       "      <td>0</td>\n",
       "      <td>...</td>\n",
       "      <td>0</td>\n",
       "      <td>0.493</td>\n",
       "      <td>0.493</td>\n",
       "      <td>1</td>\n",
       "      <td>5.15070</td>\n",
       "      <td>5.15070</td>\n",
       "      <td>5.15070</td>\n",
       "      <td>5.15070</td>\n",
       "      <td>1</td>\n",
       "      <td>1</td>\n",
       "    </tr>\n",
       "  </tbody>\n",
       "</table>\n",
       "<p>5 rows × 22 columns</p>\n",
       "</div>"
      ],
      "text/plain": [
       "              last_order_age_days  n_orders_holidays  mean_hour_of_day  \\\n",
       "customer_id                                                              \n",
       "000097eabfd9                  618                  0              19.0   \n",
       "0000e2c6d9be                  395                  0              20.0   \n",
       "000133bb597f                    1                  0              19.0   \n",
       "00018269939b                   22                  0              17.0   \n",
       "0001a00468a6                  573                  0              19.0   \n",
       "\n",
       "              std_hour_of_day  mean_day_of_week  std_day_of_week  \\\n",
       "customer_id                                                        \n",
       "000097eabfd9              0.0               5.0              0.0   \n",
       "0000e2c6d9be              0.0               4.0              0.0   \n",
       "000133bb597f              0.0               6.0              0.0   \n",
       "00018269939b              0.0               6.0              0.0   \n",
       "0001a00468a6              0.0               1.0              0.0   \n",
       "\n",
       "              first_order_age_days  n_orders  max_customer_order_rank  \\\n",
       "customer_id                                                             \n",
       "000097eabfd9                   618         1                        1   \n",
       "0000e2c6d9be                   395         1                        1   \n",
       "000133bb597f                     1         1                        1   \n",
       "00018269939b                    22         1                        1   \n",
       "0001a00468a6                   573         1                        1   \n",
       "\n",
       "              n_failed  ...  n_vouchers  tot_delivery_fee  max_delivery_fee  \\\n",
       "customer_id             ...                                                   \n",
       "000097eabfd9         0  ...           0             0.000             0.000   \n",
       "0000e2c6d9be         0  ...           0             0.000             0.000   \n",
       "000133bb597f         0  ...           0             0.493             0.493   \n",
       "00018269939b         0  ...           0             0.493             0.493   \n",
       "0001a00468a6         0  ...           0             0.493             0.493   \n",
       "\n",
       "              n_delivery_fee  tot_amount_paid  avg_amount_paid  \\\n",
       "customer_id                                                      \n",
       "000097eabfd9               0         11.46960         11.46960   \n",
       "0000e2c6d9be               0          9.55800          9.55800   \n",
       "000133bb597f               1          5.93658          5.93658   \n",
       "00018269939b               1          9.82350          9.82350   \n",
       "0001a00468a6               1          5.15070          5.15070   \n",
       "\n",
       "              max_amount_paid  min_amount_paid  n_restaurants  n_cities  \n",
       "customer_id                                                              \n",
       "000097eabfd9         11.46960         11.46960              1         1  \n",
       "0000e2c6d9be          9.55800          9.55800              1         1  \n",
       "000133bb597f          5.93658          5.93658              1         1  \n",
       "00018269939b          9.82350          9.82350              1         1  \n",
       "0001a00468a6          5.15070          5.15070              1         1  \n",
       "\n",
       "[5 rows x 22 columns]"
      ]
     },
     "execution_count": 5,
     "metadata": {},
     "output_type": "execute_result"
    }
   ],
   "source": [
    "cf.head()"
   ]
  },
  {
   "cell_type": "code",
   "execution_count": 6,
   "metadata": {},
   "outputs": [
    {
     "data": {
      "text/html": [
       "<div>\n",
       "<style scoped>\n",
       "    .dataframe tbody tr th:only-of-type {\n",
       "        vertical-align: middle;\n",
       "    }\n",
       "\n",
       "    .dataframe tbody tr th {\n",
       "        vertical-align: top;\n",
       "    }\n",
       "\n",
       "    .dataframe thead th {\n",
       "        text-align: right;\n",
       "    }\n",
       "</style>\n",
       "<table border=\"1\" class=\"dataframe\">\n",
       "  <thead>\n",
       "    <tr style=\"text-align: right;\">\n",
       "      <th></th>\n",
       "      <th>last_order_age_days</th>\n",
       "      <th>n_orders_holidays</th>\n",
       "      <th>mean_hour_of_day</th>\n",
       "      <th>std_hour_of_day</th>\n",
       "      <th>mean_day_of_week</th>\n",
       "      <th>std_day_of_week</th>\n",
       "      <th>first_order_age_days</th>\n",
       "      <th>n_orders</th>\n",
       "      <th>max_customer_order_rank</th>\n",
       "      <th>n_failed</th>\n",
       "      <th>...</th>\n",
       "      <th>n_vouchers</th>\n",
       "      <th>tot_delivery_fee</th>\n",
       "      <th>max_delivery_fee</th>\n",
       "      <th>n_delivery_fee</th>\n",
       "      <th>tot_amount_paid</th>\n",
       "      <th>avg_amount_paid</th>\n",
       "      <th>max_amount_paid</th>\n",
       "      <th>min_amount_paid</th>\n",
       "      <th>n_restaurants</th>\n",
       "      <th>n_cities</th>\n",
       "    </tr>\n",
       "  </thead>\n",
       "  <tbody>\n",
       "    <tr>\n",
       "      <th>count</th>\n",
       "      <td>245453.000000</td>\n",
       "      <td>245453.000000</td>\n",
       "      <td>245453.000000</td>\n",
       "      <td>245453.000000</td>\n",
       "      <td>245453.000000</td>\n",
       "      <td>245453.000000</td>\n",
       "      <td>245453.000000</td>\n",
       "      <td>245453.000000</td>\n",
       "      <td>245453.000000</td>\n",
       "      <td>245453.000000</td>\n",
       "      <td>...</td>\n",
       "      <td>245453.000000</td>\n",
       "      <td>245453.000000</td>\n",
       "      <td>245453.000000</td>\n",
       "      <td>245453.000000</td>\n",
       "      <td>245453.000000</td>\n",
       "      <td>245453.000000</td>\n",
       "      <td>245453.000000</td>\n",
       "      <td>245453.000000</td>\n",
       "      <td>245453.000000</td>\n",
       "      <td>245453.000000</td>\n",
       "    </tr>\n",
       "    <tr>\n",
       "      <th>mean</th>\n",
       "      <td>265.355596</td>\n",
       "      <td>0.044163</td>\n",
       "      <td>17.609131</td>\n",
       "      <td>0.843742</td>\n",
       "      <td>3.643467</td>\n",
       "      <td>0.676805</td>\n",
       "      <td>350.000860</td>\n",
       "      <td>3.204471</td>\n",
       "      <td>3.103771</td>\n",
       "      <td>0.100879</td>\n",
       "      <td>...</td>\n",
       "      <td>0.175728</td>\n",
       "      <td>0.580587</td>\n",
       "      <td>0.263447</td>\n",
       "      <td>0.770217</td>\n",
       "      <td>32.632107</td>\n",
       "      <td>10.807432</td>\n",
       "      <td>12.333919</td>\n",
       "      <td>9.667637</td>\n",
       "      <td>1.760740</td>\n",
       "      <td>1.044888</td>\n",
       "    </tr>\n",
       "    <tr>\n",
       "      <th>std</th>\n",
       "      <td>213.407529</td>\n",
       "      <td>0.232141</td>\n",
       "      <td>3.169967</td>\n",
       "      <td>1.606977</td>\n",
       "      <td>1.777547</td>\n",
       "      <td>1.028744</td>\n",
       "      <td>214.135876</td>\n",
       "      <td>7.025662</td>\n",
       "      <td>6.770718</td>\n",
       "      <td>0.655361</td>\n",
       "      <td>...</td>\n",
       "      <td>1.024720</td>\n",
       "      <td>2.332823</td>\n",
       "      <td>0.445920</td>\n",
       "      <td>2.820744</td>\n",
       "      <td>70.024476</td>\n",
       "      <td>5.798882</td>\n",
       "      <td>7.334218</td>\n",
       "      <td>5.651658</td>\n",
       "      <td>1.843813</td>\n",
       "      <td>0.263277</td>\n",
       "    </tr>\n",
       "    <tr>\n",
       "      <th>min</th>\n",
       "      <td>0.000000</td>\n",
       "      <td>0.000000</td>\n",
       "      <td>0.000000</td>\n",
       "      <td>0.000000</td>\n",
       "      <td>0.000000</td>\n",
       "      <td>0.000000</td>\n",
       "      <td>0.000000</td>\n",
       "      <td>1.000000</td>\n",
       "      <td>0.000000</td>\n",
       "      <td>0.000000</td>\n",
       "      <td>...</td>\n",
       "      <td>0.000000</td>\n",
       "      <td>0.000000</td>\n",
       "      <td>0.000000</td>\n",
       "      <td>0.000000</td>\n",
       "      <td>0.000000</td>\n",
       "      <td>0.000000</td>\n",
       "      <td>0.000000</td>\n",
       "      <td>0.000000</td>\n",
       "      <td>1.000000</td>\n",
       "      <td>1.000000</td>\n",
       "    </tr>\n",
       "    <tr>\n",
       "      <th>25%</th>\n",
       "      <td>70.000000</td>\n",
       "      <td>0.000000</td>\n",
       "      <td>16.500000</td>\n",
       "      <td>0.000000</td>\n",
       "      <td>2.500000</td>\n",
       "      <td>0.000000</td>\n",
       "      <td>155.000000</td>\n",
       "      <td>1.000000</td>\n",
       "      <td>1.000000</td>\n",
       "      <td>0.000000</td>\n",
       "      <td>...</td>\n",
       "      <td>0.000000</td>\n",
       "      <td>0.000000</td>\n",
       "      <td>0.000000</td>\n",
       "      <td>0.000000</td>\n",
       "      <td>8.867700</td>\n",
       "      <td>7.398600</td>\n",
       "      <td>7.965000</td>\n",
       "      <td>6.106500</td>\n",
       "      <td>1.000000</td>\n",
       "      <td>1.000000</td>\n",
       "    </tr>\n",
       "    <tr>\n",
       "      <th>50%</th>\n",
       "      <td>221.000000</td>\n",
       "      <td>0.000000</td>\n",
       "      <td>18.000000</td>\n",
       "      <td>0.000000</td>\n",
       "      <td>4.000000</td>\n",
       "      <td>0.000000</td>\n",
       "      <td>352.000000</td>\n",
       "      <td>1.000000</td>\n",
       "      <td>1.000000</td>\n",
       "      <td>0.000000</td>\n",
       "      <td>...</td>\n",
       "      <td>0.000000</td>\n",
       "      <td>0.000000</td>\n",
       "      <td>0.000000</td>\n",
       "      <td>0.000000</td>\n",
       "      <td>14.172390</td>\n",
       "      <td>9.717300</td>\n",
       "      <td>10.938600</td>\n",
       "      <td>8.485380</td>\n",
       "      <td>1.000000</td>\n",
       "      <td>1.000000</td>\n",
       "    </tr>\n",
       "    <tr>\n",
       "      <th>75%</th>\n",
       "      <td>430.000000</td>\n",
       "      <td>0.000000</td>\n",
       "      <td>19.500000</td>\n",
       "      <td>1.303840</td>\n",
       "      <td>5.000000</td>\n",
       "      <td>1.414214</td>\n",
       "      <td>533.000000</td>\n",
       "      <td>3.000000</td>\n",
       "      <td>2.000000</td>\n",
       "      <td>0.000000</td>\n",
       "      <td>...</td>\n",
       "      <td>0.000000</td>\n",
       "      <td>0.493000</td>\n",
       "      <td>0.493000</td>\n",
       "      <td>1.000000</td>\n",
       "      <td>28.408500</td>\n",
       "      <td>12.810375</td>\n",
       "      <td>14.921100</td>\n",
       "      <td>11.682000</td>\n",
       "      <td>2.000000</td>\n",
       "      <td>1.000000</td>\n",
       "    </tr>\n",
       "    <tr>\n",
       "      <th>max</th>\n",
       "      <td>729.000000</td>\n",
       "      <td>6.000000</td>\n",
       "      <td>23.000000</td>\n",
       "      <td>16.263456</td>\n",
       "      <td>6.000000</td>\n",
       "      <td>4.242641</td>\n",
       "      <td>729.000000</td>\n",
       "      <td>386.000000</td>\n",
       "      <td>369.000000</td>\n",
       "      <td>91.000000</td>\n",
       "      <td>...</td>\n",
       "      <td>98.000000</td>\n",
       "      <td>376.898500</td>\n",
       "      <td>9.860000</td>\n",
       "      <td>381.000000</td>\n",
       "      <td>6077.698560</td>\n",
       "      <td>677.025000</td>\n",
       "      <td>1131.030000</td>\n",
       "      <td>237.516300</td>\n",
       "      <td>51.000000</td>\n",
       "      <td>26.000000</td>\n",
       "    </tr>\n",
       "  </tbody>\n",
       "</table>\n",
       "<p>8 rows × 22 columns</p>\n",
       "</div>"
      ],
      "text/plain": [
       "       last_order_age_days  n_orders_holidays  mean_hour_of_day  \\\n",
       "count        245453.000000      245453.000000     245453.000000   \n",
       "mean            265.355596           0.044163         17.609131   \n",
       "std             213.407529           0.232141          3.169967   \n",
       "min               0.000000           0.000000          0.000000   \n",
       "25%              70.000000           0.000000         16.500000   \n",
       "50%             221.000000           0.000000         18.000000   \n",
       "75%             430.000000           0.000000         19.500000   \n",
       "max             729.000000           6.000000         23.000000   \n",
       "\n",
       "       std_hour_of_day  mean_day_of_week  std_day_of_week  \\\n",
       "count    245453.000000     245453.000000    245453.000000   \n",
       "mean          0.843742          3.643467         0.676805   \n",
       "std           1.606977          1.777547         1.028744   \n",
       "min           0.000000          0.000000         0.000000   \n",
       "25%           0.000000          2.500000         0.000000   \n",
       "50%           0.000000          4.000000         0.000000   \n",
       "75%           1.303840          5.000000         1.414214   \n",
       "max          16.263456          6.000000         4.242641   \n",
       "\n",
       "       first_order_age_days       n_orders  max_customer_order_rank  \\\n",
       "count         245453.000000  245453.000000            245453.000000   \n",
       "mean             350.000860       3.204471                 3.103771   \n",
       "std              214.135876       7.025662                 6.770718   \n",
       "min                0.000000       1.000000                 0.000000   \n",
       "25%              155.000000       1.000000                 1.000000   \n",
       "50%              352.000000       1.000000                 1.000000   \n",
       "75%              533.000000       3.000000                 2.000000   \n",
       "max              729.000000     386.000000               369.000000   \n",
       "\n",
       "            n_failed  ...     n_vouchers  tot_delivery_fee  max_delivery_fee  \\\n",
       "count  245453.000000  ...  245453.000000     245453.000000     245453.000000   \n",
       "mean        0.100879  ...       0.175728          0.580587          0.263447   \n",
       "std         0.655361  ...       1.024720          2.332823          0.445920   \n",
       "min         0.000000  ...       0.000000          0.000000          0.000000   \n",
       "25%         0.000000  ...       0.000000          0.000000          0.000000   \n",
       "50%         0.000000  ...       0.000000          0.000000          0.000000   \n",
       "75%         0.000000  ...       0.000000          0.493000          0.493000   \n",
       "max        91.000000  ...      98.000000        376.898500          9.860000   \n",
       "\n",
       "       n_delivery_fee  tot_amount_paid  avg_amount_paid  max_amount_paid  \\\n",
       "count   245453.000000    245453.000000    245453.000000    245453.000000   \n",
       "mean         0.770217        32.632107        10.807432        12.333919   \n",
       "std          2.820744        70.024476         5.798882         7.334218   \n",
       "min          0.000000         0.000000         0.000000         0.000000   \n",
       "25%          0.000000         8.867700         7.398600         7.965000   \n",
       "50%          0.000000        14.172390         9.717300        10.938600   \n",
       "75%          1.000000        28.408500        12.810375        14.921100   \n",
       "max        381.000000      6077.698560       677.025000      1131.030000   \n",
       "\n",
       "       min_amount_paid  n_restaurants       n_cities  \n",
       "count    245453.000000  245453.000000  245453.000000  \n",
       "mean          9.667637       1.760740       1.044888  \n",
       "std           5.651658       1.843813       0.263277  \n",
       "min           0.000000       1.000000       1.000000  \n",
       "25%           6.106500       1.000000       1.000000  \n",
       "50%           8.485380       1.000000       1.000000  \n",
       "75%          11.682000       2.000000       1.000000  \n",
       "max         237.516300      51.000000      26.000000  \n",
       "\n",
       "[8 rows x 22 columns]"
      ]
     },
     "execution_count": 6,
     "metadata": {},
     "output_type": "execute_result"
    }
   ],
   "source": [
    "cf.describe()"
   ]
  },
  {
   "cell_type": "code",
   "execution_count": 7,
   "metadata": {},
   "outputs": [
    {
     "name": "stdout",
     "output_type": "stream",
     "text": [
      "<class 'pandas.core.frame.DataFrame'>\n",
      "Index: 245453 entries, 000097eabfd9 to ffffccbfc8a4\n",
      "Data columns (total 22 columns):\n",
      " #   Column                   Non-Null Count   Dtype  \n",
      "---  ------                   --------------   -----  \n",
      " 0   last_order_age_days      245453 non-null  int64  \n",
      " 1   n_orders_holidays        245453 non-null  int64  \n",
      " 2   mean_hour_of_day         245453 non-null  float64\n",
      " 3   std_hour_of_day          245453 non-null  float64\n",
      " 4   mean_day_of_week         245453 non-null  float64\n",
      " 5   std_day_of_week          245453 non-null  float64\n",
      " 6   first_order_age_days     245453 non-null  int64  \n",
      " 7   n_orders                 245453 non-null  int64  \n",
      " 8   max_customer_order_rank  245453 non-null  int64  \n",
      " 9   n_failed                 245453 non-null  int64  \n",
      " 10  max_voucher_amount       245453 non-null  float64\n",
      " 11  tot_voucher_amount       245453 non-null  float64\n",
      " 12  n_vouchers               245453 non-null  int64  \n",
      " 13  tot_delivery_fee         245453 non-null  float64\n",
      " 14  max_delivery_fee         245453 non-null  float64\n",
      " 15  n_delivery_fee           245453 non-null  int64  \n",
      " 16  tot_amount_paid          245453 non-null  float64\n",
      " 17  avg_amount_paid          245453 non-null  float64\n",
      " 18  max_amount_paid          245453 non-null  float64\n",
      " 19  min_amount_paid          245453 non-null  float64\n",
      " 20  n_restaurants            245453 non-null  int64  \n",
      " 21  n_cities                 245453 non-null  int64  \n",
      "dtypes: float64(12), int64(10)\n",
      "memory usage: 43.1+ MB\n"
     ]
    }
   ],
   "source": [
    "cf.info()"
   ]
  },
  {
   "cell_type": "code",
   "execution_count": 9,
   "metadata": {},
   "outputs": [],
   "source": [
    "labels = pd.read_csv(\"../data/machine_learning_challenge_labeled_data.csv.gz\")"
   ]
  },
  {
   "cell_type": "code",
   "execution_count": 10,
   "metadata": {},
   "outputs": [
    {
     "data": {
      "text/html": [
       "<div>\n",
       "<style scoped>\n",
       "    .dataframe tbody tr th:only-of-type {\n",
       "        vertical-align: middle;\n",
       "    }\n",
       "\n",
       "    .dataframe tbody tr th {\n",
       "        vertical-align: top;\n",
       "    }\n",
       "\n",
       "    .dataframe thead th {\n",
       "        text-align: right;\n",
       "    }\n",
       "</style>\n",
       "<table border=\"1\" class=\"dataframe\">\n",
       "  <thead>\n",
       "    <tr style=\"text-align: right;\">\n",
       "      <th></th>\n",
       "      <th>customer_id</th>\n",
       "      <th>is_returning_customer</th>\n",
       "    </tr>\n",
       "  </thead>\n",
       "  <tbody>\n",
       "    <tr>\n",
       "      <th>0</th>\n",
       "      <td>000097eabfd9</td>\n",
       "      <td>0</td>\n",
       "    </tr>\n",
       "    <tr>\n",
       "      <th>1</th>\n",
       "      <td>0000e2c6d9be</td>\n",
       "      <td>0</td>\n",
       "    </tr>\n",
       "    <tr>\n",
       "      <th>2</th>\n",
       "      <td>000133bb597f</td>\n",
       "      <td>1</td>\n",
       "    </tr>\n",
       "    <tr>\n",
       "      <th>3</th>\n",
       "      <td>00018269939b</td>\n",
       "      <td>0</td>\n",
       "    </tr>\n",
       "    <tr>\n",
       "      <th>4</th>\n",
       "      <td>0001a00468a6</td>\n",
       "      <td>0</td>\n",
       "    </tr>\n",
       "  </tbody>\n",
       "</table>\n",
       "</div>"
      ],
      "text/plain": [
       "    customer_id  is_returning_customer\n",
       "0  000097eabfd9                      0\n",
       "1  0000e2c6d9be                      0\n",
       "2  000133bb597f                      1\n",
       "3  00018269939b                      0\n",
       "4  0001a00468a6                      0"
      ]
     },
     "execution_count": 10,
     "metadata": {},
     "output_type": "execute_result"
    }
   ],
   "source": [
    "labels.head()"
   ]
  },
  {
   "cell_type": "code",
   "execution_count": 11,
   "metadata": {},
   "outputs": [
    {
     "data": {
      "text/html": [
       "<div>\n",
       "<style scoped>\n",
       "    .dataframe tbody tr th:only-of-type {\n",
       "        vertical-align: middle;\n",
       "    }\n",
       "\n",
       "    .dataframe tbody tr th {\n",
       "        vertical-align: top;\n",
       "    }\n",
       "\n",
       "    .dataframe thead th {\n",
       "        text-align: right;\n",
       "    }\n",
       "</style>\n",
       "<table border=\"1\" class=\"dataframe\">\n",
       "  <thead>\n",
       "    <tr style=\"text-align: right;\">\n",
       "      <th></th>\n",
       "      <th>is_returning_customer</th>\n",
       "    </tr>\n",
       "    <tr>\n",
       "      <th>customer_id</th>\n",
       "      <th></th>\n",
       "    </tr>\n",
       "  </thead>\n",
       "  <tbody>\n",
       "    <tr>\n",
       "      <th>000097eabfd9</th>\n",
       "      <td>0</td>\n",
       "    </tr>\n",
       "    <tr>\n",
       "      <th>0000e2c6d9be</th>\n",
       "      <td>0</td>\n",
       "    </tr>\n",
       "    <tr>\n",
       "      <th>000133bb597f</th>\n",
       "      <td>1</td>\n",
       "    </tr>\n",
       "    <tr>\n",
       "      <th>00018269939b</th>\n",
       "      <td>0</td>\n",
       "    </tr>\n",
       "    <tr>\n",
       "      <th>0001a00468a6</th>\n",
       "      <td>0</td>\n",
       "    </tr>\n",
       "    <tr>\n",
       "      <th>...</th>\n",
       "      <td>...</td>\n",
       "    </tr>\n",
       "    <tr>\n",
       "      <th>fffd696eaedd</th>\n",
       "      <td>0</td>\n",
       "    </tr>\n",
       "    <tr>\n",
       "      <th>fffe9d5a8d41</th>\n",
       "      <td>1</td>\n",
       "    </tr>\n",
       "    <tr>\n",
       "      <th>ffff347c3cfa</th>\n",
       "      <td>1</td>\n",
       "    </tr>\n",
       "    <tr>\n",
       "      <th>ffff4519b52d</th>\n",
       "      <td>0</td>\n",
       "    </tr>\n",
       "    <tr>\n",
       "      <th>ffffccbfc8a4</th>\n",
       "      <td>0</td>\n",
       "    </tr>\n",
       "  </tbody>\n",
       "</table>\n",
       "<p>245455 rows × 1 columns</p>\n",
       "</div>"
      ],
      "text/plain": [
       "              is_returning_customer\n",
       "customer_id                        \n",
       "000097eabfd9                      0\n",
       "0000e2c6d9be                      0\n",
       "000133bb597f                      1\n",
       "00018269939b                      0\n",
       "0001a00468a6                      0\n",
       "...                             ...\n",
       "fffd696eaedd                      0\n",
       "fffe9d5a8d41                      1\n",
       "ffff347c3cfa                      1\n",
       "ffff4519b52d                      0\n",
       "ffffccbfc8a4                      0\n",
       "\n",
       "[245455 rows x 1 columns]"
      ]
     },
     "execution_count": 11,
     "metadata": {},
     "output_type": "execute_result"
    }
   ],
   "source": [
    "labels.set_index('customer_id')"
   ]
  },
  {
   "cell_type": "code",
   "execution_count": 12,
   "metadata": {},
   "outputs": [],
   "source": [
    "# cf['label'] = \n",
    "cf = cf.join(labels.set_index('customer_id'))"
   ]
  },
  {
   "cell_type": "code",
   "execution_count": 42,
   "metadata": {},
   "outputs": [
    {
     "name": "stdout",
     "output_type": "stream",
     "text": [
      "<class 'pandas.core.frame.DataFrame'>\n",
      "Index: 245453 entries, 000097eabfd9 to ffffccbfc8a4\n",
      "Data columns (total 23 columns):\n",
      " #   Column                   Non-Null Count   Dtype  \n",
      "---  ------                   --------------   -----  \n",
      " 0   last_order_age_days      245453 non-null  int64  \n",
      " 1   n_orders_holidays        245453 non-null  int64  \n",
      " 2   mean_hour_of_day         245453 non-null  float64\n",
      " 3   std_hour_of_day          245453 non-null  float64\n",
      " 4   mean_day_of_week         245453 non-null  float64\n",
      " 5   std_day_of_week          245453 non-null  float64\n",
      " 6   first_order_age_days     245453 non-null  int64  \n",
      " 7   n_orders                 245453 non-null  int64  \n",
      " 8   max_customer_order_rank  245453 non-null  int64  \n",
      " 9   n_failed                 245453 non-null  int64  \n",
      " 10  max_voucher_amount       245453 non-null  float64\n",
      " 11  tot_voucher_amount       245453 non-null  float64\n",
      " 12  n_vouchers               245453 non-null  int64  \n",
      " 13  tot_delivery_fee         245453 non-null  float64\n",
      " 14  max_delivery_fee         245453 non-null  float64\n",
      " 15  n_delivery_fee           245453 non-null  int64  \n",
      " 16  tot_amount_paid          245453 non-null  float64\n",
      " 17  avg_amount_paid          245453 non-null  float64\n",
      " 18  max_amount_paid          245453 non-null  float64\n",
      " 19  min_amount_paid          245453 non-null  float64\n",
      " 20  n_restaurants            245453 non-null  int64  \n",
      " 21  n_cities                 245453 non-null  int64  \n",
      " 22  is_returning_customer    245453 non-null  int64  \n",
      "dtypes: float64(12), int64(11)\n",
      "memory usage: 54.9+ MB\n"
     ]
    }
   ],
   "source": [
    "cf.info()"
   ]
  },
  {
   "cell_type": "code",
   "execution_count": 18,
   "metadata": {},
   "outputs": [
    {
     "data": {
      "text/plain": [
       "0.22613921085331323"
      ]
     },
     "execution_count": 18,
     "metadata": {},
     "output_type": "execute_result"
    }
   ],
   "source": [
    "labels['is_returning_customer'].mean()"
   ]
  },
  {
   "cell_type": "markdown",
   "metadata": {},
   "source": [
    "### Model training"
   ]
  },
  {
   "cell_type": "code",
   "execution_count": 15,
   "metadata": {},
   "outputs": [],
   "source": [
    "train, test = train_test_split(\n",
    "            cf,\n",
    "            train_size=.8,\n",
    "            shuffle=True,\n",
    "            stratify=cf['is_returning_customer'].to_numpy(),\n",
    "            random_state=42,\n",
    "        )"
   ]
  },
  {
   "cell_type": "code",
   "execution_count": 16,
   "metadata": {},
   "outputs": [
    {
     "data": {
      "text/plain": [
       "(0.22613336592619754, 0.2261310627202542)"
      ]
     },
     "execution_count": 16,
     "metadata": {},
     "output_type": "execute_result"
    }
   ],
   "source": [
    "train['is_returning_customer'].mean(), test['is_returning_customer'].mean()"
   ]
  },
  {
   "cell_type": "markdown",
   "metadata": {},
   "source": [
    "#### Balance classes"
   ]
  },
  {
   "cell_type": "code",
   "execution_count": null,
   "metadata": {},
   "outputs": [],
   "source": []
  },
  {
   "cell_type": "code",
   "execution_count": 24,
   "metadata": {},
   "outputs": [
    {
     "data": {
      "text/plain": [
       "is_returning_customer\n",
       "0    151958\n",
       "1     44404\n",
       "Name: n_orders, dtype: int64"
      ]
     },
     "execution_count": 24,
     "metadata": {},
     "output_type": "execute_result"
    }
   ],
   "source": [
    "train.groupby('is_returning_customer')['n_orders'].count()"
   ]
  },
  {
   "cell_type": "code",
   "execution_count": 25,
   "metadata": {},
   "outputs": [
    {
     "data": {
      "text/plain": [
       "44404"
      ]
     },
     "execution_count": 25,
     "metadata": {},
     "output_type": "execute_result"
    }
   ],
   "source": [
    "minority_class_size = train.groupby('is_returning_customer')['n_orders'].count().min()\n",
    "minority_class_size"
   ]
  },
  {
   "cell_type": "code",
   "execution_count": 26,
   "metadata": {},
   "outputs": [],
   "source": [
    "train_negative = train[train['is_returning_customer']==0].sample(n=minority_class_size)"
   ]
  },
  {
   "cell_type": "code",
   "execution_count": 27,
   "metadata": {},
   "outputs": [],
   "source": [
    "train_positive = train[train['is_returning_customer']==1]"
   ]
  },
  {
   "cell_type": "code",
   "execution_count": 28,
   "metadata": {},
   "outputs": [],
   "source": [
    "train = pd.concat((train_positive, train_negative))"
   ]
  },
  {
   "cell_type": "code",
   "execution_count": 29,
   "metadata": {},
   "outputs": [
    {
     "data": {
      "text/html": [
       "<div>\n",
       "<style scoped>\n",
       "    .dataframe tbody tr th:only-of-type {\n",
       "        vertical-align: middle;\n",
       "    }\n",
       "\n",
       "    .dataframe tbody tr th {\n",
       "        vertical-align: top;\n",
       "    }\n",
       "\n",
       "    .dataframe thead th {\n",
       "        text-align: right;\n",
       "    }\n",
       "</style>\n",
       "<table border=\"1\" class=\"dataframe\">\n",
       "  <thead>\n",
       "    <tr style=\"text-align: right;\">\n",
       "      <th></th>\n",
       "      <th>last_order_age_days</th>\n",
       "      <th>n_orders_holidays</th>\n",
       "      <th>mean_hour_of_day</th>\n",
       "      <th>std_hour_of_day</th>\n",
       "      <th>mean_day_of_week</th>\n",
       "      <th>std_day_of_week</th>\n",
       "      <th>first_order_age_days</th>\n",
       "      <th>n_orders</th>\n",
       "      <th>max_customer_order_rank</th>\n",
       "      <th>n_failed</th>\n",
       "      <th>...</th>\n",
       "      <th>tot_delivery_fee</th>\n",
       "      <th>max_delivery_fee</th>\n",
       "      <th>n_delivery_fee</th>\n",
       "      <th>tot_amount_paid</th>\n",
       "      <th>avg_amount_paid</th>\n",
       "      <th>max_amount_paid</th>\n",
       "      <th>min_amount_paid</th>\n",
       "      <th>n_restaurants</th>\n",
       "      <th>n_cities</th>\n",
       "      <th>is_returning_customer</th>\n",
       "    </tr>\n",
       "    <tr>\n",
       "      <th>customer_id</th>\n",
       "      <th></th>\n",
       "      <th></th>\n",
       "      <th></th>\n",
       "      <th></th>\n",
       "      <th></th>\n",
       "      <th></th>\n",
       "      <th></th>\n",
       "      <th></th>\n",
       "      <th></th>\n",
       "      <th></th>\n",
       "      <th></th>\n",
       "      <th></th>\n",
       "      <th></th>\n",
       "      <th></th>\n",
       "      <th></th>\n",
       "      <th></th>\n",
       "      <th></th>\n",
       "      <th></th>\n",
       "      <th></th>\n",
       "      <th></th>\n",
       "      <th></th>\n",
       "    </tr>\n",
       "  </thead>\n",
       "  <tbody>\n",
       "    <tr>\n",
       "      <th>ec962cf4fbf2</th>\n",
       "      <td>6</td>\n",
       "      <td>0</td>\n",
       "      <td>17.500000</td>\n",
       "      <td>0.707107</td>\n",
       "      <td>0.500000</td>\n",
       "      <td>0.707107</td>\n",
       "      <td>77</td>\n",
       "      <td>2</td>\n",
       "      <td>2</td>\n",
       "      <td>0</td>\n",
       "      <td>...</td>\n",
       "      <td>0.000</td>\n",
       "      <td>0.000</td>\n",
       "      <td>0</td>\n",
       "      <td>13.80600</td>\n",
       "      <td>6.903000</td>\n",
       "      <td>7.16850</td>\n",
       "      <td>6.63750</td>\n",
       "      <td>1</td>\n",
       "      <td>1</td>\n",
       "      <td>1</td>\n",
       "    </tr>\n",
       "    <tr>\n",
       "      <th>de67868b1554</th>\n",
       "      <td>8</td>\n",
       "      <td>0</td>\n",
       "      <td>18.500000</td>\n",
       "      <td>1.825742</td>\n",
       "      <td>4.937500</td>\n",
       "      <td>1.652019</td>\n",
       "      <td>517</td>\n",
       "      <td>16</td>\n",
       "      <td>16</td>\n",
       "      <td>0</td>\n",
       "      <td>...</td>\n",
       "      <td>5.916</td>\n",
       "      <td>1.479</td>\n",
       "      <td>6</td>\n",
       "      <td>193.14063</td>\n",
       "      <td>12.071289</td>\n",
       "      <td>21.77100</td>\n",
       "      <td>6.71184</td>\n",
       "      <td>9</td>\n",
       "      <td>1</td>\n",
       "      <td>1</td>\n",
       "    </tr>\n",
       "    <tr>\n",
       "      <th>81240436bcd6</th>\n",
       "      <td>176</td>\n",
       "      <td>0</td>\n",
       "      <td>15.000000</td>\n",
       "      <td>0.000000</td>\n",
       "      <td>6.000000</td>\n",
       "      <td>0.000000</td>\n",
       "      <td>176</td>\n",
       "      <td>1</td>\n",
       "      <td>1</td>\n",
       "      <td>0</td>\n",
       "      <td>...</td>\n",
       "      <td>0.000</td>\n",
       "      <td>0.000</td>\n",
       "      <td>0</td>\n",
       "      <td>11.68200</td>\n",
       "      <td>11.682000</td>\n",
       "      <td>11.68200</td>\n",
       "      <td>11.68200</td>\n",
       "      <td>1</td>\n",
       "      <td>1</td>\n",
       "      <td>1</td>\n",
       "    </tr>\n",
       "    <tr>\n",
       "      <th>8b7e2c92873a</th>\n",
       "      <td>26</td>\n",
       "      <td>0</td>\n",
       "      <td>16.333333</td>\n",
       "      <td>4.041452</td>\n",
       "      <td>2.666667</td>\n",
       "      <td>1.154701</td>\n",
       "      <td>507</td>\n",
       "      <td>3</td>\n",
       "      <td>3</td>\n",
       "      <td>0</td>\n",
       "      <td>...</td>\n",
       "      <td>0.000</td>\n",
       "      <td>0.000</td>\n",
       "      <td>0</td>\n",
       "      <td>25.31277</td>\n",
       "      <td>8.437590</td>\n",
       "      <td>12.47850</td>\n",
       "      <td>5.73480</td>\n",
       "      <td>3</td>\n",
       "      <td>1</td>\n",
       "      <td>1</td>\n",
       "    </tr>\n",
       "    <tr>\n",
       "      <th>0b3421fccb92</th>\n",
       "      <td>60</td>\n",
       "      <td>0</td>\n",
       "      <td>14.500000</td>\n",
       "      <td>0.925820</td>\n",
       "      <td>2.250000</td>\n",
       "      <td>1.581139</td>\n",
       "      <td>458</td>\n",
       "      <td>8</td>\n",
       "      <td>8</td>\n",
       "      <td>0</td>\n",
       "      <td>...</td>\n",
       "      <td>1.479</td>\n",
       "      <td>0.493</td>\n",
       "      <td>3</td>\n",
       "      <td>70.97877</td>\n",
       "      <td>8.872346</td>\n",
       "      <td>10.59876</td>\n",
       "      <td>7.38090</td>\n",
       "      <td>2</td>\n",
       "      <td>1</td>\n",
       "      <td>1</td>\n",
       "    </tr>\n",
       "    <tr>\n",
       "      <th>...</th>\n",
       "      <td>...</td>\n",
       "      <td>...</td>\n",
       "      <td>...</td>\n",
       "      <td>...</td>\n",
       "      <td>...</td>\n",
       "      <td>...</td>\n",
       "      <td>...</td>\n",
       "      <td>...</td>\n",
       "      <td>...</td>\n",
       "      <td>...</td>\n",
       "      <td>...</td>\n",
       "      <td>...</td>\n",
       "      <td>...</td>\n",
       "      <td>...</td>\n",
       "      <td>...</td>\n",
       "      <td>...</td>\n",
       "      <td>...</td>\n",
       "      <td>...</td>\n",
       "      <td>...</td>\n",
       "      <td>...</td>\n",
       "      <td>...</td>\n",
       "    </tr>\n",
       "    <tr>\n",
       "      <th>6a2225925dd9</th>\n",
       "      <td>117</td>\n",
       "      <td>0</td>\n",
       "      <td>15.000000</td>\n",
       "      <td>0.000000</td>\n",
       "      <td>2.000000</td>\n",
       "      <td>0.000000</td>\n",
       "      <td>117</td>\n",
       "      <td>1</td>\n",
       "      <td>1</td>\n",
       "      <td>0</td>\n",
       "      <td>...</td>\n",
       "      <td>0.000</td>\n",
       "      <td>0.000</td>\n",
       "      <td>0</td>\n",
       "      <td>11.31030</td>\n",
       "      <td>11.310300</td>\n",
       "      <td>11.31030</td>\n",
       "      <td>11.31030</td>\n",
       "      <td>1</td>\n",
       "      <td>1</td>\n",
       "      <td>0</td>\n",
       "    </tr>\n",
       "    <tr>\n",
       "      <th>f9bbdc299957</th>\n",
       "      <td>499</td>\n",
       "      <td>0</td>\n",
       "      <td>19.000000</td>\n",
       "      <td>0.000000</td>\n",
       "      <td>5.000000</td>\n",
       "      <td>0.000000</td>\n",
       "      <td>499</td>\n",
       "      <td>1</td>\n",
       "      <td>1</td>\n",
       "      <td>0</td>\n",
       "      <td>...</td>\n",
       "      <td>0.000</td>\n",
       "      <td>0.000</td>\n",
       "      <td>0</td>\n",
       "      <td>11.57580</td>\n",
       "      <td>11.575800</td>\n",
       "      <td>11.57580</td>\n",
       "      <td>11.57580</td>\n",
       "      <td>1</td>\n",
       "      <td>1</td>\n",
       "      <td>0</td>\n",
       "    </tr>\n",
       "    <tr>\n",
       "      <th>8fdf5c471122</th>\n",
       "      <td>106</td>\n",
       "      <td>0</td>\n",
       "      <td>12.000000</td>\n",
       "      <td>0.000000</td>\n",
       "      <td>6.000000</td>\n",
       "      <td>0.000000</td>\n",
       "      <td>106</td>\n",
       "      <td>1</td>\n",
       "      <td>1</td>\n",
       "      <td>0</td>\n",
       "      <td>...</td>\n",
       "      <td>0.000</td>\n",
       "      <td>0.000</td>\n",
       "      <td>0</td>\n",
       "      <td>10.88550</td>\n",
       "      <td>10.885500</td>\n",
       "      <td>10.88550</td>\n",
       "      <td>10.88550</td>\n",
       "      <td>1</td>\n",
       "      <td>1</td>\n",
       "      <td>0</td>\n",
       "    </tr>\n",
       "    <tr>\n",
       "      <th>aa066f8da244</th>\n",
       "      <td>524</td>\n",
       "      <td>0</td>\n",
       "      <td>20.000000</td>\n",
       "      <td>1.414214</td>\n",
       "      <td>1.000000</td>\n",
       "      <td>0.000000</td>\n",
       "      <td>531</td>\n",
       "      <td>2</td>\n",
       "      <td>2</td>\n",
       "      <td>0</td>\n",
       "      <td>...</td>\n",
       "      <td>0.000</td>\n",
       "      <td>0.000</td>\n",
       "      <td>0</td>\n",
       "      <td>18.79740</td>\n",
       "      <td>9.398700</td>\n",
       "      <td>9.92970</td>\n",
       "      <td>8.86770</td>\n",
       "      <td>2</td>\n",
       "      <td>1</td>\n",
       "      <td>0</td>\n",
       "    </tr>\n",
       "    <tr>\n",
       "      <th>ff9d83450703</th>\n",
       "      <td>119</td>\n",
       "      <td>0</td>\n",
       "      <td>20.500000</td>\n",
       "      <td>0.707107</td>\n",
       "      <td>3.000000</td>\n",
       "      <td>4.242641</td>\n",
       "      <td>421</td>\n",
       "      <td>2</td>\n",
       "      <td>2</td>\n",
       "      <td>0</td>\n",
       "      <td>...</td>\n",
       "      <td>0.000</td>\n",
       "      <td>0.000</td>\n",
       "      <td>0</td>\n",
       "      <td>18.84519</td>\n",
       "      <td>9.422595</td>\n",
       "      <td>9.55269</td>\n",
       "      <td>9.29250</td>\n",
       "      <td>2</td>\n",
       "      <td>1</td>\n",
       "      <td>0</td>\n",
       "    </tr>\n",
       "  </tbody>\n",
       "</table>\n",
       "<p>88808 rows × 23 columns</p>\n",
       "</div>"
      ],
      "text/plain": [
       "              last_order_age_days  n_orders_holidays  mean_hour_of_day  \\\n",
       "customer_id                                                              \n",
       "ec962cf4fbf2                    6                  0         17.500000   \n",
       "de67868b1554                    8                  0         18.500000   \n",
       "81240436bcd6                  176                  0         15.000000   \n",
       "8b7e2c92873a                   26                  0         16.333333   \n",
       "0b3421fccb92                   60                  0         14.500000   \n",
       "...                           ...                ...               ...   \n",
       "6a2225925dd9                  117                  0         15.000000   \n",
       "f9bbdc299957                  499                  0         19.000000   \n",
       "8fdf5c471122                  106                  0         12.000000   \n",
       "aa066f8da244                  524                  0         20.000000   \n",
       "ff9d83450703                  119                  0         20.500000   \n",
       "\n",
       "              std_hour_of_day  mean_day_of_week  std_day_of_week  \\\n",
       "customer_id                                                        \n",
       "ec962cf4fbf2         0.707107          0.500000         0.707107   \n",
       "de67868b1554         1.825742          4.937500         1.652019   \n",
       "81240436bcd6         0.000000          6.000000         0.000000   \n",
       "8b7e2c92873a         4.041452          2.666667         1.154701   \n",
       "0b3421fccb92         0.925820          2.250000         1.581139   \n",
       "...                       ...               ...              ...   \n",
       "6a2225925dd9         0.000000          2.000000         0.000000   \n",
       "f9bbdc299957         0.000000          5.000000         0.000000   \n",
       "8fdf5c471122         0.000000          6.000000         0.000000   \n",
       "aa066f8da244         1.414214          1.000000         0.000000   \n",
       "ff9d83450703         0.707107          3.000000         4.242641   \n",
       "\n",
       "              first_order_age_days  n_orders  max_customer_order_rank  \\\n",
       "customer_id                                                             \n",
       "ec962cf4fbf2                    77         2                        2   \n",
       "de67868b1554                   517        16                       16   \n",
       "81240436bcd6                   176         1                        1   \n",
       "8b7e2c92873a                   507         3                        3   \n",
       "0b3421fccb92                   458         8                        8   \n",
       "...                            ...       ...                      ...   \n",
       "6a2225925dd9                   117         1                        1   \n",
       "f9bbdc299957                   499         1                        1   \n",
       "8fdf5c471122                   106         1                        1   \n",
       "aa066f8da244                   531         2                        2   \n",
       "ff9d83450703                   421         2                        2   \n",
       "\n",
       "              n_failed  ...  tot_delivery_fee  max_delivery_fee  \\\n",
       "customer_id             ...                                       \n",
       "ec962cf4fbf2         0  ...             0.000             0.000   \n",
       "de67868b1554         0  ...             5.916             1.479   \n",
       "81240436bcd6         0  ...             0.000             0.000   \n",
       "8b7e2c92873a         0  ...             0.000             0.000   \n",
       "0b3421fccb92         0  ...             1.479             0.493   \n",
       "...                ...  ...               ...               ...   \n",
       "6a2225925dd9         0  ...             0.000             0.000   \n",
       "f9bbdc299957         0  ...             0.000             0.000   \n",
       "8fdf5c471122         0  ...             0.000             0.000   \n",
       "aa066f8da244         0  ...             0.000             0.000   \n",
       "ff9d83450703         0  ...             0.000             0.000   \n",
       "\n",
       "              n_delivery_fee  tot_amount_paid  avg_amount_paid  \\\n",
       "customer_id                                                      \n",
       "ec962cf4fbf2               0         13.80600         6.903000   \n",
       "de67868b1554               6        193.14063        12.071289   \n",
       "81240436bcd6               0         11.68200        11.682000   \n",
       "8b7e2c92873a               0         25.31277         8.437590   \n",
       "0b3421fccb92               3         70.97877         8.872346   \n",
       "...                      ...              ...              ...   \n",
       "6a2225925dd9               0         11.31030        11.310300   \n",
       "f9bbdc299957               0         11.57580        11.575800   \n",
       "8fdf5c471122               0         10.88550        10.885500   \n",
       "aa066f8da244               0         18.79740         9.398700   \n",
       "ff9d83450703               0         18.84519         9.422595   \n",
       "\n",
       "              max_amount_paid  min_amount_paid  n_restaurants  n_cities  \\\n",
       "customer_id                                                               \n",
       "ec962cf4fbf2          7.16850          6.63750              1         1   \n",
       "de67868b1554         21.77100          6.71184              9         1   \n",
       "81240436bcd6         11.68200         11.68200              1         1   \n",
       "8b7e2c92873a         12.47850          5.73480              3         1   \n",
       "0b3421fccb92         10.59876          7.38090              2         1   \n",
       "...                       ...              ...            ...       ...   \n",
       "6a2225925dd9         11.31030         11.31030              1         1   \n",
       "f9bbdc299957         11.57580         11.57580              1         1   \n",
       "8fdf5c471122         10.88550         10.88550              1         1   \n",
       "aa066f8da244          9.92970          8.86770              2         1   \n",
       "ff9d83450703          9.55269          9.29250              2         1   \n",
       "\n",
       "              is_returning_customer  \n",
       "customer_id                          \n",
       "ec962cf4fbf2                      1  \n",
       "de67868b1554                      1  \n",
       "81240436bcd6                      1  \n",
       "8b7e2c92873a                      1  \n",
       "0b3421fccb92                      1  \n",
       "...                             ...  \n",
       "6a2225925dd9                      0  \n",
       "f9bbdc299957                      0  \n",
       "8fdf5c471122                      0  \n",
       "aa066f8da244                      0  \n",
       "ff9d83450703                      0  \n",
       "\n",
       "[88808 rows x 23 columns]"
      ]
     },
     "execution_count": 29,
     "metadata": {},
     "output_type": "execute_result"
    }
   ],
   "source": [
    "train"
   ]
  },
  {
   "cell_type": "code",
   "execution_count": 31,
   "metadata": {},
   "outputs": [
    {
     "data": {
      "text/plain": [
       "array([[  6.     ,   0.     ,  17.5    , ...,   6.6375 ,   1.     ,\n",
       "          1.     ],\n",
       "       [  8.     ,   0.     ,  18.5    , ...,   6.71184,   9.     ,\n",
       "          1.     ],\n",
       "       [176.     ,   0.     ,  15.     , ...,  11.682  ,   1.     ,\n",
       "          1.     ],\n",
       "       ...,\n",
       "       [106.     ,   0.     ,  12.     , ...,  10.8855 ,   1.     ,\n",
       "          1.     ],\n",
       "       [524.     ,   0.     ,  20.     , ...,   8.8677 ,   2.     ,\n",
       "          1.     ],\n",
       "       [119.     ,   0.     ,  20.5    , ...,   9.2925 ,   2.     ,\n",
       "          1.     ]])"
      ]
     },
     "execution_count": 31,
     "metadata": {},
     "output_type": "execute_result"
    }
   ],
   "source": [
    "X = train.drop(columns=['is_returning_customer']).to_numpy()\n",
    "X"
   ]
  },
  {
   "cell_type": "code",
   "execution_count": 32,
   "metadata": {},
   "outputs": [],
   "source": [
    "y = train['is_returning_customer'].to_numpy()"
   ]
  },
  {
   "cell_type": "code",
   "execution_count": 33,
   "metadata": {},
   "outputs": [
    {
     "data": {
      "text/plain": [
       "array([1, 1, 1, ..., 0, 0, 0])"
      ]
     },
     "execution_count": 33,
     "metadata": {},
     "output_type": "execute_result"
    }
   ],
   "source": [
    "y"
   ]
  },
  {
   "cell_type": "code",
   "execution_count": 34,
   "metadata": {},
   "outputs": [],
   "source": [
    "from sklearn.preprocessing import RobustScaler"
   ]
  },
  {
   "cell_type": "code",
   "execution_count": 35,
   "metadata": {},
   "outputs": [],
   "source": [
    "scaler = RobustScaler()"
   ]
  },
  {
   "cell_type": "code",
   "execution_count": 36,
   "metadata": {},
   "outputs": [],
   "source": [
    "x_scaled = scaler.fit_transform(X)"
   ]
  },
  {
   "cell_type": "code",
   "execution_count": 37,
   "metadata": {},
   "outputs": [
    {
     "data": {
      "text/plain": [
       "(88808, 22)"
      ]
     },
     "execution_count": 37,
     "metadata": {},
     "output_type": "execute_result"
    }
   ],
   "source": [
    "x_scaled.shape"
   ]
  },
  {
   "cell_type": "code",
   "execution_count": 38,
   "metadata": {},
   "outputs": [],
   "source": [
    "from sklearn.decomposition import PCA"
   ]
  },
  {
   "cell_type": "code",
   "execution_count": 39,
   "metadata": {},
   "outputs": [],
   "source": [
    "pca = PCA(3)"
   ]
  },
  {
   "cell_type": "code",
   "execution_count": 40,
   "metadata": {},
   "outputs": [],
   "source": [
    "x_pca = pca.fit_transform(x_scaled)"
   ]
  },
  {
   "cell_type": "code",
   "execution_count": 41,
   "metadata": {},
   "outputs": [
    {
     "data": {
      "text/plain": [
       "<matplotlib.collections.PathCollection at 0x7f576977e250>"
      ]
     },
     "execution_count": 41,
     "metadata": {},
     "output_type": "execute_result"
    },
    {
     "data": {
      "image/png": "[encoded data removed]",
      "text/plain": [
       "<Figure size 432x288 with 1 Axes>"
      ]
     },
     "metadata": {},
     "output_type": "display_data"
    }
   ],
   "source": [
    "plt.scatter(x_pca[:, 0], x_pca[:, 1], c=y)"
   ]
  },
  {
   "cell_type": "code",
   "execution_count": 43,
   "metadata": {},
   "outputs": [],
   "source": [
    "# # clf = SVC()\n",
    "# from sklearn.ensemble import RandomForestClassifier"
   ]
  },
  {
   "cell_type": "code",
   "execution_count": 44,
   "metadata": {},
   "outputs": [],
   "source": [
    "clf = RandomForestClassifier(n_jobs=-1, verbose=True)"
   ]
  },
  {
   "cell_type": "code",
   "execution_count": 45,
   "metadata": {},
   "outputs": [
    {
     "data": {
      "text/plain": [
       "RandomForestClassifier(n_jobs=-1)"
      ]
     },
     "execution_count": 45,
     "metadata": {},
     "output_type": "execute_result"
    }
   ],
   "source": [
    "clf.fit(x_scaled, y)"
   ]
  },
  {
   "cell_type": "code",
   "execution_count": 46,
   "metadata": {},
   "outputs": [],
   "source": [
    "def plot_roc_auc_f1(true_labels, probability, title=None):\n",
    "    # This is a convenience function that takes care of boring stuff\n",
    "    f1 = f1_score(true_labels, probability[:, 1]>.5)\n",
    "    fpr, tpr, _ = roc_curve(true_labels, probability[:, 1])\n",
    "    auc_score = auc(fpr, tpr)\n",
    "    fig, ax = plt.subplots(figsize=(6,6))\n",
    "    if title is not None:\n",
    "        ax.set_title(title)\n",
    "    ax.plot([0, 1], [0, 1], '--', label=\"Random\")\n",
    "    ax.plot(fpr, tpr, label=\"Your model\")\n",
    "    ax.set_xlabel(\"False positive rate\")\n",
    "    ax.set_ylabel(\"True positive rate\")\n",
    "    ax.annotate(f\"AUC: {auc_score:.4}\", (.8, 0.15))\n",
    "    ax.annotate(f\"F1: {f1:.4}\", (.8, 0.1))\n",
    "    ax.legend()\n",
    "    return f1, auc_score"
   ]
  },
  {
   "cell_type": "code",
   "execution_count": 49,
   "metadata": {},
   "outputs": [],
   "source": [
    "x_test = test.drop(columns=['is_returning_customer'])\n",
    "y_test = test['is_returning_customer'].to_numpy()"
   ]
  },
  {
   "cell_type": "code",
   "execution_count": 53,
   "metadata": {},
   "outputs": [],
   "source": [
    "y_proba = clf.predict_proba(scaler.transform(x_test))"
   ]
  },
  {
   "cell_type": "code",
   "execution_count": 54,
   "metadata": {},
   "outputs": [
    {
     "data": {
      "image/png": "[encoded data removed]",
      "text/plain": [
       "<Figure size 432x432 with 1 Axes>"
      ]
     },
     "metadata": {},
     "output_type": "display_data"
    }
   ],
   "source": [
    "f1, auc_score = plot_roc_auc_f1(y_test, y_proba);"
   ]
  },
  {
   "cell_type": "code",
   "execution_count": 71,
   "metadata": {},
   "outputs": [
    {
     "name": "stdout",
     "output_type": "stream",
     "text": [
      "              precision    recall  f1-score   support\n",
      "\n",
      "       False       0.76      0.90      0.82     32167\n",
      "        True       0.70      0.46      0.55     16924\n",
      "\n",
      "    accuracy                           0.74     49091\n",
      "   macro avg       0.73      0.68      0.69     49091\n",
      "weighted avg       0.74      0.74      0.73     49091\n",
      "\n"
     ]
    }
   ],
   "source": [
    "print(classification_report(y_proba[:, 1]>=.5, y_test))"
   ]
  },
  {
   "cell_type": "code",
   "execution_count": 79,
   "metadata": {},
   "outputs": [
    {
     "data": {
      "text/plain": [
       "is_returning_customer\n",
       "0    37990\n",
       "1    11101\n",
       "Name: n_orders, dtype: int64"
      ]
     },
     "execution_count": 79,
     "metadata": {},
     "output_type": "execute_result"
    }
   ],
   "source": [
    "test.groupby('is_returning_customer')['n_orders'].count()"
   ]
  },
  {
   "cell_type": "markdown",
   "metadata": {},
   "source": [
    "### Probability distribution"
   ]
  },
  {
   "cell_type": "code",
   "execution_count": 67,
   "metadata": {},
   "outputs": [
    {
     "data": {
      "image/png": "[encoded data removed]",
      "text/plain": [
       "<Figure size 432x288 with 1 Axes>"
      ]
     },
     "metadata": {},
     "output_type": "display_data"
    }
   ],
   "source": [
    "pd.Series(y_proba[:, 1]).loc[y_test>=.5].plot.hist(bins=99, alpha=.5, label='Positive')\n",
    "pd.Series(y_proba[:, 1]).loc[y_test<.5].plot.hist(bins=99, alpha=.5, label='Negative')\n",
    "plt.legend();"
   ]
  },
  {
   "cell_type": "markdown",
   "metadata": {},
   "source": [
    "### Now done better, with pipelines"
   ]
  },
  {
   "cell_type": "code",
   "execution_count": 91,
   "metadata": {},
   "outputs": [],
   "source": [
    "# scoring = {'AUC': 'roc_auc'}, 'Accuracy': make_scorer(accuracy_score)}"
   ]
  },
  {
   "cell_type": "code",
   "execution_count": 156,
   "metadata": {},
   "outputs": [],
   "source": [
    "from sklearn.linear_model import LogisticRegression"
   ]
  },
  {
   "cell_type": "code",
   "execution_count": 92,
   "metadata": {},
   "outputs": [],
   "source": [
    "scaler = RobustScaler()"
   ]
  },
  {
   "cell_type": "code",
   "execution_count": 105,
   "metadata": {},
   "outputs": [],
   "source": [
    "rf = RandomForestClassifier(n_jobs=-1, verbose=3)"
   ]
  },
  {
   "cell_type": "code",
   "execution_count": 144,
   "metadata": {},
   "outputs": [],
   "source": [
    "svm = SVC(verbose=3)"
   ]
  },
  {
   "cell_type": "code",
   "execution_count": 157,
   "metadata": {},
   "outputs": [],
   "source": [
    "logreg = LogisticRegression(verbose=3, n_jobs=-1)"
   ]
  },
  {
   "cell_type": "code",
   "execution_count": 145,
   "metadata": {},
   "outputs": [],
   "source": [
    "pipe = Pipeline(\n",
    "    steps=[('scaler', scaler), ('classifier', rf)]\n",
    ")"
   ]
  },
  {
   "cell_type": "code",
   "execution_count": 186,
   "metadata": {},
   "outputs": [
    {
     "data": {
      "text/plain": [
       "array([0.001     , 0.00562341, 0.03162278, 0.17782794, 1.        ])"
      ]
     },
     "execution_count": 186,
     "metadata": {},
     "output_type": "execute_result"
    }
   ],
   "source": [
    "np.logspace(-3, 0, 5)"
   ]
  },
  {
   "cell_type": "code",
   "execution_count": 187,
   "metadata": {},
   "outputs": [],
   "source": [
    "param_grid = [\n",
    "    {'classifier': [rf], 'classifier__n_estimators': [1000]},\n",
    "    {'classifier': [logreg], 'classifier__C': np.logspace(-3, 0, 5)},\n",
    "]"
   ]
  },
  {
   "cell_type": "code",
   "execution_count": 188,
   "metadata": {},
   "outputs": [],
   "source": [
    "search = GridSearchCV(pipe, param_grid, cv=5, scoring='roc_auc', n_jobs=-1, verbose=3)"
   ]
  },
  {
   "cell_type": "code",
   "execution_count": 189,
   "metadata": {
    "scrolled": true
   },
   "outputs": [
    {
     "name": "stdout",
     "output_type": "stream",
     "text": [
      "Fitting 5 folds for each of 6 candidates, totalling 30 fits\n"
     ]
    },
    {
     "name": "stderr",
     "output_type": "stream",
     "text": [
      "[Parallel(n_jobs=-1)]: Using backend LokyBackend with 4 concurrent workers.\n",
      "[Parallel(n_jobs=-1)]: Done  30 out of  30 | elapsed:  3.2min finished\n",
      "[Parallel(n_jobs=-1)]: Using backend LokyBackend with 4 concurrent workers.\n",
      "/home/guzzo/anaconda3/envs/fluffy-flower/lib/python3.8/site-packages/joblib/externals/loky/process_executor.py:688: UserWarning: A worker stopped while some jobs were given to the executor. This can be caused by a too short worker timeout or by a memory leak.\n",
      "  warnings.warn(\n",
      "[Parallel(n_jobs=-1)]: Done   1 out of   1 | elapsed:    1.6s finished\n"
     ]
    },
    {
     "data": {
      "text/plain": [
       "GridSearchCV(cv=5,\n",
       "             estimator=Pipeline(steps=[('scaler', RobustScaler()),\n",
       "                                       ('classifier',\n",
       "                                        RandomForestClassifier(n_estimators=1000,\n",
       "                                                               n_jobs=-1,\n",
       "                                                               verbose=3))]),\n",
       "             n_jobs=-1,\n",
       "             param_grid=[{'classifier': [RandomForestClassifier(n_estimators=1000,\n",
       "                                                                n_jobs=-1,\n",
       "                                                                verbose=3)],\n",
       "                          'classifier__n_estimators': [1000]},\n",
       "                         {'classifier': [LogisticRegression(C=0.03162277660168379,\n",
       "                                                            n_jobs=-1,\n",
       "                                                            verbose=3)],\n",
       "                          'classifier__C': array([0.001     , 0.00562341, 0.03162278, 0.17782794, 1.        ])}],\n",
       "             scoring='roc_auc', verbose=3)"
      ]
     },
     "execution_count": 189,
     "metadata": {},
     "output_type": "execute_result"
    }
   ],
   "source": [
    "search.fit(X, y)"
   ]
  },
  {
   "cell_type": "code",
   "execution_count": 7,
   "metadata": {},
   "outputs": [
    {
     "ename": "NameError",
     "evalue": "name 'search' is not defined",
     "output_type": "error",
     "traceback": [
      "\u001b[0;31m---------------------------------------------------------------------------\u001b[0m",
      "\u001b[0;31mNameError\u001b[0m                                 Traceback (most recent call last)",
      "\u001b[0;32m<ipython-input-7-ee79d33e3c49>\u001b[0m in \u001b[0;36m<module>\u001b[0;34m\u001b[0m\n\u001b[0;32m----> 1\u001b[0;31m \u001b[0mprint\u001b[0m\u001b[0;34m(\u001b[0m\u001b[0;34mf\"Best parameter (CV score={search.best_score_:3f}):\"\u001b[0m\u001b[0;34m)\u001b[0m\u001b[0;34m\u001b[0m\u001b[0;34m\u001b[0m\u001b[0m\n\u001b[0m",
      "\u001b[0;31mNameError\u001b[0m: name 'search' is not defined"
     ]
    }
   ],
   "source": [
    "print(f\"Best parameter (CV score={search.best_score_:3f}):\")"
   ]
  },
  {
   "cell_type": "code",
   "execution_count": 190,
   "metadata": {},
   "outputs": [
    {
     "name": "stdout",
     "output_type": "stream",
     "text": [
      "Best parameter (CV score=0.804):\n",
      "{'classifier': LogisticRegression(C=0.03162277660168379, n_jobs=-1, verbose=3), 'classifier__C': 0.03162277660168379}\n"
     ]
    }
   ],
   "source": [
    "print(\"Best parameter (CV score=%0.3f):\" % search.best_score_)\n",
    "print(search.best_params_)"
   ]
  },
  {
   "cell_type": "code",
   "execution_count": 191,
   "metadata": {},
   "outputs": [
    {
     "data": {
      "text/plain": [
       "{'mean_fit_time': array([124.00282912,   0.57660871,   0.88422422,   0.99679618,\n",
       "          1.11751976,   1.08143086]),\n",
       " 'std_fit_time': array([42.27868087,  0.09959331,  0.07903   ,  0.12429268,  0.06009767,\n",
       "         0.17195224]),\n",
       " 'mean_score_time': array([4.52459469, 0.00892406, 0.00797758, 0.00903859, 0.00790844,\n",
       "        0.00775328]),\n",
       " 'std_score_time': array([1.53970731e+00, 1.08009186e-03, 1.00834169e-03, 3.34671046e-03,\n",
       "        3.37829909e-04, 5.33342939e-04]),\n",
       " 'param_classifier': masked_array(data=[RandomForestClassifier(n_estimators=1000, n_jobs=-1, verbose=3),\n",
       "                    LogisticRegression(C=0.03162277660168379, n_jobs=-1, verbose=3),\n",
       "                    LogisticRegression(C=0.03162277660168379, n_jobs=-1, verbose=3),\n",
       "                    LogisticRegression(C=0.03162277660168379, n_jobs=-1, verbose=3),\n",
       "                    LogisticRegression(C=0.03162277660168379, n_jobs=-1, verbose=3),\n",
       "                    LogisticRegression(C=0.03162277660168379, n_jobs=-1, verbose=3)],\n",
       "              mask=[False, False, False, False, False, False],\n",
       "        fill_value='?',\n",
       "             dtype=object),\n",
       " 'param_classifier__n_estimators': masked_array(data=[1000, --, --, --, --, --],\n",
       "              mask=[False,  True,  True,  True,  True,  True],\n",
       "        fill_value='?',\n",
       "             dtype=object),\n",
       " 'param_classifier__C': masked_array(data=[--, 0.001, 0.005623413251903491, 0.03162277660168379,\n",
       "                    0.1778279410038923, 1.0],\n",
       "              mask=[ True, False, False, False, False, False],\n",
       "        fill_value='?',\n",
       "             dtype=object),\n",
       " 'params': [{'classifier': RandomForestClassifier(n_estimators=1000, n_jobs=-1, verbose=3),\n",
       "   'classifier__n_estimators': 1000},\n",
       "  {'classifier': LogisticRegression(C=0.03162277660168379, n_jobs=-1, verbose=3),\n",
       "   'classifier__C': 0.001},\n",
       "  {'classifier': LogisticRegression(C=0.03162277660168379, n_jobs=-1, verbose=3),\n",
       "   'classifier__C': 0.005623413251903491},\n",
       "  {'classifier': LogisticRegression(C=0.03162277660168379, n_jobs=-1, verbose=3),\n",
       "   'classifier__C': 0.03162277660168379},\n",
       "  {'classifier': LogisticRegression(C=0.03162277660168379, n_jobs=-1, verbose=3),\n",
       "   'classifier__C': 0.1778279410038923},\n",
       "  {'classifier': LogisticRegression(C=0.03162277660168379, n_jobs=-1, verbose=3),\n",
       "   'classifier__C': 1.0}],\n",
       " 'split0_test_score': array([0.79766114, 0.80197858, 0.80375772, 0.80404176, 0.80407891,\n",
       "        0.80409024]),\n",
       " 'split1_test_score': array([0.79296472, 0.80074031, 0.80164749, 0.80155216, 0.80149697,\n",
       "        0.80148533]),\n",
       " 'split2_test_score': array([0.8015349 , 0.80736033, 0.80847319, 0.80857224, 0.80856884,\n",
       "        0.80856804]),\n",
       " 'split3_test_score': array([0.79544083, 0.79970955, 0.80089176, 0.80091557, 0.80089696,\n",
       "        0.80089487]),\n",
       " 'split4_test_score': array([0.79910716, 0.80544875, 0.80651715, 0.80643943, 0.80638673,\n",
       "        0.80637167]),\n",
       " 'mean_test_score': array([0.79734175, 0.80304751, 0.80425746, 0.80430423, 0.80428568,\n",
       "        0.80428203]),\n",
       " 'std_test_score': array([0.00295205, 0.00289738, 0.00287291, 0.00289485, 0.00290045,\n",
       "        0.00290061]),\n",
       " 'rank_test_score': array([6, 5, 4, 1, 2, 3], dtype=int32)}"
      ]
     },
     "execution_count": 191,
     "metadata": {},
     "output_type": "execute_result"
    }
   ],
   "source": [
    "search.cv_results_"
   ]
  },
  {
   "cell_type": "code",
   "execution_count": 192,
   "metadata": {},
   "outputs": [
    {
     "data": {
      "text/plain": [
       "Pipeline(steps=[('scaler', RobustScaler()),\n",
       "                ('classifier',\n",
       "                 LogisticRegression(C=0.03162277660168379, n_jobs=-1,\n",
       "                                    verbose=3))])"
      ]
     },
     "execution_count": 192,
     "metadata": {},
     "output_type": "execute_result"
    }
   ],
   "source": [
    "search.best_estimator_"
   ]
  },
  {
   "cell_type": "code",
   "execution_count": 193,
   "metadata": {},
   "outputs": [],
   "source": [
    "y_proba = search.predict_proba(x_test)"
   ]
  },
  {
   "cell_type": "code",
   "execution_count": 194,
   "metadata": {},
   "outputs": [
    {
     "data": {
      "image/png": "[encoded data removed]",
      "text/plain": [
       "<Figure size 432x432 with 1 Axes>"
      ]
     },
     "metadata": {},
     "output_type": "display_data"
    }
   ],
   "source": [
    "f1, auc_score = plot_roc_auc_f1(y_test, y_proba);"
   ]
  },
  {
   "cell_type": "code",
   "execution_count": 196,
   "metadata": {},
   "outputs": [],
   "source": [
    "from sklearn.metrics import plot_confusion_matrix, plot_precision_recall_curve, plot_roc_curve"
   ]
  },
  {
   "cell_type": "code",
   "execution_count": 198,
   "metadata": {},
   "outputs": [],
   "source": [
    "import numpy as np"
   ]
  },
  {
   "cell_type": "markdown",
   "metadata": {},
   "source": [
    "#### Balance test set"
   ]
  },
  {
   "cell_type": "code",
   "execution_count": 199,
   "metadata": {},
   "outputs": [
    {
     "data": {
      "text/plain": [
       "((49091, 23), 11101)"
      ]
     },
     "execution_count": 199,
     "metadata": {},
     "output_type": "execute_result"
    }
   ],
   "source": [
    "test.shape, test['is_returning_customer'].sum()"
   ]
  },
  {
   "cell_type": "code",
   "execution_count": 200,
   "metadata": {},
   "outputs": [],
   "source": [
    "test_balanced = pd.concat((test[y_test==1], test[y_test!=1].sample(n=11101, random_state=42)))"
   ]
  },
  {
   "cell_type": "code",
   "execution_count": 201,
   "metadata": {},
   "outputs": [],
   "source": [
    "y_test_bal = test_balanced['is_returning_customer'].to_numpy()"
   ]
  },
  {
   "cell_type": "code",
   "execution_count": 202,
   "metadata": {},
   "outputs": [],
   "source": [
    "x_test_bal = test_balanced.drop(columns=['is_returning_customer']).to_numpy()"
   ]
  },
  {
   "cell_type": "code",
   "execution_count": 203,
   "metadata": {},
   "outputs": [
    {
     "name": "stdout",
     "output_type": "stream",
     "text": [
      "              precision    recall  f1-score   support\n",
      "\n",
      "           0       0.72      0.75      0.74     11101\n",
      "           1       0.74      0.71      0.73     11101\n",
      "\n",
      "    accuracy                           0.73     22202\n",
      "   macro avg       0.73      0.73      0.73     22202\n",
      "weighted avg       0.73      0.73      0.73     22202\n",
      "\n"
     ]
    }
   ],
   "source": [
    "print(classification_report(y_test_bal, search.predict(x_test_bal)))"
   ]
  },
  {
   "cell_type": "code",
   "execution_count": 204,
   "metadata": {},
   "outputs": [
    {
     "data": {
      "image/png": "[encoded data removed]",
      "text/plain": [
       "<Figure size 432x288 with 2 Axes>"
      ]
     },
     "metadata": {},
     "output_type": "display_data"
    }
   ],
   "source": [
    "plot_confusion_matrix(search, x_test_bal, y_test_bal);"
   ]
  },
  {
   "cell_type": "code",
   "execution_count": 205,
   "metadata": {},
   "outputs": [
    {
     "data": {
      "text/plain": [
       "<sklearn.metrics._plot.precision_recall_curve.PrecisionRecallDisplay at 0x7f5776bcbe80>"
      ]
     },
     "execution_count": 205,
     "metadata": {},
     "output_type": "execute_result"
    },
    {
     "data": {
      "image/png": "[encoded data removed]",
      "text/plain": [
       "<Figure size 432x288 with 1 Axes>"
      ]
     },
     "metadata": {},
     "output_type": "display_data"
    }
   ],
   "source": [
    "plot_precision_recall_curve(search, x_test_bal, y_test_bal)"
   ]
  },
  {
   "cell_type": "code",
   "execution_count": 206,
   "metadata": {},
   "outputs": [
    {
     "data": {
      "text/plain": [
       "(0.7269477543538038, 0.7984696224000738)"
      ]
     },
     "execution_count": 206,
     "metadata": {},
     "output_type": "execute_result"
    },
    {
     "data": {
      "image/png": "[encoded data removed]",
      "text/plain": [
       "<Figure size 432x432 with 1 Axes>"
      ]
     },
     "metadata": {},
     "output_type": "display_data"
    }
   ],
   "source": [
    "plot_roc_auc_f1(y_test_bal, search.predict_proba(x_test_bal))"
   ]
  },
  {
   "cell_type": "code",
   "execution_count": 207,
   "metadata": {
    "scrolled": false
   },
   "outputs": [
    {
     "data": {
      "image/png": "[encoded data removed]",
      "text/plain": [
       "<Figure size 432x288 with 1 Axes>"
      ]
     },
     "metadata": {},
     "output_type": "display_data"
    }
   ],
   "source": [
    "y_proba = search.predict_proba(x_test_bal)\n",
    "pd.Series(y_proba[:, 1]).loc[y_test_bal>=.5].plot.hist(bins=99, alpha=.5, label='Positive')\n",
    "pd.Series(y_proba[:, 1]).loc[y_test_bal<.5].plot.hist(bins=99, alpha=.5, label='Negative')\n",
    "plt.legend();"
   ]
  },
  {
   "cell_type": "code",
   "execution_count": null,
   "metadata": {},
   "outputs": [],
   "source": []
  }
 ],
 "metadata": {
  "kernelspec": {
   "display_name": "Python 3",
   "language": "python",
   "name": "python3"
  },
  "language_info": {
   "codemirror_mode": {
    "name": "ipython",
    "version": 3
   },
   "file_extension": ".py",
   "mimetype": "text/x-python",
   "name": "python",
   "nbconvert_exporter": "python",
   "pygments_lexer": "ipython3",
   "version": "3.8.6"
  }
 },
 "nbformat": 4,
 "nbformat_minor": 4
}

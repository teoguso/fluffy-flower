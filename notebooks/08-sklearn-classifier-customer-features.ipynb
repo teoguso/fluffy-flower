{
 "cells": [
  {
   "cell_type": "markdown",
   "metadata": {},
   "source": [
    "# Non-categorical ML model\n",
    "\n",
    "Here we train a model using features from non-categorical columns,\n",
    "which were previously extracted.\n",
    "\n",
    "We use a grid search algorithm to find the best model between\n",
    "a random forest and a logistic regression.\n",
    "These two were chosen, among other reasons, because they can automatically predict\n",
    "probabilities and not just a yes/no answer."
   ]
  },
  {
   "cell_type": "code",
   "execution_count": 53,
   "metadata": {},
   "outputs": [],
   "source": [
    "import numpy as np\n",
    "import pandas as pd"
   ]
  },
  {
   "cell_type": "code",
   "execution_count": 2,
   "metadata": {},
   "outputs": [],
   "source": [
    "import matplotlib.pyplot as plt\n",
    "import seaborn as sns\n",
    "\n",
    "%matplotlib inline"
   ]
  },
  {
   "cell_type": "code",
   "execution_count": 3,
   "metadata": {},
   "outputs": [],
   "source": [
    "from sklearn.decomposition import PCA\n",
    "from sklearn.svm import SVC\n",
    "from sklearn.ensemble import RandomForestClassifier\n",
    "from sklearn.model_selection import train_test_split\n",
    "from sklearn.metrics import auc, f1_score, confusion_matrix, roc_curve, classification_report\n",
    "from sklearn.model_selection import GridSearchCV\n",
    "from sklearn.pipeline import Pipeline"
   ]
  },
  {
   "cell_type": "code",
   "execution_count": 4,
   "metadata": {},
   "outputs": [],
   "source": [
    "plt.style.use('ggplot')"
   ]
  },
  {
   "cell_type": "code",
   "execution_count": 5,
   "metadata": {},
   "outputs": [],
   "source": [
    "customer_features = pd.read_json(\n",
    "    \"../data/customer_features.json\",\n",
    "    orient='table',\n",
    ")"
   ]
  },
  {
   "cell_type": "code",
   "execution_count": 6,
   "metadata": {},
   "outputs": [
    {
     "data": {
      "text/html": [
       "<div>\n",
       "<style scoped>\n",
       "    .dataframe tbody tr th:only-of-type {\n",
       "        vertical-align: middle;\n",
       "    }\n",
       "\n",
       "    .dataframe tbody tr th {\n",
       "        vertical-align: top;\n",
       "    }\n",
       "\n",
       "    .dataframe thead th {\n",
       "        text-align: right;\n",
       "    }\n",
       "</style>\n",
       "<table border=\"1\" class=\"dataframe\">\n",
       "  <thead>\n",
       "    <tr style=\"text-align: right;\">\n",
       "      <th></th>\n",
       "      <th>last_order_age_days</th>\n",
       "      <th>n_orders_holidays</th>\n",
       "      <th>mean_hour_of_day</th>\n",
       "      <th>std_hour_of_day</th>\n",
       "      <th>mean_day_of_week</th>\n",
       "      <th>std_day_of_week</th>\n",
       "      <th>first_order_age_days</th>\n",
       "      <th>n_orders</th>\n",
       "      <th>max_customer_order_rank</th>\n",
       "      <th>n_failed</th>\n",
       "      <th>...</th>\n",
       "      <th>n_vouchers</th>\n",
       "      <th>tot_delivery_fee</th>\n",
       "      <th>max_delivery_fee</th>\n",
       "      <th>n_delivery_fee</th>\n",
       "      <th>tot_amount_paid</th>\n",
       "      <th>avg_amount_paid</th>\n",
       "      <th>max_amount_paid</th>\n",
       "      <th>min_amount_paid</th>\n",
       "      <th>n_restaurants</th>\n",
       "      <th>n_cities</th>\n",
       "    </tr>\n",
       "    <tr>\n",
       "      <th>customer_id</th>\n",
       "      <th></th>\n",
       "      <th></th>\n",
       "      <th></th>\n",
       "      <th></th>\n",
       "      <th></th>\n",
       "      <th></th>\n",
       "      <th></th>\n",
       "      <th></th>\n",
       "      <th></th>\n",
       "      <th></th>\n",
       "      <th></th>\n",
       "      <th></th>\n",
       "      <th></th>\n",
       "      <th></th>\n",
       "      <th></th>\n",
       "      <th></th>\n",
       "      <th></th>\n",
       "      <th></th>\n",
       "      <th></th>\n",
       "      <th></th>\n",
       "      <th></th>\n",
       "    </tr>\n",
       "  </thead>\n",
       "  <tbody>\n",
       "    <tr>\n",
       "      <th>000097eabfd9</th>\n",
       "      <td>618</td>\n",
       "      <td>0</td>\n",
       "      <td>19.0</td>\n",
       "      <td>0.0</td>\n",
       "      <td>5.0</td>\n",
       "      <td>0.0</td>\n",
       "      <td>618</td>\n",
       "      <td>1</td>\n",
       "      <td>1</td>\n",
       "      <td>0</td>\n",
       "      <td>...</td>\n",
       "      <td>0</td>\n",
       "      <td>0.000</td>\n",
       "      <td>0.000</td>\n",
       "      <td>0</td>\n",
       "      <td>11.46960</td>\n",
       "      <td>11.46960</td>\n",
       "      <td>11.46960</td>\n",
       "      <td>11.46960</td>\n",
       "      <td>1</td>\n",
       "      <td>1</td>\n",
       "    </tr>\n",
       "    <tr>\n",
       "      <th>0000e2c6d9be</th>\n",
       "      <td>395</td>\n",
       "      <td>0</td>\n",
       "      <td>20.0</td>\n",
       "      <td>0.0</td>\n",
       "      <td>4.0</td>\n",
       "      <td>0.0</td>\n",
       "      <td>395</td>\n",
       "      <td>1</td>\n",
       "      <td>1</td>\n",
       "      <td>0</td>\n",
       "      <td>...</td>\n",
       "      <td>0</td>\n",
       "      <td>0.000</td>\n",
       "      <td>0.000</td>\n",
       "      <td>0</td>\n",
       "      <td>9.55800</td>\n",
       "      <td>9.55800</td>\n",
       "      <td>9.55800</td>\n",
       "      <td>9.55800</td>\n",
       "      <td>1</td>\n",
       "      <td>1</td>\n",
       "    </tr>\n",
       "    <tr>\n",
       "      <th>000133bb597f</th>\n",
       "      <td>1</td>\n",
       "      <td>0</td>\n",
       "      <td>19.0</td>\n",
       "      <td>0.0</td>\n",
       "      <td>6.0</td>\n",
       "      <td>0.0</td>\n",
       "      <td>1</td>\n",
       "      <td>1</td>\n",
       "      <td>1</td>\n",
       "      <td>0</td>\n",
       "      <td>...</td>\n",
       "      <td>0</td>\n",
       "      <td>0.493</td>\n",
       "      <td>0.493</td>\n",
       "      <td>1</td>\n",
       "      <td>5.93658</td>\n",
       "      <td>5.93658</td>\n",
       "      <td>5.93658</td>\n",
       "      <td>5.93658</td>\n",
       "      <td>1</td>\n",
       "      <td>1</td>\n",
       "    </tr>\n",
       "    <tr>\n",
       "      <th>00018269939b</th>\n",
       "      <td>22</td>\n",
       "      <td>0</td>\n",
       "      <td>17.0</td>\n",
       "      <td>0.0</td>\n",
       "      <td>6.0</td>\n",
       "      <td>0.0</td>\n",
       "      <td>22</td>\n",
       "      <td>1</td>\n",
       "      <td>1</td>\n",
       "      <td>0</td>\n",
       "      <td>...</td>\n",
       "      <td>0</td>\n",
       "      <td>0.493</td>\n",
       "      <td>0.493</td>\n",
       "      <td>1</td>\n",
       "      <td>9.82350</td>\n",
       "      <td>9.82350</td>\n",
       "      <td>9.82350</td>\n",
       "      <td>9.82350</td>\n",
       "      <td>1</td>\n",
       "      <td>1</td>\n",
       "    </tr>\n",
       "    <tr>\n",
       "      <th>0001a00468a6</th>\n",
       "      <td>573</td>\n",
       "      <td>0</td>\n",
       "      <td>19.0</td>\n",
       "      <td>0.0</td>\n",
       "      <td>1.0</td>\n",
       "      <td>0.0</td>\n",
       "      <td>573</td>\n",
       "      <td>1</td>\n",
       "      <td>1</td>\n",
       "      <td>0</td>\n",
       "      <td>...</td>\n",
       "      <td>0</td>\n",
       "      <td>0.493</td>\n",
       "      <td>0.493</td>\n",
       "      <td>1</td>\n",
       "      <td>5.15070</td>\n",
       "      <td>5.15070</td>\n",
       "      <td>5.15070</td>\n",
       "      <td>5.15070</td>\n",
       "      <td>1</td>\n",
       "      <td>1</td>\n",
       "    </tr>\n",
       "  </tbody>\n",
       "</table>\n",
       "<p>5 rows × 22 columns</p>\n",
       "</div>"
      ],
      "text/plain": [
       "              last_order_age_days  n_orders_holidays  mean_hour_of_day  \\\n",
       "customer_id                                                              \n",
       "000097eabfd9                  618                  0              19.0   \n",
       "0000e2c6d9be                  395                  0              20.0   \n",
       "000133bb597f                    1                  0              19.0   \n",
       "00018269939b                   22                  0              17.0   \n",
       "0001a00468a6                  573                  0              19.0   \n",
       "\n",
       "              std_hour_of_day  mean_day_of_week  std_day_of_week  \\\n",
       "customer_id                                                        \n",
       "000097eabfd9              0.0               5.0              0.0   \n",
       "0000e2c6d9be              0.0               4.0              0.0   \n",
       "000133bb597f              0.0               6.0              0.0   \n",
       "00018269939b              0.0               6.0              0.0   \n",
       "0001a00468a6              0.0               1.0              0.0   \n",
       "\n",
       "              first_order_age_days  n_orders  max_customer_order_rank  \\\n",
       "customer_id                                                             \n",
       "000097eabfd9                   618         1                        1   \n",
       "0000e2c6d9be                   395         1                        1   \n",
       "000133bb597f                     1         1                        1   \n",
       "00018269939b                    22         1                        1   \n",
       "0001a00468a6                   573         1                        1   \n",
       "\n",
       "              n_failed  ...  n_vouchers  tot_delivery_fee  max_delivery_fee  \\\n",
       "customer_id             ...                                                   \n",
       "000097eabfd9         0  ...           0             0.000             0.000   \n",
       "0000e2c6d9be         0  ...           0             0.000             0.000   \n",
       "000133bb597f         0  ...           0             0.493             0.493   \n",
       "00018269939b         0  ...           0             0.493             0.493   \n",
       "0001a00468a6         0  ...           0             0.493             0.493   \n",
       "\n",
       "              n_delivery_fee  tot_amount_paid  avg_amount_paid  \\\n",
       "customer_id                                                      \n",
       "000097eabfd9               0         11.46960         11.46960   \n",
       "0000e2c6d9be               0          9.55800          9.55800   \n",
       "000133bb597f               1          5.93658          5.93658   \n",
       "00018269939b               1          9.82350          9.82350   \n",
       "0001a00468a6               1          5.15070          5.15070   \n",
       "\n",
       "              max_amount_paid  min_amount_paid  n_restaurants  n_cities  \n",
       "customer_id                                                              \n",
       "000097eabfd9         11.46960         11.46960              1         1  \n",
       "0000e2c6d9be          9.55800          9.55800              1         1  \n",
       "000133bb597f          5.93658          5.93658              1         1  \n",
       "00018269939b          9.82350          9.82350              1         1  \n",
       "0001a00468a6          5.15070          5.15070              1         1  \n",
       "\n",
       "[5 rows x 22 columns]"
      ]
     },
     "execution_count": 6,
     "metadata": {},
     "output_type": "execute_result"
    }
   ],
   "source": [
    "customer_features.head()"
   ]
  },
  {
   "cell_type": "code",
   "execution_count": 7,
   "metadata": {},
   "outputs": [
    {
     "data": {
      "text/html": [
       "<div>\n",
       "<style scoped>\n",
       "    .dataframe tbody tr th:only-of-type {\n",
       "        vertical-align: middle;\n",
       "    }\n",
       "\n",
       "    .dataframe tbody tr th {\n",
       "        vertical-align: top;\n",
       "    }\n",
       "\n",
       "    .dataframe thead th {\n",
       "        text-align: right;\n",
       "    }\n",
       "</style>\n",
       "<table border=\"1\" class=\"dataframe\">\n",
       "  <thead>\n",
       "    <tr style=\"text-align: right;\">\n",
       "      <th></th>\n",
       "      <th>last_order_age_days</th>\n",
       "      <th>n_orders_holidays</th>\n",
       "      <th>mean_hour_of_day</th>\n",
       "      <th>std_hour_of_day</th>\n",
       "      <th>mean_day_of_week</th>\n",
       "      <th>std_day_of_week</th>\n",
       "      <th>first_order_age_days</th>\n",
       "      <th>n_orders</th>\n",
       "      <th>max_customer_order_rank</th>\n",
       "      <th>n_failed</th>\n",
       "      <th>...</th>\n",
       "      <th>n_vouchers</th>\n",
       "      <th>tot_delivery_fee</th>\n",
       "      <th>max_delivery_fee</th>\n",
       "      <th>n_delivery_fee</th>\n",
       "      <th>tot_amount_paid</th>\n",
       "      <th>avg_amount_paid</th>\n",
       "      <th>max_amount_paid</th>\n",
       "      <th>min_amount_paid</th>\n",
       "      <th>n_restaurants</th>\n",
       "      <th>n_cities</th>\n",
       "    </tr>\n",
       "  </thead>\n",
       "  <tbody>\n",
       "    <tr>\n",
       "      <th>count</th>\n",
       "      <td>245453.000000</td>\n",
       "      <td>245453.000000</td>\n",
       "      <td>245453.000000</td>\n",
       "      <td>245453.000000</td>\n",
       "      <td>245453.000000</td>\n",
       "      <td>245453.000000</td>\n",
       "      <td>245453.000000</td>\n",
       "      <td>245453.000000</td>\n",
       "      <td>245453.000000</td>\n",
       "      <td>245453.000000</td>\n",
       "      <td>...</td>\n",
       "      <td>245453.000000</td>\n",
       "      <td>245453.000000</td>\n",
       "      <td>245453.000000</td>\n",
       "      <td>245453.000000</td>\n",
       "      <td>245453.000000</td>\n",
       "      <td>245453.000000</td>\n",
       "      <td>245453.000000</td>\n",
       "      <td>245453.000000</td>\n",
       "      <td>245453.000000</td>\n",
       "      <td>245453.000000</td>\n",
       "    </tr>\n",
       "    <tr>\n",
       "      <th>mean</th>\n",
       "      <td>265.355596</td>\n",
       "      <td>0.044163</td>\n",
       "      <td>17.609131</td>\n",
       "      <td>0.843742</td>\n",
       "      <td>3.643467</td>\n",
       "      <td>0.676805</td>\n",
       "      <td>350.000860</td>\n",
       "      <td>3.204471</td>\n",
       "      <td>3.103771</td>\n",
       "      <td>0.100879</td>\n",
       "      <td>...</td>\n",
       "      <td>0.175728</td>\n",
       "      <td>0.580587</td>\n",
       "      <td>0.263447</td>\n",
       "      <td>0.770217</td>\n",
       "      <td>32.632107</td>\n",
       "      <td>10.807432</td>\n",
       "      <td>12.333919</td>\n",
       "      <td>9.667637</td>\n",
       "      <td>1.760740</td>\n",
       "      <td>1.044888</td>\n",
       "    </tr>\n",
       "    <tr>\n",
       "      <th>std</th>\n",
       "      <td>213.407529</td>\n",
       "      <td>0.232141</td>\n",
       "      <td>3.169967</td>\n",
       "      <td>1.606977</td>\n",
       "      <td>1.777547</td>\n",
       "      <td>1.028744</td>\n",
       "      <td>214.135876</td>\n",
       "      <td>7.025662</td>\n",
       "      <td>6.770718</td>\n",
       "      <td>0.655361</td>\n",
       "      <td>...</td>\n",
       "      <td>1.024720</td>\n",
       "      <td>2.332823</td>\n",
       "      <td>0.445920</td>\n",
       "      <td>2.820744</td>\n",
       "      <td>70.024476</td>\n",
       "      <td>5.798882</td>\n",
       "      <td>7.334218</td>\n",
       "      <td>5.651658</td>\n",
       "      <td>1.843813</td>\n",
       "      <td>0.263277</td>\n",
       "    </tr>\n",
       "    <tr>\n",
       "      <th>min</th>\n",
       "      <td>0.000000</td>\n",
       "      <td>0.000000</td>\n",
       "      <td>0.000000</td>\n",
       "      <td>0.000000</td>\n",
       "      <td>0.000000</td>\n",
       "      <td>0.000000</td>\n",
       "      <td>0.000000</td>\n",
       "      <td>1.000000</td>\n",
       "      <td>0.000000</td>\n",
       "      <td>0.000000</td>\n",
       "      <td>...</td>\n",
       "      <td>0.000000</td>\n",
       "      <td>0.000000</td>\n",
       "      <td>0.000000</td>\n",
       "      <td>0.000000</td>\n",
       "      <td>0.000000</td>\n",
       "      <td>0.000000</td>\n",
       "      <td>0.000000</td>\n",
       "      <td>0.000000</td>\n",
       "      <td>1.000000</td>\n",
       "      <td>1.000000</td>\n",
       "    </tr>\n",
       "    <tr>\n",
       "      <th>25%</th>\n",
       "      <td>70.000000</td>\n",
       "      <td>0.000000</td>\n",
       "      <td>16.500000</td>\n",
       "      <td>0.000000</td>\n",
       "      <td>2.500000</td>\n",
       "      <td>0.000000</td>\n",
       "      <td>155.000000</td>\n",
       "      <td>1.000000</td>\n",
       "      <td>1.000000</td>\n",
       "      <td>0.000000</td>\n",
       "      <td>...</td>\n",
       "      <td>0.000000</td>\n",
       "      <td>0.000000</td>\n",
       "      <td>0.000000</td>\n",
       "      <td>0.000000</td>\n",
       "      <td>8.867700</td>\n",
       "      <td>7.398600</td>\n",
       "      <td>7.965000</td>\n",
       "      <td>6.106500</td>\n",
       "      <td>1.000000</td>\n",
       "      <td>1.000000</td>\n",
       "    </tr>\n",
       "    <tr>\n",
       "      <th>50%</th>\n",
       "      <td>221.000000</td>\n",
       "      <td>0.000000</td>\n",
       "      <td>18.000000</td>\n",
       "      <td>0.000000</td>\n",
       "      <td>4.000000</td>\n",
       "      <td>0.000000</td>\n",
       "      <td>352.000000</td>\n",
       "      <td>1.000000</td>\n",
       "      <td>1.000000</td>\n",
       "      <td>0.000000</td>\n",
       "      <td>...</td>\n",
       "      <td>0.000000</td>\n",
       "      <td>0.000000</td>\n",
       "      <td>0.000000</td>\n",
       "      <td>0.000000</td>\n",
       "      <td>14.172390</td>\n",
       "      <td>9.717300</td>\n",
       "      <td>10.938600</td>\n",
       "      <td>8.485380</td>\n",
       "      <td>1.000000</td>\n",
       "      <td>1.000000</td>\n",
       "    </tr>\n",
       "    <tr>\n",
       "      <th>75%</th>\n",
       "      <td>430.000000</td>\n",
       "      <td>0.000000</td>\n",
       "      <td>19.500000</td>\n",
       "      <td>1.303840</td>\n",
       "      <td>5.000000</td>\n",
       "      <td>1.414214</td>\n",
       "      <td>533.000000</td>\n",
       "      <td>3.000000</td>\n",
       "      <td>2.000000</td>\n",
       "      <td>0.000000</td>\n",
       "      <td>...</td>\n",
       "      <td>0.000000</td>\n",
       "      <td>0.493000</td>\n",
       "      <td>0.493000</td>\n",
       "      <td>1.000000</td>\n",
       "      <td>28.408500</td>\n",
       "      <td>12.810375</td>\n",
       "      <td>14.921100</td>\n",
       "      <td>11.682000</td>\n",
       "      <td>2.000000</td>\n",
       "      <td>1.000000</td>\n",
       "    </tr>\n",
       "    <tr>\n",
       "      <th>max</th>\n",
       "      <td>729.000000</td>\n",
       "      <td>6.000000</td>\n",
       "      <td>23.000000</td>\n",
       "      <td>16.263456</td>\n",
       "      <td>6.000000</td>\n",
       "      <td>4.242641</td>\n",
       "      <td>729.000000</td>\n",
       "      <td>386.000000</td>\n",
       "      <td>369.000000</td>\n",
       "      <td>91.000000</td>\n",
       "      <td>...</td>\n",
       "      <td>98.000000</td>\n",
       "      <td>376.898500</td>\n",
       "      <td>9.860000</td>\n",
       "      <td>381.000000</td>\n",
       "      <td>6077.698560</td>\n",
       "      <td>677.025000</td>\n",
       "      <td>1131.030000</td>\n",
       "      <td>237.516300</td>\n",
       "      <td>51.000000</td>\n",
       "      <td>26.000000</td>\n",
       "    </tr>\n",
       "  </tbody>\n",
       "</table>\n",
       "<p>8 rows × 22 columns</p>\n",
       "</div>"
      ],
      "text/plain": [
       "       last_order_age_days  n_orders_holidays  mean_hour_of_day  \\\n",
       "count        245453.000000      245453.000000     245453.000000   \n",
       "mean            265.355596           0.044163         17.609131   \n",
       "std             213.407529           0.232141          3.169967   \n",
       "min               0.000000           0.000000          0.000000   \n",
       "25%              70.000000           0.000000         16.500000   \n",
       "50%             221.000000           0.000000         18.000000   \n",
       "75%             430.000000           0.000000         19.500000   \n",
       "max             729.000000           6.000000         23.000000   \n",
       "\n",
       "       std_hour_of_day  mean_day_of_week  std_day_of_week  \\\n",
       "count    245453.000000     245453.000000    245453.000000   \n",
       "mean          0.843742          3.643467         0.676805   \n",
       "std           1.606977          1.777547         1.028744   \n",
       "min           0.000000          0.000000         0.000000   \n",
       "25%           0.000000          2.500000         0.000000   \n",
       "50%           0.000000          4.000000         0.000000   \n",
       "75%           1.303840          5.000000         1.414214   \n",
       "max          16.263456          6.000000         4.242641   \n",
       "\n",
       "       first_order_age_days       n_orders  max_customer_order_rank  \\\n",
       "count         245453.000000  245453.000000            245453.000000   \n",
       "mean             350.000860       3.204471                 3.103771   \n",
       "std              214.135876       7.025662                 6.770718   \n",
       "min                0.000000       1.000000                 0.000000   \n",
       "25%              155.000000       1.000000                 1.000000   \n",
       "50%              352.000000       1.000000                 1.000000   \n",
       "75%              533.000000       3.000000                 2.000000   \n",
       "max              729.000000     386.000000               369.000000   \n",
       "\n",
       "            n_failed  ...     n_vouchers  tot_delivery_fee  max_delivery_fee  \\\n",
       "count  245453.000000  ...  245453.000000     245453.000000     245453.000000   \n",
       "mean        0.100879  ...       0.175728          0.580587          0.263447   \n",
       "std         0.655361  ...       1.024720          2.332823          0.445920   \n",
       "min         0.000000  ...       0.000000          0.000000          0.000000   \n",
       "25%         0.000000  ...       0.000000          0.000000          0.000000   \n",
       "50%         0.000000  ...       0.000000          0.000000          0.000000   \n",
       "75%         0.000000  ...       0.000000          0.493000          0.493000   \n",
       "max        91.000000  ...      98.000000        376.898500          9.860000   \n",
       "\n",
       "       n_delivery_fee  tot_amount_paid  avg_amount_paid  max_amount_paid  \\\n",
       "count   245453.000000    245453.000000    245453.000000    245453.000000   \n",
       "mean         0.770217        32.632107        10.807432        12.333919   \n",
       "std          2.820744        70.024476         5.798882         7.334218   \n",
       "min          0.000000         0.000000         0.000000         0.000000   \n",
       "25%          0.000000         8.867700         7.398600         7.965000   \n",
       "50%          0.000000        14.172390         9.717300        10.938600   \n",
       "75%          1.000000        28.408500        12.810375        14.921100   \n",
       "max        381.000000      6077.698560       677.025000      1131.030000   \n",
       "\n",
       "       min_amount_paid  n_restaurants       n_cities  \n",
       "count    245453.000000  245453.000000  245453.000000  \n",
       "mean          9.667637       1.760740       1.044888  \n",
       "std           5.651658       1.843813       0.263277  \n",
       "min           0.000000       1.000000       1.000000  \n",
       "25%           6.106500       1.000000       1.000000  \n",
       "50%           8.485380       1.000000       1.000000  \n",
       "75%          11.682000       2.000000       1.000000  \n",
       "max         237.516300      51.000000      26.000000  \n",
       "\n",
       "[8 rows x 22 columns]"
      ]
     },
     "execution_count": 7,
     "metadata": {},
     "output_type": "execute_result"
    }
   ],
   "source": [
    "customer_features.describe()"
   ]
  },
  {
   "cell_type": "code",
   "execution_count": 8,
   "metadata": {},
   "outputs": [
    {
     "name": "stdout",
     "output_type": "stream",
     "text": [
      "<class 'pandas.core.frame.DataFrame'>\n",
      "Index: 245453 entries, 000097eabfd9 to ffffccbfc8a4\n",
      "Data columns (total 22 columns):\n",
      " #   Column                   Non-Null Count   Dtype  \n",
      "---  ------                   --------------   -----  \n",
      " 0   last_order_age_days      245453 non-null  int64  \n",
      " 1   n_orders_holidays        245453 non-null  int64  \n",
      " 2   mean_hour_of_day         245453 non-null  float64\n",
      " 3   std_hour_of_day          245453 non-null  float64\n",
      " 4   mean_day_of_week         245453 non-null  float64\n",
      " 5   std_day_of_week          245453 non-null  float64\n",
      " 6   first_order_age_days     245453 non-null  int64  \n",
      " 7   n_orders                 245453 non-null  int64  \n",
      " 8   max_customer_order_rank  245453 non-null  int64  \n",
      " 9   n_failed                 245453 non-null  int64  \n",
      " 10  max_voucher_amount       245453 non-null  float64\n",
      " 11  tot_voucher_amount       245453 non-null  float64\n",
      " 12  n_vouchers               245453 non-null  int64  \n",
      " 13  tot_delivery_fee         245453 non-null  float64\n",
      " 14  max_delivery_fee         245453 non-null  float64\n",
      " 15  n_delivery_fee           245453 non-null  int64  \n",
      " 16  tot_amount_paid          245453 non-null  float64\n",
      " 17  avg_amount_paid          245453 non-null  float64\n",
      " 18  max_amount_paid          245453 non-null  float64\n",
      " 19  min_amount_paid          245453 non-null  float64\n",
      " 20  n_restaurants            245453 non-null  int64  \n",
      " 21  n_cities                 245453 non-null  int64  \n",
      "dtypes: float64(12), int64(10)\n",
      "memory usage: 43.1+ MB\n"
     ]
    }
   ],
   "source": [
    "customer_features.info()"
   ]
  },
  {
   "cell_type": "code",
   "execution_count": 9,
   "metadata": {},
   "outputs": [],
   "source": [
    "labels = pd.read_csv(\"../data/machine_learning_challenge_labeled_data.csv.gz\")"
   ]
  },
  {
   "cell_type": "code",
   "execution_count": 10,
   "metadata": {},
   "outputs": [
    {
     "data": {
      "text/html": [
       "<div>\n",
       "<style scoped>\n",
       "    .dataframe tbody tr th:only-of-type {\n",
       "        vertical-align: middle;\n",
       "    }\n",
       "\n",
       "    .dataframe tbody tr th {\n",
       "        vertical-align: top;\n",
       "    }\n",
       "\n",
       "    .dataframe thead th {\n",
       "        text-align: right;\n",
       "    }\n",
       "</style>\n",
       "<table border=\"1\" class=\"dataframe\">\n",
       "  <thead>\n",
       "    <tr style=\"text-align: right;\">\n",
       "      <th></th>\n",
       "      <th>customer_id</th>\n",
       "      <th>is_returning_customer</th>\n",
       "    </tr>\n",
       "  </thead>\n",
       "  <tbody>\n",
       "    <tr>\n",
       "      <th>0</th>\n",
       "      <td>000097eabfd9</td>\n",
       "      <td>0</td>\n",
       "    </tr>\n",
       "    <tr>\n",
       "      <th>1</th>\n",
       "      <td>0000e2c6d9be</td>\n",
       "      <td>0</td>\n",
       "    </tr>\n",
       "    <tr>\n",
       "      <th>2</th>\n",
       "      <td>000133bb597f</td>\n",
       "      <td>1</td>\n",
       "    </tr>\n",
       "    <tr>\n",
       "      <th>3</th>\n",
       "      <td>00018269939b</td>\n",
       "      <td>0</td>\n",
       "    </tr>\n",
       "    <tr>\n",
       "      <th>4</th>\n",
       "      <td>0001a00468a6</td>\n",
       "      <td>0</td>\n",
       "    </tr>\n",
       "  </tbody>\n",
       "</table>\n",
       "</div>"
      ],
      "text/plain": [
       "    customer_id  is_returning_customer\n",
       "0  000097eabfd9                      0\n",
       "1  0000e2c6d9be                      0\n",
       "2  000133bb597f                      1\n",
       "3  00018269939b                      0\n",
       "4  0001a00468a6                      0"
      ]
     },
     "execution_count": 10,
     "metadata": {},
     "output_type": "execute_result"
    }
   ],
   "source": [
    "labels.head()"
   ]
  },
  {
   "cell_type": "code",
   "execution_count": 11,
   "metadata": {},
   "outputs": [
    {
     "data": {
      "text/html": [
       "<div>\n",
       "<style scoped>\n",
       "    .dataframe tbody tr th:only-of-type {\n",
       "        vertical-align: middle;\n",
       "    }\n",
       "\n",
       "    .dataframe tbody tr th {\n",
       "        vertical-align: top;\n",
       "    }\n",
       "\n",
       "    .dataframe thead th {\n",
       "        text-align: right;\n",
       "    }\n",
       "</style>\n",
       "<table border=\"1\" class=\"dataframe\">\n",
       "  <thead>\n",
       "    <tr style=\"text-align: right;\">\n",
       "      <th></th>\n",
       "      <th>is_returning_customer</th>\n",
       "    </tr>\n",
       "    <tr>\n",
       "      <th>customer_id</th>\n",
       "      <th></th>\n",
       "    </tr>\n",
       "  </thead>\n",
       "  <tbody>\n",
       "    <tr>\n",
       "      <th>000097eabfd9</th>\n",
       "      <td>0</td>\n",
       "    </tr>\n",
       "    <tr>\n",
       "      <th>0000e2c6d9be</th>\n",
       "      <td>0</td>\n",
       "    </tr>\n",
       "    <tr>\n",
       "      <th>000133bb597f</th>\n",
       "      <td>1</td>\n",
       "    </tr>\n",
       "    <tr>\n",
       "      <th>00018269939b</th>\n",
       "      <td>0</td>\n",
       "    </tr>\n",
       "    <tr>\n",
       "      <th>0001a00468a6</th>\n",
       "      <td>0</td>\n",
       "    </tr>\n",
       "    <tr>\n",
       "      <th>...</th>\n",
       "      <td>...</td>\n",
       "    </tr>\n",
       "    <tr>\n",
       "      <th>fffd696eaedd</th>\n",
       "      <td>0</td>\n",
       "    </tr>\n",
       "    <tr>\n",
       "      <th>fffe9d5a8d41</th>\n",
       "      <td>1</td>\n",
       "    </tr>\n",
       "    <tr>\n",
       "      <th>ffff347c3cfa</th>\n",
       "      <td>1</td>\n",
       "    </tr>\n",
       "    <tr>\n",
       "      <th>ffff4519b52d</th>\n",
       "      <td>0</td>\n",
       "    </tr>\n",
       "    <tr>\n",
       "      <th>ffffccbfc8a4</th>\n",
       "      <td>0</td>\n",
       "    </tr>\n",
       "  </tbody>\n",
       "</table>\n",
       "<p>245455 rows × 1 columns</p>\n",
       "</div>"
      ],
      "text/plain": [
       "              is_returning_customer\n",
       "customer_id                        \n",
       "000097eabfd9                      0\n",
       "0000e2c6d9be                      0\n",
       "000133bb597f                      1\n",
       "00018269939b                      0\n",
       "0001a00468a6                      0\n",
       "...                             ...\n",
       "fffd696eaedd                      0\n",
       "fffe9d5a8d41                      1\n",
       "ffff347c3cfa                      1\n",
       "ffff4519b52d                      0\n",
       "ffffccbfc8a4                      0\n",
       "\n",
       "[245455 rows x 1 columns]"
      ]
     },
     "execution_count": 11,
     "metadata": {},
     "output_type": "execute_result"
    }
   ],
   "source": [
    "labels.set_index('customer_id')"
   ]
  },
  {
   "cell_type": "code",
   "execution_count": 12,
   "metadata": {},
   "outputs": [],
   "source": [
    "# customer_features['label'] = \n",
    "customer_features = customer_features.join(labels.set_index('customer_id'))"
   ]
  },
  {
   "cell_type": "code",
   "execution_count": 13,
   "metadata": {},
   "outputs": [
    {
     "name": "stdout",
     "output_type": "stream",
     "text": [
      "<class 'pandas.core.frame.DataFrame'>\n",
      "Index: 245453 entries, 000097eabfd9 to ffffccbfc8a4\n",
      "Data columns (total 23 columns):\n",
      " #   Column                   Non-Null Count   Dtype  \n",
      "---  ------                   --------------   -----  \n",
      " 0   last_order_age_days      245453 non-null  int64  \n",
      " 1   n_orders_holidays        245453 non-null  int64  \n",
      " 2   mean_hour_of_day         245453 non-null  float64\n",
      " 3   std_hour_of_day          245453 non-null  float64\n",
      " 4   mean_day_of_week         245453 non-null  float64\n",
      " 5   std_day_of_week          245453 non-null  float64\n",
      " 6   first_order_age_days     245453 non-null  int64  \n",
      " 7   n_orders                 245453 non-null  int64  \n",
      " 8   max_customer_order_rank  245453 non-null  int64  \n",
      " 9   n_failed                 245453 non-null  int64  \n",
      " 10  max_voucher_amount       245453 non-null  float64\n",
      " 11  tot_voucher_amount       245453 non-null  float64\n",
      " 12  n_vouchers               245453 non-null  int64  \n",
      " 13  tot_delivery_fee         245453 non-null  float64\n",
      " 14  max_delivery_fee         245453 non-null  float64\n",
      " 15  n_delivery_fee           245453 non-null  int64  \n",
      " 16  tot_amount_paid          245453 non-null  float64\n",
      " 17  avg_amount_paid          245453 non-null  float64\n",
      " 18  max_amount_paid          245453 non-null  float64\n",
      " 19  min_amount_paid          245453 non-null  float64\n",
      " 20  n_restaurants            245453 non-null  int64  \n",
      " 21  n_cities                 245453 non-null  int64  \n",
      " 22  is_returning_customer    245453 non-null  int64  \n",
      "dtypes: float64(12), int64(11)\n",
      "memory usage: 54.9+ MB\n"
     ]
    }
   ],
   "source": [
    "customer_features.info()"
   ]
  },
  {
   "cell_type": "code",
   "execution_count": 14,
   "metadata": {},
   "outputs": [
    {
     "data": {
      "text/plain": [
       "0.22613921085331323"
      ]
     },
     "execution_count": 14,
     "metadata": {},
     "output_type": "execute_result"
    }
   ],
   "source": [
    "labels['is_returning_customer'].mean()"
   ]
  },
  {
   "cell_type": "markdown",
   "metadata": {},
   "source": [
    "### Model training"
   ]
  },
  {
   "cell_type": "code",
   "execution_count": 15,
   "metadata": {},
   "outputs": [],
   "source": [
    "train, test = train_test_split(\n",
    "            customer_features,\n",
    "            train_size=.8,\n",
    "            shuffle=True,\n",
    "            stratify=customer_features['is_returning_customer'].to_numpy(),\n",
    "            random_state=42,\n",
    "        )"
   ]
  },
  {
   "cell_type": "code",
   "execution_count": 16,
   "metadata": {},
   "outputs": [
    {
     "data": {
      "text/plain": [
       "(0.22613336592619754, 0.2261310627202542)"
      ]
     },
     "execution_count": 16,
     "metadata": {},
     "output_type": "execute_result"
    }
   ],
   "source": [
    "train['is_returning_customer'].mean(), test['is_returning_customer'].mean()"
   ]
  },
  {
   "cell_type": "markdown",
   "metadata": {},
   "source": [
    "#### Balance classes"
   ]
  },
  {
   "cell_type": "code",
   "execution_count": null,
   "metadata": {},
   "outputs": [],
   "source": []
  },
  {
   "cell_type": "code",
   "execution_count": 17,
   "metadata": {},
   "outputs": [
    {
     "data": {
      "text/plain": [
       "is_returning_customer\n",
       "0    151958\n",
       "1     44404\n",
       "Name: n_orders, dtype: int64"
      ]
     },
     "execution_count": 17,
     "metadata": {},
     "output_type": "execute_result"
    }
   ],
   "source": [
    "train.groupby('is_returning_customer')['n_orders'].count()"
   ]
  },
  {
   "cell_type": "code",
   "execution_count": 18,
   "metadata": {},
   "outputs": [
    {
     "data": {
      "text/plain": [
       "44404"
      ]
     },
     "execution_count": 18,
     "metadata": {},
     "output_type": "execute_result"
    }
   ],
   "source": [
    "minority_class_size = train.groupby('is_returning_customer')['n_orders'].count().min()\n",
    "minority_class_size"
   ]
  },
  {
   "cell_type": "code",
   "execution_count": 19,
   "metadata": {},
   "outputs": [],
   "source": [
    "train_negative = train[train['is_returning_customer']==0].sample(n=minority_class_size)"
   ]
  },
  {
   "cell_type": "code",
   "execution_count": 20,
   "metadata": {},
   "outputs": [],
   "source": [
    "train_positive = train[train['is_returning_customer']==1]"
   ]
  },
  {
   "cell_type": "code",
   "execution_count": 21,
   "metadata": {},
   "outputs": [],
   "source": [
    "train = pd.concat((train_positive, train_negative))"
   ]
  },
  {
   "cell_type": "code",
   "execution_count": 22,
   "metadata": {},
   "outputs": [
    {
     "data": {
      "text/html": [
       "<div>\n",
       "<style scoped>\n",
       "    .dataframe tbody tr th:only-of-type {\n",
       "        vertical-align: middle;\n",
       "    }\n",
       "\n",
       "    .dataframe tbody tr th {\n",
       "        vertical-align: top;\n",
       "    }\n",
       "\n",
       "    .dataframe thead th {\n",
       "        text-align: right;\n",
       "    }\n",
       "</style>\n",
       "<table border=\"1\" class=\"dataframe\">\n",
       "  <thead>\n",
       "    <tr style=\"text-align: right;\">\n",
       "      <th></th>\n",
       "      <th>last_order_age_days</th>\n",
       "      <th>n_orders_holidays</th>\n",
       "      <th>mean_hour_of_day</th>\n",
       "      <th>std_hour_of_day</th>\n",
       "      <th>mean_day_of_week</th>\n",
       "      <th>std_day_of_week</th>\n",
       "      <th>first_order_age_days</th>\n",
       "      <th>n_orders</th>\n",
       "      <th>max_customer_order_rank</th>\n",
       "      <th>n_failed</th>\n",
       "      <th>...</th>\n",
       "      <th>tot_delivery_fee</th>\n",
       "      <th>max_delivery_fee</th>\n",
       "      <th>n_delivery_fee</th>\n",
       "      <th>tot_amount_paid</th>\n",
       "      <th>avg_amount_paid</th>\n",
       "      <th>max_amount_paid</th>\n",
       "      <th>min_amount_paid</th>\n",
       "      <th>n_restaurants</th>\n",
       "      <th>n_cities</th>\n",
       "      <th>is_returning_customer</th>\n",
       "    </tr>\n",
       "    <tr>\n",
       "      <th>customer_id</th>\n",
       "      <th></th>\n",
       "      <th></th>\n",
       "      <th></th>\n",
       "      <th></th>\n",
       "      <th></th>\n",
       "      <th></th>\n",
       "      <th></th>\n",
       "      <th></th>\n",
       "      <th></th>\n",
       "      <th></th>\n",
       "      <th></th>\n",
       "      <th></th>\n",
       "      <th></th>\n",
       "      <th></th>\n",
       "      <th></th>\n",
       "      <th></th>\n",
       "      <th></th>\n",
       "      <th></th>\n",
       "      <th></th>\n",
       "      <th></th>\n",
       "      <th></th>\n",
       "    </tr>\n",
       "  </thead>\n",
       "  <tbody>\n",
       "    <tr>\n",
       "      <th>ec962cf4fbf2</th>\n",
       "      <td>6</td>\n",
       "      <td>0</td>\n",
       "      <td>17.500000</td>\n",
       "      <td>0.707107</td>\n",
       "      <td>0.500000</td>\n",
       "      <td>0.707107</td>\n",
       "      <td>77</td>\n",
       "      <td>2</td>\n",
       "      <td>2</td>\n",
       "      <td>0</td>\n",
       "      <td>...</td>\n",
       "      <td>0.00000</td>\n",
       "      <td>0.00000</td>\n",
       "      <td>0</td>\n",
       "      <td>13.80600</td>\n",
       "      <td>6.903000</td>\n",
       "      <td>7.16850</td>\n",
       "      <td>6.63750</td>\n",
       "      <td>1</td>\n",
       "      <td>1</td>\n",
       "      <td>1</td>\n",
       "    </tr>\n",
       "    <tr>\n",
       "      <th>de67868b1554</th>\n",
       "      <td>8</td>\n",
       "      <td>0</td>\n",
       "      <td>18.500000</td>\n",
       "      <td>1.825742</td>\n",
       "      <td>4.937500</td>\n",
       "      <td>1.652019</td>\n",
       "      <td>517</td>\n",
       "      <td>16</td>\n",
       "      <td>16</td>\n",
       "      <td>0</td>\n",
       "      <td>...</td>\n",
       "      <td>5.91600</td>\n",
       "      <td>1.47900</td>\n",
       "      <td>6</td>\n",
       "      <td>193.14063</td>\n",
       "      <td>12.071289</td>\n",
       "      <td>21.77100</td>\n",
       "      <td>6.71184</td>\n",
       "      <td>9</td>\n",
       "      <td>1</td>\n",
       "      <td>1</td>\n",
       "    </tr>\n",
       "    <tr>\n",
       "      <th>81240436bcd6</th>\n",
       "      <td>176</td>\n",
       "      <td>0</td>\n",
       "      <td>15.000000</td>\n",
       "      <td>0.000000</td>\n",
       "      <td>6.000000</td>\n",
       "      <td>0.000000</td>\n",
       "      <td>176</td>\n",
       "      <td>1</td>\n",
       "      <td>1</td>\n",
       "      <td>0</td>\n",
       "      <td>...</td>\n",
       "      <td>0.00000</td>\n",
       "      <td>0.00000</td>\n",
       "      <td>0</td>\n",
       "      <td>11.68200</td>\n",
       "      <td>11.682000</td>\n",
       "      <td>11.68200</td>\n",
       "      <td>11.68200</td>\n",
       "      <td>1</td>\n",
       "      <td>1</td>\n",
       "      <td>1</td>\n",
       "    </tr>\n",
       "    <tr>\n",
       "      <th>8b7e2c92873a</th>\n",
       "      <td>26</td>\n",
       "      <td>0</td>\n",
       "      <td>16.333333</td>\n",
       "      <td>4.041452</td>\n",
       "      <td>2.666667</td>\n",
       "      <td>1.154701</td>\n",
       "      <td>507</td>\n",
       "      <td>3</td>\n",
       "      <td>3</td>\n",
       "      <td>0</td>\n",
       "      <td>...</td>\n",
       "      <td>0.00000</td>\n",
       "      <td>0.00000</td>\n",
       "      <td>0</td>\n",
       "      <td>25.31277</td>\n",
       "      <td>8.437590</td>\n",
       "      <td>12.47850</td>\n",
       "      <td>5.73480</td>\n",
       "      <td>3</td>\n",
       "      <td>1</td>\n",
       "      <td>1</td>\n",
       "    </tr>\n",
       "    <tr>\n",
       "      <th>0b3421fccb92</th>\n",
       "      <td>60</td>\n",
       "      <td>0</td>\n",
       "      <td>14.500000</td>\n",
       "      <td>0.925820</td>\n",
       "      <td>2.250000</td>\n",
       "      <td>1.581139</td>\n",
       "      <td>458</td>\n",
       "      <td>8</td>\n",
       "      <td>8</td>\n",
       "      <td>0</td>\n",
       "      <td>...</td>\n",
       "      <td>1.47900</td>\n",
       "      <td>0.49300</td>\n",
       "      <td>3</td>\n",
       "      <td>70.97877</td>\n",
       "      <td>8.872346</td>\n",
       "      <td>10.59876</td>\n",
       "      <td>7.38090</td>\n",
       "      <td>2</td>\n",
       "      <td>1</td>\n",
       "      <td>1</td>\n",
       "    </tr>\n",
       "    <tr>\n",
       "      <th>...</th>\n",
       "      <td>...</td>\n",
       "      <td>...</td>\n",
       "      <td>...</td>\n",
       "      <td>...</td>\n",
       "      <td>...</td>\n",
       "      <td>...</td>\n",
       "      <td>...</td>\n",
       "      <td>...</td>\n",
       "      <td>...</td>\n",
       "      <td>...</td>\n",
       "      <td>...</td>\n",
       "      <td>...</td>\n",
       "      <td>...</td>\n",
       "      <td>...</td>\n",
       "      <td>...</td>\n",
       "      <td>...</td>\n",
       "      <td>...</td>\n",
       "      <td>...</td>\n",
       "      <td>...</td>\n",
       "      <td>...</td>\n",
       "      <td>...</td>\n",
       "    </tr>\n",
       "    <tr>\n",
       "      <th>d1f956befc59</th>\n",
       "      <td>585</td>\n",
       "      <td>0</td>\n",
       "      <td>16.857143</td>\n",
       "      <td>1.772811</td>\n",
       "      <td>4.285714</td>\n",
       "      <td>2.214670</td>\n",
       "      <td>631</td>\n",
       "      <td>7</td>\n",
       "      <td>5</td>\n",
       "      <td>2</td>\n",
       "      <td>...</td>\n",
       "      <td>1.47900</td>\n",
       "      <td>0.49300</td>\n",
       "      <td>3</td>\n",
       "      <td>51.71940</td>\n",
       "      <td>7.388486</td>\n",
       "      <td>9.29250</td>\n",
       "      <td>5.84100</td>\n",
       "      <td>4</td>\n",
       "      <td>1</td>\n",
       "      <td>0</td>\n",
       "    </tr>\n",
       "    <tr>\n",
       "      <th>2693aae0a24a</th>\n",
       "      <td>134</td>\n",
       "      <td>0</td>\n",
       "      <td>19.000000</td>\n",
       "      <td>0.000000</td>\n",
       "      <td>6.000000</td>\n",
       "      <td>0.000000</td>\n",
       "      <td>134</td>\n",
       "      <td>1</td>\n",
       "      <td>1</td>\n",
       "      <td>0</td>\n",
       "      <td>...</td>\n",
       "      <td>0.00000</td>\n",
       "      <td>0.00000</td>\n",
       "      <td>0</td>\n",
       "      <td>5.49585</td>\n",
       "      <td>5.495850</td>\n",
       "      <td>5.49585</td>\n",
       "      <td>5.49585</td>\n",
       "      <td>1</td>\n",
       "      <td>1</td>\n",
       "      <td>0</td>\n",
       "    </tr>\n",
       "    <tr>\n",
       "      <th>044bf5a74f48</th>\n",
       "      <td>423</td>\n",
       "      <td>1</td>\n",
       "      <td>20.600000</td>\n",
       "      <td>2.073644</td>\n",
       "      <td>4.000000</td>\n",
       "      <td>1.581139</td>\n",
       "      <td>694</td>\n",
       "      <td>5</td>\n",
       "      <td>5</td>\n",
       "      <td>0</td>\n",
       "      <td>...</td>\n",
       "      <td>0.00000</td>\n",
       "      <td>0.00000</td>\n",
       "      <td>0</td>\n",
       "      <td>27.37305</td>\n",
       "      <td>5.474610</td>\n",
       "      <td>9.45180</td>\n",
       "      <td>3.71700</td>\n",
       "      <td>5</td>\n",
       "      <td>1</td>\n",
       "      <td>0</td>\n",
       "    </tr>\n",
       "    <tr>\n",
       "      <th>834d2d62356f</th>\n",
       "      <td>56</td>\n",
       "      <td>0</td>\n",
       "      <td>17.000000</td>\n",
       "      <td>1.000000</td>\n",
       "      <td>0.000000</td>\n",
       "      <td>0.000000</td>\n",
       "      <td>329</td>\n",
       "      <td>3</td>\n",
       "      <td>3</td>\n",
       "      <td>0</td>\n",
       "      <td>...</td>\n",
       "      <td>0.00000</td>\n",
       "      <td>0.00000</td>\n",
       "      <td>0</td>\n",
       "      <td>19.11600</td>\n",
       "      <td>6.372000</td>\n",
       "      <td>7.43400</td>\n",
       "      <td>5.84100</td>\n",
       "      <td>1</td>\n",
       "      <td>1</td>\n",
       "      <td>0</td>\n",
       "    </tr>\n",
       "    <tr>\n",
       "      <th>e11c1ae3ebca</th>\n",
       "      <td>304</td>\n",
       "      <td>0</td>\n",
       "      <td>20.000000</td>\n",
       "      <td>0.000000</td>\n",
       "      <td>4.000000</td>\n",
       "      <td>0.000000</td>\n",
       "      <td>304</td>\n",
       "      <td>1</td>\n",
       "      <td>1</td>\n",
       "      <td>0</td>\n",
       "      <td>...</td>\n",
       "      <td>0.46835</td>\n",
       "      <td>0.46835</td>\n",
       "      <td>1</td>\n",
       "      <td>8.86770</td>\n",
       "      <td>8.867700</td>\n",
       "      <td>8.86770</td>\n",
       "      <td>8.86770</td>\n",
       "      <td>1</td>\n",
       "      <td>1</td>\n",
       "      <td>0</td>\n",
       "    </tr>\n",
       "  </tbody>\n",
       "</table>\n",
       "<p>88808 rows × 23 columns</p>\n",
       "</div>"
      ],
      "text/plain": [
       "              last_order_age_days  n_orders_holidays  mean_hour_of_day  \\\n",
       "customer_id                                                              \n",
       "ec962cf4fbf2                    6                  0         17.500000   \n",
       "de67868b1554                    8                  0         18.500000   \n",
       "81240436bcd6                  176                  0         15.000000   \n",
       "8b7e2c92873a                   26                  0         16.333333   \n",
       "0b3421fccb92                   60                  0         14.500000   \n",
       "...                           ...                ...               ...   \n",
       "d1f956befc59                  585                  0         16.857143   \n",
       "2693aae0a24a                  134                  0         19.000000   \n",
       "044bf5a74f48                  423                  1         20.600000   \n",
       "834d2d62356f                   56                  0         17.000000   \n",
       "e11c1ae3ebca                  304                  0         20.000000   \n",
       "\n",
       "              std_hour_of_day  mean_day_of_week  std_day_of_week  \\\n",
       "customer_id                                                        \n",
       "ec962cf4fbf2         0.707107          0.500000         0.707107   \n",
       "de67868b1554         1.825742          4.937500         1.652019   \n",
       "81240436bcd6         0.000000          6.000000         0.000000   \n",
       "8b7e2c92873a         4.041452          2.666667         1.154701   \n",
       "0b3421fccb92         0.925820          2.250000         1.581139   \n",
       "...                       ...               ...              ...   \n",
       "d1f956befc59         1.772811          4.285714         2.214670   \n",
       "2693aae0a24a         0.000000          6.000000         0.000000   \n",
       "044bf5a74f48         2.073644          4.000000         1.581139   \n",
       "834d2d62356f         1.000000          0.000000         0.000000   \n",
       "e11c1ae3ebca         0.000000          4.000000         0.000000   \n",
       "\n",
       "              first_order_age_days  n_orders  max_customer_order_rank  \\\n",
       "customer_id                                                             \n",
       "ec962cf4fbf2                    77         2                        2   \n",
       "de67868b1554                   517        16                       16   \n",
       "81240436bcd6                   176         1                        1   \n",
       "8b7e2c92873a                   507         3                        3   \n",
       "0b3421fccb92                   458         8                        8   \n",
       "...                            ...       ...                      ...   \n",
       "d1f956befc59                   631         7                        5   \n",
       "2693aae0a24a                   134         1                        1   \n",
       "044bf5a74f48                   694         5                        5   \n",
       "834d2d62356f                   329         3                        3   \n",
       "e11c1ae3ebca                   304         1                        1   \n",
       "\n",
       "              n_failed  ...  tot_delivery_fee  max_delivery_fee  \\\n",
       "customer_id             ...                                       \n",
       "ec962cf4fbf2         0  ...           0.00000           0.00000   \n",
       "de67868b1554         0  ...           5.91600           1.47900   \n",
       "81240436bcd6         0  ...           0.00000           0.00000   \n",
       "8b7e2c92873a         0  ...           0.00000           0.00000   \n",
       "0b3421fccb92         0  ...           1.47900           0.49300   \n",
       "...                ...  ...               ...               ...   \n",
       "d1f956befc59         2  ...           1.47900           0.49300   \n",
       "2693aae0a24a         0  ...           0.00000           0.00000   \n",
       "044bf5a74f48         0  ...           0.00000           0.00000   \n",
       "834d2d62356f         0  ...           0.00000           0.00000   \n",
       "e11c1ae3ebca         0  ...           0.46835           0.46835   \n",
       "\n",
       "              n_delivery_fee  tot_amount_paid  avg_amount_paid  \\\n",
       "customer_id                                                      \n",
       "ec962cf4fbf2               0         13.80600         6.903000   \n",
       "de67868b1554               6        193.14063        12.071289   \n",
       "81240436bcd6               0         11.68200        11.682000   \n",
       "8b7e2c92873a               0         25.31277         8.437590   \n",
       "0b3421fccb92               3         70.97877         8.872346   \n",
       "...                      ...              ...              ...   \n",
       "d1f956befc59               3         51.71940         7.388486   \n",
       "2693aae0a24a               0          5.49585         5.495850   \n",
       "044bf5a74f48               0         27.37305         5.474610   \n",
       "834d2d62356f               0         19.11600         6.372000   \n",
       "e11c1ae3ebca               1          8.86770         8.867700   \n",
       "\n",
       "              max_amount_paid  min_amount_paid  n_restaurants  n_cities  \\\n",
       "customer_id                                                               \n",
       "ec962cf4fbf2          7.16850          6.63750              1         1   \n",
       "de67868b1554         21.77100          6.71184              9         1   \n",
       "81240436bcd6         11.68200         11.68200              1         1   \n",
       "8b7e2c92873a         12.47850          5.73480              3         1   \n",
       "0b3421fccb92         10.59876          7.38090              2         1   \n",
       "...                       ...              ...            ...       ...   \n",
       "d1f956befc59          9.29250          5.84100              4         1   \n",
       "2693aae0a24a          5.49585          5.49585              1         1   \n",
       "044bf5a74f48          9.45180          3.71700              5         1   \n",
       "834d2d62356f          7.43400          5.84100              1         1   \n",
       "e11c1ae3ebca          8.86770          8.86770              1         1   \n",
       "\n",
       "              is_returning_customer  \n",
       "customer_id                          \n",
       "ec962cf4fbf2                      1  \n",
       "de67868b1554                      1  \n",
       "81240436bcd6                      1  \n",
       "8b7e2c92873a                      1  \n",
       "0b3421fccb92                      1  \n",
       "...                             ...  \n",
       "d1f956befc59                      0  \n",
       "2693aae0a24a                      0  \n",
       "044bf5a74f48                      0  \n",
       "834d2d62356f                      0  \n",
       "e11c1ae3ebca                      0  \n",
       "\n",
       "[88808 rows x 23 columns]"
      ]
     },
     "execution_count": 22,
     "metadata": {},
     "output_type": "execute_result"
    }
   ],
   "source": [
    "train"
   ]
  },
  {
   "cell_type": "code",
   "execution_count": 23,
   "metadata": {},
   "outputs": [
    {
     "data": {
      "text/plain": [
       "array([[  6.     ,   0.     ,  17.5    , ...,   6.6375 ,   1.     ,\n",
       "          1.     ],\n",
       "       [  8.     ,   0.     ,  18.5    , ...,   6.71184,   9.     ,\n",
       "          1.     ],\n",
       "       [176.     ,   0.     ,  15.     , ...,  11.682  ,   1.     ,\n",
       "          1.     ],\n",
       "       ...,\n",
       "       [423.     ,   1.     ,  20.6    , ...,   3.717  ,   5.     ,\n",
       "          1.     ],\n",
       "       [ 56.     ,   0.     ,  17.     , ...,   5.841  ,   1.     ,\n",
       "          1.     ],\n",
       "       [304.     ,   0.     ,  20.     , ...,   8.8677 ,   1.     ,\n",
       "          1.     ]])"
      ]
     },
     "execution_count": 23,
     "metadata": {},
     "output_type": "execute_result"
    }
   ],
   "source": [
    "X = train.drop(columns=['is_returning_customer']).to_numpy()\n",
    "X"
   ]
  },
  {
   "cell_type": "code",
   "execution_count": 24,
   "metadata": {},
   "outputs": [],
   "source": [
    "y = train['is_returning_customer'].to_numpy()"
   ]
  },
  {
   "cell_type": "code",
   "execution_count": 25,
   "metadata": {},
   "outputs": [
    {
     "data": {
      "text/plain": [
       "array([1, 1, 1, ..., 0, 0, 0])"
      ]
     },
     "execution_count": 25,
     "metadata": {},
     "output_type": "execute_result"
    }
   ],
   "source": [
    "y"
   ]
  },
  {
   "cell_type": "code",
   "execution_count": 26,
   "metadata": {},
   "outputs": [],
   "source": [
    "from sklearn.preprocessing import RobustScaler"
   ]
  },
  {
   "cell_type": "code",
   "execution_count": 27,
   "metadata": {},
   "outputs": [],
   "source": [
    "scaler = RobustScaler()"
   ]
  },
  {
   "cell_type": "code",
   "execution_count": 28,
   "metadata": {},
   "outputs": [],
   "source": [
    "x_scaled = scaler.fit_transform(X)"
   ]
  },
  {
   "cell_type": "code",
   "execution_count": 29,
   "metadata": {},
   "outputs": [
    {
     "data": {
      "text/plain": [
       "(88808, 22)"
      ]
     },
     "execution_count": 29,
     "metadata": {},
     "output_type": "execute_result"
    }
   ],
   "source": [
    "x_scaled.shape"
   ]
  },
  {
   "cell_type": "code",
   "execution_count": 30,
   "metadata": {},
   "outputs": [],
   "source": [
    "from sklearn.decomposition import PCA"
   ]
  },
  {
   "cell_type": "code",
   "execution_count": 31,
   "metadata": {},
   "outputs": [],
   "source": [
    "pca = PCA(3)"
   ]
  },
  {
   "cell_type": "code",
   "execution_count": 32,
   "metadata": {},
   "outputs": [],
   "source": [
    "x_pca = pca.fit_transform(x_scaled)"
   ]
  },
  {
   "cell_type": "code",
   "execution_count": 33,
   "metadata": {},
   "outputs": [
    {
     "data": {
      "text/plain": [
       "<matplotlib.collections.PathCollection at 0x7faab76da1f0>"
      ]
     },
     "execution_count": 33,
     "metadata": {},
     "output_type": "execute_result"
    },
    {
     "data": {
      "image/png": "[encoded data removed]",
      "text/plain": [
       "<Figure size 432x288 with 1 Axes>"
      ]
     },
     "metadata": {},
     "output_type": "display_data"
    }
   ],
   "source": [
    "plt.scatter(x_pca[:, 0], x_pca[:, 1], c=y)"
   ]
  },
  {
   "cell_type": "code",
   "execution_count": 34,
   "metadata": {},
   "outputs": [],
   "source": [
    "# # clf = SVC()\n",
    "# from sklearn.ensemble import RandomForestClassifier"
   ]
  },
  {
   "cell_type": "code",
   "execution_count": 35,
   "metadata": {},
   "outputs": [],
   "source": [
    "clf = RandomForestClassifier(n_jobs=-1, verbose=True)"
   ]
  },
  {
   "cell_type": "code",
   "execution_count": 36,
   "metadata": {},
   "outputs": [
    {
     "name": "stderr",
     "output_type": "stream",
     "text": [
      "[Parallel(n_jobs=-1)]: Using backend ThreadingBackend with 4 concurrent workers.\n",
      "[Parallel(n_jobs=-1)]: Done  42 tasks      | elapsed:    1.9s\n",
      "[Parallel(n_jobs=-1)]: Done 100 out of 100 | elapsed:    4.4s finished\n"
     ]
    },
    {
     "data": {
      "text/plain": [
       "RandomForestClassifier(n_jobs=-1, verbose=True)"
      ]
     },
     "execution_count": 36,
     "metadata": {},
     "output_type": "execute_result"
    }
   ],
   "source": [
    "clf.fit(x_scaled, y)"
   ]
  },
  {
   "cell_type": "code",
   "execution_count": 37,
   "metadata": {},
   "outputs": [],
   "source": [
    "def plot_roc_auc_f1(true_labels, probability, title=None):\n",
    "    # This is a convenience function that takes care of boring stuff\n",
    "    f1 = f1_score(true_labels, probability[:, 1]>.5)\n",
    "    fpr, tpr, _ = roc_curve(true_labels, probability[:, 1])\n",
    "    auc_score = auc(fpr, tpr)\n",
    "    fig, ax = plt.subplots(figsize=(6,6))\n",
    "    if title is not None:\n",
    "        ax.set_title(title)\n",
    "    ax.plot([0, 1], [0, 1], '--', label=\"Random\")\n",
    "    ax.plot(fpr, tpr, label=\"Your model\")\n",
    "    ax.set_xlabel(\"False positive rate\")\n",
    "    ax.set_ylabel(\"True positive rate\")\n",
    "    ax.annotate(f\"AUC: {auc_score:.4}\", (.8, 0.15))\n",
    "    ax.annotate(f\"F1: {f1:.4}\", (.8, 0.1))\n",
    "    ax.legend()\n",
    "    return f1, auc_score"
   ]
  },
  {
   "cell_type": "code",
   "execution_count": 38,
   "metadata": {},
   "outputs": [],
   "source": [
    "x_test = test.drop(columns=['is_returning_customer'])\n",
    "y_test = test['is_returning_customer'].to_numpy()"
   ]
  },
  {
   "cell_type": "code",
   "execution_count": 39,
   "metadata": {},
   "outputs": [
    {
     "name": "stderr",
     "output_type": "stream",
     "text": [
      "[Parallel(n_jobs=4)]: Using backend ThreadingBackend with 4 concurrent workers.\n",
      "[Parallel(n_jobs=4)]: Done  42 tasks      | elapsed:    0.2s\n",
      "[Parallel(n_jobs=4)]: Done 100 out of 100 | elapsed:    0.5s finished\n"
     ]
    }
   ],
   "source": [
    "y_proba = clf.predict_proba(scaler.transform(x_test))"
   ]
  },
  {
   "cell_type": "code",
   "execution_count": 40,
   "metadata": {},
   "outputs": [
    {
     "data": {
      "image/png": "[encoded data removed]",
      "text/plain": [
       "<Figure size 432x432 with 1 Axes>"
      ]
     },
     "metadata": {},
     "output_type": "display_data"
    }
   ],
   "source": [
    "f1, auc_score = plot_roc_auc_f1(y_test, y_proba);"
   ]
  },
  {
   "cell_type": "code",
   "execution_count": 41,
   "metadata": {},
   "outputs": [
    {
     "name": "stdout",
     "output_type": "stream",
     "text": [
      "              precision    recall  f1-score   support\n",
      "\n",
      "       False       0.76      0.90      0.82     32168\n",
      "        True       0.70      0.46      0.55     16923\n",
      "\n",
      "    accuracy                           0.74     49091\n",
      "   macro avg       0.73      0.68      0.69     49091\n",
      "weighted avg       0.74      0.74      0.73     49091\n",
      "\n"
     ]
    }
   ],
   "source": [
    "print(classification_report(y_proba[:, 1]>=.5, y_test))"
   ]
  },
  {
   "cell_type": "code",
   "execution_count": 42,
   "metadata": {},
   "outputs": [
    {
     "data": {
      "text/plain": [
       "is_returning_customer\n",
       "0    37990\n",
       "1    11101\n",
       "Name: n_orders, dtype: int64"
      ]
     },
     "execution_count": 42,
     "metadata": {},
     "output_type": "execute_result"
    }
   ],
   "source": [
    "test.groupby('is_returning_customer')['n_orders'].count()"
   ]
  },
  {
   "cell_type": "markdown",
   "metadata": {},
   "source": [
    "### Probability distribution"
   ]
  },
  {
   "cell_type": "code",
   "execution_count": 43,
   "metadata": {},
   "outputs": [
    {
     "data": {
      "image/png": "[encoded data removed]",
      "text/plain": [
       "<Figure size 432x288 with 1 Axes>"
      ]
     },
     "metadata": {},
     "output_type": "display_data"
    }
   ],
   "source": [
    "pd.Series(y_proba[:, 1]).loc[y_test>=.5].plot.hist(bins=99, alpha=.5, label='Positive')\n",
    "pd.Series(y_proba[:, 1]).loc[y_test<.5].plot.hist(bins=99, alpha=.5, label='Negative')\n",
    "plt.legend();"
   ]
  },
  {
   "cell_type": "markdown",
   "metadata": {},
   "source": [
    "### Now done better, with pipelines"
   ]
  },
  {
   "cell_type": "code",
   "execution_count": 44,
   "metadata": {},
   "outputs": [],
   "source": [
    "# scoring = {'AUC': 'roc_auc'}, 'Accuracy': make_scorer(accuracy_score)}"
   ]
  },
  {
   "cell_type": "code",
   "execution_count": 45,
   "metadata": {},
   "outputs": [],
   "source": [
    "from sklearn.linear_model import LogisticRegression"
   ]
  },
  {
   "cell_type": "code",
   "execution_count": 46,
   "metadata": {},
   "outputs": [],
   "source": [
    "scaler = RobustScaler()"
   ]
  },
  {
   "cell_type": "code",
   "execution_count": 47,
   "metadata": {},
   "outputs": [],
   "source": [
    "rf = RandomForestClassifier(n_jobs=-1, verbose=3)"
   ]
  },
  {
   "cell_type": "code",
   "execution_count": 48,
   "metadata": {},
   "outputs": [],
   "source": [
    "svm = SVC(verbose=3)"
   ]
  },
  {
   "cell_type": "code",
   "execution_count": 49,
   "metadata": {},
   "outputs": [],
   "source": [
    "logreg = LogisticRegression(verbose=3, n_jobs=-1)"
   ]
  },
  {
   "cell_type": "code",
   "execution_count": 50,
   "metadata": {},
   "outputs": [],
   "source": [
    "pipe = Pipeline(\n",
    "    steps=[('scaler', scaler), ('classifier', rf)]\n",
    ")"
   ]
  },
  {
   "cell_type": "code",
   "execution_count": 54,
   "metadata": {},
   "outputs": [
    {
     "data": {
      "text/plain": [
       "array([0.001     , 0.00562341, 0.03162278, 0.17782794, 1.        ])"
      ]
     },
     "execution_count": 54,
     "metadata": {},
     "output_type": "execute_result"
    }
   ],
   "source": [
    "np.logspace(-3, 0, 5)"
   ]
  },
  {
   "cell_type": "code",
   "execution_count": 55,
   "metadata": {},
   "outputs": [],
   "source": [
    "param_grid = [\n",
    "    {'classifier': [rf], 'classifier__n_estimators': [1000]},\n",
    "    {'classifier': [logreg], 'classifier__C': np.logspace(-3, 0, 5)},\n",
    "]"
   ]
  },
  {
   "cell_type": "code",
   "execution_count": 56,
   "metadata": {},
   "outputs": [],
   "source": [
    "search = GridSearchCV(pipe, param_grid, cv=5, scoring='roc_auc', n_jobs=-1, verbose=3)"
   ]
  },
  {
   "cell_type": "code",
   "execution_count": 57,
   "metadata": {
    "scrolled": true
   },
   "outputs": [
    {
     "name": "stdout",
     "output_type": "stream",
     "text": [
      "Fitting 5 folds for each of 6 candidates, totalling 30 fits\n"
     ]
    },
    {
     "name": "stderr",
     "output_type": "stream",
     "text": [
      "[Parallel(n_jobs=-1)]: Using backend LokyBackend with 4 concurrent workers.\n",
      "[Parallel(n_jobs=-1)]: Done  30 out of  30 | elapsed:  3.1min finished\n",
      "[Parallel(n_jobs=-1)]: Using backend LokyBackend with 4 concurrent workers.\n",
      "[Parallel(n_jobs=-1)]: Done   1 out of   1 | elapsed:    1.3s finished\n"
     ]
    },
    {
     "data": {
      "text/plain": [
       "GridSearchCV(cv=5,\n",
       "             estimator=Pipeline(steps=[('scaler', RobustScaler()),\n",
       "                                       ('classifier',\n",
       "                                        RandomForestClassifier(n_jobs=-1,\n",
       "                                                               verbose=3))]),\n",
       "             n_jobs=-1,\n",
       "             param_grid=[{'classifier': [RandomForestClassifier(n_jobs=-1,\n",
       "                                                                verbose=3)],\n",
       "                          'classifier__n_estimators': [1000]},\n",
       "                         {'classifier': [LogisticRegression(C=0.03162277660168379,\n",
       "                                                            n_jobs=-1,\n",
       "                                                            verbose=3)],\n",
       "                          'classifier__C': array([0.001     , 0.00562341, 0.03162278, 0.17782794, 1.        ])}],\n",
       "             scoring='roc_auc', verbose=3)"
      ]
     },
     "execution_count": 57,
     "metadata": {},
     "output_type": "execute_result"
    }
   ],
   "source": [
    "search.fit(X, y)"
   ]
  },
  {
   "cell_type": "code",
   "execution_count": 58,
   "metadata": {},
   "outputs": [
    {
     "name": "stdout",
     "output_type": "stream",
     "text": [
      "Best parameter (CV score=0.803686):\n"
     ]
    }
   ],
   "source": [
    "print(f\"Best parameter (CV score={search.best_score_:3f}):\")"
   ]
  },
  {
   "cell_type": "code",
   "execution_count": 59,
   "metadata": {},
   "outputs": [
    {
     "name": "stdout",
     "output_type": "stream",
     "text": [
      "Best parameter (CV score=0.804):\n",
      "{'classifier': LogisticRegression(C=0.03162277660168379, n_jobs=-1, verbose=3), 'classifier__C': 0.03162277660168379}\n"
     ]
    }
   ],
   "source": [
    "print(\"Best parameter (CV score=%0.3f):\" % search.best_score_)\n",
    "print(search.best_params_)"
   ]
  },
  {
   "cell_type": "code",
   "execution_count": 60,
   "metadata": {},
   "outputs": [
    {
     "data": {
      "text/plain": [
       "{'mean_fit_time': array([121.37189121,   0.60695772,   0.98306813,   1.03745613,\n",
       "          1.22720304,   1.11842575]),\n",
       " 'std_fit_time': array([40.76996911,  0.04694136,  0.0762985 ,  0.12574458,  0.3126483 ,\n",
       "         0.17275622]),\n",
       " 'mean_score_time': array([4.57893476, 0.00844393, 0.00769138, 0.00720067, 0.00782619,\n",
       "        0.00758109]),\n",
       " 'std_score_time': array([1.55704875e+00, 2.19946445e-03, 5.00778756e-04, 5.12326487e-04,\n",
       "        1.07325719e-03, 5.93992367e-04]),\n",
       " 'param_classifier': masked_array(data=[RandomForestClassifier(n_jobs=-1, verbose=3),\n",
       "                    LogisticRegression(C=0.03162277660168379, n_jobs=-1, verbose=3),\n",
       "                    LogisticRegression(C=0.03162277660168379, n_jobs=-1, verbose=3),\n",
       "                    LogisticRegression(C=0.03162277660168379, n_jobs=-1, verbose=3),\n",
       "                    LogisticRegression(C=0.03162277660168379, n_jobs=-1, verbose=3),\n",
       "                    LogisticRegression(C=0.03162277660168379, n_jobs=-1, verbose=3)],\n",
       "              mask=[False, False, False, False, False, False],\n",
       "        fill_value='?',\n",
       "             dtype=object),\n",
       " 'param_classifier__n_estimators': masked_array(data=[1000, --, --, --, --, --],\n",
       "              mask=[False,  True,  True,  True,  True,  True],\n",
       "        fill_value='?',\n",
       "             dtype=object),\n",
       " 'param_classifier__C': masked_array(data=[--, 0.001, 0.005623413251903491, 0.03162277660168379,\n",
       "                    0.1778279410038923, 1.0],\n",
       "              mask=[ True, False, False, False, False, False],\n",
       "        fill_value='?',\n",
       "             dtype=object),\n",
       " 'params': [{'classifier': RandomForestClassifier(n_jobs=-1, verbose=3),\n",
       "   'classifier__n_estimators': 1000},\n",
       "  {'classifier': LogisticRegression(C=0.03162277660168379, n_jobs=-1, verbose=3),\n",
       "   'classifier__C': 0.001},\n",
       "  {'classifier': LogisticRegression(C=0.03162277660168379, n_jobs=-1, verbose=3),\n",
       "   'classifier__C': 0.005623413251903491},\n",
       "  {'classifier': LogisticRegression(C=0.03162277660168379, n_jobs=-1, verbose=3),\n",
       "   'classifier__C': 0.03162277660168379},\n",
       "  {'classifier': LogisticRegression(C=0.03162277660168379, n_jobs=-1, verbose=3),\n",
       "   'classifier__C': 0.1778279410038923},\n",
       "  {'classifier': LogisticRegression(C=0.03162277660168379, n_jobs=-1, verbose=3),\n",
       "   'classifier__C': 1.0}],\n",
       " 'split0_test_score': array([0.79478031, 0.80069557, 0.80199782, 0.80205694, 0.80203825,\n",
       "        0.80201903]),\n",
       " 'split1_test_score': array([0.79710911, 0.80236607, 0.80321285, 0.80315692, 0.80312046,\n",
       "        0.80311606]),\n",
       " 'split2_test_score': array([0.79383771, 0.80341717, 0.80427508, 0.80426823, 0.80425013,\n",
       "        0.8042479 ]),\n",
       " 'split3_test_score': array([0.79215837, 0.79821209, 0.79973726, 0.79992294, 0.79992699,\n",
       "        0.79993057]),\n",
       " 'split4_test_score': array([0.79974335, 0.80697478, 0.80875447, 0.80902743, 0.80905662,\n",
       "        0.80906253]),\n",
       " 'mean_test_score': array([0.79552577, 0.80233314, 0.80359549, 0.80368649, 0.80367849,\n",
       "        0.80367522]),\n",
       " 'std_test_score': array([0.00264725, 0.00291155, 0.00298871, 0.00303197, 0.0030439 ,\n",
       "        0.00304727]),\n",
       " 'rank_test_score': array([6, 5, 4, 1, 2, 3], dtype=int32)}"
      ]
     },
     "execution_count": 60,
     "metadata": {},
     "output_type": "execute_result"
    }
   ],
   "source": [
    "search.cv_results_"
   ]
  },
  {
   "cell_type": "code",
   "execution_count": 61,
   "metadata": {},
   "outputs": [
    {
     "data": {
      "text/plain": [
       "Pipeline(steps=[('scaler', RobustScaler()),\n",
       "                ('classifier',\n",
       "                 LogisticRegression(C=0.03162277660168379, n_jobs=-1,\n",
       "                                    verbose=3))])"
      ]
     },
     "execution_count": 61,
     "metadata": {},
     "output_type": "execute_result"
    }
   ],
   "source": [
    "search.best_estimator_"
   ]
  },
  {
   "cell_type": "code",
   "execution_count": 62,
   "metadata": {},
   "outputs": [],
   "source": [
    "y_proba = search.predict_proba(x_test)"
   ]
  },
  {
   "cell_type": "code",
   "execution_count": 63,
   "metadata": {},
   "outputs": [
    {
     "data": {
      "image/png": "[encoded data removed]",
      "text/plain": [
       "<Figure size 432x432 with 1 Axes>"
      ]
     },
     "metadata": {},
     "output_type": "display_data"
    }
   ],
   "source": [
    "f1, auc_score = plot_roc_auc_f1(y_test, y_proba);"
   ]
  },
  {
   "cell_type": "code",
   "execution_count": 64,
   "metadata": {},
   "outputs": [],
   "source": [
    "from sklearn.metrics import plot_confusion_matrix, plot_precision_recall_curve, plot_roc_curve"
   ]
  },
  {
   "cell_type": "markdown",
   "metadata": {},
   "source": [
    "#### Balance test set"
   ]
  },
  {
   "cell_type": "code",
   "execution_count": 66,
   "metadata": {},
   "outputs": [
    {
     "data": {
      "text/plain": [
       "((49091, 23), 11101)"
      ]
     },
     "execution_count": 66,
     "metadata": {},
     "output_type": "execute_result"
    }
   ],
   "source": [
    "test.shape, test['is_returning_customer'].sum()"
   ]
  },
  {
   "cell_type": "code",
   "execution_count": 67,
   "metadata": {},
   "outputs": [],
   "source": [
    "test_balanced = pd.concat((test[y_test==1], test[y_test!=1].sample(n=11101, random_state=42)))"
   ]
  },
  {
   "cell_type": "code",
   "execution_count": 68,
   "metadata": {},
   "outputs": [],
   "source": [
    "y_test_bal = test_balanced['is_returning_customer'].to_numpy()"
   ]
  },
  {
   "cell_type": "code",
   "execution_count": 69,
   "metadata": {},
   "outputs": [],
   "source": [
    "x_test_bal = test_balanced.drop(columns=['is_returning_customer']).to_numpy()"
   ]
  },
  {
   "cell_type": "code",
   "execution_count": 70,
   "metadata": {},
   "outputs": [
    {
     "name": "stdout",
     "output_type": "stream",
     "text": [
      "              precision    recall  f1-score   support\n",
      "\n",
      "           0       0.72      0.75      0.74     11101\n",
      "           1       0.74      0.72      0.73     11101\n",
      "\n",
      "    accuracy                           0.73     22202\n",
      "   macro avg       0.73      0.73      0.73     22202\n",
      "weighted avg       0.73      0.73      0.73     22202\n",
      "\n"
     ]
    }
   ],
   "source": [
    "print(classification_report(y_test_bal, search.predict(x_test_bal)))"
   ]
  },
  {
   "cell_type": "code",
   "execution_count": 71,
   "metadata": {},
   "outputs": [
    {
     "data": {
      "image/png": "[encoded data removed]",
      "text/plain": [
       "<Figure size 432x288 with 2 Axes>"
      ]
     },
     "metadata": {},
     "output_type": "display_data"
    }
   ],
   "source": [
    "plot_confusion_matrix(search, x_test_bal, y_test_bal);"
   ]
  },
  {
   "cell_type": "code",
   "execution_count": 72,
   "metadata": {},
   "outputs": [
    {
     "data": {
      "text/plain": [
       "<sklearn.metrics._plot.precision_recall_curve.PrecisionRecallDisplay at 0x7faab8e60400>"
      ]
     },
     "execution_count": 72,
     "metadata": {},
     "output_type": "execute_result"
    },
    {
     "data": {
      "image/png": "[encoded data removed]",
      "text/plain": [
       "<Figure size 432x288 with 1 Axes>"
      ]
     },
     "metadata": {},
     "output_type": "display_data"
    }
   ],
   "source": [
    "plot_precision_recall_curve(search, x_test_bal, y_test_bal)"
   ]
  },
  {
   "cell_type": "code",
   "execution_count": 73,
   "metadata": {},
   "outputs": [
    {
     "data": {
      "text/plain": [
       "(0.7267237040764972, 0.7985931209651933)"
      ]
     },
     "execution_count": 73,
     "metadata": {},
     "output_type": "execute_result"
    },
    {
     "data": {
      "image/png": "[encoded data removed]",
      "text/plain": [
       "<Figure size 432x432 with 1 Axes>"
      ]
     },
     "metadata": {},
     "output_type": "display_data"
    }
   ],
   "source": [
    "plot_roc_auc_f1(y_test_bal, search.predict_proba(x_test_bal))"
   ]
  },
  {
   "cell_type": "code",
   "execution_count": 74,
   "metadata": {
    "scrolled": false
   },
   "outputs": [
    {
     "data": {
      "image/png": "[encoded data removed]",
      "text/plain": [
       "<Figure size 432x288 with 1 Axes>"
      ]
     },
     "metadata": {},
     "output_type": "display_data"
    }
   ],
   "source": [
    "y_proba = search.predict_proba(x_test_bal)\n",
    "pd.Series(y_proba[:, 1]).loc[y_test_bal>=.5].plot.hist(bins=99, alpha=.5, label='Positive')\n",
    "pd.Series(y_proba[:, 1]).loc[y_test_bal<.5].plot.hist(bins=99, alpha=.5, label='Negative')\n",
    "plt.legend();"
   ]
  },
  {
   "cell_type": "code",
   "execution_count": null,
   "metadata": {},
   "outputs": [],
   "source": []
  }
 ],
 "metadata": {
  "kernelspec": {
   "display_name": "Python 3",
   "language": "python",
   "name": "python3"
  },
  "language_info": {
   "codemirror_mode": {
    "name": "ipython",
    "version": 3
   },
   "file_extension": ".py",
   "mimetype": "text/x-python",
   "name": "python",
   "nbconvert_exporter": "python",
   "pygments_lexer": "ipython3",
   "version": "3.8.6"
  }
 },
 "nbformat": 4,
 "nbformat_minor": 4
}

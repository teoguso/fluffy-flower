{
 "cells": [
  {
   "cell_type": "code",
   "execution_count": 1,
   "metadata": {},
   "outputs": [],
   "source": [
    "import pandas as pd"
   ]
  },
  {
   "cell_type": "code",
   "execution_count": 2,
   "metadata": {},
   "outputs": [],
   "source": [
    "df_orders = pd.read_json(\n",
    "    \"../data/order_data_dtypes.json\",\n",
    "    orient='table',\n",
    ")"
   ]
  },
  {
   "cell_type": "code",
   "execution_count": 3,
   "metadata": {},
   "outputs": [
    {
     "data": {
      "text/html": [
       "<div>\n",
       "<style scoped>\n",
       "    .dataframe tbody tr th:only-of-type {\n",
       "        vertical-align: middle;\n",
       "    }\n",
       "\n",
       "    .dataframe tbody tr th {\n",
       "        vertical-align: top;\n",
       "    }\n",
       "\n",
       "    .dataframe thead th {\n",
       "        text-align: right;\n",
       "    }\n",
       "</style>\n",
       "<table border=\"1\" class=\"dataframe\">\n",
       "  <thead>\n",
       "    <tr style=\"text-align: right;\">\n",
       "      <th></th>\n",
       "      <th>order_datetime</th>\n",
       "      <th>customer_id</th>\n",
       "      <th>customer_order_rank</th>\n",
       "      <th>is_failed</th>\n",
       "      <th>voucher_amount</th>\n",
       "      <th>delivery_fee</th>\n",
       "      <th>amount_paid</th>\n",
       "      <th>restaurant_id</th>\n",
       "      <th>city_id</th>\n",
       "      <th>payment_id</th>\n",
       "      <th>platform_id</th>\n",
       "      <th>transmission_id</th>\n",
       "    </tr>\n",
       "  </thead>\n",
       "  <tbody>\n",
       "    <tr>\n",
       "      <th>0</th>\n",
       "      <td>2015-06-20 19:00:00</td>\n",
       "      <td>000097eabfd9</td>\n",
       "      <td>1</td>\n",
       "      <td>0</td>\n",
       "      <td>0.0</td>\n",
       "      <td>0.000</td>\n",
       "      <td>11.46960</td>\n",
       "      <td>5803498</td>\n",
       "      <td>20326</td>\n",
       "      <td>1779</td>\n",
       "      <td>30231</td>\n",
       "      <td>4356</td>\n",
       "    </tr>\n",
       "    <tr>\n",
       "      <th>1</th>\n",
       "      <td>2016-01-29 20:00:00</td>\n",
       "      <td>0000e2c6d9be</td>\n",
       "      <td>1</td>\n",
       "      <td>0</td>\n",
       "      <td>0.0</td>\n",
       "      <td>0.000</td>\n",
       "      <td>9.55800</td>\n",
       "      <td>239303498</td>\n",
       "      <td>76547</td>\n",
       "      <td>1619</td>\n",
       "      <td>30359</td>\n",
       "      <td>4356</td>\n",
       "    </tr>\n",
       "    <tr>\n",
       "      <th>2</th>\n",
       "      <td>2017-02-26 19:00:00</td>\n",
       "      <td>000133bb597f</td>\n",
       "      <td>1</td>\n",
       "      <td>0</td>\n",
       "      <td>0.0</td>\n",
       "      <td>0.493</td>\n",
       "      <td>5.93658</td>\n",
       "      <td>206463498</td>\n",
       "      <td>33833</td>\n",
       "      <td>1619</td>\n",
       "      <td>30359</td>\n",
       "      <td>4324</td>\n",
       "    </tr>\n",
       "    <tr>\n",
       "      <th>3</th>\n",
       "      <td>2017-02-05 17:00:00</td>\n",
       "      <td>00018269939b</td>\n",
       "      <td>1</td>\n",
       "      <td>0</td>\n",
       "      <td>0.0</td>\n",
       "      <td>0.493</td>\n",
       "      <td>9.82350</td>\n",
       "      <td>36613498</td>\n",
       "      <td>99315</td>\n",
       "      <td>1619</td>\n",
       "      <td>30359</td>\n",
       "      <td>4356</td>\n",
       "    </tr>\n",
       "    <tr>\n",
       "      <th>4</th>\n",
       "      <td>2015-08-04 19:00:00</td>\n",
       "      <td>0001a00468a6</td>\n",
       "      <td>1</td>\n",
       "      <td>0</td>\n",
       "      <td>0.0</td>\n",
       "      <td>0.493</td>\n",
       "      <td>5.15070</td>\n",
       "      <td>225853498</td>\n",
       "      <td>16456</td>\n",
       "      <td>1619</td>\n",
       "      <td>29463</td>\n",
       "      <td>4356</td>\n",
       "    </tr>\n",
       "  </tbody>\n",
       "</table>\n",
       "</div>"
      ],
      "text/plain": [
       "       order_datetime   customer_id  customer_order_rank  is_failed  \\\n",
       "0 2015-06-20 19:00:00  000097eabfd9                    1          0   \n",
       "1 2016-01-29 20:00:00  0000e2c6d9be                    1          0   \n",
       "2 2017-02-26 19:00:00  000133bb597f                    1          0   \n",
       "3 2017-02-05 17:00:00  00018269939b                    1          0   \n",
       "4 2015-08-04 19:00:00  0001a00468a6                    1          0   \n",
       "\n",
       "   voucher_amount  delivery_fee  amount_paid restaurant_id city_id payment_id  \\\n",
       "0             0.0         0.000     11.46960       5803498   20326       1779   \n",
       "1             0.0         0.000      9.55800     239303498   76547       1619   \n",
       "2             0.0         0.493      5.93658     206463498   33833       1619   \n",
       "3             0.0         0.493      9.82350      36613498   99315       1619   \n",
       "4             0.0         0.493      5.15070     225853498   16456       1619   \n",
       "\n",
       "  platform_id transmission_id  \n",
       "0       30231            4356  \n",
       "1       30359            4356  \n",
       "2       30359            4324  \n",
       "3       30359            4356  \n",
       "4       29463            4356  "
      ]
     },
     "execution_count": 3,
     "metadata": {},
     "output_type": "execute_result"
    }
   ],
   "source": [
    "df_orders.head()"
   ]
  },
  {
   "cell_type": "code",
   "execution_count": 4,
   "metadata": {},
   "outputs": [
    {
     "name": "stdout",
     "output_type": "stream",
     "text": [
      "<class 'pandas.core.frame.DataFrame'>\n",
      "Int64Index: 786547 entries, 0 to 786546\n",
      "Data columns (total 12 columns):\n",
      " #   Column               Non-Null Count   Dtype         \n",
      "---  ------               --------------   -----         \n",
      " 0   order_datetime       786547 non-null  datetime64[ns]\n",
      " 1   customer_id          786547 non-null  object        \n",
      " 2   customer_order_rank  786547 non-null  int64         \n",
      " 3   is_failed            786547 non-null  int64         \n",
      " 4   voucher_amount       786547 non-null  float64       \n",
      " 5   delivery_fee         786547 non-null  float64       \n",
      " 6   amount_paid          786547 non-null  float64       \n",
      " 7   restaurant_id        786547 non-null  category      \n",
      " 8   city_id              786547 non-null  category      \n",
      " 9   payment_id           786547 non-null  category      \n",
      " 10  platform_id          786547 non-null  category      \n",
      " 11  transmission_id      786547 non-null  category      \n",
      "dtypes: category(5), datetime64[ns](1), float64(3), int64(2), object(1)\n",
      "memory usage: 54.2+ MB\n"
     ]
    }
   ],
   "source": [
    "df_orders.info()"
   ]
  },
  {
   "cell_type": "code",
   "execution_count": 5,
   "metadata": {},
   "outputs": [],
   "source": [
    "# Customer order rank\n",
    "max_customer_order_rank = df_orders.groupby(\n",
    "    'customer_id'\n",
    ")['customer_order_rank'].max()"
   ]
  },
  {
   "cell_type": "code",
   "execution_count": 6,
   "metadata": {},
   "outputs": [
    {
     "data": {
      "text/plain": [
       "customer_id\n",
       "000097eabfd9    1\n",
       "0000e2c6d9be    1\n",
       "000133bb597f    1\n",
       "00018269939b    1\n",
       "0001a00468a6    1\n",
       "               ..\n",
       "fffd696eaedd    1\n",
       "fffe9d5a8d41    1\n",
       "ffff347c3cfa    2\n",
       "ffff4519b52d    1\n",
       "ffffccbfc8a4    1\n",
       "Name: customer_order_rank, Length: 245453, dtype: int64"
      ]
     },
     "execution_count": 6,
     "metadata": {},
     "output_type": "execute_result"
    }
   ],
   "source": [
    "max_customer_order_rank"
   ]
  },
  {
   "cell_type": "code",
   "execution_count": 7,
   "metadata": {},
   "outputs": [],
   "source": [
    "df_orders['is_holiday'] = (\n",
    "    (\n",
    "        (df_orders['order_datetime'].dt.month == 1) & (df_orders['order_datetime'].dt.day == 1)\n",
    "    ) | (\n",
    "        (df_orders['order_datetime'].dt.month == 12) & ((df_orders['order_datetime'].dt.day == 25) | (df_orders['order_datetime'].dt.day == 31))\n",
    "    )\n",
    ")"
   ]
  },
  {
   "cell_type": "code",
   "execution_count": 8,
   "metadata": {},
   "outputs": [],
   "source": [
    "df_orders['hour_of_day'] = df_orders['order_datetime'].dt.hour\n",
    "df_orders['day_of_week'] = df_orders['order_datetime'].dt.dayofweek"
   ]
  },
  {
   "cell_type": "markdown",
   "metadata": {},
   "source": [
    "### Customer features"
   ]
  },
  {
   "cell_type": "code",
   "execution_count": 9,
   "metadata": {},
   "outputs": [
    {
     "data": {
      "text/plain": [
       "Timestamp('2017-02-27 23:00:00')"
      ]
     },
     "execution_count": 9,
     "metadata": {},
     "output_type": "execute_result"
    }
   ],
   "source": [
    "last_orders = df_orders.groupby('customer_id')['order_datetime'].max()\n",
    "max_datetime = df_orders['order_datetime'].max()\n",
    "max_datetime"
   ]
  },
  {
   "cell_type": "code",
   "execution_count": 10,
   "metadata": {},
   "outputs": [],
   "source": [
    "# customer_features['last_order_age_days'] = \n",
    "last_order_age_days = (max_datetime - last_orders).dt.days"
   ]
  },
  {
   "cell_type": "code",
   "execution_count": 11,
   "metadata": {},
   "outputs": [],
   "source": [
    "last_order_age_days.name = 'last_order_age_days'"
   ]
  },
  {
   "cell_type": "code",
   "execution_count": 12,
   "metadata": {},
   "outputs": [],
   "source": [
    "customer_features = last_order_age_days.to_frame()"
   ]
  },
  {
   "cell_type": "code",
   "execution_count": 13,
   "metadata": {},
   "outputs": [
    {
     "data": {
      "text/html": [
       "<div>\n",
       "<style scoped>\n",
       "    .dataframe tbody tr th:only-of-type {\n",
       "        vertical-align: middle;\n",
       "    }\n",
       "\n",
       "    .dataframe tbody tr th {\n",
       "        vertical-align: top;\n",
       "    }\n",
       "\n",
       "    .dataframe thead th {\n",
       "        text-align: right;\n",
       "    }\n",
       "</style>\n",
       "<table border=\"1\" class=\"dataframe\">\n",
       "  <thead>\n",
       "    <tr style=\"text-align: right;\">\n",
       "      <th></th>\n",
       "      <th>last_order_age_days</th>\n",
       "    </tr>\n",
       "    <tr>\n",
       "      <th>customer_id</th>\n",
       "      <th></th>\n",
       "    </tr>\n",
       "  </thead>\n",
       "  <tbody>\n",
       "    <tr>\n",
       "      <th>000097eabfd9</th>\n",
       "      <td>618</td>\n",
       "    </tr>\n",
       "    <tr>\n",
       "      <th>0000e2c6d9be</th>\n",
       "      <td>395</td>\n",
       "    </tr>\n",
       "    <tr>\n",
       "      <th>000133bb597f</th>\n",
       "      <td>1</td>\n",
       "    </tr>\n",
       "    <tr>\n",
       "      <th>00018269939b</th>\n",
       "      <td>22</td>\n",
       "    </tr>\n",
       "    <tr>\n",
       "      <th>0001a00468a6</th>\n",
       "      <td>573</td>\n",
       "    </tr>\n",
       "  </tbody>\n",
       "</table>\n",
       "</div>"
      ],
      "text/plain": [
       "              last_order_age_days\n",
       "customer_id                      \n",
       "000097eabfd9                  618\n",
       "0000e2c6d9be                  395\n",
       "000133bb597f                    1\n",
       "00018269939b                   22\n",
       "0001a00468a6                  573"
      ]
     },
     "execution_count": 13,
     "metadata": {},
     "output_type": "execute_result"
    }
   ],
   "source": [
    "customer_features.head()"
   ]
  },
  {
   "cell_type": "code",
   "execution_count": 16,
   "metadata": {},
   "outputs": [],
   "source": [
    "n_orders_holidays = df_orders.groupby('customer_id')['is_holiday'].sum()\n",
    "n_orders_holidays.name = 'n_orders_holidays'"
   ]
  },
  {
   "cell_type": "code",
   "execution_count": 23,
   "metadata": {},
   "outputs": [],
   "source": [
    "customer_features = customer_features.join(n_orders_holidays)"
   ]
  },
  {
   "cell_type": "code",
   "execution_count": 22,
   "metadata": {},
   "outputs": [],
   "source": [
    "mean_hour_of_day = df_orders.groupby('customer_id')['hour_of_day'].mean()\n",
    "mean_hour_of_day.name = 'mean_hour_of_day'"
   ]
  },
  {
   "cell_type": "code",
   "execution_count": 24,
   "metadata": {},
   "outputs": [],
   "source": [
    "customer_features = customer_features.join(mean_hour_of_day)"
   ]
  },
  {
   "cell_type": "code",
   "execution_count": 25,
   "metadata": {},
   "outputs": [],
   "source": [
    "std_hour_of_day = df_orders.groupby('customer_id')['hour_of_day'].std().fillna(0)\n",
    "std_hour_of_day.name = 'std_hour_of_day'"
   ]
  },
  {
   "cell_type": "code",
   "execution_count": 26,
   "metadata": {},
   "outputs": [],
   "source": [
    "customer_features = customer_features.join(std_hour_of_day)"
   ]
  },
  {
   "cell_type": "code",
   "execution_count": null,
   "metadata": {},
   "outputs": [],
   "source": []
  },
  {
   "cell_type": "code",
   "execution_count": 27,
   "metadata": {},
   "outputs": [],
   "source": [
    "mean_day_of_week = df_orders.groupby('customer_id')['day_of_week'].mean()\n",
    "mean_day_of_week.name = 'mean_day_of_week'"
   ]
  },
  {
   "cell_type": "code",
   "execution_count": 28,
   "metadata": {},
   "outputs": [],
   "source": [
    "customer_features = customer_features.join(mean_day_of_week)"
   ]
  },
  {
   "cell_type": "code",
   "execution_count": 29,
   "metadata": {},
   "outputs": [],
   "source": [
    "std_day_of_week = df_orders.groupby('customer_id')['day_of_week'].std().fillna(0)\n",
    "std_day_of_week.name = 'std_day_of_week'"
   ]
  },
  {
   "cell_type": "code",
   "execution_count": 30,
   "metadata": {},
   "outputs": [],
   "source": [
    "customer_features = customer_features.join(std_day_of_week)"
   ]
  },
  {
   "cell_type": "code",
   "execution_count": 31,
   "metadata": {},
   "outputs": [
    {
     "data": {
      "text/html": [
       "<div>\n",
       "<style scoped>\n",
       "    .dataframe tbody tr th:only-of-type {\n",
       "        vertical-align: middle;\n",
       "    }\n",
       "\n",
       "    .dataframe tbody tr th {\n",
       "        vertical-align: top;\n",
       "    }\n",
       "\n",
       "    .dataframe thead th {\n",
       "        text-align: right;\n",
       "    }\n",
       "</style>\n",
       "<table border=\"1\" class=\"dataframe\">\n",
       "  <thead>\n",
       "    <tr style=\"text-align: right;\">\n",
       "      <th></th>\n",
       "      <th>last_order_age_days</th>\n",
       "      <th>n_orders_holidays</th>\n",
       "      <th>mean_hour_of_day</th>\n",
       "      <th>std_hour_of_day</th>\n",
       "      <th>mean_day_of_week</th>\n",
       "      <th>std_day_of_week</th>\n",
       "    </tr>\n",
       "    <tr>\n",
       "      <th>customer_id</th>\n",
       "      <th></th>\n",
       "      <th></th>\n",
       "      <th></th>\n",
       "      <th></th>\n",
       "      <th></th>\n",
       "      <th></th>\n",
       "    </tr>\n",
       "  </thead>\n",
       "  <tbody>\n",
       "    <tr>\n",
       "      <th>000097eabfd9</th>\n",
       "      <td>618</td>\n",
       "      <td>0</td>\n",
       "      <td>19.0</td>\n",
       "      <td>0.0</td>\n",
       "      <td>5.0</td>\n",
       "      <td>0.0</td>\n",
       "    </tr>\n",
       "    <tr>\n",
       "      <th>0000e2c6d9be</th>\n",
       "      <td>395</td>\n",
       "      <td>0</td>\n",
       "      <td>20.0</td>\n",
       "      <td>0.0</td>\n",
       "      <td>4.0</td>\n",
       "      <td>0.0</td>\n",
       "    </tr>\n",
       "    <tr>\n",
       "      <th>000133bb597f</th>\n",
       "      <td>1</td>\n",
       "      <td>0</td>\n",
       "      <td>19.0</td>\n",
       "      <td>0.0</td>\n",
       "      <td>6.0</td>\n",
       "      <td>0.0</td>\n",
       "    </tr>\n",
       "    <tr>\n",
       "      <th>00018269939b</th>\n",
       "      <td>22</td>\n",
       "      <td>0</td>\n",
       "      <td>17.0</td>\n",
       "      <td>0.0</td>\n",
       "      <td>6.0</td>\n",
       "      <td>0.0</td>\n",
       "    </tr>\n",
       "    <tr>\n",
       "      <th>0001a00468a6</th>\n",
       "      <td>573</td>\n",
       "      <td>0</td>\n",
       "      <td>19.0</td>\n",
       "      <td>0.0</td>\n",
       "      <td>1.0</td>\n",
       "      <td>0.0</td>\n",
       "    </tr>\n",
       "  </tbody>\n",
       "</table>\n",
       "</div>"
      ],
      "text/plain": [
       "              last_order_age_days  n_orders_holidays  mean_hour_of_day  \\\n",
       "customer_id                                                              \n",
       "000097eabfd9                  618                  0              19.0   \n",
       "0000e2c6d9be                  395                  0              20.0   \n",
       "000133bb597f                    1                  0              19.0   \n",
       "00018269939b                   22                  0              17.0   \n",
       "0001a00468a6                  573                  0              19.0   \n",
       "\n",
       "              std_hour_of_day  mean_day_of_week  std_day_of_week  \n",
       "customer_id                                                       \n",
       "000097eabfd9              0.0               5.0              0.0  \n",
       "0000e2c6d9be              0.0               4.0              0.0  \n",
       "000133bb597f              0.0               6.0              0.0  \n",
       "00018269939b              0.0               6.0              0.0  \n",
       "0001a00468a6              0.0               1.0              0.0  "
      ]
     },
     "execution_count": 31,
     "metadata": {},
     "output_type": "execute_result"
    }
   ],
   "source": [
    "customer_features.head()"
   ]
  },
  {
   "cell_type": "code",
   "execution_count": 32,
   "metadata": {},
   "outputs": [],
   "source": [
    "first_orders = df_orders.groupby('customer_id')['order_datetime'].min()"
   ]
  },
  {
   "cell_type": "code",
   "execution_count": 33,
   "metadata": {},
   "outputs": [],
   "source": [
    "# customer_features['first_order_age_days'] = \n",
    "first_order_age_days = (max_datetime - first_orders).dt.days"
   ]
  },
  {
   "cell_type": "code",
   "execution_count": 34,
   "metadata": {},
   "outputs": [],
   "source": [
    "first_order_age_days.name = 'first_order_age_days'"
   ]
  },
  {
   "cell_type": "code",
   "execution_count": 35,
   "metadata": {},
   "outputs": [],
   "source": [
    "customer_features = customer_features.join(first_order_age_days)"
   ]
  },
  {
   "cell_type": "code",
   "execution_count": 36,
   "metadata": {},
   "outputs": [],
   "source": [
    "number_of_orders_per_customer = df_orders.groupby('customer_id')['amount_paid'].count()\n",
    "number_of_orders_per_customer.name = 'n_orders'"
   ]
  },
  {
   "cell_type": "code",
   "execution_count": 37,
   "metadata": {},
   "outputs": [
    {
     "data": {
      "text/plain": [
       "customer_id\n",
       "000097eabfd9    1\n",
       "0000e2c6d9be    1\n",
       "000133bb597f    1\n",
       "00018269939b    1\n",
       "0001a00468a6    1\n",
       "               ..\n",
       "fffd696eaedd    1\n",
       "fffe9d5a8d41    3\n",
       "ffff347c3cfa    2\n",
       "ffff4519b52d    1\n",
       "ffffccbfc8a4    1\n",
       "Name: n_orders, Length: 245453, dtype: int64"
      ]
     },
     "execution_count": 37,
     "metadata": {},
     "output_type": "execute_result"
    }
   ],
   "source": [
    "number_of_orders_per_customer"
   ]
  },
  {
   "cell_type": "code",
   "execution_count": 38,
   "metadata": {},
   "outputs": [],
   "source": [
    "customer_features = customer_features.join(number_of_orders_per_customer)"
   ]
  },
  {
   "cell_type": "code",
   "execution_count": 39,
   "metadata": {},
   "outputs": [
    {
     "data": {
      "text/plain": [
       "customer_id\n",
       "000097eabfd9    1\n",
       "0000e2c6d9be    1\n",
       "000133bb597f    1\n",
       "00018269939b    1\n",
       "0001a00468a6    1\n",
       "               ..\n",
       "fffd696eaedd    1\n",
       "fffe9d5a8d41    1\n",
       "ffff347c3cfa    2\n",
       "ffff4519b52d    1\n",
       "ffffccbfc8a4    1\n",
       "Name: customer_order_rank, Length: 245453, dtype: int64"
      ]
     },
     "execution_count": 39,
     "metadata": {},
     "output_type": "execute_result"
    }
   ],
   "source": [
    "max_customer_order_rank = df_orders.groupby(\n",
    "    'customer_id'\n",
    ")['customer_order_rank'].max()\n",
    "max_customer_order_rank"
   ]
  },
  {
   "cell_type": "code",
   "execution_count": 40,
   "metadata": {},
   "outputs": [],
   "source": [
    "max_customer_order_rank.name = 'max_customer_order_rank'"
   ]
  },
  {
   "cell_type": "code",
   "execution_count": 41,
   "metadata": {},
   "outputs": [],
   "source": [
    "customer_features = customer_features.join(max_customer_order_rank)"
   ]
  },
  {
   "cell_type": "code",
   "execution_count": 42,
   "metadata": {},
   "outputs": [],
   "source": [
    "failed_orders_per_customer = df_orders.groupby('customer_id')['is_failed'].sum()\n",
    "failed_orders_per_customer.name = 'n_failed'"
   ]
  },
  {
   "cell_type": "code",
   "execution_count": 43,
   "metadata": {},
   "outputs": [
    {
     "name": "stdout",
     "output_type": "stream",
     "text": [
      "<class 'pandas.core.frame.DataFrame'>\n",
      "Index: 245453 entries, 000097eabfd9 to ffffccbfc8a4\n",
      "Data columns (total 10 columns):\n",
      " #   Column                   Non-Null Count   Dtype  \n",
      "---  ------                   --------------   -----  \n",
      " 0   last_order_age_days      245453 non-null  int64  \n",
      " 1   n_orders_holidays        245453 non-null  int64  \n",
      " 2   mean_hour_of_day         245453 non-null  float64\n",
      " 3   std_hour_of_day          245453 non-null  float64\n",
      " 4   mean_day_of_week         245453 non-null  float64\n",
      " 5   std_day_of_week          245453 non-null  float64\n",
      " 6   first_order_age_days     245453 non-null  int64  \n",
      " 7   n_orders                 245453 non-null  int64  \n",
      " 8   max_customer_order_rank  245453 non-null  int64  \n",
      " 9   n_failed                 245453 non-null  int64  \n",
      "dtypes: float64(4), int64(6)\n",
      "memory usage: 30.6+ MB\n"
     ]
    }
   ],
   "source": [
    "customer_features = customer_features.join(failed_orders_per_customer)\n",
    "customer_features.info()"
   ]
  },
  {
   "cell_type": "code",
   "execution_count": 44,
   "metadata": {},
   "outputs": [],
   "source": [
    "max_voucher_amount = df_orders.groupby('customer_id')['voucher_amount'].max()\n",
    "max_voucher_amount.name = 'max_voucher_amount'"
   ]
  },
  {
   "cell_type": "code",
   "execution_count": 45,
   "metadata": {},
   "outputs": [
    {
     "name": "stdout",
     "output_type": "stream",
     "text": [
      "<class 'pandas.core.frame.DataFrame'>\n",
      "Index: 245453 entries, 000097eabfd9 to ffffccbfc8a4\n",
      "Data columns (total 11 columns):\n",
      " #   Column                   Non-Null Count   Dtype  \n",
      "---  ------                   --------------   -----  \n",
      " 0   last_order_age_days      245453 non-null  int64  \n",
      " 1   n_orders_holidays        245453 non-null  int64  \n",
      " 2   mean_hour_of_day         245453 non-null  float64\n",
      " 3   std_hour_of_day          245453 non-null  float64\n",
      " 4   mean_day_of_week         245453 non-null  float64\n",
      " 5   std_day_of_week          245453 non-null  float64\n",
      " 6   first_order_age_days     245453 non-null  int64  \n",
      " 7   n_orders                 245453 non-null  int64  \n",
      " 8   max_customer_order_rank  245453 non-null  int64  \n",
      " 9   n_failed                 245453 non-null  int64  \n",
      " 10  max_voucher_amount       245453 non-null  float64\n",
      "dtypes: float64(5), int64(6)\n",
      "memory usage: 32.5+ MB\n"
     ]
    }
   ],
   "source": [
    "customer_features = customer_features.join(max_voucher_amount)\n",
    "customer_features.info()"
   ]
  },
  {
   "cell_type": "code",
   "execution_count": 46,
   "metadata": {},
   "outputs": [],
   "source": [
    "tot_voucher_amount = df_orders.groupby('customer_id')['voucher_amount'].sum()\n",
    "tot_voucher_amount.name = 'tot_voucher_amount'"
   ]
  },
  {
   "cell_type": "code",
   "execution_count": 47,
   "metadata": {},
   "outputs": [
    {
     "name": "stdout",
     "output_type": "stream",
     "text": [
      "<class 'pandas.core.frame.DataFrame'>\n",
      "Index: 245453 entries, 000097eabfd9 to ffffccbfc8a4\n",
      "Data columns (total 12 columns):\n",
      " #   Column                   Non-Null Count   Dtype  \n",
      "---  ------                   --------------   -----  \n",
      " 0   last_order_age_days      245453 non-null  int64  \n",
      " 1   n_orders_holidays        245453 non-null  int64  \n",
      " 2   mean_hour_of_day         245453 non-null  float64\n",
      " 3   std_hour_of_day          245453 non-null  float64\n",
      " 4   mean_day_of_week         245453 non-null  float64\n",
      " 5   std_day_of_week          245453 non-null  float64\n",
      " 6   first_order_age_days     245453 non-null  int64  \n",
      " 7   n_orders                 245453 non-null  int64  \n",
      " 8   max_customer_order_rank  245453 non-null  int64  \n",
      " 9   n_failed                 245453 non-null  int64  \n",
      " 10  max_voucher_amount       245453 non-null  float64\n",
      " 11  tot_voucher_amount       245453 non-null  float64\n",
      "dtypes: float64(6), int64(6)\n",
      "memory usage: 34.3+ MB\n"
     ]
    }
   ],
   "source": [
    "customer_features = customer_features.join(tot_voucher_amount)\n",
    "customer_features.info()"
   ]
  },
  {
   "cell_type": "code",
   "execution_count": 48,
   "metadata": {},
   "outputs": [],
   "source": [
    "n_vouchers = (df_orders['voucher_amount']>0).groupby(df_orders['customer_id']).sum()\n",
    "n_vouchers.name = 'n_vouchers'"
   ]
  },
  {
   "cell_type": "code",
   "execution_count": 49,
   "metadata": {},
   "outputs": [],
   "source": [
    "customer_features = customer_features.join(n_vouchers)"
   ]
  },
  {
   "cell_type": "code",
   "execution_count": 50,
   "metadata": {},
   "outputs": [],
   "source": [
    "tot_delivery_fee = df_orders.groupby('customer_id')['delivery_fee'].sum()\n",
    "max_delivery_fee = df_orders.groupby('customer_id')['delivery_fee'].max()\n",
    "# How many times a delivery fee was paid\n",
    "n_delivery_fee = (df_orders['delivery_fee']>0).groupby(df_orders['customer_id']).sum()"
   ]
  },
  {
   "cell_type": "code",
   "execution_count": 51,
   "metadata": {},
   "outputs": [],
   "source": [
    "tot_delivery_fee.name = 'tot_delivery_fee'\n",
    "max_delivery_fee.name = 'max_delivery_fee'\n",
    "n_delivery_fee.name = 'n_delivery_fee'"
   ]
  },
  {
   "cell_type": "code",
   "execution_count": 52,
   "metadata": {},
   "outputs": [
    {
     "name": "stdout",
     "output_type": "stream",
     "text": [
      "<class 'pandas.core.frame.DataFrame'>\n",
      "Index: 245453 entries, 000097eabfd9 to ffffccbfc8a4\n",
      "Data columns (total 16 columns):\n",
      " #   Column                   Non-Null Count   Dtype  \n",
      "---  ------                   --------------   -----  \n",
      " 0   last_order_age_days      245453 non-null  int64  \n",
      " 1   n_orders_holidays        245453 non-null  int64  \n",
      " 2   mean_hour_of_day         245453 non-null  float64\n",
      " 3   std_hour_of_day          245453 non-null  float64\n",
      " 4   mean_day_of_week         245453 non-null  float64\n",
      " 5   std_day_of_week          245453 non-null  float64\n",
      " 6   first_order_age_days     245453 non-null  int64  \n",
      " 7   n_orders                 245453 non-null  int64  \n",
      " 8   max_customer_order_rank  245453 non-null  int64  \n",
      " 9   n_failed                 245453 non-null  int64  \n",
      " 10  max_voucher_amount       245453 non-null  float64\n",
      " 11  tot_voucher_amount       245453 non-null  float64\n",
      " 12  n_vouchers               245453 non-null  int64  \n",
      " 13  tot_delivery_fee         245453 non-null  float64\n",
      " 14  max_delivery_fee         245453 non-null  float64\n",
      " 15  n_delivery_fee           245453 non-null  int64  \n",
      "dtypes: float64(8), int64(8)\n",
      "memory usage: 41.8+ MB\n"
     ]
    }
   ],
   "source": [
    "customer_features = customer_features.join(tot_delivery_fee)\n",
    "customer_features = customer_features.join(max_delivery_fee)\n",
    "customer_features = customer_features.join(n_delivery_fee)\n",
    "customer_features.info()"
   ]
  },
  {
   "cell_type": "code",
   "execution_count": 53,
   "metadata": {},
   "outputs": [],
   "source": [
    "tot_amount_paid = df_orders.groupby('customer_id')['amount_paid'].sum()\n",
    "avg_amount_paid = df_orders.groupby('customer_id')['amount_paid'].mean()\n",
    "max_amount_paid = df_orders.groupby('customer_id')['amount_paid'].max()\n",
    "min_amount_paid = df_orders.groupby('customer_id')['amount_paid'].min()"
   ]
  },
  {
   "cell_type": "code",
   "execution_count": 54,
   "metadata": {},
   "outputs": [],
   "source": [
    "tot_amount_paid.name = 'tot_amount_paid'\n",
    "avg_amount_paid.name = 'avg_amount_paid'\n",
    "max_amount_paid.name = 'max_amount_paid'\n",
    "min_amount_paid.name = 'min_amount_paid'"
   ]
  },
  {
   "cell_type": "code",
   "execution_count": 55,
   "metadata": {},
   "outputs": [],
   "source": [
    "customer_features = customer_features.join(tot_amount_paid)\n",
    "customer_features = customer_features.join(avg_amount_paid)\n",
    "customer_features = customer_features.join(max_amount_paid)\n",
    "customer_features = customer_features.join(min_amount_paid)"
   ]
  },
  {
   "cell_type": "code",
   "execution_count": 56,
   "metadata": {},
   "outputs": [
    {
     "name": "stdout",
     "output_type": "stream",
     "text": [
      "<class 'pandas.core.frame.DataFrame'>\n",
      "Index: 245453 entries, 000097eabfd9 to ffffccbfc8a4\n",
      "Data columns (total 20 columns):\n",
      " #   Column                   Non-Null Count   Dtype  \n",
      "---  ------                   --------------   -----  \n",
      " 0   last_order_age_days      245453 non-null  int64  \n",
      " 1   n_orders_holidays        245453 non-null  int64  \n",
      " 2   mean_hour_of_day         245453 non-null  float64\n",
      " 3   std_hour_of_day          245453 non-null  float64\n",
      " 4   mean_day_of_week         245453 non-null  float64\n",
      " 5   std_day_of_week          245453 non-null  float64\n",
      " 6   first_order_age_days     245453 non-null  int64  \n",
      " 7   n_orders                 245453 non-null  int64  \n",
      " 8   max_customer_order_rank  245453 non-null  int64  \n",
      " 9   n_failed                 245453 non-null  int64  \n",
      " 10  max_voucher_amount       245453 non-null  float64\n",
      " 11  tot_voucher_amount       245453 non-null  float64\n",
      " 12  n_vouchers               245453 non-null  int64  \n",
      " 13  tot_delivery_fee         245453 non-null  float64\n",
      " 14  max_delivery_fee         245453 non-null  float64\n",
      " 15  n_delivery_fee           245453 non-null  int64  \n",
      " 16  tot_amount_paid          245453 non-null  float64\n",
      " 17  avg_amount_paid          245453 non-null  float64\n",
      " 18  max_amount_paid          245453 non-null  float64\n",
      " 19  min_amount_paid          245453 non-null  float64\n",
      "dtypes: float64(12), int64(8)\n",
      "memory usage: 49.3+ MB\n"
     ]
    }
   ],
   "source": [
    "customer_features.info()"
   ]
  },
  {
   "cell_type": "code",
   "execution_count": 57,
   "metadata": {},
   "outputs": [
    {
     "data": {
      "text/plain": [
       "customer_id\n",
       "000097eabfd9    1\n",
       "0000e2c6d9be    1\n",
       "000133bb597f    1\n",
       "00018269939b    1\n",
       "0001a00468a6    1\n",
       "               ..\n",
       "fffd696eaedd    1\n",
       "fffe9d5a8d41    2\n",
       "ffff347c3cfa    2\n",
       "ffff4519b52d    1\n",
       "ffffccbfc8a4    1\n",
       "Name: n_restaurants, Length: 245453, dtype: int64"
      ]
     },
     "execution_count": 57,
     "metadata": {},
     "output_type": "execute_result"
    }
   ],
   "source": [
    "n_restaurants = df_orders.groupby('customer_id')['restaurant_id'].nunique()\n",
    "n_restaurants.name = 'n_restaurants'\n",
    "n_restaurants"
   ]
  },
  {
   "cell_type": "code",
   "execution_count": 58,
   "metadata": {},
   "outputs": [
    {
     "name": "stdout",
     "output_type": "stream",
     "text": [
      "<class 'pandas.core.frame.DataFrame'>\n",
      "Index: 245453 entries, 000097eabfd9 to ffffccbfc8a4\n",
      "Data columns (total 21 columns):\n",
      " #   Column                   Non-Null Count   Dtype  \n",
      "---  ------                   --------------   -----  \n",
      " 0   last_order_age_days      245453 non-null  int64  \n",
      " 1   n_orders_holidays        245453 non-null  int64  \n",
      " 2   mean_hour_of_day         245453 non-null  float64\n",
      " 3   std_hour_of_day          245453 non-null  float64\n",
      " 4   mean_day_of_week         245453 non-null  float64\n",
      " 5   std_day_of_week          245453 non-null  float64\n",
      " 6   first_order_age_days     245453 non-null  int64  \n",
      " 7   n_orders                 245453 non-null  int64  \n",
      " 8   max_customer_order_rank  245453 non-null  int64  \n",
      " 9   n_failed                 245453 non-null  int64  \n",
      " 10  max_voucher_amount       245453 non-null  float64\n",
      " 11  tot_voucher_amount       245453 non-null  float64\n",
      " 12  n_vouchers               245453 non-null  int64  \n",
      " 13  tot_delivery_fee         245453 non-null  float64\n",
      " 14  max_delivery_fee         245453 non-null  float64\n",
      " 15  n_delivery_fee           245453 non-null  int64  \n",
      " 16  tot_amount_paid          245453 non-null  float64\n",
      " 17  avg_amount_paid          245453 non-null  float64\n",
      " 18  max_amount_paid          245453 non-null  float64\n",
      " 19  min_amount_paid          245453 non-null  float64\n",
      " 20  n_restaurants            245453 non-null  int64  \n",
      "dtypes: float64(12), int64(9)\n",
      "memory usage: 51.2+ MB\n"
     ]
    }
   ],
   "source": [
    "customer_features = customer_features.join(n_restaurants)\n",
    "customer_features.info()"
   ]
  },
  {
   "cell_type": "code",
   "execution_count": 59,
   "metadata": {},
   "outputs": [
    {
     "data": {
      "text/plain": [
       "customer_id\n",
       "000097eabfd9    1\n",
       "0000e2c6d9be    1\n",
       "000133bb597f    1\n",
       "00018269939b    1\n",
       "0001a00468a6    1\n",
       "               ..\n",
       "fffd696eaedd    1\n",
       "fffe9d5a8d41    1\n",
       "ffff347c3cfa    1\n",
       "ffff4519b52d    1\n",
       "ffffccbfc8a4    1\n",
       "Name: n_cities, Length: 245453, dtype: int64"
      ]
     },
     "execution_count": 59,
     "metadata": {},
     "output_type": "execute_result"
    }
   ],
   "source": [
    "n_cities = df_orders.groupby('customer_id')['city_id'].nunique()\n",
    "n_cities.name = 'n_cities'\n",
    "n_cities"
   ]
  },
  {
   "cell_type": "code",
   "execution_count": 60,
   "metadata": {},
   "outputs": [],
   "source": [
    "customer_features = customer_features.join(n_cities)"
   ]
  },
  {
   "cell_type": "code",
   "execution_count": 61,
   "metadata": {},
   "outputs": [
    {
     "name": "stdout",
     "output_type": "stream",
     "text": [
      "<class 'pandas.core.frame.DataFrame'>\n",
      "Index: 245453 entries, 000097eabfd9 to ffffccbfc8a4\n",
      "Data columns (total 22 columns):\n",
      " #   Column                   Non-Null Count   Dtype  \n",
      "---  ------                   --------------   -----  \n",
      " 0   last_order_age_days      245453 non-null  int64  \n",
      " 1   n_orders_holidays        245453 non-null  int64  \n",
      " 2   mean_hour_of_day         245453 non-null  float64\n",
      " 3   std_hour_of_day          245453 non-null  float64\n",
      " 4   mean_day_of_week         245453 non-null  float64\n",
      " 5   std_day_of_week          245453 non-null  float64\n",
      " 6   first_order_age_days     245453 non-null  int64  \n",
      " 7   n_orders                 245453 non-null  int64  \n",
      " 8   max_customer_order_rank  245453 non-null  int64  \n",
      " 9   n_failed                 245453 non-null  int64  \n",
      " 10  max_voucher_amount       245453 non-null  float64\n",
      " 11  tot_voucher_amount       245453 non-null  float64\n",
      " 12  n_vouchers               245453 non-null  int64  \n",
      " 13  tot_delivery_fee         245453 non-null  float64\n",
      " 14  max_delivery_fee         245453 non-null  float64\n",
      " 15  n_delivery_fee           245453 non-null  int64  \n",
      " 16  tot_amount_paid          245453 non-null  float64\n",
      " 17  avg_amount_paid          245453 non-null  float64\n",
      " 18  max_amount_paid          245453 non-null  float64\n",
      " 19  min_amount_paid          245453 non-null  float64\n",
      " 20  n_restaurants            245453 non-null  int64  \n",
      " 21  n_cities                 245453 non-null  int64  \n",
      "dtypes: float64(12), int64(10)\n",
      "memory usage: 53.1+ MB\n"
     ]
    }
   ],
   "source": [
    "customer_features.info()"
   ]
  },
  {
   "cell_type": "code",
   "execution_count": 62,
   "metadata": {
    "scrolled": false
   },
   "outputs": [
    {
     "data": {
      "text/html": [
       "<div>\n",
       "<style scoped>\n",
       "    .dataframe tbody tr th:only-of-type {\n",
       "        vertical-align: middle;\n",
       "    }\n",
       "\n",
       "    .dataframe tbody tr th {\n",
       "        vertical-align: top;\n",
       "    }\n",
       "\n",
       "    .dataframe thead th {\n",
       "        text-align: right;\n",
       "    }\n",
       "</style>\n",
       "<table border=\"1\" class=\"dataframe\">\n",
       "  <thead>\n",
       "    <tr style=\"text-align: right;\">\n",
       "      <th></th>\n",
       "      <th>last_order_age_days</th>\n",
       "      <th>n_orders_holidays</th>\n",
       "      <th>mean_hour_of_day</th>\n",
       "      <th>std_hour_of_day</th>\n",
       "      <th>mean_day_of_week</th>\n",
       "      <th>std_day_of_week</th>\n",
       "      <th>first_order_age_days</th>\n",
       "      <th>n_orders</th>\n",
       "      <th>max_customer_order_rank</th>\n",
       "      <th>n_failed</th>\n",
       "      <th>...</th>\n",
       "      <th>n_vouchers</th>\n",
       "      <th>tot_delivery_fee</th>\n",
       "      <th>max_delivery_fee</th>\n",
       "      <th>n_delivery_fee</th>\n",
       "      <th>tot_amount_paid</th>\n",
       "      <th>avg_amount_paid</th>\n",
       "      <th>max_amount_paid</th>\n",
       "      <th>min_amount_paid</th>\n",
       "      <th>n_restaurants</th>\n",
       "      <th>n_cities</th>\n",
       "    </tr>\n",
       "    <tr>\n",
       "      <th>customer_id</th>\n",
       "      <th></th>\n",
       "      <th></th>\n",
       "      <th></th>\n",
       "      <th></th>\n",
       "      <th></th>\n",
       "      <th></th>\n",
       "      <th></th>\n",
       "      <th></th>\n",
       "      <th></th>\n",
       "      <th></th>\n",
       "      <th></th>\n",
       "      <th></th>\n",
       "      <th></th>\n",
       "      <th></th>\n",
       "      <th></th>\n",
       "      <th></th>\n",
       "      <th></th>\n",
       "      <th></th>\n",
       "      <th></th>\n",
       "      <th></th>\n",
       "      <th></th>\n",
       "    </tr>\n",
       "  </thead>\n",
       "  <tbody>\n",
       "    <tr>\n",
       "      <th>000097eabfd9</th>\n",
       "      <td>618</td>\n",
       "      <td>0</td>\n",
       "      <td>19.0</td>\n",
       "      <td>0.0</td>\n",
       "      <td>5.0</td>\n",
       "      <td>0.0</td>\n",
       "      <td>618</td>\n",
       "      <td>1</td>\n",
       "      <td>1</td>\n",
       "      <td>0</td>\n",
       "      <td>...</td>\n",
       "      <td>0</td>\n",
       "      <td>0.000</td>\n",
       "      <td>0.000</td>\n",
       "      <td>0</td>\n",
       "      <td>11.46960</td>\n",
       "      <td>11.46960</td>\n",
       "      <td>11.46960</td>\n",
       "      <td>11.46960</td>\n",
       "      <td>1</td>\n",
       "      <td>1</td>\n",
       "    </tr>\n",
       "    <tr>\n",
       "      <th>0000e2c6d9be</th>\n",
       "      <td>395</td>\n",
       "      <td>0</td>\n",
       "      <td>20.0</td>\n",
       "      <td>0.0</td>\n",
       "      <td>4.0</td>\n",
       "      <td>0.0</td>\n",
       "      <td>395</td>\n",
       "      <td>1</td>\n",
       "      <td>1</td>\n",
       "      <td>0</td>\n",
       "      <td>...</td>\n",
       "      <td>0</td>\n",
       "      <td>0.000</td>\n",
       "      <td>0.000</td>\n",
       "      <td>0</td>\n",
       "      <td>9.55800</td>\n",
       "      <td>9.55800</td>\n",
       "      <td>9.55800</td>\n",
       "      <td>9.55800</td>\n",
       "      <td>1</td>\n",
       "      <td>1</td>\n",
       "    </tr>\n",
       "    <tr>\n",
       "      <th>000133bb597f</th>\n",
       "      <td>1</td>\n",
       "      <td>0</td>\n",
       "      <td>19.0</td>\n",
       "      <td>0.0</td>\n",
       "      <td>6.0</td>\n",
       "      <td>0.0</td>\n",
       "      <td>1</td>\n",
       "      <td>1</td>\n",
       "      <td>1</td>\n",
       "      <td>0</td>\n",
       "      <td>...</td>\n",
       "      <td>0</td>\n",
       "      <td>0.493</td>\n",
       "      <td>0.493</td>\n",
       "      <td>1</td>\n",
       "      <td>5.93658</td>\n",
       "      <td>5.93658</td>\n",
       "      <td>5.93658</td>\n",
       "      <td>5.93658</td>\n",
       "      <td>1</td>\n",
       "      <td>1</td>\n",
       "    </tr>\n",
       "    <tr>\n",
       "      <th>00018269939b</th>\n",
       "      <td>22</td>\n",
       "      <td>0</td>\n",
       "      <td>17.0</td>\n",
       "      <td>0.0</td>\n",
       "      <td>6.0</td>\n",
       "      <td>0.0</td>\n",
       "      <td>22</td>\n",
       "      <td>1</td>\n",
       "      <td>1</td>\n",
       "      <td>0</td>\n",
       "      <td>...</td>\n",
       "      <td>0</td>\n",
       "      <td>0.493</td>\n",
       "      <td>0.493</td>\n",
       "      <td>1</td>\n",
       "      <td>9.82350</td>\n",
       "      <td>9.82350</td>\n",
       "      <td>9.82350</td>\n",
       "      <td>9.82350</td>\n",
       "      <td>1</td>\n",
       "      <td>1</td>\n",
       "    </tr>\n",
       "    <tr>\n",
       "      <th>0001a00468a6</th>\n",
       "      <td>573</td>\n",
       "      <td>0</td>\n",
       "      <td>19.0</td>\n",
       "      <td>0.0</td>\n",
       "      <td>1.0</td>\n",
       "      <td>0.0</td>\n",
       "      <td>573</td>\n",
       "      <td>1</td>\n",
       "      <td>1</td>\n",
       "      <td>0</td>\n",
       "      <td>...</td>\n",
       "      <td>0</td>\n",
       "      <td>0.493</td>\n",
       "      <td>0.493</td>\n",
       "      <td>1</td>\n",
       "      <td>5.15070</td>\n",
       "      <td>5.15070</td>\n",
       "      <td>5.15070</td>\n",
       "      <td>5.15070</td>\n",
       "      <td>1</td>\n",
       "      <td>1</td>\n",
       "    </tr>\n",
       "  </tbody>\n",
       "</table>\n",
       "<p>5 rows × 22 columns</p>\n",
       "</div>"
      ],
      "text/plain": [
       "              last_order_age_days  n_orders_holidays  mean_hour_of_day  \\\n",
       "customer_id                                                              \n",
       "000097eabfd9                  618                  0              19.0   \n",
       "0000e2c6d9be                  395                  0              20.0   \n",
       "000133bb597f                    1                  0              19.0   \n",
       "00018269939b                   22                  0              17.0   \n",
       "0001a00468a6                  573                  0              19.0   \n",
       "\n",
       "              std_hour_of_day  mean_day_of_week  std_day_of_week  \\\n",
       "customer_id                                                        \n",
       "000097eabfd9              0.0               5.0              0.0   \n",
       "0000e2c6d9be              0.0               4.0              0.0   \n",
       "000133bb597f              0.0               6.0              0.0   \n",
       "00018269939b              0.0               6.0              0.0   \n",
       "0001a00468a6              0.0               1.0              0.0   \n",
       "\n",
       "              first_order_age_days  n_orders  max_customer_order_rank  \\\n",
       "customer_id                                                             \n",
       "000097eabfd9                   618         1                        1   \n",
       "0000e2c6d9be                   395         1                        1   \n",
       "000133bb597f                     1         1                        1   \n",
       "00018269939b                    22         1                        1   \n",
       "0001a00468a6                   573         1                        1   \n",
       "\n",
       "              n_failed  ...  n_vouchers  tot_delivery_fee  max_delivery_fee  \\\n",
       "customer_id             ...                                                   \n",
       "000097eabfd9         0  ...           0             0.000             0.000   \n",
       "0000e2c6d9be         0  ...           0             0.000             0.000   \n",
       "000133bb597f         0  ...           0             0.493             0.493   \n",
       "00018269939b         0  ...           0             0.493             0.493   \n",
       "0001a00468a6         0  ...           0             0.493             0.493   \n",
       "\n",
       "              n_delivery_fee  tot_amount_paid  avg_amount_paid  \\\n",
       "customer_id                                                      \n",
       "000097eabfd9               0         11.46960         11.46960   \n",
       "0000e2c6d9be               0          9.55800          9.55800   \n",
       "000133bb597f               1          5.93658          5.93658   \n",
       "00018269939b               1          9.82350          9.82350   \n",
       "0001a00468a6               1          5.15070          5.15070   \n",
       "\n",
       "              max_amount_paid  min_amount_paid  n_restaurants  n_cities  \n",
       "customer_id                                                              \n",
       "000097eabfd9         11.46960         11.46960              1         1  \n",
       "0000e2c6d9be          9.55800          9.55800              1         1  \n",
       "000133bb597f          5.93658          5.93658              1         1  \n",
       "00018269939b          9.82350          9.82350              1         1  \n",
       "0001a00468a6          5.15070          5.15070              1         1  \n",
       "\n",
       "[5 rows x 22 columns]"
      ]
     },
     "execution_count": 62,
     "metadata": {},
     "output_type": "execute_result"
    }
   ],
   "source": [
    "customer_features.head()"
   ]
  },
  {
   "cell_type": "markdown",
   "metadata": {},
   "source": [
    "### Store to disk"
   ]
  },
  {
   "cell_type": "code",
   "execution_count": 87,
   "metadata": {},
   "outputs": [],
   "source": [
    "customer_features.to_json(\n",
    "    \"../data/customer_features.json\",\n",
    "    orient='table',\n",
    ")"
   ]
  }
 ],
 "metadata": {
  "kernelspec": {
   "display_name": "Python 3",
   "language": "python",
   "name": "python3"
  },
  "language_info": {
   "codemirror_mode": {
    "name": "ipython",
    "version": 3
   },
   "file_extension": ".py",
   "mimetype": "text/x-python",
   "name": "python",
   "nbconvert_exporter": "python",
   "pygments_lexer": "ipython3",
   "version": "3.8.6"
  }
 },
 "nbformat": 4,
 "nbformat_minor": 4
}

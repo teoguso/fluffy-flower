{
 "cells": [
  {
   "cell_type": "markdown",
   "metadata": {},
   "source": [
    "# Feature analysis and extraction\n",
    "\n",
    "This notebooks contain a more detailed analysis of each column.\n",
    "For each column of the table we'll create as many features as possible accordingly\n",
    "to the type of data\n",
    "(e.g. one column could lend itself to both a numerical feature and\n",
    "a binary or categorical feature)."
   ]
  },
  {
   "cell_type": "markdown",
   "metadata": {},
   "source": [
    "### Read the data"
   ]
  },
  {
   "cell_type": "code",
   "execution_count": 1,
   "metadata": {},
   "outputs": [],
   "source": [
    "import numpy as np\n",
    "import pandas as pd\n",
    "import matplotlib.pyplot as plt\n",
    "from pandas.plotting import scatter_matrix\n",
    "import seaborn as sns\n",
    "\n",
    "%matplotlib inline"
   ]
  },
  {
   "cell_type": "code",
   "execution_count": 2,
   "metadata": {},
   "outputs": [],
   "source": [
    "sns.set()"
   ]
  },
  {
   "cell_type": "markdown",
   "metadata": {},
   "source": [
    "Read the data:"
   ]
  },
  {
   "cell_type": "code",
   "execution_count": 3,
   "metadata": {},
   "outputs": [],
   "source": [
    "order_data = pd.read_json(\n",
    "    \"../data/order_data_dtypes.json\",\n",
    "    orient='table',\n",
    ").sample(frac=.1)"
   ]
  },
  {
   "cell_type": "code",
   "execution_count": 4,
   "metadata": {
    "scrolled": true
   },
   "outputs": [
    {
     "data": {
      "text/html": [
       "<div>\n",
       "<style scoped>\n",
       "    .dataframe tbody tr th:only-of-type {\n",
       "        vertical-align: middle;\n",
       "    }\n",
       "\n",
       "    .dataframe tbody tr th {\n",
       "        vertical-align: top;\n",
       "    }\n",
       "\n",
       "    .dataframe thead th {\n",
       "        text-align: right;\n",
       "    }\n",
       "</style>\n",
       "<table border=\"1\" class=\"dataframe\">\n",
       "  <thead>\n",
       "    <tr style=\"text-align: right;\">\n",
       "      <th></th>\n",
       "      <th>order_datetime</th>\n",
       "      <th>customer_id</th>\n",
       "      <th>customer_order_rank</th>\n",
       "      <th>is_failed</th>\n",
       "      <th>voucher_amount</th>\n",
       "      <th>delivery_fee</th>\n",
       "      <th>amount_paid</th>\n",
       "      <th>restaurant_id</th>\n",
       "      <th>city_id</th>\n",
       "      <th>payment_id</th>\n",
       "      <th>platform_id</th>\n",
       "      <th>transmission_id</th>\n",
       "      <th>hour_of_day</th>\n",
       "      <th>day_of_week</th>\n",
       "      <th>is_holiday</th>\n",
       "    </tr>\n",
       "  </thead>\n",
       "  <tbody>\n",
       "    <tr>\n",
       "      <th>9988</th>\n",
       "      <td>2015-03-27 17:00:00</td>\n",
       "      <td>afec99bb6feb</td>\n",
       "      <td>1</td>\n",
       "      <td>False</td>\n",
       "      <td>0.0</td>\n",
       "      <td>0.986</td>\n",
       "      <td>6.3720</td>\n",
       "      <td>76913498</td>\n",
       "      <td>74413</td>\n",
       "      <td>1779</td>\n",
       "      <td>29463</td>\n",
       "      <td>4324</td>\n",
       "      <td>17</td>\n",
       "      <td>4</td>\n",
       "      <td>False</td>\n",
       "    </tr>\n",
       "    <tr>\n",
       "      <th>437760</th>\n",
       "      <td>2016-07-16 18:00:00</td>\n",
       "      <td>ded30afababa</td>\n",
       "      <td>3</td>\n",
       "      <td>False</td>\n",
       "      <td>0.0</td>\n",
       "      <td>0.000</td>\n",
       "      <td>10.0359</td>\n",
       "      <td>48183498</td>\n",
       "      <td>75403</td>\n",
       "      <td>1619</td>\n",
       "      <td>30231</td>\n",
       "      <td>4356</td>\n",
       "      <td>18</td>\n",
       "      <td>5</td>\n",
       "      <td>False</td>\n",
       "    </tr>\n",
       "    <tr>\n",
       "      <th>223106</th>\n",
       "      <td>2016-01-10 20:00:00</td>\n",
       "      <td>7a349918f0ab</td>\n",
       "      <td>6</td>\n",
       "      <td>False</td>\n",
       "      <td>0.0</td>\n",
       "      <td>0.000</td>\n",
       "      <td>5.2569</td>\n",
       "      <td>64403498</td>\n",
       "      <td>84259</td>\n",
       "      <td>1619</td>\n",
       "      <td>30231</td>\n",
       "      <td>4356</td>\n",
       "      <td>20</td>\n",
       "      <td>6</td>\n",
       "      <td>False</td>\n",
       "    </tr>\n",
       "    <tr>\n",
       "      <th>785704</th>\n",
       "      <td>2017-02-27 18:00:00</td>\n",
       "      <td>5847712da812</td>\n",
       "      <td>2</td>\n",
       "      <td>False</td>\n",
       "      <td>0.0</td>\n",
       "      <td>0.000</td>\n",
       "      <td>6.2127</td>\n",
       "      <td>49263498</td>\n",
       "      <td>41109</td>\n",
       "      <td>1619</td>\n",
       "      <td>29463</td>\n",
       "      <td>4356</td>\n",
       "      <td>18</td>\n",
       "      <td>0</td>\n",
       "      <td>False</td>\n",
       "    </tr>\n",
       "    <tr>\n",
       "      <th>650099</th>\n",
       "      <td>2016-12-14 18:00:00</td>\n",
       "      <td>8273921e3166</td>\n",
       "      <td>10</td>\n",
       "      <td>False</td>\n",
       "      <td>0.0</td>\n",
       "      <td>0.000</td>\n",
       "      <td>14.6025</td>\n",
       "      <td>319403498</td>\n",
       "      <td>47282</td>\n",
       "      <td>1619</td>\n",
       "      <td>30231</td>\n",
       "      <td>4996</td>\n",
       "      <td>18</td>\n",
       "      <td>2</td>\n",
       "      <td>False</td>\n",
       "    </tr>\n",
       "  </tbody>\n",
       "</table>\n",
       "</div>"
      ],
      "text/plain": [
       "            order_datetime   customer_id  customer_order_rank  is_failed  \\\n",
       "9988   2015-03-27 17:00:00  afec99bb6feb                    1      False   \n",
       "437760 2016-07-16 18:00:00  ded30afababa                    3      False   \n",
       "223106 2016-01-10 20:00:00  7a349918f0ab                    6      False   \n",
       "785704 2017-02-27 18:00:00  5847712da812                    2      False   \n",
       "650099 2016-12-14 18:00:00  8273921e3166                   10      False   \n",
       "\n",
       "        voucher_amount  delivery_fee  amount_paid restaurant_id city_id  \\\n",
       "9988               0.0         0.986       6.3720      76913498   74413   \n",
       "437760             0.0         0.000      10.0359      48183498   75403   \n",
       "223106             0.0         0.000       5.2569      64403498   84259   \n",
       "785704             0.0         0.000       6.2127      49263498   41109   \n",
       "650099             0.0         0.000      14.6025     319403498   47282   \n",
       "\n",
       "       payment_id platform_id transmission_id hour_of_day day_of_week  \\\n",
       "9988         1779       29463            4324          17           4   \n",
       "437760       1619       30231            4356          18           5   \n",
       "223106       1619       30231            4356          20           6   \n",
       "785704       1619       29463            4356          18           0   \n",
       "650099       1619       30231            4996          18           2   \n",
       "\n",
       "        is_holiday  \n",
       "9988         False  \n",
       "437760       False  \n",
       "223106       False  \n",
       "785704       False  \n",
       "650099       False  "
      ]
     },
     "execution_count": 4,
     "metadata": {},
     "output_type": "execute_result"
    }
   ],
   "source": [
    "order_data.head()"
   ]
  },
  {
   "cell_type": "code",
   "execution_count": 5,
   "metadata": {},
   "outputs": [
    {
     "name": "stdout",
     "output_type": "stream",
     "text": [
      "<class 'pandas.core.frame.DataFrame'>\n",
      "Int64Index: 78655 entries, 9988 to 767626\n",
      "Data columns (total 15 columns):\n",
      " #   Column               Non-Null Count  Dtype         \n",
      "---  ------               --------------  -----         \n",
      " 0   order_datetime       78655 non-null  datetime64[ns]\n",
      " 1   customer_id          78655 non-null  object        \n",
      " 2   customer_order_rank  78655 non-null  int64         \n",
      " 3   is_failed            78655 non-null  bool          \n",
      " 4   voucher_amount       78655 non-null  float64       \n",
      " 5   delivery_fee         78655 non-null  float64       \n",
      " 6   amount_paid          78655 non-null  float64       \n",
      " 7   restaurant_id        78655 non-null  category      \n",
      " 8   city_id              78655 non-null  category      \n",
      " 9   payment_id           78655 non-null  category      \n",
      " 10  platform_id          78655 non-null  category      \n",
      " 11  transmission_id      78655 non-null  category      \n",
      " 12  hour_of_day          78655 non-null  category      \n",
      " 13  day_of_week          78655 non-null  category      \n",
      " 14  is_holiday           78655 non-null  bool          \n",
      "dtypes: bool(2), category(7), datetime64[ns](1), float64(3), int64(1), object(1)\n",
      "memory usage: 5.9+ MB\n"
     ]
    }
   ],
   "source": [
    "order_data.info()"
   ]
  },
  {
   "cell_type": "markdown",
   "metadata": {},
   "source": [
    "### Orders features\n",
    "\n",
    "Let's store our newly-created features in separate tables.\n",
    "\n",
    "Let's create a table for order features, including one-hot representation of categorical variables (dummy variables):"
   ]
  },
  {
   "cell_type": "code",
   "execution_count": 6,
   "metadata": {},
   "outputs": [],
   "source": [
    "orders_features = pd.DataFrame(index=order_data.index)"
   ]
  },
  {
   "cell_type": "code",
   "execution_count": 7,
   "metadata": {},
   "outputs": [],
   "source": [
    "orders_features['customer_id'] = order_data['customer_id']"
   ]
  },
  {
   "cell_type": "code",
   "execution_count": 8,
   "metadata": {},
   "outputs": [
    {
     "data": {
      "text/html": [
       "<div>\n",
       "<style scoped>\n",
       "    .dataframe tbody tr th:only-of-type {\n",
       "        vertical-align: middle;\n",
       "    }\n",
       "\n",
       "    .dataframe tbody tr th {\n",
       "        vertical-align: top;\n",
       "    }\n",
       "\n",
       "    .dataframe thead th {\n",
       "        text-align: right;\n",
       "    }\n",
       "</style>\n",
       "<table border=\"1\" class=\"dataframe\">\n",
       "  <thead>\n",
       "    <tr style=\"text-align: right;\">\n",
       "      <th></th>\n",
       "      <th>customer_id</th>\n",
       "    </tr>\n",
       "  </thead>\n",
       "  <tbody>\n",
       "    <tr>\n",
       "      <th>9988</th>\n",
       "      <td>afec99bb6feb</td>\n",
       "    </tr>\n",
       "    <tr>\n",
       "      <th>437760</th>\n",
       "      <td>ded30afababa</td>\n",
       "    </tr>\n",
       "    <tr>\n",
       "      <th>223106</th>\n",
       "      <td>7a349918f0ab</td>\n",
       "    </tr>\n",
       "    <tr>\n",
       "      <th>785704</th>\n",
       "      <td>5847712da812</td>\n",
       "    </tr>\n",
       "    <tr>\n",
       "      <th>650099</th>\n",
       "      <td>8273921e3166</td>\n",
       "    </tr>\n",
       "  </tbody>\n",
       "</table>\n",
       "</div>"
      ],
      "text/plain": [
       "         customer_id\n",
       "9988    afec99bb6feb\n",
       "437760  ded30afababa\n",
       "223106  7a349918f0ab\n",
       "785704  5847712da812\n",
       "650099  8273921e3166"
      ]
     },
     "execution_count": 8,
     "metadata": {},
     "output_type": "execute_result"
    }
   ],
   "source": [
    "orders_features.head()"
   ]
  },
  {
   "cell_type": "markdown",
   "metadata": {},
   "source": [
    "### Customer features\n",
    "\n",
    "We'll be extracting customer features and storing them in a separate dataframe:"
   ]
  },
  {
   "cell_type": "code",
   "execution_count": 9,
   "metadata": {},
   "outputs": [],
   "source": [
    "customer_features = pd.DataFrame(index=order_data['customer_id'].unique())\n",
    "customer_features.index.name = 'customer_id'"
   ]
  },
  {
   "cell_type": "code",
   "execution_count": 10,
   "metadata": {},
   "outputs": [
    {
     "data": {
      "text/html": [
       "<div>\n",
       "<style scoped>\n",
       "    .dataframe tbody tr th:only-of-type {\n",
       "        vertical-align: middle;\n",
       "    }\n",
       "\n",
       "    .dataframe tbody tr th {\n",
       "        vertical-align: top;\n",
       "    }\n",
       "\n",
       "    .dataframe thead th {\n",
       "        text-align: right;\n",
       "    }\n",
       "</style>\n",
       "<table border=\"1\" class=\"dataframe\">\n",
       "  <thead>\n",
       "    <tr style=\"text-align: right;\">\n",
       "      <th></th>\n",
       "    </tr>\n",
       "    <tr>\n",
       "      <th>customer_id</th>\n",
       "    </tr>\n",
       "  </thead>\n",
       "  <tbody>\n",
       "    <tr>\n",
       "      <th>afec99bb6feb</th>\n",
       "    </tr>\n",
       "    <tr>\n",
       "      <th>ded30afababa</th>\n",
       "    </tr>\n",
       "    <tr>\n",
       "      <th>7a349918f0ab</th>\n",
       "    </tr>\n",
       "    <tr>\n",
       "      <th>5847712da812</th>\n",
       "    </tr>\n",
       "    <tr>\n",
       "      <th>8273921e3166</th>\n",
       "    </tr>\n",
       "    <tr>\n",
       "      <th>...</th>\n",
       "    </tr>\n",
       "    <tr>\n",
       "      <th>39513751d31a</th>\n",
       "    </tr>\n",
       "    <tr>\n",
       "      <th>3818deeab913</th>\n",
       "    </tr>\n",
       "    <tr>\n",
       "      <th>39724ce8de15</th>\n",
       "    </tr>\n",
       "    <tr>\n",
       "      <th>622f36932377</th>\n",
       "    </tr>\n",
       "    <tr>\n",
       "      <th>6640df589b47</th>\n",
       "    </tr>\n",
       "  </tbody>\n",
       "</table>\n",
       "<p>52260 rows × 0 columns</p>\n",
       "</div>"
      ],
      "text/plain": [
       "Empty DataFrame\n",
       "Columns: []\n",
       "Index: [afec99bb6feb, ded30afababa, 7a349918f0ab, 5847712da812, 8273921e3166, 9c65a0d15e56, 48c66d4c5966, 6698ab6f258f, 1f0854540a40, 07a0faf29696, ec8f945519c9, f5eaf9348223, 509b6bd0117b, 7c627cfae281, e57ada573fbd, 929b80d45cf8, 7463bcc37a0c, 4ac3cdcc535a, a54d3123c6b8, dc4ed4f3eea1, 4ee1e377ff93, 9a0428d56fbb, 1caffcf631be, 8c000bbc2530, d05d1feab291, cd212c24d523, bd1ef8b51975, 0de5318c521f, 4e5bdbaf53a5, 53feed0f9fb5, 1f087b49a40d, e00e81883b87, bb151b9296a4, ba316257918b, 64eb4575fb9a, 1919f58a49fa, 6863795a2f5e, 474e97eaee2c, b24e6f46bb48, 9f690fa56e93, 5fc883473650, 2a8dd50d0c43, 658aa552cb4f, 0c4fe034525d, 7553c8a7d0e0, 9a1a873b8312, db2f1e86326e, 86f0717395be, 7cb2d098febb, 4ccb22d5d265, b3010d4c9fed, aad9e2b5917d, 56f00f02a1b2, 3672947ce8ee, 36c4dc487f4e, 5d9de5c063e9, 257cd54cbeb8, b7a936071d9c, 56183a50fde8, f32aa052aa24, c4b6562e3907, 501e55850e06, 053976928d9e, 2eafde1e22c4, 9e207551c5a1, 1e9e8bd6367f, e6c0fd50764f, e72cf3f47995, 214566cca85b, 9dda25b79a16, 2c247c35b133, 1c944443b99d, c43d82e356c7, 19f90f26c9af, ee1911c3cd4a, 3a78853351fe, 608d2d4e79b3, 49a124fc9d69, eb2f2d2bf14e, 974fc161bef3, e15e8b1cd45e, 3a51afb8c95c, fa15ff82a98d, 9cc6a23d81b2, 23c62b05e6ad, 873e7636b867, 2d2dfd70e866, b64432d179be, 98626ae6fb63, 62cca473e510, afc122314159, bfa1d4f56020, b7e849e547cf, f0b350163e5b, 2b27428950eb, d64b8785d313, cee7cc4038ce, 79246107906e, f7afe02a88ee, cc18bcd609d9, ...]\n",
       "\n",
       "[52260 rows x 0 columns]"
      ]
     },
     "execution_count": 10,
     "metadata": {},
     "output_type": "execute_result"
    }
   ],
   "source": [
    "customer_features"
   ]
  },
  {
   "cell_type": "markdown",
   "metadata": {},
   "source": [
    "#### Datetime features"
   ]
  },
  {
   "cell_type": "code",
   "execution_count": 11,
   "metadata": {},
   "outputs": [],
   "source": [
    "# orders_features['hour_of_day'] = order_data['order_datetime'].dt.hour\n",
    "# orders_features['day_of_week'] = order_data['order_datetime'].dt.dayofweek"
   ]
  },
  {
   "cell_type": "code",
   "execution_count": 12,
   "metadata": {},
   "outputs": [],
   "source": [
    "# orders_features['is_holiday'] = (\n",
    "#     (\n",
    "#         (order_data['order_datetime'].dt.month == 1) & (order_data['order_datetime'].dt.day == 1)\n",
    "#     ) | (\n",
    "#         (order_data['order_datetime'].dt.month == 12) & ((order_data['order_datetime'].dt.day == 25) | (order_data['order_datetime'].dt.day == 31))\n",
    "#     )\n",
    "# )"
   ]
  },
  {
   "cell_type": "code",
   "execution_count": 13,
   "metadata": {
    "scrolled": true
   },
   "outputs": [
    {
     "name": "stdout",
     "output_type": "stream",
     "text": [
      "<class 'pandas.core.frame.DataFrame'>\n",
      "Int64Index: 78655 entries, 435090 to 360246\n",
      "Data columns (total 1 columns):\n",
      " #   Column       Non-Null Count  Dtype \n",
      "---  ------       --------------  ----- \n",
      " 0   customer_id  78655 non-null  object\n",
      "dtypes: object(1)\n",
      "memory usage: 1.2+ MB\n"
     ]
    }
   ],
   "source": [
    "orders_features.info()"
   ]
  },
  {
   "cell_type": "markdown",
   "metadata": {},
   "source": [
    "#### Dummy variables"
   ]
  },
  {
   "cell_type": "markdown",
   "metadata": {},
   "source": [
    "Let's produce dummy variables from these:"
   ]
  },
  {
   "cell_type": "code",
   "execution_count": 14,
   "metadata": {},
   "outputs": [],
   "source": [
    "# col_name = 'hour_of_day'\n",
    "# pd.get_dummies(\n",
    "#     orders_features[col_name],\n",
    "#     prefix=col_name,\n",
    "# ).to_parquet(f\"../data/{col_name}_dummy.parquet\")"
   ]
  },
  {
   "cell_type": "code",
   "execution_count": 15,
   "metadata": {},
   "outputs": [],
   "source": [
    "# !ls ../data/"
   ]
  },
  {
   "cell_type": "code",
   "execution_count": 16,
   "metadata": {},
   "outputs": [
    {
     "ename": "KeyError",
     "evalue": "'hour_of_day'",
     "output_type": "error",
     "traceback": [
      "\u001b[0;31m---------------------------------------------------------------------------\u001b[0m",
      "\u001b[0;31mKeyError\u001b[0m                                  Traceback (most recent call last)",
      "\u001b[0;32m~/anaconda3/envs/fluffy-flower/lib/python3.8/site-packages/pandas/core/indexes/base.py\u001b[0m in \u001b[0;36mget_loc\u001b[0;34m(self, key, method, tolerance)\u001b[0m\n\u001b[1;32m   2897\u001b[0m             \u001b[0;32mtry\u001b[0m\u001b[0;34m:\u001b[0m\u001b[0;34m\u001b[0m\u001b[0;34m\u001b[0m\u001b[0m\n\u001b[0;32m-> 2898\u001b[0;31m                 \u001b[0;32mreturn\u001b[0m \u001b[0mself\u001b[0m\u001b[0;34m.\u001b[0m\u001b[0m_engine\u001b[0m\u001b[0;34m.\u001b[0m\u001b[0mget_loc\u001b[0m\u001b[0;34m(\u001b[0m\u001b[0mcasted_key\u001b[0m\u001b[0;34m)\u001b[0m\u001b[0;34m\u001b[0m\u001b[0;34m\u001b[0m\u001b[0m\n\u001b[0m\u001b[1;32m   2899\u001b[0m             \u001b[0;32mexcept\u001b[0m \u001b[0mKeyError\u001b[0m \u001b[0;32mas\u001b[0m \u001b[0merr\u001b[0m\u001b[0;34m:\u001b[0m\u001b[0;34m\u001b[0m\u001b[0;34m\u001b[0m\u001b[0m\n",
      "\u001b[0;32mpandas/_libs/index.pyx\u001b[0m in \u001b[0;36mpandas._libs.index.IndexEngine.get_loc\u001b[0;34m()\u001b[0m\n",
      "\u001b[0;32mpandas/_libs/index.pyx\u001b[0m in \u001b[0;36mpandas._libs.index.IndexEngine.get_loc\u001b[0;34m()\u001b[0m\n",
      "\u001b[0;32mpandas/_libs/hashtable_class_helper.pxi\u001b[0m in \u001b[0;36mpandas._libs.hashtable.PyObjectHashTable.get_item\u001b[0;34m()\u001b[0m\n",
      "\u001b[0;32mpandas/_libs/hashtable_class_helper.pxi\u001b[0m in \u001b[0;36mpandas._libs.hashtable.PyObjectHashTable.get_item\u001b[0;34m()\u001b[0m\n",
      "\u001b[0;31mKeyError\u001b[0m: 'hour_of_day'",
      "\nThe above exception was the direct cause of the following exception:\n",
      "\u001b[0;31mKeyError\u001b[0m                                  Traceback (most recent call last)",
      "\u001b[0;32m<ipython-input-16-206e859b09f8>\u001b[0m in \u001b[0;36m<module>\u001b[0;34m\u001b[0m\n\u001b[1;32m      1\u001b[0m \u001b[0mcol_name\u001b[0m \u001b[0;34m=\u001b[0m \u001b[0;34m'hour_of_day'\u001b[0m\u001b[0;34m\u001b[0m\u001b[0;34m\u001b[0m\u001b[0m\n\u001b[1;32m      2\u001b[0m hour_dummies = pd.get_dummies(\n\u001b[0;32m----> 3\u001b[0;31m     \u001b[0morders_features\u001b[0m\u001b[0;34m[\u001b[0m\u001b[0mcol_name\u001b[0m\u001b[0;34m]\u001b[0m\u001b[0;34m,\u001b[0m\u001b[0;34m\u001b[0m\u001b[0;34m\u001b[0m\u001b[0m\n\u001b[0m\u001b[1;32m      4\u001b[0m     \u001b[0mprefix\u001b[0m\u001b[0;34m=\u001b[0m\u001b[0mcol_name\u001b[0m\u001b[0;34m,\u001b[0m\u001b[0;34m\u001b[0m\u001b[0;34m\u001b[0m\u001b[0m\n\u001b[1;32m      5\u001b[0m )\n",
      "\u001b[0;32m~/anaconda3/envs/fluffy-flower/lib/python3.8/site-packages/pandas/core/frame.py\u001b[0m in \u001b[0;36m__getitem__\u001b[0;34m(self, key)\u001b[0m\n\u001b[1;32m   2904\u001b[0m             \u001b[0;32mif\u001b[0m \u001b[0mself\u001b[0m\u001b[0;34m.\u001b[0m\u001b[0mcolumns\u001b[0m\u001b[0;34m.\u001b[0m\u001b[0mnlevels\u001b[0m \u001b[0;34m>\u001b[0m \u001b[0;36m1\u001b[0m\u001b[0;34m:\u001b[0m\u001b[0;34m\u001b[0m\u001b[0;34m\u001b[0m\u001b[0m\n\u001b[1;32m   2905\u001b[0m                 \u001b[0;32mreturn\u001b[0m \u001b[0mself\u001b[0m\u001b[0;34m.\u001b[0m\u001b[0m_getitem_multilevel\u001b[0m\u001b[0;34m(\u001b[0m\u001b[0mkey\u001b[0m\u001b[0;34m)\u001b[0m\u001b[0;34m\u001b[0m\u001b[0;34m\u001b[0m\u001b[0m\n\u001b[0;32m-> 2906\u001b[0;31m             \u001b[0mindexer\u001b[0m \u001b[0;34m=\u001b[0m \u001b[0mself\u001b[0m\u001b[0;34m.\u001b[0m\u001b[0mcolumns\u001b[0m\u001b[0;34m.\u001b[0m\u001b[0mget_loc\u001b[0m\u001b[0;34m(\u001b[0m\u001b[0mkey\u001b[0m\u001b[0;34m)\u001b[0m\u001b[0;34m\u001b[0m\u001b[0;34m\u001b[0m\u001b[0m\n\u001b[0m\u001b[1;32m   2907\u001b[0m             \u001b[0;32mif\u001b[0m \u001b[0mis_integer\u001b[0m\u001b[0;34m(\u001b[0m\u001b[0mindexer\u001b[0m\u001b[0;34m)\u001b[0m\u001b[0;34m:\u001b[0m\u001b[0;34m\u001b[0m\u001b[0;34m\u001b[0m\u001b[0m\n\u001b[1;32m   2908\u001b[0m                 \u001b[0mindexer\u001b[0m \u001b[0;34m=\u001b[0m \u001b[0;34m[\u001b[0m\u001b[0mindexer\u001b[0m\u001b[0;34m]\u001b[0m\u001b[0;34m\u001b[0m\u001b[0;34m\u001b[0m\u001b[0m\n",
      "\u001b[0;32m~/anaconda3/envs/fluffy-flower/lib/python3.8/site-packages/pandas/core/indexes/base.py\u001b[0m in \u001b[0;36mget_loc\u001b[0;34m(self, key, method, tolerance)\u001b[0m\n\u001b[1;32m   2898\u001b[0m                 \u001b[0;32mreturn\u001b[0m \u001b[0mself\u001b[0m\u001b[0;34m.\u001b[0m\u001b[0m_engine\u001b[0m\u001b[0;34m.\u001b[0m\u001b[0mget_loc\u001b[0m\u001b[0;34m(\u001b[0m\u001b[0mcasted_key\u001b[0m\u001b[0;34m)\u001b[0m\u001b[0;34m\u001b[0m\u001b[0;34m\u001b[0m\u001b[0m\n\u001b[1;32m   2899\u001b[0m             \u001b[0;32mexcept\u001b[0m \u001b[0mKeyError\u001b[0m \u001b[0;32mas\u001b[0m \u001b[0merr\u001b[0m\u001b[0;34m:\u001b[0m\u001b[0;34m\u001b[0m\u001b[0;34m\u001b[0m\u001b[0m\n\u001b[0;32m-> 2900\u001b[0;31m                 \u001b[0;32mraise\u001b[0m \u001b[0mKeyError\u001b[0m\u001b[0;34m(\u001b[0m\u001b[0mkey\u001b[0m\u001b[0;34m)\u001b[0m \u001b[0;32mfrom\u001b[0m \u001b[0merr\u001b[0m\u001b[0;34m\u001b[0m\u001b[0;34m\u001b[0m\u001b[0m\n\u001b[0m\u001b[1;32m   2901\u001b[0m \u001b[0;34m\u001b[0m\u001b[0m\n\u001b[1;32m   2902\u001b[0m         \u001b[0;32mif\u001b[0m \u001b[0mtolerance\u001b[0m \u001b[0;32mis\u001b[0m \u001b[0;32mnot\u001b[0m \u001b[0;32mNone\u001b[0m\u001b[0;34m:\u001b[0m\u001b[0;34m\u001b[0m\u001b[0;34m\u001b[0m\u001b[0m\n",
      "\u001b[0;31mKeyError\u001b[0m: 'hour_of_day'"
     ]
    }
   ],
   "source": [
    "col_name = 'hour_of_day'\n",
    "hour_dummies = pd.get_dummies(\n",
    "    orders_features[col_name],\n",
    "    prefix=col_name,\n",
    ")"
   ]
  },
  {
   "cell_type": "code",
   "execution_count": 20,
   "metadata": {},
   "outputs": [],
   "source": [
    "orders_features[hour_dummies.columns] = hour_dummies"
   ]
  },
  {
   "cell_type": "code",
   "execution_count": 21,
   "metadata": {},
   "outputs": [],
   "source": [
    "col_name = 'day_of_week'\n",
    "day_of_week_dummies = pd.get_dummies(\n",
    "    orders_features[col_name],\n",
    "    prefix=col_name,\n",
    ")"
   ]
  },
  {
   "cell_type": "code",
   "execution_count": 22,
   "metadata": {},
   "outputs": [],
   "source": [
    "orders_features[day_of_week_dummies.columns] = day_of_week_dummies"
   ]
  },
  {
   "cell_type": "code",
   "execution_count": 23,
   "metadata": {
    "scrolled": false
   },
   "outputs": [
    {
     "name": "stdout",
     "output_type": "stream",
     "text": [
      "<class 'pandas.core.frame.DataFrame'>\n",
      "RangeIndex: 786547 entries, 0 to 786546\n",
      "Data columns (total 35 columns):\n",
      " #   Column          Non-Null Count   Dtype \n",
      "---  ------          --------------   ----- \n",
      " 0   customer_id     786547 non-null  object\n",
      " 1   hour_of_day     786547 non-null  int64 \n",
      " 2   day_of_week     786547 non-null  int64 \n",
      " 3   is_holiday      786547 non-null  bool  \n",
      " 4   hour_of_day_0   786547 non-null  uint8 \n",
      " 5   hour_of_day_1   786547 non-null  uint8 \n",
      " 6   hour_of_day_2   786547 non-null  uint8 \n",
      " 7   hour_of_day_3   786547 non-null  uint8 \n",
      " 8   hour_of_day_4   786547 non-null  uint8 \n",
      " 9   hour_of_day_5   786547 non-null  uint8 \n",
      " 10  hour_of_day_6   786547 non-null  uint8 \n",
      " 11  hour_of_day_7   786547 non-null  uint8 \n",
      " 12  hour_of_day_8   786547 non-null  uint8 \n",
      " 13  hour_of_day_9   786547 non-null  uint8 \n",
      " 14  hour_of_day_10  786547 non-null  uint8 \n",
      " 15  hour_of_day_11  786547 non-null  uint8 \n",
      " 16  hour_of_day_12  786547 non-null  uint8 \n",
      " 17  hour_of_day_13  786547 non-null  uint8 \n",
      " 18  hour_of_day_14  786547 non-null  uint8 \n",
      " 19  hour_of_day_15  786547 non-null  uint8 \n",
      " 20  hour_of_day_16  786547 non-null  uint8 \n",
      " 21  hour_of_day_17  786547 non-null  uint8 \n",
      " 22  hour_of_day_18  786547 non-null  uint8 \n",
      " 23  hour_of_day_19  786547 non-null  uint8 \n",
      " 24  hour_of_day_20  786547 non-null  uint8 \n",
      " 25  hour_of_day_21  786547 non-null  uint8 \n",
      " 26  hour_of_day_22  786547 non-null  uint8 \n",
      " 27  hour_of_day_23  786547 non-null  uint8 \n",
      " 28  day_of_week_0   786547 non-null  uint8 \n",
      " 29  day_of_week_1   786547 non-null  uint8 \n",
      " 30  day_of_week_2   786547 non-null  uint8 \n",
      " 31  day_of_week_3   786547 non-null  uint8 \n",
      " 32  day_of_week_4   786547 non-null  uint8 \n",
      " 33  day_of_week_5   786547 non-null  uint8 \n",
      " 34  day_of_week_6   786547 non-null  uint8 \n",
      "dtypes: bool(1), int64(2), object(1), uint8(31)\n",
      "memory usage: 42.0+ MB\n"
     ]
    }
   ],
   "source": [
    "orders_features.info()"
   ]
  },
  {
   "cell_type": "code",
   "execution_count": 24,
   "metadata": {},
   "outputs": [
    {
     "data": {
      "text/plain": [
       "Timestamp('2017-02-27 23:00:00')"
      ]
     },
     "execution_count": 24,
     "metadata": {},
     "output_type": "execute_result"
    }
   ],
   "source": [
    "last_orders = order_data.groupby('customer_id')['order_datetime'].max()\n",
    "max_datetime = order_data['order_datetime'].max()\n",
    "max_datetime"
   ]
  },
  {
   "cell_type": "code",
   "execution_count": 25,
   "metadata": {},
   "outputs": [],
   "source": [
    "customer_features['last_order_age_days'] = (max_datetime - last_orders).dt.days"
   ]
  },
  {
   "cell_type": "code",
   "execution_count": 26,
   "metadata": {},
   "outputs": [],
   "source": [
    "first_orders = order_data.groupby('customer_id')['order_datetime'].min()"
   ]
  },
  {
   "cell_type": "code",
   "execution_count": 27,
   "metadata": {},
   "outputs": [],
   "source": [
    "customer_features['first_order_age_days'] = (max_datetime - first_orders).dt.days"
   ]
  },
  {
   "cell_type": "code",
   "execution_count": 28,
   "metadata": {},
   "outputs": [
    {
     "data": {
      "text/html": [
       "<div>\n",
       "<style scoped>\n",
       "    .dataframe tbody tr th:only-of-type {\n",
       "        vertical-align: middle;\n",
       "    }\n",
       "\n",
       "    .dataframe tbody tr th {\n",
       "        vertical-align: top;\n",
       "    }\n",
       "\n",
       "    .dataframe thead th {\n",
       "        text-align: right;\n",
       "    }\n",
       "</style>\n",
       "<table border=\"1\" class=\"dataframe\">\n",
       "  <thead>\n",
       "    <tr style=\"text-align: right;\">\n",
       "      <th></th>\n",
       "      <th>last_order_age_days</th>\n",
       "      <th>first_order_age_days</th>\n",
       "    </tr>\n",
       "    <tr>\n",
       "      <th>customer_id</th>\n",
       "      <th></th>\n",
       "      <th></th>\n",
       "    </tr>\n",
       "  </thead>\n",
       "  <tbody>\n",
       "    <tr>\n",
       "      <th>000097eabfd9</th>\n",
       "      <td>618</td>\n",
       "      <td>618</td>\n",
       "    </tr>\n",
       "    <tr>\n",
       "      <th>0000e2c6d9be</th>\n",
       "      <td>395</td>\n",
       "      <td>395</td>\n",
       "    </tr>\n",
       "    <tr>\n",
       "      <th>000133bb597f</th>\n",
       "      <td>1</td>\n",
       "      <td>1</td>\n",
       "    </tr>\n",
       "    <tr>\n",
       "      <th>00018269939b</th>\n",
       "      <td>22</td>\n",
       "      <td>22</td>\n",
       "    </tr>\n",
       "    <tr>\n",
       "      <th>0001a00468a6</th>\n",
       "      <td>573</td>\n",
       "      <td>573</td>\n",
       "    </tr>\n",
       "  </tbody>\n",
       "</table>\n",
       "</div>"
      ],
      "text/plain": [
       "              last_order_age_days  first_order_age_days\n",
       "customer_id                                            \n",
       "000097eabfd9                  618                   618\n",
       "0000e2c6d9be                  395                   395\n",
       "000133bb597f                    1                     1\n",
       "00018269939b                   22                    22\n",
       "0001a00468a6                  573                   573"
      ]
     },
     "execution_count": 28,
     "metadata": {},
     "output_type": "execute_result"
    }
   ],
   "source": [
    "customer_features.head()"
   ]
  },
  {
   "cell_type": "markdown",
   "metadata": {},
   "source": [
    "### Number of orders\n",
    "\n",
    "We'll throw in the number of orders per customer as well:"
   ]
  },
  {
   "cell_type": "code",
   "execution_count": 29,
   "metadata": {},
   "outputs": [],
   "source": [
    "number_of_orders_per_customer = order_data.groupby('customer_id')['amount_paid'].count()\n",
    "number_of_orders_per_customer.name = 'n_orders'"
   ]
  },
  {
   "cell_type": "code",
   "execution_count": 30,
   "metadata": {},
   "outputs": [
    {
     "data": {
      "text/html": [
       "<div>\n",
       "<style scoped>\n",
       "    .dataframe tbody tr th:only-of-type {\n",
       "        vertical-align: middle;\n",
       "    }\n",
       "\n",
       "    .dataframe tbody tr th {\n",
       "        vertical-align: top;\n",
       "    }\n",
       "\n",
       "    .dataframe thead th {\n",
       "        text-align: right;\n",
       "    }\n",
       "</style>\n",
       "<table border=\"1\" class=\"dataframe\">\n",
       "  <thead>\n",
       "    <tr style=\"text-align: right;\">\n",
       "      <th></th>\n",
       "      <th>last_order_age_days</th>\n",
       "      <th>first_order_age_days</th>\n",
       "      <th>n_orders</th>\n",
       "    </tr>\n",
       "    <tr>\n",
       "      <th>customer_id</th>\n",
       "      <th></th>\n",
       "      <th></th>\n",
       "      <th></th>\n",
       "    </tr>\n",
       "  </thead>\n",
       "  <tbody>\n",
       "    <tr>\n",
       "      <th>000097eabfd9</th>\n",
       "      <td>618</td>\n",
       "      <td>618</td>\n",
       "      <td>1</td>\n",
       "    </tr>\n",
       "    <tr>\n",
       "      <th>0000e2c6d9be</th>\n",
       "      <td>395</td>\n",
       "      <td>395</td>\n",
       "      <td>1</td>\n",
       "    </tr>\n",
       "    <tr>\n",
       "      <th>000133bb597f</th>\n",
       "      <td>1</td>\n",
       "      <td>1</td>\n",
       "      <td>1</td>\n",
       "    </tr>\n",
       "    <tr>\n",
       "      <th>00018269939b</th>\n",
       "      <td>22</td>\n",
       "      <td>22</td>\n",
       "      <td>1</td>\n",
       "    </tr>\n",
       "    <tr>\n",
       "      <th>0001a00468a6</th>\n",
       "      <td>573</td>\n",
       "      <td>573</td>\n",
       "      <td>1</td>\n",
       "    </tr>\n",
       "  </tbody>\n",
       "</table>\n",
       "</div>"
      ],
      "text/plain": [
       "              last_order_age_days  first_order_age_days  n_orders\n",
       "customer_id                                                      \n",
       "000097eabfd9                  618                   618         1\n",
       "0000e2c6d9be                  395                   395         1\n",
       "000133bb597f                    1                     1         1\n",
       "00018269939b                   22                    22         1\n",
       "0001a00468a6                  573                   573         1"
      ]
     },
     "execution_count": 30,
     "metadata": {},
     "output_type": "execute_result"
    }
   ],
   "source": [
    "customer_features = customer_features.join(number_of_orders_per_customer)\n",
    "customer_features.head()"
   ]
  },
  {
   "cell_type": "markdown",
   "metadata": {},
   "source": [
    "### Customer order rank\n",
    "\n",
    "The customer order rank can show us how many orders a customer has\n",
    "successfully submitted in the considered time frame.\n",
    "We find this by taking the maximum of the quantity."
   ]
  },
  {
   "cell_type": "code",
   "execution_count": 31,
   "metadata": {},
   "outputs": [
    {
     "data": {
      "text/plain": [
       "customer_id\n",
       "15edce943edd    369\n",
       "8745a335e9cf    281\n",
       "d956116d863d    272\n",
       "0063666607bb    266\n",
       "ae60dce05485    266\n",
       "               ... \n",
       "4d262f1d2382      0\n",
       "c0a84c0ffb7a      0\n",
       "2cab60314f16      0\n",
       "570d64fd10ed      0\n",
       "7c0e6c387d48      0\n",
       "Name: customer_order_rank, Length: 245453, dtype: int64"
      ]
     },
     "execution_count": 31,
     "metadata": {},
     "output_type": "execute_result"
    }
   ],
   "source": [
    "max_customer_order_rank = order_data.groupby(\n",
    "    'customer_id'\n",
    ")['customer_order_rank'].max().sort_values(ascending=False)\n",
    "max_customer_order_rank"
   ]
  },
  {
   "cell_type": "code",
   "execution_count": 32,
   "metadata": {
    "scrolled": true
   },
   "outputs": [
    {
     "data": {
      "text/plain": [
       "count    245453.000000\n",
       "mean          3.103771\n",
       "std           6.770718\n",
       "min           0.000000\n",
       "25%           1.000000\n",
       "50%           1.000000\n",
       "75%           2.000000\n",
       "max         369.000000\n",
       "Name: customer_order_rank, dtype: float64"
      ]
     },
     "execution_count": 32,
     "metadata": {},
     "output_type": "execute_result"
    }
   ],
   "source": [
    "max_customer_order_rank.describe()"
   ]
  },
  {
   "cell_type": "code",
   "execution_count": 33,
   "metadata": {},
   "outputs": [
    {
     "data": {
      "text/plain": [
       "31.0"
      ]
     },
     "execution_count": 33,
     "metadata": {},
     "output_type": "execute_result"
    }
   ],
   "source": [
    "max_customer_order_rank.quantile(.99)"
   ]
  },
  {
   "cell_type": "markdown",
   "metadata": {},
   "source": [
    "As we can see, 99% or customers haven't ordered more than 31 times,\n",
    "and the majority haven't ordered more than one."
   ]
  },
  {
   "cell_type": "code",
   "execution_count": 34,
   "metadata": {},
   "outputs": [
    {
     "name": "stdout",
     "output_type": "stream",
     "text": [
      "<class 'pandas.core.frame.DataFrame'>\n",
      "Index: 245453 entries, 000097eabfd9 to ffffccbfc8a4\n",
      "Data columns (total 4 columns):\n",
      " #   Column                   Non-Null Count   Dtype\n",
      "---  ------                   --------------   -----\n",
      " 0   last_order_age_days      245453 non-null  int64\n",
      " 1   first_order_age_days     245453 non-null  int64\n",
      " 2   n_orders                 245453 non-null  int64\n",
      " 3   max_customer_order_rank  245453 non-null  int64\n",
      "dtypes: int64(4)\n",
      "memory usage: 19.4+ MB\n"
     ]
    }
   ],
   "source": [
    "max_customer_order_rank.name = 'max_customer_order_rank'\n",
    "customer_features = customer_features.join(max_customer_order_rank)\n",
    "customer_features.info()"
   ]
  },
  {
   "cell_type": "markdown",
   "metadata": {},
   "source": [
    "### is_failed\n",
    "\n",
    "Here we can see how many orders have failed.\n",
    "Using the number of orders we can also calculate a rate of success."
   ]
  },
  {
   "cell_type": "code",
   "execution_count": 35,
   "metadata": {},
   "outputs": [],
   "source": [
    "failed_orders_per_customer = order_data.groupby('customer_id')['is_failed'].sum()\n",
    "failed_orders_per_customer.name = 'n_failed'"
   ]
  },
  {
   "cell_type": "code",
   "execution_count": 36,
   "metadata": {},
   "outputs": [
    {
     "data": {
      "text/plain": [
       "customer_id\n",
       "000097eabfd9    0\n",
       "0000e2c6d9be    0\n",
       "000133bb597f    0\n",
       "00018269939b    0\n",
       "0001a00468a6    0\n",
       "Name: n_failed, dtype: int64"
      ]
     },
     "execution_count": 36,
     "metadata": {},
     "output_type": "execute_result"
    }
   ],
   "source": [
    "failed_orders_per_customer.head()"
   ]
  },
  {
   "cell_type": "code",
   "execution_count": 37,
   "metadata": {},
   "outputs": [
    {
     "name": "stdout",
     "output_type": "stream",
     "text": [
      "<class 'pandas.core.frame.DataFrame'>\n",
      "Index: 245453 entries, 000097eabfd9 to ffffccbfc8a4\n",
      "Data columns (total 5 columns):\n",
      " #   Column                   Non-Null Count   Dtype\n",
      "---  ------                   --------------   -----\n",
      " 0   last_order_age_days      245453 non-null  int64\n",
      " 1   first_order_age_days     245453 non-null  int64\n",
      " 2   n_orders                 245453 non-null  int64\n",
      " 3   max_customer_order_rank  245453 non-null  int64\n",
      " 4   n_failed                 245453 non-null  int64\n",
      "dtypes: int64(5)\n",
      "memory usage: 21.2+ MB\n"
     ]
    }
   ],
   "source": [
    "customer_features = customer_features.join(failed_orders_per_customer)\n",
    "customer_features.info()"
   ]
  },
  {
   "cell_type": "markdown",
   "metadata": {},
   "source": [
    "### Voucher amount\n",
    "\n",
    "We can extract the number of vouchers used, the total amount from vouchers,\n",
    "and the maximum value of a customer's voucher."
   ]
  },
  {
   "cell_type": "code",
   "execution_count": 38,
   "metadata": {},
   "outputs": [],
   "source": [
    "max_voucher_amount = order_data.groupby('customer_id')['voucher_amount'].max()\n",
    "max_voucher_amount.name = 'max_voucher_amount'"
   ]
  },
  {
   "cell_type": "code",
   "execution_count": 39,
   "metadata": {},
   "outputs": [
    {
     "data": {
      "text/plain": [
       "count    245453.000000\n",
       "mean          0.171549\n",
       "std           0.717387\n",
       "min           0.000000\n",
       "25%           0.000000\n",
       "50%           0.000000\n",
       "75%           0.000000\n",
       "max          93.398900\n",
       "Name: max_voucher_amount, dtype: float64"
      ]
     },
     "execution_count": 39,
     "metadata": {},
     "output_type": "execute_result"
    }
   ],
   "source": [
    "max_voucher_amount.describe()"
   ]
  },
  {
   "cell_type": "code",
   "execution_count": 40,
   "metadata": {},
   "outputs": [
    {
     "data": {
      "text/plain": [
       "16.102162439983935"
      ]
     },
     "execution_count": 40,
     "metadata": {},
     "output_type": "execute_result"
    }
   ],
   "source": [
    "max_voucher_amount.quantile(.9999)"
   ]
  },
  {
   "cell_type": "code",
   "execution_count": 41,
   "metadata": {},
   "outputs": [
    {
     "name": "stdout",
     "output_type": "stream",
     "text": [
      "<class 'pandas.core.frame.DataFrame'>\n",
      "Index: 245453 entries, 000097eabfd9 to ffffccbfc8a4\n",
      "Data columns (total 6 columns):\n",
      " #   Column                   Non-Null Count   Dtype  \n",
      "---  ------                   --------------   -----  \n",
      " 0   last_order_age_days      245453 non-null  int64  \n",
      " 1   first_order_age_days     245453 non-null  int64  \n",
      " 2   n_orders                 245453 non-null  int64  \n",
      " 3   max_customer_order_rank  245453 non-null  int64  \n",
      " 4   n_failed                 245453 non-null  int64  \n",
      " 5   max_voucher_amount       245453 non-null  float64\n",
      "dtypes: float64(1), int64(5)\n",
      "memory usage: 23.1+ MB\n"
     ]
    }
   ],
   "source": [
    "customer_features = customer_features.join(max_voucher_amount)\n",
    "customer_features.info()"
   ]
  },
  {
   "cell_type": "code",
   "execution_count": 42,
   "metadata": {},
   "outputs": [],
   "source": [
    "tot_voucher_amount = order_data.groupby('customer_id')['voucher_amount'].sum()\n",
    "tot_voucher_amount.name = 'tot_voucher_amount'"
   ]
  },
  {
   "cell_type": "code",
   "execution_count": 43,
   "metadata": {},
   "outputs": [
    {
     "data": {
      "text/plain": [
       "count    245453.000000\n",
       "mean          0.293150\n",
       "std           1.824942\n",
       "min           0.000000\n",
       "25%           0.000000\n",
       "50%           0.000000\n",
       "75%           0.000000\n",
       "max         191.994250\n",
       "Name: tot_voucher_amount, dtype: float64"
      ]
     },
     "execution_count": 43,
     "metadata": {},
     "output_type": "execute_result"
    }
   ],
   "source": [
    "tot_voucher_amount.describe()"
   ]
  },
  {
   "cell_type": "code",
   "execution_count": 44,
   "metadata": {
    "scrolled": true
   },
   "outputs": [
    {
     "name": "stdout",
     "output_type": "stream",
     "text": [
      "<class 'pandas.core.frame.DataFrame'>\n",
      "Index: 245453 entries, 000097eabfd9 to ffffccbfc8a4\n",
      "Data columns (total 7 columns):\n",
      " #   Column                   Non-Null Count   Dtype  \n",
      "---  ------                   --------------   -----  \n",
      " 0   last_order_age_days      245453 non-null  int64  \n",
      " 1   first_order_age_days     245453 non-null  int64  \n",
      " 2   n_orders                 245453 non-null  int64  \n",
      " 3   max_customer_order_rank  245453 non-null  int64  \n",
      " 4   n_failed                 245453 non-null  int64  \n",
      " 5   max_voucher_amount       245453 non-null  float64\n",
      " 6   tot_voucher_amount       245453 non-null  float64\n",
      "dtypes: float64(2), int64(5)\n",
      "memory usage: 25.0+ MB\n"
     ]
    }
   ],
   "source": [
    "customer_features = customer_features.join(tot_voucher_amount)\n",
    "customer_features.info()"
   ]
  },
  {
   "cell_type": "code",
   "execution_count": 45,
   "metadata": {},
   "outputs": [],
   "source": [
    "n_vouchers = (order_data['voucher_amount']>0).groupby(order_data['customer_id']).sum()\n",
    "n_vouchers.name = 'n_vouchers'"
   ]
  },
  {
   "cell_type": "code",
   "execution_count": 46,
   "metadata": {},
   "outputs": [
    {
     "data": {
      "text/plain": [
       "count    245453.000000\n",
       "mean          0.175728\n",
       "std           1.024720\n",
       "min           0.000000\n",
       "25%           0.000000\n",
       "50%           0.000000\n",
       "75%           0.000000\n",
       "max          98.000000\n",
       "Name: n_vouchers, dtype: float64"
      ]
     },
     "execution_count": 46,
     "metadata": {},
     "output_type": "execute_result"
    }
   ],
   "source": [
    "n_vouchers.describe()"
   ]
  },
  {
   "cell_type": "code",
   "execution_count": 47,
   "metadata": {},
   "outputs": [],
   "source": [
    "customer_features = customer_features.join(n_vouchers)"
   ]
  },
  {
   "cell_type": "code",
   "execution_count": 48,
   "metadata": {},
   "outputs": [
    {
     "name": "stdout",
     "output_type": "stream",
     "text": [
      "<class 'pandas.core.frame.DataFrame'>\n",
      "Index: 245453 entries, 000097eabfd9 to ffffccbfc8a4\n",
      "Data columns (total 8 columns):\n",
      " #   Column                   Non-Null Count   Dtype  \n",
      "---  ------                   --------------   -----  \n",
      " 0   last_order_age_days      245453 non-null  int64  \n",
      " 1   first_order_age_days     245453 non-null  int64  \n",
      " 2   n_orders                 245453 non-null  int64  \n",
      " 3   max_customer_order_rank  245453 non-null  int64  \n",
      " 4   n_failed                 245453 non-null  int64  \n",
      " 5   max_voucher_amount       245453 non-null  float64\n",
      " 6   tot_voucher_amount       245453 non-null  float64\n",
      " 7   n_vouchers               245453 non-null  int64  \n",
      "dtypes: float64(2), int64(6)\n",
      "memory usage: 26.9+ MB\n"
     ]
    }
   ],
   "source": [
    "customer_features.info()"
   ]
  },
  {
   "cell_type": "markdown",
   "metadata": {},
   "source": [
    "### Delivery fee\n",
    "\n",
    "here we follow an identical procedure as for vouchers."
   ]
  },
  {
   "cell_type": "code",
   "execution_count": 49,
   "metadata": {},
   "outputs": [],
   "source": [
    "tot_delivery_fee = order_data.groupby('customer_id')['delivery_fee'].sum()\n",
    "max_delivery_fee = order_data.groupby('customer_id')['delivery_fee'].max()\n",
    "# How many times a delivery fee was paid\n",
    "n_delivery_fee = (order_data['delivery_fee']>0).groupby(order_data['customer_id']).sum()"
   ]
  },
  {
   "cell_type": "code",
   "execution_count": 50,
   "metadata": {},
   "outputs": [],
   "source": [
    "tot_delivery_fee.name = 'tot_delivery_fee'\n",
    "max_delivery_fee.name = 'max_delivery_fee'\n",
    "n_delivery_fee.name = 'n_delivery_fee'"
   ]
  },
  {
   "cell_type": "code",
   "execution_count": 51,
   "metadata": {},
   "outputs": [
    {
     "name": "stdout",
     "output_type": "stream",
     "text": [
      "<class 'pandas.core.frame.DataFrame'>\n",
      "Index: 245453 entries, 000097eabfd9 to ffffccbfc8a4\n",
      "Data columns (total 11 columns):\n",
      " #   Column                   Non-Null Count   Dtype  \n",
      "---  ------                   --------------   -----  \n",
      " 0   last_order_age_days      245453 non-null  int64  \n",
      " 1   first_order_age_days     245453 non-null  int64  \n",
      " 2   n_orders                 245453 non-null  int64  \n",
      " 3   max_customer_order_rank  245453 non-null  int64  \n",
      " 4   n_failed                 245453 non-null  int64  \n",
      " 5   max_voucher_amount       245453 non-null  float64\n",
      " 6   tot_voucher_amount       245453 non-null  float64\n",
      " 7   n_vouchers               245453 non-null  int64  \n",
      " 8   tot_delivery_fee         245453 non-null  float64\n",
      " 9   max_delivery_fee         245453 non-null  float64\n",
      " 10  n_delivery_fee           245453 non-null  int64  \n",
      "dtypes: float64(4), int64(7)\n",
      "memory usage: 32.5+ MB\n"
     ]
    }
   ],
   "source": [
    "customer_features = customer_features.join(tot_delivery_fee)\n",
    "customer_features = customer_features.join(max_delivery_fee)\n",
    "customer_features = customer_features.join(n_delivery_fee)\n",
    "customer_features.info()"
   ]
  },
  {
   "cell_type": "markdown",
   "metadata": {},
   "source": [
    "### Amount paid\n",
    "\n",
    "Here we can use the average amount paid on top of everything else."
   ]
  },
  {
   "cell_type": "code",
   "execution_count": 52,
   "metadata": {},
   "outputs": [],
   "source": [
    "tot_amount_paid = order_data.groupby('customer_id')['amount_paid'].sum()\n",
    "avg_amount_paid = order_data.groupby('customer_id')['amount_paid'].mean()\n",
    "max_amount_paid = order_data.groupby('customer_id')['amount_paid'].max()\n",
    "min_amount_paid = order_data.groupby('customer_id')['amount_paid'].min()"
   ]
  },
  {
   "cell_type": "code",
   "execution_count": 53,
   "metadata": {},
   "outputs": [],
   "source": [
    "tot_amount_paid.name = 'tot_amount_paid'\n",
    "avg_amount_paid.name = 'avg_amount_paid'\n",
    "max_amount_paid.name = 'max_amount_paid'\n",
    "min_amount_paid.name = 'min_amount_paid'"
   ]
  },
  {
   "cell_type": "code",
   "execution_count": 54,
   "metadata": {},
   "outputs": [],
   "source": [
    "customer_features = customer_features.join(tot_amount_paid)\n",
    "customer_features = customer_features.join(avg_amount_paid)\n",
    "customer_features = customer_features.join(max_amount_paid)\n",
    "customer_features = customer_features.join(min_amount_paid)"
   ]
  },
  {
   "cell_type": "code",
   "execution_count": 55,
   "metadata": {},
   "outputs": [
    {
     "name": "stdout",
     "output_type": "stream",
     "text": [
      "<class 'pandas.core.frame.DataFrame'>\n",
      "Index: 245453 entries, 000097eabfd9 to ffffccbfc8a4\n",
      "Data columns (total 15 columns):\n",
      " #   Column                   Non-Null Count   Dtype  \n",
      "---  ------                   --------------   -----  \n",
      " 0   last_order_age_days      245453 non-null  int64  \n",
      " 1   first_order_age_days     245453 non-null  int64  \n",
      " 2   n_orders                 245453 non-null  int64  \n",
      " 3   max_customer_order_rank  245453 non-null  int64  \n",
      " 4   n_failed                 245453 non-null  int64  \n",
      " 5   max_voucher_amount       245453 non-null  float64\n",
      " 6   tot_voucher_amount       245453 non-null  float64\n",
      " 7   n_vouchers               245453 non-null  int64  \n",
      " 8   tot_delivery_fee         245453 non-null  float64\n",
      " 9   max_delivery_fee         245453 non-null  float64\n",
      " 10  n_delivery_fee           245453 non-null  int64  \n",
      " 11  tot_amount_paid          245453 non-null  float64\n",
      " 12  avg_amount_paid          245453 non-null  float64\n",
      " 13  max_amount_paid          245453 non-null  float64\n",
      " 14  min_amount_paid          245453 non-null  float64\n",
      "dtypes: float64(8), int64(7)\n",
      "memory usage: 40.0+ MB\n"
     ]
    }
   ],
   "source": [
    "customer_features.info()"
   ]
  },
  {
   "cell_type": "markdown",
   "metadata": {},
   "source": [
    "### Restaurant ID\n",
    "\n",
    "Categorical variables lend themselves naturally to produce dummy variables."
   ]
  },
  {
   "cell_type": "code",
   "execution_count": 56,
   "metadata": {},
   "outputs": [
    {
     "data": {
      "text/plain": [
       "customer_id\n",
       "000097eabfd9    1\n",
       "0000e2c6d9be    1\n",
       "000133bb597f    1\n",
       "00018269939b    1\n",
       "0001a00468a6    1\n",
       "               ..\n",
       "fffd696eaedd    1\n",
       "fffe9d5a8d41    2\n",
       "ffff347c3cfa    2\n",
       "ffff4519b52d    1\n",
       "ffffccbfc8a4    1\n",
       "Name: n_restaurants, Length: 245453, dtype: int64"
      ]
     },
     "execution_count": 56,
     "metadata": {},
     "output_type": "execute_result"
    }
   ],
   "source": [
    "n_restaurants = order_data.groupby('customer_id')['restaurant_id'].nunique()\n",
    "n_restaurants.name = 'n_restaurants'\n",
    "n_restaurants"
   ]
  },
  {
   "cell_type": "code",
   "execution_count": 57,
   "metadata": {},
   "outputs": [
    {
     "data": {
      "text/plain": [
       "count    245453.000000\n",
       "mean          1.760740\n",
       "std           1.843813\n",
       "min           1.000000\n",
       "25%           1.000000\n",
       "50%           1.000000\n",
       "75%           2.000000\n",
       "max          51.000000\n",
       "Name: n_restaurants, dtype: float64"
      ]
     },
     "execution_count": 57,
     "metadata": {},
     "output_type": "execute_result"
    }
   ],
   "source": [
    "n_restaurants.describe()"
   ]
  },
  {
   "cell_type": "code",
   "execution_count": 58,
   "metadata": {},
   "outputs": [
    {
     "name": "stdout",
     "output_type": "stream",
     "text": [
      "<class 'pandas.core.frame.DataFrame'>\n",
      "Index: 245453 entries, 000097eabfd9 to ffffccbfc8a4\n",
      "Data columns (total 16 columns):\n",
      " #   Column                   Non-Null Count   Dtype  \n",
      "---  ------                   --------------   -----  \n",
      " 0   last_order_age_days      245453 non-null  int64  \n",
      " 1   first_order_age_days     245453 non-null  int64  \n",
      " 2   n_orders                 245453 non-null  int64  \n",
      " 3   max_customer_order_rank  245453 non-null  int64  \n",
      " 4   n_failed                 245453 non-null  int64  \n",
      " 5   max_voucher_amount       245453 non-null  float64\n",
      " 6   tot_voucher_amount       245453 non-null  float64\n",
      " 7   n_vouchers               245453 non-null  int64  \n",
      " 8   tot_delivery_fee         245453 non-null  float64\n",
      " 9   max_delivery_fee         245453 non-null  float64\n",
      " 10  n_delivery_fee           245453 non-null  int64  \n",
      " 11  tot_amount_paid          245453 non-null  float64\n",
      " 12  avg_amount_paid          245453 non-null  float64\n",
      " 13  max_amount_paid          245453 non-null  float64\n",
      " 14  min_amount_paid          245453 non-null  float64\n",
      " 15  n_restaurants            245453 non-null  int64  \n",
      "dtypes: float64(8), int64(8)\n",
      "memory usage: 41.8+ MB\n"
     ]
    }
   ],
   "source": [
    "customer_features = customer_features.join(n_restaurants)\n",
    "customer_features.info()"
   ]
  },
  {
   "cell_type": "markdown",
   "metadata": {},
   "source": [
    "#### Dummy variables"
   ]
  },
  {
   "cell_type": "code",
   "execution_count": 59,
   "metadata": {},
   "outputs": [],
   "source": [
    "# col_name = 'restaurant_id'\n",
    "# rest_id_dummies = pd.get_dummies(\n",
    "#     order_data[col_name],\n",
    "#     prefix=col_name,\n",
    "#     sparse=True,\n",
    "# )"
   ]
  },
  {
   "cell_type": "code",
   "execution_count": 60,
   "metadata": {},
   "outputs": [],
   "source": [
    "# rest_id_dummies.info()"
   ]
  },
  {
   "cell_type": "code",
   "execution_count": 61,
   "metadata": {},
   "outputs": [],
   "source": [
    "# orders_features[rest_id_dummies.columns] = rest_id_dummies"
   ]
  },
  {
   "cell_type": "code",
   "execution_count": 62,
   "metadata": {},
   "outputs": [],
   "source": [
    "# orders_features.info()"
   ]
  },
  {
   "cell_type": "code",
   "execution_count": 63,
   "metadata": {},
   "outputs": [
    {
     "data": {
      "text/html": [
       "<div>\n",
       "<style scoped>\n",
       "    .dataframe tbody tr th:only-of-type {\n",
       "        vertical-align: middle;\n",
       "    }\n",
       "\n",
       "    .dataframe tbody tr th {\n",
       "        vertical-align: top;\n",
       "    }\n",
       "\n",
       "    .dataframe thead th {\n",
       "        text-align: right;\n",
       "    }\n",
       "</style>\n",
       "<table border=\"1\" class=\"dataframe\">\n",
       "  <thead>\n",
       "    <tr style=\"text-align: right;\">\n",
       "      <th></th>\n",
       "      <th>customer_id</th>\n",
       "      <th>hour_of_day</th>\n",
       "      <th>day_of_week</th>\n",
       "      <th>is_holiday</th>\n",
       "      <th>hour_of_day_0</th>\n",
       "      <th>hour_of_day_1</th>\n",
       "      <th>hour_of_day_2</th>\n",
       "      <th>hour_of_day_3</th>\n",
       "      <th>hour_of_day_4</th>\n",
       "      <th>hour_of_day_5</th>\n",
       "      <th>...</th>\n",
       "      <th>hour_of_day_21</th>\n",
       "      <th>hour_of_day_22</th>\n",
       "      <th>hour_of_day_23</th>\n",
       "      <th>day_of_week_0</th>\n",
       "      <th>day_of_week_1</th>\n",
       "      <th>day_of_week_2</th>\n",
       "      <th>day_of_week_3</th>\n",
       "      <th>day_of_week_4</th>\n",
       "      <th>day_of_week_5</th>\n",
       "      <th>day_of_week_6</th>\n",
       "    </tr>\n",
       "  </thead>\n",
       "  <tbody>\n",
       "    <tr>\n",
       "      <th>0</th>\n",
       "      <td>000097eabfd9</td>\n",
       "      <td>19</td>\n",
       "      <td>5</td>\n",
       "      <td>False</td>\n",
       "      <td>0</td>\n",
       "      <td>0</td>\n",
       "      <td>0</td>\n",
       "      <td>0</td>\n",
       "      <td>0</td>\n",
       "      <td>0</td>\n",
       "      <td>...</td>\n",
       "      <td>0</td>\n",
       "      <td>0</td>\n",
       "      <td>0</td>\n",
       "      <td>0</td>\n",
       "      <td>0</td>\n",
       "      <td>0</td>\n",
       "      <td>0</td>\n",
       "      <td>0</td>\n",
       "      <td>1</td>\n",
       "      <td>0</td>\n",
       "    </tr>\n",
       "    <tr>\n",
       "      <th>1</th>\n",
       "      <td>0000e2c6d9be</td>\n",
       "      <td>20</td>\n",
       "      <td>4</td>\n",
       "      <td>False</td>\n",
       "      <td>0</td>\n",
       "      <td>0</td>\n",
       "      <td>0</td>\n",
       "      <td>0</td>\n",
       "      <td>0</td>\n",
       "      <td>0</td>\n",
       "      <td>...</td>\n",
       "      <td>0</td>\n",
       "      <td>0</td>\n",
       "      <td>0</td>\n",
       "      <td>0</td>\n",
       "      <td>0</td>\n",
       "      <td>0</td>\n",
       "      <td>0</td>\n",
       "      <td>1</td>\n",
       "      <td>0</td>\n",
       "      <td>0</td>\n",
       "    </tr>\n",
       "    <tr>\n",
       "      <th>2</th>\n",
       "      <td>000133bb597f</td>\n",
       "      <td>19</td>\n",
       "      <td>6</td>\n",
       "      <td>False</td>\n",
       "      <td>0</td>\n",
       "      <td>0</td>\n",
       "      <td>0</td>\n",
       "      <td>0</td>\n",
       "      <td>0</td>\n",
       "      <td>0</td>\n",
       "      <td>...</td>\n",
       "      <td>0</td>\n",
       "      <td>0</td>\n",
       "      <td>0</td>\n",
       "      <td>0</td>\n",
       "      <td>0</td>\n",
       "      <td>0</td>\n",
       "      <td>0</td>\n",
       "      <td>0</td>\n",
       "      <td>0</td>\n",
       "      <td>1</td>\n",
       "    </tr>\n",
       "    <tr>\n",
       "      <th>3</th>\n",
       "      <td>00018269939b</td>\n",
       "      <td>17</td>\n",
       "      <td>6</td>\n",
       "      <td>False</td>\n",
       "      <td>0</td>\n",
       "      <td>0</td>\n",
       "      <td>0</td>\n",
       "      <td>0</td>\n",
       "      <td>0</td>\n",
       "      <td>0</td>\n",
       "      <td>...</td>\n",
       "      <td>0</td>\n",
       "      <td>0</td>\n",
       "      <td>0</td>\n",
       "      <td>0</td>\n",
       "      <td>0</td>\n",
       "      <td>0</td>\n",
       "      <td>0</td>\n",
       "      <td>0</td>\n",
       "      <td>0</td>\n",
       "      <td>1</td>\n",
       "    </tr>\n",
       "    <tr>\n",
       "      <th>4</th>\n",
       "      <td>0001a00468a6</td>\n",
       "      <td>19</td>\n",
       "      <td>1</td>\n",
       "      <td>False</td>\n",
       "      <td>0</td>\n",
       "      <td>0</td>\n",
       "      <td>0</td>\n",
       "      <td>0</td>\n",
       "      <td>0</td>\n",
       "      <td>0</td>\n",
       "      <td>...</td>\n",
       "      <td>0</td>\n",
       "      <td>0</td>\n",
       "      <td>0</td>\n",
       "      <td>0</td>\n",
       "      <td>1</td>\n",
       "      <td>0</td>\n",
       "      <td>0</td>\n",
       "      <td>0</td>\n",
       "      <td>0</td>\n",
       "      <td>0</td>\n",
       "    </tr>\n",
       "  </tbody>\n",
       "</table>\n",
       "<p>5 rows × 35 columns</p>\n",
       "</div>"
      ],
      "text/plain": [
       "    customer_id  hour_of_day  day_of_week  is_holiday  hour_of_day_0  \\\n",
       "0  000097eabfd9           19            5       False              0   \n",
       "1  0000e2c6d9be           20            4       False              0   \n",
       "2  000133bb597f           19            6       False              0   \n",
       "3  00018269939b           17            6       False              0   \n",
       "4  0001a00468a6           19            1       False              0   \n",
       "\n",
       "   hour_of_day_1  hour_of_day_2  hour_of_day_3  hour_of_day_4  hour_of_day_5  \\\n",
       "0              0              0              0              0              0   \n",
       "1              0              0              0              0              0   \n",
       "2              0              0              0              0              0   \n",
       "3              0              0              0              0              0   \n",
       "4              0              0              0              0              0   \n",
       "\n",
       "   ...  hour_of_day_21  hour_of_day_22  hour_of_day_23  day_of_week_0  \\\n",
       "0  ...               0               0               0              0   \n",
       "1  ...               0               0               0              0   \n",
       "2  ...               0               0               0              0   \n",
       "3  ...               0               0               0              0   \n",
       "4  ...               0               0               0              0   \n",
       "\n",
       "   day_of_week_1  day_of_week_2  day_of_week_3  day_of_week_4  day_of_week_5  \\\n",
       "0              0              0              0              0              1   \n",
       "1              0              0              0              1              0   \n",
       "2              0              0              0              0              0   \n",
       "3              0              0              0              0              0   \n",
       "4              1              0              0              0              0   \n",
       "\n",
       "   day_of_week_6  \n",
       "0              0  \n",
       "1              0  \n",
       "2              1  \n",
       "3              1  \n",
       "4              0  \n",
       "\n",
       "[5 rows x 35 columns]"
      ]
     },
     "execution_count": 63,
     "metadata": {},
     "output_type": "execute_result"
    }
   ],
   "source": [
    "orders_features.head()"
   ]
  },
  {
   "cell_type": "markdown",
   "metadata": {},
   "source": [
    "### City ID"
   ]
  },
  {
   "cell_type": "code",
   "execution_count": 64,
   "metadata": {},
   "outputs": [
    {
     "data": {
      "text/plain": [
       "customer_id\n",
       "000097eabfd9    1\n",
       "0000e2c6d9be    1\n",
       "000133bb597f    1\n",
       "00018269939b    1\n",
       "0001a00468a6    1\n",
       "               ..\n",
       "fffd696eaedd    1\n",
       "fffe9d5a8d41    1\n",
       "ffff347c3cfa    1\n",
       "ffff4519b52d    1\n",
       "ffffccbfc8a4    1\n",
       "Name: n_cities, Length: 245453, dtype: int64"
      ]
     },
     "execution_count": 64,
     "metadata": {},
     "output_type": "execute_result"
    }
   ],
   "source": [
    "n_cities = order_data.groupby('customer_id')['city_id'].nunique()\n",
    "n_cities.name = 'n_cities'\n",
    "n_cities"
   ]
  },
  {
   "cell_type": "code",
   "execution_count": 65,
   "metadata": {},
   "outputs": [
    {
     "data": {
      "text/plain": [
       "count    245453.000000\n",
       "mean          1.044888\n",
       "std           0.263277\n",
       "min           1.000000\n",
       "25%           1.000000\n",
       "50%           1.000000\n",
       "75%           1.000000\n",
       "max          26.000000\n",
       "Name: n_cities, dtype: float64"
      ]
     },
     "execution_count": 65,
     "metadata": {},
     "output_type": "execute_result"
    }
   ],
   "source": [
    "n_cities.describe()"
   ]
  },
  {
   "cell_type": "code",
   "execution_count": 66,
   "metadata": {},
   "outputs": [],
   "source": [
    "customer_features = customer_features.join(n_cities)"
   ]
  },
  {
   "cell_type": "code",
   "execution_count": 67,
   "metadata": {},
   "outputs": [
    {
     "name": "stdout",
     "output_type": "stream",
     "text": [
      "<class 'pandas.core.frame.DataFrame'>\n",
      "Index: 245453 entries, 000097eabfd9 to ffffccbfc8a4\n",
      "Data columns (total 17 columns):\n",
      " #   Column                   Non-Null Count   Dtype  \n",
      "---  ------                   --------------   -----  \n",
      " 0   last_order_age_days      245453 non-null  int64  \n",
      " 1   first_order_age_days     245453 non-null  int64  \n",
      " 2   n_orders                 245453 non-null  int64  \n",
      " 3   max_customer_order_rank  245453 non-null  int64  \n",
      " 4   n_failed                 245453 non-null  int64  \n",
      " 5   max_voucher_amount       245453 non-null  float64\n",
      " 6   tot_voucher_amount       245453 non-null  float64\n",
      " 7   n_vouchers               245453 non-null  int64  \n",
      " 8   tot_delivery_fee         245453 non-null  float64\n",
      " 9   max_delivery_fee         245453 non-null  float64\n",
      " 10  n_delivery_fee           245453 non-null  int64  \n",
      " 11  tot_amount_paid          245453 non-null  float64\n",
      " 12  avg_amount_paid          245453 non-null  float64\n",
      " 13  max_amount_paid          245453 non-null  float64\n",
      " 14  min_amount_paid          245453 non-null  float64\n",
      " 15  n_restaurants            245453 non-null  int64  \n",
      " 16  n_cities                 245453 non-null  int64  \n",
      "dtypes: float64(8), int64(9)\n",
      "memory usage: 43.7+ MB\n"
     ]
    }
   ],
   "source": [
    "customer_features.info()"
   ]
  },
  {
   "cell_type": "markdown",
   "metadata": {},
   "source": [
    "#### Dummy vars"
   ]
  },
  {
   "cell_type": "code",
   "execution_count": 68,
   "metadata": {},
   "outputs": [],
   "source": [
    "col_name = 'city_id'\n",
    "city_id_dummies = pd.get_dummies(\n",
    "    order_data[col_name],\n",
    "    prefix=col_name,\n",
    "#     sparse=True,\n",
    ")"
   ]
  },
  {
   "cell_type": "code",
   "execution_count": 69,
   "metadata": {},
   "outputs": [
    {
     "name": "stdout",
     "output_type": "stream",
     "text": [
      "<class 'pandas.core.frame.DataFrame'>\n",
      "RangeIndex: 786547 entries, 0 to 786546\n",
      "Columns: 3749 entries, city_id_230 to city_id_100205\n",
      "dtypes: uint8(3749)\n",
      "memory usage: 2.7 GB\n"
     ]
    }
   ],
   "source": [
    "city_id_dummies.info()"
   ]
  },
  {
   "cell_type": "code",
   "execution_count": 70,
   "metadata": {},
   "outputs": [],
   "source": [
    "orders_features[city_id_dummies.columns] = city_id_dummies"
   ]
  },
  {
   "cell_type": "code",
   "execution_count": 71,
   "metadata": {},
   "outputs": [
    {
     "name": "stdout",
     "output_type": "stream",
     "text": [
      "<class 'pandas.core.frame.DataFrame'>\n",
      "RangeIndex: 786547 entries, 0 to 786546\n",
      "Columns: 3784 entries, customer_id to city_id_100205\n",
      "dtypes: bool(1), int64(2), object(1), uint8(3780)\n",
      "memory usage: 2.8+ GB\n"
     ]
    }
   ],
   "source": [
    "orders_features.info()"
   ]
  },
  {
   "cell_type": "markdown",
   "metadata": {},
   "source": [
    "### Payment ID"
   ]
  },
  {
   "cell_type": "code",
   "execution_count": 72,
   "metadata": {},
   "outputs": [],
   "source": [
    "col_name = 'payment_id'\n",
    "payment_id_dummies = pd.get_dummies(\n",
    "    order_data[col_name],\n",
    "    prefix=col_name,\n",
    "#     sparse=True,\n",
    ")"
   ]
  },
  {
   "cell_type": "code",
   "execution_count": 73,
   "metadata": {},
   "outputs": [
    {
     "name": "stdout",
     "output_type": "stream",
     "text": [
      "<class 'pandas.core.frame.DataFrame'>\n",
      "RangeIndex: 786547 entries, 0 to 786546\n",
      "Data columns (total 5 columns):\n",
      " #   Column           Non-Null Count   Dtype\n",
      "---  ------           --------------   -----\n",
      " 0   payment_id_1491  786547 non-null  uint8\n",
      " 1   payment_id_1523  786547 non-null  uint8\n",
      " 2   payment_id_1619  786547 non-null  uint8\n",
      " 3   payment_id_1779  786547 non-null  uint8\n",
      " 4   payment_id_1811  786547 non-null  uint8\n",
      "dtypes: uint8(5)\n",
      "memory usage: 3.8 MB\n"
     ]
    }
   ],
   "source": [
    "payment_id_dummies.info()"
   ]
  },
  {
   "cell_type": "code",
   "execution_count": 74,
   "metadata": {},
   "outputs": [],
   "source": [
    "orders_features[payment_id_dummies.columns] = payment_id_dummies"
   ]
  },
  {
   "cell_type": "code",
   "execution_count": 75,
   "metadata": {},
   "outputs": [
    {
     "name": "stdout",
     "output_type": "stream",
     "text": [
      "<class 'pandas.core.frame.DataFrame'>\n",
      "RangeIndex: 786547 entries, 0 to 786546\n",
      "Columns: 3789 entries, customer_id to payment_id_1811\n",
      "dtypes: bool(1), int64(2), object(1), uint8(3785)\n",
      "memory usage: 2.8+ GB\n"
     ]
    }
   ],
   "source": [
    "orders_features.info()"
   ]
  },
  {
   "cell_type": "markdown",
   "metadata": {},
   "source": [
    "### Platform ID"
   ]
  },
  {
   "cell_type": "code",
   "execution_count": 76,
   "metadata": {},
   "outputs": [],
   "source": [
    "col_name = 'platform_id'\n",
    "platform_id_dummies = pd.get_dummies(\n",
    "    order_data[col_name],\n",
    "    prefix=col_name,\n",
    "#     sparse=True,\n",
    ")"
   ]
  },
  {
   "cell_type": "code",
   "execution_count": 77,
   "metadata": {},
   "outputs": [
    {
     "name": "stdout",
     "output_type": "stream",
     "text": [
      "<class 'pandas.core.frame.DataFrame'>\n",
      "RangeIndex: 786547 entries, 0 to 786546\n",
      "Data columns (total 14 columns):\n",
      " #   Column             Non-Null Count   Dtype\n",
      "---  ------             --------------   -----\n",
      " 0   platform_id_525    786547 non-null  uint8\n",
      " 1   platform_id_22167  786547 non-null  uint8\n",
      " 2   platform_id_22263  786547 non-null  uint8\n",
      " 3   platform_id_22295  786547 non-null  uint8\n",
      " 4   platform_id_29463  786547 non-null  uint8\n",
      " 5   platform_id_29495  786547 non-null  uint8\n",
      " 6   platform_id_29751  786547 non-null  uint8\n",
      " 7   platform_id_29815  786547 non-null  uint8\n",
      " 8   platform_id_30135  786547 non-null  uint8\n",
      " 9   platform_id_30199  786547 non-null  uint8\n",
      " 10  platform_id_30231  786547 non-null  uint8\n",
      " 11  platform_id_30359  786547 non-null  uint8\n",
      " 12  platform_id_30391  786547 non-null  uint8\n",
      " 13  platform_id_30423  786547 non-null  uint8\n",
      "dtypes: uint8(14)\n",
      "memory usage: 10.5 MB\n"
     ]
    }
   ],
   "source": [
    "platform_id_dummies.info()"
   ]
  },
  {
   "cell_type": "code",
   "execution_count": 78,
   "metadata": {},
   "outputs": [],
   "source": [
    "orders_features[platform_id_dummies.columns] = platform_id_dummies"
   ]
  },
  {
   "cell_type": "code",
   "execution_count": 79,
   "metadata": {},
   "outputs": [
    {
     "name": "stdout",
     "output_type": "stream",
     "text": [
      "<class 'pandas.core.frame.DataFrame'>\n",
      "RangeIndex: 786547 entries, 0 to 786546\n",
      "Columns: 3803 entries, customer_id to platform_id_30423\n",
      "dtypes: bool(1), int64(2), object(1), uint8(3799)\n",
      "memory usage: 2.8+ GB\n"
     ]
    }
   ],
   "source": [
    "orders_features.info()"
   ]
  },
  {
   "cell_type": "markdown",
   "metadata": {},
   "source": [
    "### Transmission ID"
   ]
  },
  {
   "cell_type": "code",
   "execution_count": 80,
   "metadata": {},
   "outputs": [],
   "source": [
    "col_name = 'transmission_id'\n",
    "transmission_id_dummies = pd.get_dummies(\n",
    "    order_data[col_name],\n",
    "    prefix=col_name,\n",
    "#     sparse=True,\n",
    ")"
   ]
  },
  {
   "cell_type": "code",
   "execution_count": 81,
   "metadata": {},
   "outputs": [
    {
     "name": "stdout",
     "output_type": "stream",
     "text": [
      "<class 'pandas.core.frame.DataFrame'>\n",
      "RangeIndex: 786547 entries, 0 to 786546\n",
      "Data columns (total 10 columns):\n",
      " #   Column                 Non-Null Count   Dtype\n",
      "---  ------                 --------------   -----\n",
      " 0   transmission_id_212    786547 non-null  uint8\n",
      " 1   transmission_id_1988   786547 non-null  uint8\n",
      " 2   transmission_id_2020   786547 non-null  uint8\n",
      " 3   transmission_id_4196   786547 non-null  uint8\n",
      " 4   transmission_id_4228   786547 non-null  uint8\n",
      " 5   transmission_id_4260   786547 non-null  uint8\n",
      " 6   transmission_id_4324   786547 non-null  uint8\n",
      " 7   transmission_id_4356   786547 non-null  uint8\n",
      " 8   transmission_id_4996   786547 non-null  uint8\n",
      " 9   transmission_id_21124  786547 non-null  uint8\n",
      "dtypes: uint8(10)\n",
      "memory usage: 7.5 MB\n"
     ]
    }
   ],
   "source": [
    "transmission_id_dummies.info()"
   ]
  },
  {
   "cell_type": "code",
   "execution_count": 82,
   "metadata": {},
   "outputs": [],
   "source": [
    "orders_features[transmission_id_dummies.columns] = transmission_id_dummies"
   ]
  },
  {
   "cell_type": "code",
   "execution_count": 83,
   "metadata": {},
   "outputs": [
    {
     "name": "stdout",
     "output_type": "stream",
     "text": [
      "<class 'pandas.core.frame.DataFrame'>\n",
      "RangeIndex: 786547 entries, 0 to 786546\n",
      "Columns: 3813 entries, customer_id to transmission_id_21124\n",
      "dtypes: bool(1), int64(2), object(1), uint8(3809)\n",
      "memory usage: 2.8+ GB\n"
     ]
    }
   ],
   "source": [
    "orders_features.info()"
   ]
  },
  {
   "cell_type": "markdown",
   "metadata": {},
   "source": [
    "### Store data\n",
    "\n",
    "This time a space-efficient format is preferrable."
   ]
  },
  {
   "cell_type": "code",
   "execution_count": 84,
   "metadata": {},
   "outputs": [
    {
     "data": {
      "text/html": [
       "<div>\n",
       "<style scoped>\n",
       "    .dataframe tbody tr th:only-of-type {\n",
       "        vertical-align: middle;\n",
       "    }\n",
       "\n",
       "    .dataframe tbody tr th {\n",
       "        vertical-align: top;\n",
       "    }\n",
       "\n",
       "    .dataframe thead th {\n",
       "        text-align: right;\n",
       "    }\n",
       "</style>\n",
       "<table border=\"1\" class=\"dataframe\">\n",
       "  <thead>\n",
       "    <tr style=\"text-align: right;\">\n",
       "      <th></th>\n",
       "      <th>last_order_age_days</th>\n",
       "      <th>first_order_age_days</th>\n",
       "      <th>n_orders</th>\n",
       "      <th>max_customer_order_rank</th>\n",
       "      <th>n_failed</th>\n",
       "      <th>max_voucher_amount</th>\n",
       "      <th>tot_voucher_amount</th>\n",
       "      <th>n_vouchers</th>\n",
       "      <th>tot_delivery_fee</th>\n",
       "      <th>max_delivery_fee</th>\n",
       "      <th>n_delivery_fee</th>\n",
       "      <th>tot_amount_paid</th>\n",
       "      <th>avg_amount_paid</th>\n",
       "      <th>max_amount_paid</th>\n",
       "      <th>min_amount_paid</th>\n",
       "      <th>n_restaurants</th>\n",
       "      <th>n_cities</th>\n",
       "    </tr>\n",
       "    <tr>\n",
       "      <th>customer_id</th>\n",
       "      <th></th>\n",
       "      <th></th>\n",
       "      <th></th>\n",
       "      <th></th>\n",
       "      <th></th>\n",
       "      <th></th>\n",
       "      <th></th>\n",
       "      <th></th>\n",
       "      <th></th>\n",
       "      <th></th>\n",
       "      <th></th>\n",
       "      <th></th>\n",
       "      <th></th>\n",
       "      <th></th>\n",
       "      <th></th>\n",
       "      <th></th>\n",
       "      <th></th>\n",
       "    </tr>\n",
       "  </thead>\n",
       "  <tbody>\n",
       "    <tr>\n",
       "      <th>000097eabfd9</th>\n",
       "      <td>618</td>\n",
       "      <td>618</td>\n",
       "      <td>1</td>\n",
       "      <td>1</td>\n",
       "      <td>0</td>\n",
       "      <td>0.0</td>\n",
       "      <td>0.0</td>\n",
       "      <td>0</td>\n",
       "      <td>0.0000</td>\n",
       "      <td>0.0000</td>\n",
       "      <td>0</td>\n",
       "      <td>11.46960</td>\n",
       "      <td>11.46960</td>\n",
       "      <td>11.46960</td>\n",
       "      <td>11.46960</td>\n",
       "      <td>1</td>\n",
       "      <td>1</td>\n",
       "    </tr>\n",
       "    <tr>\n",
       "      <th>0000e2c6d9be</th>\n",
       "      <td>395</td>\n",
       "      <td>395</td>\n",
       "      <td>1</td>\n",
       "      <td>1</td>\n",
       "      <td>0</td>\n",
       "      <td>0.0</td>\n",
       "      <td>0.0</td>\n",
       "      <td>0</td>\n",
       "      <td>0.0000</td>\n",
       "      <td>0.0000</td>\n",
       "      <td>0</td>\n",
       "      <td>9.55800</td>\n",
       "      <td>9.55800</td>\n",
       "      <td>9.55800</td>\n",
       "      <td>9.55800</td>\n",
       "      <td>1</td>\n",
       "      <td>1</td>\n",
       "    </tr>\n",
       "    <tr>\n",
       "      <th>000133bb597f</th>\n",
       "      <td>1</td>\n",
       "      <td>1</td>\n",
       "      <td>1</td>\n",
       "      <td>1</td>\n",
       "      <td>0</td>\n",
       "      <td>0.0</td>\n",
       "      <td>0.0</td>\n",
       "      <td>0</td>\n",
       "      <td>0.4930</td>\n",
       "      <td>0.4930</td>\n",
       "      <td>1</td>\n",
       "      <td>5.93658</td>\n",
       "      <td>5.93658</td>\n",
       "      <td>5.93658</td>\n",
       "      <td>5.93658</td>\n",
       "      <td>1</td>\n",
       "      <td>1</td>\n",
       "    </tr>\n",
       "    <tr>\n",
       "      <th>00018269939b</th>\n",
       "      <td>22</td>\n",
       "      <td>22</td>\n",
       "      <td>1</td>\n",
       "      <td>1</td>\n",
       "      <td>0</td>\n",
       "      <td>0.0</td>\n",
       "      <td>0.0</td>\n",
       "      <td>0</td>\n",
       "      <td>0.4930</td>\n",
       "      <td>0.4930</td>\n",
       "      <td>1</td>\n",
       "      <td>9.82350</td>\n",
       "      <td>9.82350</td>\n",
       "      <td>9.82350</td>\n",
       "      <td>9.82350</td>\n",
       "      <td>1</td>\n",
       "      <td>1</td>\n",
       "    </tr>\n",
       "    <tr>\n",
       "      <th>0001a00468a6</th>\n",
       "      <td>573</td>\n",
       "      <td>573</td>\n",
       "      <td>1</td>\n",
       "      <td>1</td>\n",
       "      <td>0</td>\n",
       "      <td>0.0</td>\n",
       "      <td>0.0</td>\n",
       "      <td>0</td>\n",
       "      <td>0.4930</td>\n",
       "      <td>0.4930</td>\n",
       "      <td>1</td>\n",
       "      <td>5.15070</td>\n",
       "      <td>5.15070</td>\n",
       "      <td>5.15070</td>\n",
       "      <td>5.15070</td>\n",
       "      <td>1</td>\n",
       "      <td>1</td>\n",
       "    </tr>\n",
       "    <tr>\n",
       "      <th>...</th>\n",
       "      <td>...</td>\n",
       "      <td>...</td>\n",
       "      <td>...</td>\n",
       "      <td>...</td>\n",
       "      <td>...</td>\n",
       "      <td>...</td>\n",
       "      <td>...</td>\n",
       "      <td>...</td>\n",
       "      <td>...</td>\n",
       "      <td>...</td>\n",
       "      <td>...</td>\n",
       "      <td>...</td>\n",
       "      <td>...</td>\n",
       "      <td>...</td>\n",
       "      <td>...</td>\n",
       "      <td>...</td>\n",
       "      <td>...</td>\n",
       "    </tr>\n",
       "    <tr>\n",
       "      <th>fffd696eaedd</th>\n",
       "      <td>532</td>\n",
       "      <td>532</td>\n",
       "      <td>1</td>\n",
       "      <td>1</td>\n",
       "      <td>0</td>\n",
       "      <td>0.0</td>\n",
       "      <td>0.0</td>\n",
       "      <td>0</td>\n",
       "      <td>1.4297</td>\n",
       "      <td>1.4297</td>\n",
       "      <td>1</td>\n",
       "      <td>24.13395</td>\n",
       "      <td>24.13395</td>\n",
       "      <td>24.13395</td>\n",
       "      <td>24.13395</td>\n",
       "      <td>1</td>\n",
       "      <td>1</td>\n",
       "    </tr>\n",
       "    <tr>\n",
       "      <th>fffe9d5a8d41</th>\n",
       "      <td>150</td>\n",
       "      <td>211</td>\n",
       "      <td>3</td>\n",
       "      <td>1</td>\n",
       "      <td>2</td>\n",
       "      <td>0.0</td>\n",
       "      <td>0.0</td>\n",
       "      <td>0</td>\n",
       "      <td>0.0000</td>\n",
       "      <td>0.0000</td>\n",
       "      <td>0</td>\n",
       "      <td>29.89530</td>\n",
       "      <td>9.96510</td>\n",
       "      <td>10.72620</td>\n",
       "      <td>8.44290</td>\n",
       "      <td>2</td>\n",
       "      <td>1</td>\n",
       "    </tr>\n",
       "    <tr>\n",
       "      <th>ffff347c3cfa</th>\n",
       "      <td>165</td>\n",
       "      <td>194</td>\n",
       "      <td>2</td>\n",
       "      <td>2</td>\n",
       "      <td>0</td>\n",
       "      <td>0.0</td>\n",
       "      <td>0.0</td>\n",
       "      <td>0</td>\n",
       "      <td>0.0000</td>\n",
       "      <td>0.0000</td>\n",
       "      <td>0</td>\n",
       "      <td>13.54050</td>\n",
       "      <td>6.77025</td>\n",
       "      <td>7.59330</td>\n",
       "      <td>5.94720</td>\n",
       "      <td>2</td>\n",
       "      <td>1</td>\n",
       "    </tr>\n",
       "    <tr>\n",
       "      <th>ffff4519b52d</th>\n",
       "      <td>331</td>\n",
       "      <td>331</td>\n",
       "      <td>1</td>\n",
       "      <td>1</td>\n",
       "      <td>0</td>\n",
       "      <td>0.0</td>\n",
       "      <td>0.0</td>\n",
       "      <td>0</td>\n",
       "      <td>0.0000</td>\n",
       "      <td>0.0000</td>\n",
       "      <td>0</td>\n",
       "      <td>21.77100</td>\n",
       "      <td>21.77100</td>\n",
       "      <td>21.77100</td>\n",
       "      <td>21.77100</td>\n",
       "      <td>1</td>\n",
       "      <td>1</td>\n",
       "    </tr>\n",
       "    <tr>\n",
       "      <th>ffffccbfc8a4</th>\n",
       "      <td>639</td>\n",
       "      <td>639</td>\n",
       "      <td>1</td>\n",
       "      <td>1</td>\n",
       "      <td>0</td>\n",
       "      <td>0.0</td>\n",
       "      <td>0.0</td>\n",
       "      <td>0</td>\n",
       "      <td>0.0000</td>\n",
       "      <td>0.0000</td>\n",
       "      <td>0</td>\n",
       "      <td>16.46100</td>\n",
       "      <td>16.46100</td>\n",
       "      <td>16.46100</td>\n",
       "      <td>16.46100</td>\n",
       "      <td>1</td>\n",
       "      <td>1</td>\n",
       "    </tr>\n",
       "  </tbody>\n",
       "</table>\n",
       "<p>245453 rows × 17 columns</p>\n",
       "</div>"
      ],
      "text/plain": [
       "              last_order_age_days  first_order_age_days  n_orders  \\\n",
       "customer_id                                                         \n",
       "000097eabfd9                  618                   618         1   \n",
       "0000e2c6d9be                  395                   395         1   \n",
       "000133bb597f                    1                     1         1   \n",
       "00018269939b                   22                    22         1   \n",
       "0001a00468a6                  573                   573         1   \n",
       "...                           ...                   ...       ...   \n",
       "fffd696eaedd                  532                   532         1   \n",
       "fffe9d5a8d41                  150                   211         3   \n",
       "ffff347c3cfa                  165                   194         2   \n",
       "ffff4519b52d                  331                   331         1   \n",
       "ffffccbfc8a4                  639                   639         1   \n",
       "\n",
       "              max_customer_order_rank  n_failed  max_voucher_amount  \\\n",
       "customer_id                                                           \n",
       "000097eabfd9                        1         0                 0.0   \n",
       "0000e2c6d9be                        1         0                 0.0   \n",
       "000133bb597f                        1         0                 0.0   \n",
       "00018269939b                        1         0                 0.0   \n",
       "0001a00468a6                        1         0                 0.0   \n",
       "...                               ...       ...                 ...   \n",
       "fffd696eaedd                        1         0                 0.0   \n",
       "fffe9d5a8d41                        1         2                 0.0   \n",
       "ffff347c3cfa                        2         0                 0.0   \n",
       "ffff4519b52d                        1         0                 0.0   \n",
       "ffffccbfc8a4                        1         0                 0.0   \n",
       "\n",
       "              tot_voucher_amount  n_vouchers  tot_delivery_fee  \\\n",
       "customer_id                                                      \n",
       "000097eabfd9                 0.0           0            0.0000   \n",
       "0000e2c6d9be                 0.0           0            0.0000   \n",
       "000133bb597f                 0.0           0            0.4930   \n",
       "00018269939b                 0.0           0            0.4930   \n",
       "0001a00468a6                 0.0           0            0.4930   \n",
       "...                          ...         ...               ...   \n",
       "fffd696eaedd                 0.0           0            1.4297   \n",
       "fffe9d5a8d41                 0.0           0            0.0000   \n",
       "ffff347c3cfa                 0.0           0            0.0000   \n",
       "ffff4519b52d                 0.0           0            0.0000   \n",
       "ffffccbfc8a4                 0.0           0            0.0000   \n",
       "\n",
       "              max_delivery_fee  n_delivery_fee  tot_amount_paid  \\\n",
       "customer_id                                                       \n",
       "000097eabfd9            0.0000               0         11.46960   \n",
       "0000e2c6d9be            0.0000               0          9.55800   \n",
       "000133bb597f            0.4930               1          5.93658   \n",
       "00018269939b            0.4930               1          9.82350   \n",
       "0001a00468a6            0.4930               1          5.15070   \n",
       "...                        ...             ...              ...   \n",
       "fffd696eaedd            1.4297               1         24.13395   \n",
       "fffe9d5a8d41            0.0000               0         29.89530   \n",
       "ffff347c3cfa            0.0000               0         13.54050   \n",
       "ffff4519b52d            0.0000               0         21.77100   \n",
       "ffffccbfc8a4            0.0000               0         16.46100   \n",
       "\n",
       "              avg_amount_paid  max_amount_paid  min_amount_paid  \\\n",
       "customer_id                                                       \n",
       "000097eabfd9         11.46960         11.46960         11.46960   \n",
       "0000e2c6d9be          9.55800          9.55800          9.55800   \n",
       "000133bb597f          5.93658          5.93658          5.93658   \n",
       "00018269939b          9.82350          9.82350          9.82350   \n",
       "0001a00468a6          5.15070          5.15070          5.15070   \n",
       "...                       ...              ...              ...   \n",
       "fffd696eaedd         24.13395         24.13395         24.13395   \n",
       "fffe9d5a8d41          9.96510         10.72620          8.44290   \n",
       "ffff347c3cfa          6.77025          7.59330          5.94720   \n",
       "ffff4519b52d         21.77100         21.77100         21.77100   \n",
       "ffffccbfc8a4         16.46100         16.46100         16.46100   \n",
       "\n",
       "              n_restaurants  n_cities  \n",
       "customer_id                            \n",
       "000097eabfd9              1         1  \n",
       "0000e2c6d9be              1         1  \n",
       "000133bb597f              1         1  \n",
       "00018269939b              1         1  \n",
       "0001a00468a6              1         1  \n",
       "...                     ...       ...  \n",
       "fffd696eaedd              1         1  \n",
       "fffe9d5a8d41              2         1  \n",
       "ffff347c3cfa              2         1  \n",
       "ffff4519b52d              1         1  \n",
       "ffffccbfc8a4              1         1  \n",
       "\n",
       "[245453 rows x 17 columns]"
      ]
     },
     "execution_count": 84,
     "metadata": {},
     "output_type": "execute_result"
    }
   ],
   "source": [
    "customer_features"
   ]
  },
  {
   "cell_type": "code",
   "execution_count": null,
   "metadata": {},
   "outputs": [],
   "source": []
  },
  {
   "cell_type": "markdown",
   "metadata": {},
   "source": [
    "### Customer features from dummy features\n",
    "\n",
    "Here we distill the extracted order feature to customer features."
   ]
  },
  {
   "cell_type": "code",
   "execution_count": 85,
   "metadata": {},
   "outputs": [
    {
     "data": {
      "text/html": [
       "<div>\n",
       "<style scoped>\n",
       "    .dataframe tbody tr th:only-of-type {\n",
       "        vertical-align: middle;\n",
       "    }\n",
       "\n",
       "    .dataframe tbody tr th {\n",
       "        vertical-align: top;\n",
       "    }\n",
       "\n",
       "    .dataframe thead th {\n",
       "        text-align: right;\n",
       "    }\n",
       "</style>\n",
       "<table border=\"1\" class=\"dataframe\">\n",
       "  <thead>\n",
       "    <tr style=\"text-align: right;\">\n",
       "      <th></th>\n",
       "      <th>customer_id</th>\n",
       "      <th>hour_of_day</th>\n",
       "      <th>day_of_week</th>\n",
       "      <th>is_holiday</th>\n",
       "      <th>hour_of_day_0</th>\n",
       "      <th>hour_of_day_1</th>\n",
       "      <th>hour_of_day_2</th>\n",
       "      <th>hour_of_day_3</th>\n",
       "      <th>hour_of_day_4</th>\n",
       "      <th>hour_of_day_5</th>\n",
       "      <th>...</th>\n",
       "      <th>transmission_id_212</th>\n",
       "      <th>transmission_id_1988</th>\n",
       "      <th>transmission_id_2020</th>\n",
       "      <th>transmission_id_4196</th>\n",
       "      <th>transmission_id_4228</th>\n",
       "      <th>transmission_id_4260</th>\n",
       "      <th>transmission_id_4324</th>\n",
       "      <th>transmission_id_4356</th>\n",
       "      <th>transmission_id_4996</th>\n",
       "      <th>transmission_id_21124</th>\n",
       "    </tr>\n",
       "  </thead>\n",
       "  <tbody>\n",
       "    <tr>\n",
       "      <th>0</th>\n",
       "      <td>000097eabfd9</td>\n",
       "      <td>19</td>\n",
       "      <td>5</td>\n",
       "      <td>False</td>\n",
       "      <td>0</td>\n",
       "      <td>0</td>\n",
       "      <td>0</td>\n",
       "      <td>0</td>\n",
       "      <td>0</td>\n",
       "      <td>0</td>\n",
       "      <td>...</td>\n",
       "      <td>0</td>\n",
       "      <td>0</td>\n",
       "      <td>0</td>\n",
       "      <td>0</td>\n",
       "      <td>0</td>\n",
       "      <td>0</td>\n",
       "      <td>0</td>\n",
       "      <td>1</td>\n",
       "      <td>0</td>\n",
       "      <td>0</td>\n",
       "    </tr>\n",
       "    <tr>\n",
       "      <th>1</th>\n",
       "      <td>0000e2c6d9be</td>\n",
       "      <td>20</td>\n",
       "      <td>4</td>\n",
       "      <td>False</td>\n",
       "      <td>0</td>\n",
       "      <td>0</td>\n",
       "      <td>0</td>\n",
       "      <td>0</td>\n",
       "      <td>0</td>\n",
       "      <td>0</td>\n",
       "      <td>...</td>\n",
       "      <td>0</td>\n",
       "      <td>0</td>\n",
       "      <td>0</td>\n",
       "      <td>0</td>\n",
       "      <td>0</td>\n",
       "      <td>0</td>\n",
       "      <td>0</td>\n",
       "      <td>1</td>\n",
       "      <td>0</td>\n",
       "      <td>0</td>\n",
       "    </tr>\n",
       "    <tr>\n",
       "      <th>2</th>\n",
       "      <td>000133bb597f</td>\n",
       "      <td>19</td>\n",
       "      <td>6</td>\n",
       "      <td>False</td>\n",
       "      <td>0</td>\n",
       "      <td>0</td>\n",
       "      <td>0</td>\n",
       "      <td>0</td>\n",
       "      <td>0</td>\n",
       "      <td>0</td>\n",
       "      <td>...</td>\n",
       "      <td>0</td>\n",
       "      <td>0</td>\n",
       "      <td>0</td>\n",
       "      <td>0</td>\n",
       "      <td>0</td>\n",
       "      <td>0</td>\n",
       "      <td>1</td>\n",
       "      <td>0</td>\n",
       "      <td>0</td>\n",
       "      <td>0</td>\n",
       "    </tr>\n",
       "    <tr>\n",
       "      <th>3</th>\n",
       "      <td>00018269939b</td>\n",
       "      <td>17</td>\n",
       "      <td>6</td>\n",
       "      <td>False</td>\n",
       "      <td>0</td>\n",
       "      <td>0</td>\n",
       "      <td>0</td>\n",
       "      <td>0</td>\n",
       "      <td>0</td>\n",
       "      <td>0</td>\n",
       "      <td>...</td>\n",
       "      <td>0</td>\n",
       "      <td>0</td>\n",
       "      <td>0</td>\n",
       "      <td>0</td>\n",
       "      <td>0</td>\n",
       "      <td>0</td>\n",
       "      <td>0</td>\n",
       "      <td>1</td>\n",
       "      <td>0</td>\n",
       "      <td>0</td>\n",
       "    </tr>\n",
       "    <tr>\n",
       "      <th>4</th>\n",
       "      <td>0001a00468a6</td>\n",
       "      <td>19</td>\n",
       "      <td>1</td>\n",
       "      <td>False</td>\n",
       "      <td>0</td>\n",
       "      <td>0</td>\n",
       "      <td>0</td>\n",
       "      <td>0</td>\n",
       "      <td>0</td>\n",
       "      <td>0</td>\n",
       "      <td>...</td>\n",
       "      <td>0</td>\n",
       "      <td>0</td>\n",
       "      <td>0</td>\n",
       "      <td>0</td>\n",
       "      <td>0</td>\n",
       "      <td>0</td>\n",
       "      <td>0</td>\n",
       "      <td>1</td>\n",
       "      <td>0</td>\n",
       "      <td>0</td>\n",
       "    </tr>\n",
       "    <tr>\n",
       "      <th>...</th>\n",
       "      <td>...</td>\n",
       "      <td>...</td>\n",
       "      <td>...</td>\n",
       "      <td>...</td>\n",
       "      <td>...</td>\n",
       "      <td>...</td>\n",
       "      <td>...</td>\n",
       "      <td>...</td>\n",
       "      <td>...</td>\n",
       "      <td>...</td>\n",
       "      <td>...</td>\n",
       "      <td>...</td>\n",
       "      <td>...</td>\n",
       "      <td>...</td>\n",
       "      <td>...</td>\n",
       "      <td>...</td>\n",
       "      <td>...</td>\n",
       "      <td>...</td>\n",
       "      <td>...</td>\n",
       "      <td>...</td>\n",
       "      <td>...</td>\n",
       "    </tr>\n",
       "    <tr>\n",
       "      <th>786542</th>\n",
       "      <td>fffe9d5a8d41</td>\n",
       "      <td>20</td>\n",
       "      <td>4</td>\n",
       "      <td>False</td>\n",
       "      <td>0</td>\n",
       "      <td>0</td>\n",
       "      <td>0</td>\n",
       "      <td>0</td>\n",
       "      <td>0</td>\n",
       "      <td>0</td>\n",
       "      <td>...</td>\n",
       "      <td>1</td>\n",
       "      <td>0</td>\n",
       "      <td>0</td>\n",
       "      <td>0</td>\n",
       "      <td>0</td>\n",
       "      <td>0</td>\n",
       "      <td>0</td>\n",
       "      <td>0</td>\n",
       "      <td>0</td>\n",
       "      <td>0</td>\n",
       "    </tr>\n",
       "    <tr>\n",
       "      <th>786543</th>\n",
       "      <td>ffff347c3cfa</td>\n",
       "      <td>21</td>\n",
       "      <td>2</td>\n",
       "      <td>False</td>\n",
       "      <td>0</td>\n",
       "      <td>0</td>\n",
       "      <td>0</td>\n",
       "      <td>0</td>\n",
       "      <td>0</td>\n",
       "      <td>0</td>\n",
       "      <td>...</td>\n",
       "      <td>0</td>\n",
       "      <td>0</td>\n",
       "      <td>0</td>\n",
       "      <td>0</td>\n",
       "      <td>0</td>\n",
       "      <td>0</td>\n",
       "      <td>0</td>\n",
       "      <td>1</td>\n",
       "      <td>0</td>\n",
       "      <td>0</td>\n",
       "    </tr>\n",
       "    <tr>\n",
       "      <th>786544</th>\n",
       "      <td>ffff347c3cfa</td>\n",
       "      <td>21</td>\n",
       "      <td>3</td>\n",
       "      <td>False</td>\n",
       "      <td>0</td>\n",
       "      <td>0</td>\n",
       "      <td>0</td>\n",
       "      <td>0</td>\n",
       "      <td>0</td>\n",
       "      <td>0</td>\n",
       "      <td>...</td>\n",
       "      <td>0</td>\n",
       "      <td>0</td>\n",
       "      <td>0</td>\n",
       "      <td>0</td>\n",
       "      <td>0</td>\n",
       "      <td>0</td>\n",
       "      <td>0</td>\n",
       "      <td>1</td>\n",
       "      <td>0</td>\n",
       "      <td>0</td>\n",
       "    </tr>\n",
       "    <tr>\n",
       "      <th>786545</th>\n",
       "      <td>ffff4519b52d</td>\n",
       "      <td>19</td>\n",
       "      <td>5</td>\n",
       "      <td>False</td>\n",
       "      <td>0</td>\n",
       "      <td>0</td>\n",
       "      <td>0</td>\n",
       "      <td>0</td>\n",
       "      <td>0</td>\n",
       "      <td>0</td>\n",
       "      <td>...</td>\n",
       "      <td>0</td>\n",
       "      <td>0</td>\n",
       "      <td>0</td>\n",
       "      <td>0</td>\n",
       "      <td>1</td>\n",
       "      <td>0</td>\n",
       "      <td>0</td>\n",
       "      <td>0</td>\n",
       "      <td>0</td>\n",
       "      <td>0</td>\n",
       "    </tr>\n",
       "    <tr>\n",
       "      <th>786546</th>\n",
       "      <td>ffffccbfc8a4</td>\n",
       "      <td>20</td>\n",
       "      <td>5</td>\n",
       "      <td>False</td>\n",
       "      <td>0</td>\n",
       "      <td>0</td>\n",
       "      <td>0</td>\n",
       "      <td>0</td>\n",
       "      <td>0</td>\n",
       "      <td>0</td>\n",
       "      <td>...</td>\n",
       "      <td>0</td>\n",
       "      <td>0</td>\n",
       "      <td>0</td>\n",
       "      <td>0</td>\n",
       "      <td>0</td>\n",
       "      <td>0</td>\n",
       "      <td>1</td>\n",
       "      <td>0</td>\n",
       "      <td>0</td>\n",
       "      <td>0</td>\n",
       "    </tr>\n",
       "  </tbody>\n",
       "</table>\n",
       "<p>786547 rows × 3813 columns</p>\n",
       "</div>"
      ],
      "text/plain": [
       "         customer_id  hour_of_day  day_of_week  is_holiday  hour_of_day_0  \\\n",
       "0       000097eabfd9           19            5       False              0   \n",
       "1       0000e2c6d9be           20            4       False              0   \n",
       "2       000133bb597f           19            6       False              0   \n",
       "3       00018269939b           17            6       False              0   \n",
       "4       0001a00468a6           19            1       False              0   \n",
       "...              ...          ...          ...         ...            ...   \n",
       "786542  fffe9d5a8d41           20            4       False              0   \n",
       "786543  ffff347c3cfa           21            2       False              0   \n",
       "786544  ffff347c3cfa           21            3       False              0   \n",
       "786545  ffff4519b52d           19            5       False              0   \n",
       "786546  ffffccbfc8a4           20            5       False              0   \n",
       "\n",
       "        hour_of_day_1  hour_of_day_2  hour_of_day_3  hour_of_day_4  \\\n",
       "0                   0              0              0              0   \n",
       "1                   0              0              0              0   \n",
       "2                   0              0              0              0   \n",
       "3                   0              0              0              0   \n",
       "4                   0              0              0              0   \n",
       "...               ...            ...            ...            ...   \n",
       "786542              0              0              0              0   \n",
       "786543              0              0              0              0   \n",
       "786544              0              0              0              0   \n",
       "786545              0              0              0              0   \n",
       "786546              0              0              0              0   \n",
       "\n",
       "        hour_of_day_5  ...  transmission_id_212  transmission_id_1988  \\\n",
       "0                   0  ...                    0                     0   \n",
       "1                   0  ...                    0                     0   \n",
       "2                   0  ...                    0                     0   \n",
       "3                   0  ...                    0                     0   \n",
       "4                   0  ...                    0                     0   \n",
       "...               ...  ...                  ...                   ...   \n",
       "786542              0  ...                    1                     0   \n",
       "786543              0  ...                    0                     0   \n",
       "786544              0  ...                    0                     0   \n",
       "786545              0  ...                    0                     0   \n",
       "786546              0  ...                    0                     0   \n",
       "\n",
       "        transmission_id_2020  transmission_id_4196  transmission_id_4228  \\\n",
       "0                          0                     0                     0   \n",
       "1                          0                     0                     0   \n",
       "2                          0                     0                     0   \n",
       "3                          0                     0                     0   \n",
       "4                          0                     0                     0   \n",
       "...                      ...                   ...                   ...   \n",
       "786542                     0                     0                     0   \n",
       "786543                     0                     0                     0   \n",
       "786544                     0                     0                     0   \n",
       "786545                     0                     0                     1   \n",
       "786546                     0                     0                     0   \n",
       "\n",
       "        transmission_id_4260  transmission_id_4324  transmission_id_4356  \\\n",
       "0                          0                     0                     1   \n",
       "1                          0                     0                     1   \n",
       "2                          0                     1                     0   \n",
       "3                          0                     0                     1   \n",
       "4                          0                     0                     1   \n",
       "...                      ...                   ...                   ...   \n",
       "786542                     0                     0                     0   \n",
       "786543                     0                     0                     1   \n",
       "786544                     0                     0                     1   \n",
       "786545                     0                     0                     0   \n",
       "786546                     0                     1                     0   \n",
       "\n",
       "        transmission_id_4996  transmission_id_21124  \n",
       "0                          0                      0  \n",
       "1                          0                      0  \n",
       "2                          0                      0  \n",
       "3                          0                      0  \n",
       "4                          0                      0  \n",
       "...                      ...                    ...  \n",
       "786542                     0                      0  \n",
       "786543                     0                      0  \n",
       "786544                     0                      0  \n",
       "786545                     0                      0  \n",
       "786546                     0                      0  \n",
       "\n",
       "[786547 rows x 3813 columns]"
      ]
     },
     "execution_count": 85,
     "metadata": {},
     "output_type": "execute_result"
    }
   ],
   "source": [
    "orders_features"
   ]
  },
  {
   "cell_type": "code",
   "execution_count": 86,
   "metadata": {},
   "outputs": [
    {
     "name": "stdout",
     "output_type": "stream",
     "text": [
      "<class 'pandas.core.frame.DataFrame'>\n",
      "RangeIndex: 786547 entries, 0 to 786546\n",
      "Columns: 3813 entries, customer_id to transmission_id_21124\n",
      "dtypes: bool(1), int64(2), object(1), uint8(3809)\n",
      "memory usage: 2.8+ GB\n"
     ]
    }
   ],
   "source": [
    "orders_features.info()"
   ]
  },
  {
   "cell_type": "code",
   "execution_count": null,
   "metadata": {},
   "outputs": [],
   "source": [
    "# customer_features_dummy = orders_features.drop(\n",
    "#     columns=['hour_of_day', 'day_of_week']\n",
    "# ).groupby(['customer_id']).agg(np.sum)"
   ]
  },
  {
   "cell_type": "code",
   "execution_count": null,
   "metadata": {},
   "outputs": [],
   "source": []
  }
 ],
 "metadata": {
  "kernelspec": {
   "display_name": "Python 3",
   "language": "python",
   "name": "python3"
  },
  "language_info": {
   "codemirror_mode": {
    "name": "ipython",
    "version": 3
   },
   "file_extension": ".py",
   "mimetype": "text/x-python",
   "name": "python",
   "nbconvert_exporter": "python",
   "pygments_lexer": "ipython3",
   "version": "3.8.6"
  }
 },
 "nbformat": 4,
 "nbformat_minor": 4
}

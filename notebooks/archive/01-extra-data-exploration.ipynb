{
 "cells": [
  {
   "cell_type": "code",
   "execution_count": 1,
   "metadata": {},
   "outputs": [],
   "source": [
    "import numpy as np\n",
    "import pandas as pd\n",
    "import matplotlib.pyplot as plt\n",
    "from pandas.plotting import scatter_matrix\n",
    "import seaborn as sns\n",
    "%matplotlib inline"
   ]
  },
  {
   "cell_type": "code",
   "execution_count": 2,
   "metadata": {},
   "outputs": [],
   "source": [
    "sns.set()"
   ]
  },
  {
   "cell_type": "code",
   "execution_count": 39,
   "metadata": {},
   "outputs": [],
   "source": [
    "order_data = pd.read_json(\n",
    "    \"../data/order_data_dtypes.json\",\n",
    "    orient='table',\n",
    ").set_index('order_datetime').sort_index()"
   ]
  },
  {
   "cell_type": "markdown",
   "metadata": {},
   "source": [
    "Both time-series and values distribution can be useful for building features so we'll focus on both."
   ]
  },
  {
   "cell_type": "code",
   "execution_count": 42,
   "metadata": {},
   "outputs": [
    {
     "data": {
      "text/html": [
       "<div>\n",
       "<style scoped>\n",
       "    .dataframe tbody tr th:only-of-type {\n",
       "        vertical-align: middle;\n",
       "    }\n",
       "\n",
       "    .dataframe tbody tr th {\n",
       "        vertical-align: top;\n",
       "    }\n",
       "\n",
       "    .dataframe thead th {\n",
       "        text-align: right;\n",
       "    }\n",
       "</style>\n",
       "<table border=\"1\" class=\"dataframe\">\n",
       "  <thead>\n",
       "    <tr style=\"text-align: right;\">\n",
       "      <th></th>\n",
       "      <th>customer_id</th>\n",
       "      <th>customer_order_rank</th>\n",
       "      <th>is_failed</th>\n",
       "      <th>voucher_amount</th>\n",
       "      <th>delivery_fee</th>\n",
       "      <th>amount_paid</th>\n",
       "      <th>restaurant_id</th>\n",
       "      <th>city_id</th>\n",
       "      <th>payment_id</th>\n",
       "      <th>platform_id</th>\n",
       "      <th>transmission_id</th>\n",
       "      <th>is_returning_customer</th>\n",
       "    </tr>\n",
       "    <tr>\n",
       "      <th>order_datetime</th>\n",
       "      <th></th>\n",
       "      <th></th>\n",
       "      <th></th>\n",
       "      <th></th>\n",
       "      <th></th>\n",
       "      <th></th>\n",
       "      <th></th>\n",
       "      <th></th>\n",
       "      <th></th>\n",
       "      <th></th>\n",
       "      <th></th>\n",
       "      <th></th>\n",
       "    </tr>\n",
       "  </thead>\n",
       "  <tbody>\n",
       "    <tr>\n",
       "      <th>2012-05-17 19:00:00</th>\n",
       "      <td>ad8f458395ae</td>\n",
       "      <td>1</td>\n",
       "      <td>0</td>\n",
       "      <td>0.0</td>\n",
       "      <td>0.493</td>\n",
       "      <td>18.1602</td>\n",
       "      <td>3783498</td>\n",
       "      <td>80562</td>\n",
       "      <td>1619</td>\n",
       "      <td>525</td>\n",
       "      <td>21124</td>\n",
       "      <td>0</td>\n",
       "    </tr>\n",
       "    <tr>\n",
       "      <th>2012-08-10 17:00:00</th>\n",
       "      <td>eb59ccd81693</td>\n",
       "      <td>1</td>\n",
       "      <td>0</td>\n",
       "      <td>0.0</td>\n",
       "      <td>0.000</td>\n",
       "      <td>4.1949</td>\n",
       "      <td>2413498</td>\n",
       "      <td>20326</td>\n",
       "      <td>1619</td>\n",
       "      <td>30231</td>\n",
       "      <td>4324</td>\n",
       "      <td>1</td>\n",
       "    </tr>\n",
       "    <tr>\n",
       "      <th>2012-09-27 15:00:00</th>\n",
       "      <td>f308e2522927</td>\n",
       "      <td>1</td>\n",
       "      <td>0</td>\n",
       "      <td>0.0</td>\n",
       "      <td>0.000</td>\n",
       "      <td>15.3990</td>\n",
       "      <td>49563498</td>\n",
       "      <td>33561</td>\n",
       "      <td>1619</td>\n",
       "      <td>525</td>\n",
       "      <td>4324</td>\n",
       "      <td>0</td>\n",
       "    </tr>\n",
       "    <tr>\n",
       "      <th>2012-12-08 16:00:00</th>\n",
       "      <td>f326f5034809</td>\n",
       "      <td>1</td>\n",
       "      <td>0</td>\n",
       "      <td>0.0</td>\n",
       "      <td>0.000</td>\n",
       "      <td>9.0270</td>\n",
       "      <td>89253498</td>\n",
       "      <td>36268</td>\n",
       "      <td>1619</td>\n",
       "      <td>30199</td>\n",
       "      <td>4324</td>\n",
       "      <td>1</td>\n",
       "    </tr>\n",
       "    <tr>\n",
       "      <th>2013-03-02 20:00:00</th>\n",
       "      <td>40d03e3d1227</td>\n",
       "      <td>1</td>\n",
       "      <td>0</td>\n",
       "      <td>0.0</td>\n",
       "      <td>0.000</td>\n",
       "      <td>10.5138</td>\n",
       "      <td>144973498</td>\n",
       "      <td>6448</td>\n",
       "      <td>1619</td>\n",
       "      <td>29815</td>\n",
       "      <td>4324</td>\n",
       "      <td>1</td>\n",
       "    </tr>\n",
       "    <tr>\n",
       "      <th>...</th>\n",
       "      <td>...</td>\n",
       "      <td>...</td>\n",
       "      <td>...</td>\n",
       "      <td>...</td>\n",
       "      <td>...</td>\n",
       "      <td>...</td>\n",
       "      <td>...</td>\n",
       "      <td>...</td>\n",
       "      <td>...</td>\n",
       "      <td>...</td>\n",
       "      <td>...</td>\n",
       "      <td>...</td>\n",
       "    </tr>\n",
       "    <tr>\n",
       "      <th>2017-02-27 23:00:00</th>\n",
       "      <td>ef55ff70fe64</td>\n",
       "      <td>8</td>\n",
       "      <td>0</td>\n",
       "      <td>0.0</td>\n",
       "      <td>1.479</td>\n",
       "      <td>13.2219</td>\n",
       "      <td>228683498</td>\n",
       "      <td>50898</td>\n",
       "      <td>1619</td>\n",
       "      <td>30359</td>\n",
       "      <td>4228</td>\n",
       "      <td>1</td>\n",
       "    </tr>\n",
       "    <tr>\n",
       "      <th>2017-02-27 23:00:00</th>\n",
       "      <td>ba654dfe73a1</td>\n",
       "      <td>17</td>\n",
       "      <td>0</td>\n",
       "      <td>0.0</td>\n",
       "      <td>0.000</td>\n",
       "      <td>18.7974</td>\n",
       "      <td>105933498</td>\n",
       "      <td>10346</td>\n",
       "      <td>1779</td>\n",
       "      <td>29815</td>\n",
       "      <td>4356</td>\n",
       "      <td>1</td>\n",
       "    </tr>\n",
       "    <tr>\n",
       "      <th>2017-02-27 23:00:00</th>\n",
       "      <td>fbdb54f2fbdb</td>\n",
       "      <td>4</td>\n",
       "      <td>0</td>\n",
       "      <td>0.0</td>\n",
       "      <td>0.000</td>\n",
       "      <td>4.5135</td>\n",
       "      <td>174353498</td>\n",
       "      <td>69346</td>\n",
       "      <td>1779</td>\n",
       "      <td>29815</td>\n",
       "      <td>4324</td>\n",
       "      <td>1</td>\n",
       "    </tr>\n",
       "    <tr>\n",
       "      <th>2017-02-27 23:00:00</th>\n",
       "      <td>5fee21c65c16</td>\n",
       "      <td>1</td>\n",
       "      <td>0</td>\n",
       "      <td>0.0</td>\n",
       "      <td>0.000</td>\n",
       "      <td>10.4607</td>\n",
       "      <td>130943498</td>\n",
       "      <td>4334</td>\n",
       "      <td>1779</td>\n",
       "      <td>29815</td>\n",
       "      <td>1988</td>\n",
       "      <td>0</td>\n",
       "    </tr>\n",
       "    <tr>\n",
       "      <th>2017-02-27 23:00:00</th>\n",
       "      <td>4fb030479861</td>\n",
       "      <td>1</td>\n",
       "      <td>0</td>\n",
       "      <td>0.0</td>\n",
       "      <td>0.000</td>\n",
       "      <td>15.0804</td>\n",
       "      <td>214193498</td>\n",
       "      <td>80562</td>\n",
       "      <td>1619</td>\n",
       "      <td>30359</td>\n",
       "      <td>4324</td>\n",
       "      <td>0</td>\n",
       "    </tr>\n",
       "  </tbody>\n",
       "</table>\n",
       "<p>786600 rows × 12 columns</p>\n",
       "</div>"
      ],
      "text/plain": [
       "                      customer_id  customer_order_rank  is_failed  \\\n",
       "order_datetime                                                      \n",
       "2012-05-17 19:00:00  ad8f458395ae                    1          0   \n",
       "2012-08-10 17:00:00  eb59ccd81693                    1          0   \n",
       "2012-09-27 15:00:00  f308e2522927                    1          0   \n",
       "2012-12-08 16:00:00  f326f5034809                    1          0   \n",
       "2013-03-02 20:00:00  40d03e3d1227                    1          0   \n",
       "...                           ...                  ...        ...   \n",
       "2017-02-27 23:00:00  ef55ff70fe64                    8          0   \n",
       "2017-02-27 23:00:00  ba654dfe73a1                   17          0   \n",
       "2017-02-27 23:00:00  fbdb54f2fbdb                    4          0   \n",
       "2017-02-27 23:00:00  5fee21c65c16                    1          0   \n",
       "2017-02-27 23:00:00  4fb030479861                    1          0   \n",
       "\n",
       "                     voucher_amount  delivery_fee  amount_paid restaurant_id  \\\n",
       "order_datetime                                                                 \n",
       "2012-05-17 19:00:00             0.0         0.493      18.1602       3783498   \n",
       "2012-08-10 17:00:00             0.0         0.000       4.1949       2413498   \n",
       "2012-09-27 15:00:00             0.0         0.000      15.3990      49563498   \n",
       "2012-12-08 16:00:00             0.0         0.000       9.0270      89253498   \n",
       "2013-03-02 20:00:00             0.0         0.000      10.5138     144973498   \n",
       "...                             ...           ...          ...           ...   \n",
       "2017-02-27 23:00:00             0.0         1.479      13.2219     228683498   \n",
       "2017-02-27 23:00:00             0.0         0.000      18.7974     105933498   \n",
       "2017-02-27 23:00:00             0.0         0.000       4.5135     174353498   \n",
       "2017-02-27 23:00:00             0.0         0.000      10.4607     130943498   \n",
       "2017-02-27 23:00:00             0.0         0.000      15.0804     214193498   \n",
       "\n",
       "                    city_id payment_id platform_id transmission_id  \\\n",
       "order_datetime                                                       \n",
       "2012-05-17 19:00:00   80562       1619         525           21124   \n",
       "2012-08-10 17:00:00   20326       1619       30231            4324   \n",
       "2012-09-27 15:00:00   33561       1619         525            4324   \n",
       "2012-12-08 16:00:00   36268       1619       30199            4324   \n",
       "2013-03-02 20:00:00    6448       1619       29815            4324   \n",
       "...                     ...        ...         ...             ...   \n",
       "2017-02-27 23:00:00   50898       1619       30359            4228   \n",
       "2017-02-27 23:00:00   10346       1779       29815            4356   \n",
       "2017-02-27 23:00:00   69346       1779       29815            4324   \n",
       "2017-02-27 23:00:00    4334       1779       29815            1988   \n",
       "2017-02-27 23:00:00   80562       1619       30359            4324   \n",
       "\n",
       "                     is_returning_customer  \n",
       "order_datetime                              \n",
       "2012-05-17 19:00:00                      0  \n",
       "2012-08-10 17:00:00                      1  \n",
       "2012-09-27 15:00:00                      0  \n",
       "2012-12-08 16:00:00                      1  \n",
       "2013-03-02 20:00:00                      1  \n",
       "...                                    ...  \n",
       "2017-02-27 23:00:00                      1  \n",
       "2017-02-27 23:00:00                      1  \n",
       "2017-02-27 23:00:00                      1  \n",
       "2017-02-27 23:00:00                      0  \n",
       "2017-02-27 23:00:00                      0  \n",
       "\n",
       "[786600 rows x 12 columns]"
      ]
     },
     "execution_count": 42,
     "metadata": {},
     "output_type": "execute_result"
    }
   ],
   "source": [
    "order_data"
   ]
  },
  {
   "cell_type": "markdown",
   "metadata": {},
   "source": [
    "### customer_id"
   ]
  },
  {
   "cell_type": "code",
   "execution_count": 45,
   "metadata": {},
   "outputs": [
    {
     "data": {
      "text/plain": [
       "<AxesSubplot:xlabel='order_datetime'>"
      ]
     },
     "execution_count": 45,
     "metadata": {},
     "output_type": "execute_result"
    },
    {
     "data": {
      "image/png": "[encoded data removed]",
      "text/plain": [
       "<Figure size 432x288 with 1 Axes>"
      ]
     },
     "metadata": {},
     "output_type": "display_data"
    }
   ],
   "source": [
    "order_data.resample('D')['customer_order_rank'].count().plot()"
   ]
  },
  {
   "cell_type": "code",
   "execution_count": 41,
   "metadata": {},
   "outputs": [
    {
     "data": {
      "text/plain": [
       "<AxesSubplot:ylabel='Frequency'>"
      ]
     },
     "execution_count": 41,
     "metadata": {},
     "output_type": "execute_result"
    },
    {
     "data": {
      "image/png": "[encoded data removed]",
      "text/plain": [
       "<Figure size 432x288 with 1 Axes>"
      ]
     },
     "metadata": {},
     "output_type": "display_data"
    }
   ],
   "source": [
    "order_data.groupby('customer_id')['customer_order_rank'].max().plot.hist(bins=30, logy=True)"
   ]
  },
  {
   "cell_type": "code",
   "execution_count": 6,
   "metadata": {},
   "outputs": [
    {
     "data": {
      "text/plain": [
       "1      148296\n",
       "2       36109\n",
       "3       16851\n",
       "4        9645\n",
       "5        6433\n",
       "        ...  \n",
       "214         1\n",
       "142         1\n",
       "216         1\n",
       "156         1\n",
       "179         1\n",
       "Name: customer_order_rank, Length: 170, dtype: int64"
      ]
     },
     "execution_count": 6,
     "metadata": {},
     "output_type": "execute_result"
    }
   ],
   "source": [
    "order_data.groupby('customer_id')['customer_order_rank'].max().value_counts()"
   ]
  },
  {
   "cell_type": "code",
   "execution_count": 7,
   "metadata": {},
   "outputs": [
    {
     "data": {
      "text/plain": [
       "customer_id\n",
       "15edce943edd    369\n",
       "8745a335e9cf    281\n",
       "d956116d863d    272\n",
       "0063666607bb    266\n",
       "ae60dce05485    266\n",
       "               ... \n",
       "d1f6e993c05a      0\n",
       "4a48a58cf909      0\n",
       "2cab60314f16      0\n",
       "570d64fd10ed      0\n",
       "7c0e6c387d48      0\n",
       "Name: customer_order_rank, Length: 245455, dtype: int64"
      ]
     },
     "execution_count": 7,
     "metadata": {},
     "output_type": "execute_result"
    }
   ],
   "source": [
    "order_data.groupby('customer_id')['customer_order_rank'].max().sort_values(ascending=False)"
   ]
  },
  {
   "cell_type": "code",
   "execution_count": 8,
   "metadata": {},
   "outputs": [
    {
     "data": {
      "text/plain": [
       "<AxesSubplot:xlabel='order_datetime'>"
      ]
     },
     "execution_count": 8,
     "metadata": {},
     "output_type": "execute_result"
    },
    {
     "data": {
      "image/png": "[encoded data removed]",
      "text/plain": [
       "<Figure size 432x288 with 1 Axes>"
      ]
     },
     "metadata": {},
     "output_type": "display_data"
    }
   ],
   "source": [
    "order_data[order_data.customer_id == '15edce943edd']['customer_order_rank'].plot()"
   ]
  },
  {
   "cell_type": "code",
   "execution_count": 9,
   "metadata": {},
   "outputs": [
    {
     "data": {
      "text/plain": [
       "<AxesSubplot:xlabel='order_datetime'>"
      ]
     },
     "execution_count": 9,
     "metadata": {},
     "output_type": "execute_result"
    },
    {
     "data": {
      "image/png": "[encoded data removed]",
      "text/plain": [
       "<Figure size 864x432 with 1 Axes>"
      ]
     },
     "metadata": {},
     "output_type": "display_data"
    }
   ],
   "source": [
    "order_data[order_data.customer_id == '8745a335e9cf']['customer_order_rank'].plot(figsize=(12,6))"
   ]
  },
  {
   "cell_type": "code",
   "execution_count": 18,
   "metadata": {},
   "outputs": [
    {
     "data": {
      "image/png": "[encoded data removed]",
      "text/plain": [
       "<Figure size 360x360 with 1 Axes>"
      ]
     },
     "metadata": {},
     "output_type": "display_data"
    }
   ],
   "source": [
    "sns.catplot(\n",
    "    x=\"is_returning_customer\",\n",
    "    y=\"customer_order_rank\",\n",
    "#     kind=\"box\",\n",
    "    data=order_data,\n",
    ");"
   ]
  },
  {
   "cell_type": "code",
   "execution_count": 11,
   "metadata": {},
   "outputs": [
    {
     "data": {
      "text/plain": [
       "is_returning_customer  customer_id \n",
       "0                      000097eabfd9    1\n",
       "                       0000e2c6d9be    1\n",
       "                       00018269939b    1\n",
       "                       0001a00468a6    1\n",
       "                       0001d9036b5e    1\n",
       "                                      ..\n",
       "1                      fff88124accd    1\n",
       "                       fff98c9a70ba    1\n",
       "                       fffb4f172791    1\n",
       "                       fffe9d5a8d41    0\n",
       "                       ffff347c3cfa    1\n",
       "Name: customer_order_rank, Length: 245455, dtype: int64"
      ]
     },
     "execution_count": 11,
     "metadata": {},
     "output_type": "execute_result"
    }
   ],
   "source": [
    "order_data.groupby(['is_returning_customer', 'customer_id'])['customer_order_rank'].min()"
   ]
  },
  {
   "cell_type": "code",
   "execution_count": 30,
   "metadata": {},
   "outputs": [
    {
     "data": {
      "text/plain": [
       "<AxesSubplot:ylabel='Frequency'>"
      ]
     },
     "execution_count": 30,
     "metadata": {},
     "output_type": "execute_result"
    },
    {
     "data": {
      "image/png": "[encoded data removed]",
      "text/plain": [
       "<Figure size 432x288 with 1 Axes>"
      ]
     },
     "metadata": {},
     "output_type": "display_data"
    }
   ],
   "source": [
    "order_data.groupby('customer_id')['customer_order_rank'].max().apply(np.log1p).plot.hist(bins=20)"
   ]
  },
  {
   "cell_type": "code",
   "execution_count": 21,
   "metadata": {},
   "outputs": [
    {
     "data": {
      "text/plain": [
       "<AxesSubplot:>"
      ]
     },
     "execution_count": 21,
     "metadata": {},
     "output_type": "execute_result"
    },
    {
     "data": {
      "image/png": "[encoded data removed]",
      "text/plain": [
       "<Figure size 432x288 with 1 Axes>"
      ]
     },
     "metadata": {},
     "output_type": "display_data"
    }
   ],
   "source": [
    "# customer_success_rate = order_data[\n",
    "#     order_data['customer_order_rank']==0\n",
    "# ].groupby('customer_id')[['is_returning_customer', 'delivery_fee']].agg(\n",
    "#     {'delivery_fee': 'count', 'is_returning_customer': 'mean'}\n",
    "# )\n",
    "# order_data.groupby('customer_id')['customer_order_rank'].max()\n",
    "customer_success_rate = order_data[\n",
    "    order_data['customer_order_rank']==0\n",
    "].groupby('customer_id')[['is_returning_customer', 'customer_order_rank']].agg(\n",
    "    {'customer_order_rank': 'max', 'is_returning_customer': 'mean'}\n",
    ")\n",
    "customer_success_rate['customer_order_rank'].hist(bins=200)"
   ]
  },
  {
   "cell_type": "code",
   "execution_count": 13,
   "metadata": {},
   "outputs": [
    {
     "data": {
      "text/plain": [
       "<seaborn.axisgrid.FacetGrid at 0x7fb941c75be0>"
      ]
     },
     "execution_count": 13,
     "metadata": {},
     "output_type": "execute_result"
    },
    {
     "data": {
      "image/png": "[encoded data removed]",
      "text/plain": [
       "<Figure size 360x360 with 1 Axes>"
      ]
     },
     "metadata": {},
     "output_type": "display_data"
    }
   ],
   "source": [
    "sns.catplot(\n",
    "    x='is_returning_customer',\n",
    "    y='customer_order_rank',\n",
    "    data=customer_success_rate,\n",
    ")"
   ]
  },
  {
   "cell_type": "code",
   "execution_count": 37,
   "metadata": {},
   "outputs": [
    {
     "name": "stderr",
     "output_type": "stream",
     "text": [
      "*c* argument looks like a single numeric RGB or RGBA sequence, which should be avoided as value-mapping will have precedence in case its length matches with *x* & *y*.  Please use the *color* keyword-argument or provide a 2-D array with a single row if you intend to specify the same RGB or RGBA value for all points.\n"
     ]
    },
    {
     "data": {
      "text/plain": [
       "<AxesSubplot:xlabel='is_returning_customer', ylabel='delivery_fee'>"
      ]
     },
     "execution_count": 37,
     "metadata": {},
     "output_type": "execute_result"
    },
    {
     "data": {
      "image/png": "[encoded data removed]",
      "text/plain": [
       "<Figure size 432x288 with 1 Axes>"
      ]
     },
     "metadata": {},
     "output_type": "display_data"
    }
   ],
   "source": [
    "customer_success_rate.plot.scatter(x='is_returning_customer', y='delivery_fee')"
   ]
  },
  {
   "cell_type": "code",
   "execution_count": 39,
   "metadata": {},
   "outputs": [
    {
     "data": {
      "text/html": [
       "<div>\n",
       "<style scoped>\n",
       "    .dataframe tbody tr th:only-of-type {\n",
       "        vertical-align: middle;\n",
       "    }\n",
       "\n",
       "    .dataframe tbody tr th {\n",
       "        vertical-align: top;\n",
       "    }\n",
       "\n",
       "    .dataframe thead th {\n",
       "        text-align: right;\n",
       "    }\n",
       "</style>\n",
       "<table border=\"1\" class=\"dataframe\">\n",
       "  <thead>\n",
       "    <tr style=\"text-align: right;\">\n",
       "      <th></th>\n",
       "      <th>delivery_fee</th>\n",
       "      <th>is_returning_customer</th>\n",
       "    </tr>\n",
       "  </thead>\n",
       "  <tbody>\n",
       "    <tr>\n",
       "      <th>count</th>\n",
       "      <td>15892.000000</td>\n",
       "      <td>15892.000000</td>\n",
       "    </tr>\n",
       "    <tr>\n",
       "      <th>mean</th>\n",
       "      <td>1.558457</td>\n",
       "      <td>0.486660</td>\n",
       "    </tr>\n",
       "    <tr>\n",
       "      <th>std</th>\n",
       "      <td>2.089326</td>\n",
       "      <td>0.499838</td>\n",
       "    </tr>\n",
       "    <tr>\n",
       "      <th>min</th>\n",
       "      <td>1.000000</td>\n",
       "      <td>0.000000</td>\n",
       "    </tr>\n",
       "    <tr>\n",
       "      <th>25%</th>\n",
       "      <td>1.000000</td>\n",
       "      <td>0.000000</td>\n",
       "    </tr>\n",
       "    <tr>\n",
       "      <th>50%</th>\n",
       "      <td>1.000000</td>\n",
       "      <td>0.000000</td>\n",
       "    </tr>\n",
       "    <tr>\n",
       "      <th>75%</th>\n",
       "      <td>1.000000</td>\n",
       "      <td>1.000000</td>\n",
       "    </tr>\n",
       "    <tr>\n",
       "      <th>max</th>\n",
       "      <td>91.000000</td>\n",
       "      <td>1.000000</td>\n",
       "    </tr>\n",
       "  </tbody>\n",
       "</table>\n",
       "</div>"
      ],
      "text/plain": [
       "       delivery_fee  is_returning_customer\n",
       "count  15892.000000           15892.000000\n",
       "mean       1.558457               0.486660\n",
       "std        2.089326               0.499838\n",
       "min        1.000000               0.000000\n",
       "25%        1.000000               0.000000\n",
       "50%        1.000000               0.000000\n",
       "75%        1.000000               1.000000\n",
       "max       91.000000               1.000000"
      ]
     },
     "execution_count": 39,
     "metadata": {},
     "output_type": "execute_result"
    }
   ],
   "source": [
    "customer_success_rate.describe()"
   ]
  }
 ],
 "metadata": {
  "kernelspec": {
   "display_name": "Python 3",
   "language": "python",
   "name": "python3"
  },
  "language_info": {
   "codemirror_mode": {
    "name": "ipython",
    "version": 3
   },
   "file_extension": ".py",
   "mimetype": "text/x-python",
   "name": "python",
   "nbconvert_exporter": "python",
   "pygments_lexer": "ipython3",
   "version": "3.8.6"
  }
 },
 "nbformat": 4,
 "nbformat_minor": 4
}
